{
  "nbformat": 4,
  "nbformat_minor": 0,
  "metadata": {
    "colab": {
      "provenance": []
    },
    "kernelspec": {
      "name": "python3",
      "display_name": "Python 3"
    },
    "language_info": {
      "name": "python"
    }
  },
  "cells": [
    {
      "cell_type": "code",
      "execution_count": null,
      "metadata": {
        "id": "QF9YwUgHllxq"
      },
      "outputs": [],
      "source": [
        "# Steps\n",
        "\n",
        "1. Scrape the Data\n",
        "2. Data Cleaning\n",
        "3. Convert your data into DataFrame\n",
        "4. Perform the Data Analysis - Data Cleaning, Data Exploration, Data Manipulation, Data Viosualization\n",
        "5. Perform the EDA (Exploratory Data Analysis)"
      ]
    },
    {
      "cell_type": "markdown",
      "source": [
        "# Performing the Data Scraping from the WEB\n",
        "\n",
        "Link: https://sofifa.com/players"
      ],
      "metadata": {
        "id": "62ueqKyfqSJe"
      }
    },
    {
      "cell_type": "code",
      "source": [
        "columns = ['IMAGE_LINK', 'NAME', 'AGE', 'OVA', 'POT', 'TEAM',\n",
        "           'DURATION', 'VALUE', 'WAGE', 'TOTAL_STATS']"
      ],
      "metadata": {
        "id": "cruZ0thvlpKn"
      },
      "execution_count": null,
      "outputs": []
    },
    {
      "cell_type": "code",
      "source": [
        "https://sofifa.com/players?offset=0\n",
        "https://sofifa.com/players?offset=60\n",
        "https://sofifa.com/players?offset=120\n",
        "https://sofifa.com/players?offset=180\n",
        "https://sofifa.com/players?offset=240\n",
        "https://sofifa.com/players?offset=300\n",
        "https://sofifa.com/players?offset=360\n",
        "https://sofifa.com/players?offset=420\n",
        "https://sofifa.com/players?offset=480\n",
        "https://sofifa.com/players?offset=540"
      ],
      "metadata": {
        "id": "XhiZIZ4blpN9"
      },
      "execution_count": null,
      "outputs": []
    },
    {
      "cell_type": "code",
      "source": [
        "for i in range(0,541,60):\n",
        "  print(f'https://sofifa.com/players?offset={i}')"
      ],
      "metadata": {
        "colab": {
          "base_uri": "https://localhost:8080/"
        },
        "id": "ueF6yduSuHMN",
        "outputId": "0ea3e944-bd26-4366-f879-f8877de30642"
      },
      "execution_count": null,
      "outputs": [
        {
          "output_type": "stream",
          "name": "stdout",
          "text": [
            "https://sofifa.com/players?offset=0\n",
            "https://sofifa.com/players?offset=60\n",
            "https://sofifa.com/players?offset=120\n",
            "https://sofifa.com/players?offset=180\n",
            "https://sofifa.com/players?offset=240\n",
            "https://sofifa.com/players?offset=300\n",
            "https://sofifa.com/players?offset=360\n",
            "https://sofifa.com/players?offset=420\n",
            "https://sofifa.com/players?offset=480\n",
            "https://sofifa.com/players?offset=540\n"
          ]
        }
      ]
    },
    {
      "cell_type": "markdown",
      "source": [
        "# Importing libraries"
      ],
      "metadata": {
        "id": "DNDWRqiOGGwK"
      }
    },
    {
      "cell_type": "code",
      "source": [
        "import pandas as pd\n",
        "import numpy as np\n",
        "import matplotlib.pyplot as plt\n",
        "import seaborn as sns\n",
        "import re\n",
        "from bs4 import BeautifulSoup\n",
        "import requests"
      ],
      "metadata": {
        "id": "AX32VZfHlpbe"
      },
      "execution_count": null,
      "outputs": []
    },
    {
      "cell_type": "code",
      "source": [
        "\n",
        "url = 'https://sofifa.com/players?offset=0'\n",
        "headers = {\"User-Agent\": \"Mozilla/5.0 (Windows NT 10.0; Win64; x64; rv:109.0) Gecko/20100101 Firefox/109.0\"}"
      ],
      "metadata": {
        "id": "64HXbvEklpeW"
      },
      "execution_count": null,
      "outputs": []
    },
    {
      "cell_type": "code",
      "source": [
        "req = requests.get(url,headers=headers)"
      ],
      "metadata": {
        "id": "33NlrQ8ulphb"
      },
      "execution_count": null,
      "outputs": []
    },
    {
      "cell_type": "code",
      "source": [
        "req.status_code"
      ],
      "metadata": {
        "colab": {
          "base_uri": "https://localhost:8080/"
        },
        "id": "oQrjsGddlpk5",
        "outputId": "15c3607e-2939-45c9-c3cc-7d3b3440e5b3"
      },
      "execution_count": null,
      "outputs": [
        {
          "output_type": "execute_result",
          "data": {
            "text/plain": [
              "200"
            ]
          },
          "metadata": {},
          "execution_count": 6
        }
      ]
    },
    {
      "cell_type": "code",
      "source": [
        "soup = BeautifulSoup(req.content)"
      ],
      "metadata": {
        "id": "RY6pGStjlpn9"
      },
      "execution_count": null,
      "outputs": []
    },
    {
      "cell_type": "code",
      "source": [
        "soup.prettify()"
      ],
      "metadata": {
        "colab": {
          "base_uri": "https://localhost:8080/",
          "height": 141
        },
        "id": "O6xaYnsrlpsZ",
        "outputId": "9260378f-2b3b-49dd-8d7a-5ef2bed1a842"
      },
      "execution_count": null,
      "outputs": [
        {
          "output_type": "execute_result",
          "data": {
            "text/plain": [
              "'<!DOCTYPE html>\\n<html lang=\"en-US\">\\n <head id=\"head\">\\n  <title>\\n   Players FIFA 23 Feb 28, 2023 SoFIFA\\n  </title>\\n  <meta charset=\"utf-8\"/>\\n  <meta content=\"width=device-width, initial-scale=1\" name=\"viewport\"/>\\n  <meta content=\"VGaFvm9Qm-qhCd2LCDi8QKWXNPSrVE2SJ2iT8c3vI1g\" name=\"google-site-verification\"/>\\n  <meta content=\"FIFA 23 player ratings on Feb 28, 2023\" name=\"description\"/>\\n  <meta content=\"2009 - 2023 SoFIFA.com\" name=\"copyright\"/>\\n  <meta content=\"light\" name=\"twitter:widgets:theme\"/>\\n  <meta content=\"#e6e6e6\" name=\"twitter:widgets:border-color\"/>\\n  <link href=\"https://static.sofifa.net/launcher-icon.png\" rel=\"shortcut icon\"/>\\n  <link href=\"https://static.sofifa.net/launcher-icon.png\" rel=\"apple-touch-icon\"/>\\n  <script>\\n   window.ramp = window.ramp || {};window.ramp.que = window.ramp.que || [];\\n  </script>\\n  <link href=\"https://sofifa.com/players?hl=en-US\" hreflang=\"en\" rel=\"alternate\"/>\\n  <link href=\"https://sofifa.com/players?hl=fr-FR\" hreflang=\"fr\" rel=\"alternate\"/>\\n  <link href=\"https://sofifa.com/players?hl=de-DE\" hreflang=\"de\" rel=\"alternate\"/>\\n  <link href=\"https://sofifa.com/players?hl=es-ES\" hreflang=\"es\" rel=\"alternate\"/>\\n  <link href=\"https://sofifa.com/players?hl=it-IT\" hreflang=\"it\" rel=\"alternate\"/>\\n  <link href=\"https://sofifa.com/players?hl=pt-BR\" hreflang=\"pt-BR\" rel=\"alternate\"/>\\n  <link href=\"https://sofifa.com/players?hl=nl-NL\" hreflang=\"nl\" rel=\"alternate\"/>\\n  <link href=\"https://sofifa.com/players?hl=ko-KR\" hreflang=\"ko\" rel=\"alternate\"/>\\n  <link href=\"https://sofifa.com/players?hl=pl-PL\" hreflang=\"pl\" rel=\"alternate\"/>\\n  <link href=\"https://sofifa.com/players?hl=zh-CN\" hreflang=\"zh-CN\" rel=\"alternate\"/>\\n  <link href=\"https://sofifa.com/players?hl=ru-RU\" hreflang=\"ru\" rel=\"alternate\"/>\\n  <link href=\"https://sofifa.com/players?hl=ja-JP\" hreflang=\"ja\" rel=\"alternate\"/>\\n  <link href=\"https://sofifa.com/players?hl=sv-SE\" hreflang=\"sv\" rel=\"alternate\"/>\\n  <link href=\"https://sofifa.com/players?hl=da-DK\" hreflang=\"da\" rel=\"alternate\"/>\\n  <link href=\"https://sofifa.com/players?hl=pt-PT\" hreflang=\"pt-PT\" rel=\"alternate\"/>\\n  <link href=\"https://sofifa.com/players?hl=nn-NO\" hreflang=\"nn\" rel=\"alternate\"/>\\n  <link href=\"https://sofifa.com/players?hl=hu-HU\" hreflang=\"hu\" rel=\"alternate\"/>\\n  <link href=\"https://sofifa.com/players?hl=cs-CZ\" hreflang=\"cs\" rel=\"alternate\"/>\\n  <link href=\"https://sofifa.com/players?hl=fi-FI\" hreflang=\"fi\" rel=\"alternate\"/>\\n  <link href=\"https://sofifa.com/players?hl=uk-UA\" hreflang=\"uk\" rel=\"alternate\"/>\\n  <link href=\"https://sofifa.com/players?hl=tr-TR\" hreflang=\"tr\" rel=\"alternate\"/>\\n  <link href=\"https://sofifa.com/players?hl=zh-HK\" hreflang=\"zh-HK\" rel=\"alternate\"/>\\n  <link href=\"https://sofifa.com/players?hl=ar-AA\" hreflang=\"ar\" rel=\"alternate\"/>\\n  <link href=\"https://sofifa.com/players\" rel=\"canonical\"/>\\n  <link href=\"https://static.sofifa.net/css/desktop.min.css?20230217\" rel=\"stylesheet\"/>\\n  <script>\\n   let CDN=\\'https://cdn.sofifa.net\\',CDN_VERSION=\\'20210431\\',HL=\\'en-US\\',THEME=\\'light\\',GENDER=0,IS_MOBILE=false,USER_ID=0,USER_AVATAR=\\'https://cdn.sofifa.net/avatar?name=Guest\\',BLOCK=\\'Block\\',UNBLOCK=\\'Unblock\\',FOLLOW=\\'Follow\\',UNFOLLOW=\\'Unfollow\\',CHOOSE_FILE=\\'Choose file...\\',UPLOADING=\\'Uploading...\\',CHANGE=\\'Change\\',UPDATED=\\'Updated\\',DELETE_CONFIRM=\\'Do you want to remove this item?\\',CANCEL=\\'Cancel\\',OK=\\'OK\\',CLOSE=\\'Close\\',BLOCK_CONFIRM=\\'Do you want to block this user?<br>You could change the settings under the \\\\\"My Relations\\\\\" section later.\\',HISTORY_VERSION=\\'History Version\\',VERSION=\\'23\\', ROSTER=\\'230017\\',FONT=14,LOAD_MORE_COMMENTS=\\'Load more comments\\',ADD_A_COMMENT=\\'Add a comment\\',SORT_BY_NEWEST=\\'Sort by Newest\\',SORT_BY_BEST=\\'Sort by Best\\',MY_COMMENTS=\\'My comments\\',POST=\\'Post\\',JUST_NOW=\\'just now\\',COLLAPSE_REPLIES=\\'Collapse replies\\',COPY_URL=\\'Copy URL\\',REPORT=\\'Report\\',UPVOTE=\\'Upvote\\',DOWNVOTE=\\'Downvote\\',EDIT=\\'Edit\\',REPLY=\\'Reply\\',APPROVE=\\'Approve\\',REMOVE=\\'Remove\\',SHOW_FULL_COMMENT=\\'Show full comment\\',LOAD_IMAGE=\\'Load image\\',CANCEL_REPLY=\\'Cancel reply\\',REPLY_TO_THIS_COMMENT=\\'Reply to this comment\\',CANCEL_EDIT=\\'Cancel edit\\',EDIT_THIS_COMMENT=\\'Edit this comment\\',EXPAND_REPLIES=\\'Expand replies\\',PLEASE_CHOOSE_A_REASON=\\'Please choose a reason\\',RACISM=\\'Racism\\',INSULT=\\'Insult\\',SPAMMING=\\'Spamming\\',PORN=\\'Porn\\',PRIVATE_INFO=\\'Private info\\',OTHER=\\'Other\\',DESCRIPTION_OPTIONAL=\\'Description (optional)\\',SAVING=\\'Saving ...\\',OPERATION_SUCCEED=\\'Operation Succeeded\\',TYPE_TO_SEARCH=\\'Type to search\\',AI_MODERATION=1;\\n  </script>\\n </head>\\n <body class=\"is-preload \" data-class=\"is-preload \" id=\"body\" lang=\"en-US\">\\n  <header>\\n   <nav class=\"bp3-navbar\">\\n    <div class=\"center\">\\n     <div class=\"bp3-navbar-group bp3-align-left reset\">\\n      <div class=\"bp3-navbar-heading\">\\n       <a href=\"/\" rel=\"nofollow\">\\n        <img alt=\"SoFIFA\" height=\"30\" src=\"https://cdn.sofifa.net/images/launcher-icon.png\" width=\"30\"/>\\n       </a>\\n      </div>\\n      <a class=\"bp3-button bp3-minimal\" href=\"/players\">\\n       Players\\n      </a>\\n      <a class=\"bp3-button bp3-minimal\" href=\"/teams\">\\n       Teams\\n      </a>\\n      <a class=\"bp3-button bp3-minimal\" href=\"/squads\">\\n       Squads\\n      </a>\\n      <a class=\"bp3-button bp3-minimal\" href=\"/shortlists\">\\n       Shortlists\\n      </a>\\n      <a class=\"bp3-button bp3-minimal\" href=\"/discussion/1\" rel=\"nofollow\">\\n       Discussions\\n      </a>\\n     </div>\\n     <div class=\"bp3-navbar-group bp3-align-right\">\\n      <a class=\"bp3-button bp3-minimal need-sign-in\" href=\"/signIn\" rel=\"nofollow\" role=\"button\" tabindex=\"101\">\\n       Sign in\\n      </a>\\n      <div class=\"dropdown dropdown-right\">\\n       <a class=\"bp3-button bp3-minimal block dropdown-toggle\" href=\"javascript:void(0);\" rel=\"nofollow\" role=\"button\" tabindex=\"102\" title=\"Settings\">\\n        <span class=\"bp3-icon\">\\n         <svg height=\"18\" viewbox=\"0 0 24 24\" width=\"18\">\\n          <circle cx=\"12\" cy=\"12\" r=\"3\">\\n          </circle>\\n          <path d=\"M19.4 15a1.65 1.65 0 0 0 .33 1.82l.06.06a2 2 0 0 1 0 2.83 2 2 0 0 1-2.83 0l-.06-.06a1.65 1.65 0 0 0-1.82-.33 1.65 1.65 0 0 0-1 1.51V21a2 2 0 0 1-2 2 2 2 0 0 1-2-2v-.09A1.65 1.65 0 0 0 9 19.4a1.65 1.65 0 0 0-1.82.33l-.06.06a2 2 0 0 1-2.83 0 2 2 0 0 1 0-2.83l.06-.06a1.65 1.65 0 0 0 .33-1.82 1.65 1.65 0 0 0-1.51-1H3a2 2 0 0 1-2-2 2 2 0 0 1 2-2h.09A1.65 1.65 0 0 0 4.6 9a1.65 1.65 0 0 0-.33-1.82l-.06-.06a2 2 0 0 1 0-2.83 2 2 0 0 1 2.83 0l.06.06a1.65 1.65 0 0 0 1.82.33H9a1.65 1.65 0 0 0 1-1.51V3a2 2 0 0 1 2-2 2 2 0 0 1 2 2v.09a1.65 1.65 0 0 0 1 1.51 1.65 1.65 0 0 0 1.82-.33l.06-.06a2 2 0 0 1 2.83 0 2 2 0 0 1 0 2.83l-.06.06a1.65 1.65 0 0 0-.33 1.82V9a1.65 1.65 0 0 0 1.51 1H21a2 2 0 0 1 2 2 2 2 0 0 1-2 2h-.09a1.65 1.65 0 0 0-1.51 1z\">\\n          </path>\\n         </svg>\\n        </span>\\n       </a>\\n       <div class=\"bp3-menu\">\\n        <div class=\"bp3-menu-header\">\\n         Gender\\n        </div>\\n        <a class=\"bp3-menu-item bp3-active\" href=\"/players?gender=0\" rel=\"nofollow\" role=\"button\">\\n         Men\\n        </a>\\n        <a class=\"bp3-menu-item\" href=\"/players?gender=1\" rel=\"nofollow\" role=\"button\">\\n         Women\\n        </a>\\n        <div class=\"bp3-menu-header\">\\n         Units\\n        </div>\\n        <a class=\"bp3-menu-item\" href=\"/players?units=imperial\" rel=\"nofollow\" role=\"button\">\\n         feet inches / lbs\\n        </a>\\n        <a class=\"bp3-menu-item bp3-active\" href=\"/players?units=mks\" rel=\"nofollow\" role=\"button\">\\n         cm / kg\\n        </a>\\n        <div class=\"bp3-menu-header\">\\n         Currency\\n        </div>\\n        <a class=\"bp3-menu-item bp3-active\" href=\"/players?currency=EUR\" rel=\"nofollow\" role=\"button\">\\n         € EUR\\n        </a>\\n        <a class=\"bp3-menu-item\" href=\"/players?currency=USD\" rel=\"nofollow\" role=\"button\">\\n         $ USD\\n        </a>\\n        <a class=\"bp3-menu-item\" href=\"/players?currency=GBP\" rel=\"nofollow\" role=\"button\">\\n         £ GBP\\n        </a>\\n        <div class=\"bp3-menu-header\">\\n         Color schema\\n        </div>\\n        <a class=\"bp3-menu-item bp3-active\" href=\"/players?engine=frostbite\" rel=\"nofollow\" role=\"button\">\\n         Frostbite\\n        </a>\\n        <a class=\"bp3-menu-item\" href=\"/players?engine=ignite\" rel=\"nofollow\" role=\"button\">\\n         Ignite\\n        </a>\\n        <a class=\"bp3-menu-item\" href=\"/players?engine=impact\" rel=\"nofollow\" role=\"button\">\\n         Impact\\n        </a>\\n        <div class=\"bp3-menu-header\">\\n         Potential\\n        </div>\\n        <a class=\"bp3-menu-item bp3-active\" href=\"/players?potential=show\" rel=\"nofollow\" role=\"button\">\\n         Show\\n        </a>\\n        <a class=\"bp3-menu-item\" href=\"/players?potential=hide\" rel=\"nofollow\" role=\"button\">\\n         Hide\\n        </a>\\n       </div>\\n      </div>\\n      <label class=\"bp3-button bp3-minimal block\" for=\"theme\">\\n       <input checked=\"\" class=\"hide\" id=\"theme\" name=\"theme\" type=\"checkbox\" value=\"light\"/>\\n       <span class=\"bp3-icon\">\\n        <svg height=\"18\" viewbox=\"0 0 24 24\" width=\"18\">\\n         <path d=\"M12 18q2.484 0 4.242-1.758t1.758-4.242-1.758-4.242-4.242-1.758q-1.219 0-2.484 0.563 1.547 0.703 2.508 2.18t0.961 3.258-0.961 3.258-2.508 2.18q1.266 0.563 2.484 0.563zM20.016 8.672l3.281 3.328-3.281 3.328v4.688h-4.688l-3.328 3.281-3.328-3.281h-4.688v-4.688l-3.281-3.328 3.281-3.328v-4.688h4.688l3.328-3.281 3.328 3.281h4.688v4.688z\">\\n         </path>\\n        </svg>\\n       </span>\\n      </label>\\n      <a class=\"bp3-button bp3-minimal lang-toggle\" href=\"javascript:void(0);\" rel=\"nofollow\" role=\"button\" tabindex=\"104\">\\n       <img alt=\"\" class=\"flag\" data-src=\"https://cdn.sofifa.net/flags/us.png\" data-srcset=\"https://cdn.sofifa.net/flags/us@2x.png 2x, https://cdn.sofifa.net/flags/us@3x.png 3x\" height=\"16\" src=\"https://cdn.sofifa.net/pixel.gif\" title=\"United States\" width=\"21\"/>\\n       <span class=\"bp3-icon\">\\n        <svg height=\"16\" viewbox=\"0 0 24 24\" width=\"16\">\\n         <polyline points=\"6 9 12 15 18 9\">\\n         </polyline>\\n        </svg>\\n       </span>\\n      </a>\\n     </div>\\n    </div>\\n   </nav>\\n   <div class=\"header hide\" id=\"lang\">\\n    <div class=\"center\">\\n     <a class=\"bp3-button bp3-minimal lang\" href=\"/players?hl=en-US\" rel=\"nofollow\" role=\"button\">\\n      <img alt=\"\" class=\"flag\" data-src=\"https://cdn.sofifa.net/flags/us.png\" data-srcset=\"https://cdn.sofifa.net/flags/us@2x.png 2x, https://cdn.sofifa.net/flags/us@3x.png 3x\" height=\"16\" src=\"https://cdn.sofifa.net/pixel.gif\" title=\"United States\" width=\"21\"/>\\n      English\\n     </a>\\n     <a class=\"bp3-button bp3-minimal lang\" href=\"/players?hl=de-DE\" rel=\"nofollow\" role=\"button\">\\n      <img alt=\"\" class=\"flag\" data-src=\"https://cdn.sofifa.net/flags/de.png\" data-srcset=\"https://cdn.sofifa.net/flags/de@2x.png 2x, https://cdn.sofifa.net/flags/de@3x.png 3x\" height=\"16\" src=\"https://cdn.sofifa.net/pixel.gif\" title=\"Germany\" width=\"21\"/>\\n      Deutsch\\n     </a>\\n     <a class=\"bp3-button bp3-minimal lang\" href=\"/players?hl=pt-BR\" rel=\"nofollow\" role=\"button\">\\n      <img alt=\"\" class=\"flag\" data-src=\"https://cdn.sofifa.net/flags/br.png\" data-srcset=\"https://cdn.sofifa.net/flags/br@2x.png 2x, https://cdn.sofifa.net/flags/br@3x.png 3x\" height=\"16\" src=\"https://cdn.sofifa.net/pixel.gif\" title=\"Brazil\" width=\"21\"/>\\n      Português Brasileiro\\n     </a>\\n     <a class=\"bp3-button bp3-minimal lang\" href=\"/players?hl=fr-FR\" rel=\"nofollow\" role=\"button\">\\n      <img alt=\"\" class=\"flag\" data-src=\"https://cdn.sofifa.net/flags/fr.png\" data-srcset=\"https://cdn.sofifa.net/flags/fr@2x.png 2x, https://cdn.sofifa.net/flags/fr@3x.png 3x\" height=\"16\" src=\"https://cdn.sofifa.net/pixel.gif\" title=\"France\" width=\"21\"/>\\n      Français\\n     </a>\\n     <a class=\"bp3-button bp3-minimal lang\" href=\"/players?hl=es-ES\" rel=\"nofollow\" role=\"button\">\\n      <img alt=\"\" class=\"flag\" data-src=\"https://cdn.sofifa.net/flags/es.png\" data-srcset=\"https://cdn.sofifa.net/flags/es@2x.png 2x, https://cdn.sofifa.net/flags/es@3x.png 3x\" height=\"16\" src=\"https://cdn.sofifa.net/pixel.gif\" title=\"Spain\" width=\"21\"/>\\n      Español\\n     </a>\\n     <a class=\"bp3-button bp3-minimal lang\" href=\"/players?hl=it-IT\" rel=\"nofollow\" role=\"button\">\\n      <img alt=\"\" class=\"flag\" data-src=\"https://cdn.sofifa.net/flags/it.png\" data-srcset=\"https://cdn.sofifa.net/flags/it@2x.png 2x, https://cdn.sofifa.net/flags/it@3x.png 3x\" height=\"16\" src=\"https://cdn.sofifa.net/pixel.gif\" title=\"Italy\" width=\"21\"/>\\n      Italiano\\n     </a>\\n     <a class=\"bp3-button bp3-minimal lang\" href=\"/players?hl=nl-NL\" rel=\"nofollow\" role=\"button\">\\n      <img alt=\"\" class=\"flag\" data-src=\"https://cdn.sofifa.net/flags/nl.png\" data-srcset=\"https://cdn.sofifa.net/flags/nl@2x.png 2x, https://cdn.sofifa.net/flags/nl@3x.png 3x\" height=\"16\" src=\"https://cdn.sofifa.net/pixel.gif\" title=\"Netherlands\" width=\"21\"/>\\n      Dutch\\n     </a>\\n     <a class=\"bp3-button bp3-minimal lang\" href=\"/players?hl=ja-JP\" rel=\"nofollow\" role=\"button\">\\n      <img alt=\"\" class=\"flag\" data-src=\"https://cdn.sofifa.net/flags/jp.png\" data-srcset=\"https://cdn.sofifa.net/flags/jp@2x.png 2x, https://cdn.sofifa.net/flags/jp@3x.png 3x\" height=\"16\" src=\"https://cdn.sofifa.net/pixel.gif\" title=\"Japan\" width=\"21\"/>\\n      日本語\\n     </a>\\n     <a class=\"bp3-button bp3-minimal lang\" href=\"/players?hl=pl-PL\" rel=\"nofollow\" role=\"button\">\\n      <img alt=\"\" class=\"flag\" data-src=\"https://cdn.sofifa.net/flags/pl.png\" data-srcset=\"https://cdn.sofifa.net/flags/pl@2x.png 2x, https://cdn.sofifa.net/flags/pl@3x.png 3x\" height=\"16\" src=\"https://cdn.sofifa.net/pixel.gif\" title=\"Poland\" width=\"21\"/>\\n      Polski\\n     </a>\\n     <a class=\"bp3-button bp3-minimal lang\" href=\"/players?hl=tr-TR\" rel=\"nofollow\" role=\"button\">\\n      <img alt=\"\" class=\"flag\" data-src=\"https://cdn.sofifa.net/flags/tr.png\" data-srcset=\"https://cdn.sofifa.net/flags/tr@2x.png 2x, https://cdn.sofifa.net/flags/tr@3x.png 3x\" height=\"16\" src=\"https://cdn.sofifa.net/pixel.gif\" title=\"Turkey\" width=\"21\"/>\\n      Türkçe\\n     </a>\\n     <a class=\"bp3-button bp3-minimal lang\" href=\"/players?hl=zh-CN\" rel=\"nofollow\" role=\"button\">\\n      <img alt=\"\" class=\"flag\" data-src=\"https://cdn.sofifa.net/flags/cn.png\" data-srcset=\"https://cdn.sofifa.net/flags/cn@2x.png 2x, https://cdn.sofifa.net/flags/cn@3x.png 3x\" height=\"16\" src=\"https://cdn.sofifa.net/pixel.gif\" title=\"China PR\" width=\"21\"/>\\n      中文(简体)\\n     </a>\\n     <a class=\"bp3-button bp3-minimal lang\" href=\"/players?hl=sv-SE\" rel=\"nofollow\" role=\"button\">\\n      <img alt=\"\" class=\"flag\" data-src=\"https://cdn.sofifa.net/flags/se.png\" data-srcset=\"https://cdn.sofifa.net/flags/se@2x.png 2x, https://cdn.sofifa.net/flags/se@3x.png 3x\" height=\"16\" src=\"https://cdn.sofifa.net/pixel.gif\" title=\"Sweden\" width=\"21\"/>\\n      Svenska\\n     </a>\\n     <a class=\"bp3-button bp3-minimal lang\" href=\"/players?hl=ru-RU\" rel=\"nofollow\" role=\"button\">\\n      <img alt=\"\" class=\"flag\" data-src=\"https://cdn.sofifa.net/flags/ru.png\" data-srcset=\"https://cdn.sofifa.net/flags/ru@2x.png 2x, https://cdn.sofifa.net/flags/ru@3x.png 3x\" height=\"16\" src=\"https://cdn.sofifa.net/pixel.gif\" title=\"Russia\" width=\"21\"/>\\n      Русский\\n     </a>\\n     <a class=\"bp3-button bp3-minimal lang\" href=\"/players?hl=pt-PT\" rel=\"nofollow\" role=\"button\">\\n      <img alt=\"\" class=\"flag\" data-src=\"https://cdn.sofifa.net/flags/pt.png\" data-srcset=\"https://cdn.sofifa.net/flags/pt@2x.png 2x, https://cdn.sofifa.net/flags/pt@3x.png 3x\" height=\"16\" src=\"https://cdn.sofifa.net/pixel.gif\" title=\"Portugal\" width=\"21\"/>\\n      Português\\n     </a>\\n     <a class=\"bp3-button bp3-minimal lang\" href=\"/players?hl=ko-KR\" rel=\"nofollow\" role=\"button\">\\n      <img alt=\"\" class=\"flag\" data-src=\"https://cdn.sofifa.net/flags/kr.png\" data-srcset=\"https://cdn.sofifa.net/flags/kr@2x.png 2x, https://cdn.sofifa.net/flags/kr@3x.png 3x\" height=\"16\" src=\"https://cdn.sofifa.net/pixel.gif\" title=\"Korea Republic\" width=\"21\"/>\\n      한국어\\n     </a>\\n     <a class=\"bp3-button bp3-minimal lang\" href=\"/players?hl=da-DK\" rel=\"nofollow\" role=\"button\">\\n      <img alt=\"\" class=\"flag\" data-src=\"https://cdn.sofifa.net/flags/dk.png\" data-srcset=\"https://cdn.sofifa.net/flags/dk@2x.png 2x, https://cdn.sofifa.net/flags/dk@3x.png 3x\" height=\"16\" src=\"https://cdn.sofifa.net/pixel.gif\" title=\"Denmark\" width=\"21\"/>\\n      Dansk\\n     </a>\\n     <a class=\"bp3-button bp3-minimal lang\" href=\"/players?hl=nn-NO\" rel=\"nofollow\" role=\"button\">\\n      <img alt=\"\" class=\"flag\" data-src=\"https://cdn.sofifa.net/flags/no.png\" data-srcset=\"https://cdn.sofifa.net/flags/no@2x.png 2x, https://cdn.sofifa.net/flags/no@3x.png 3x\" height=\"16\" src=\"https://cdn.sofifa.net/pixel.gif\" title=\"Norway\" width=\"21\"/>\\n      Norsk\\n     </a>\\n     <a class=\"bp3-button bp3-minimal lang\" href=\"/players?hl=hu-HU\" rel=\"nofollow\" role=\"button\">\\n      <img alt=\"\" class=\"flag\" data-src=\"https://cdn.sofifa.net/flags/hu.png\" data-srcset=\"https://cdn.sofifa.net/flags/hu@2x.png 2x, https://cdn.sofifa.net/flags/hu@3x.png 3x\" height=\"16\" src=\"https://cdn.sofifa.net/pixel.gif\" title=\"Hungary\" width=\"21\"/>\\n      Magyar\\n     </a>\\n     <a class=\"bp3-button bp3-minimal lang\" href=\"/players?hl=fi-FI\" rel=\"nofollow\" role=\"button\">\\n      <img alt=\"\" class=\"flag\" data-src=\"https://cdn.sofifa.net/flags/fi.png\" data-srcset=\"https://cdn.sofifa.net/flags/fi@2x.png 2x, https://cdn.sofifa.net/flags/fi@3x.png 3x\" height=\"16\" src=\"https://cdn.sofifa.net/pixel.gif\" title=\"Finland\" width=\"21\"/>\\n      Suomi\\n     </a>\\n     <a class=\"bp3-button bp3-minimal lang\" href=\"/players?hl=zh-HK\" rel=\"nofollow\" role=\"button\">\\n      <img alt=\"\" class=\"flag\" data-src=\"https://cdn.sofifa.net/flags/hk.png\" data-srcset=\"https://cdn.sofifa.net/flags/hk@2x.png 2x, https://cdn.sofifa.net/flags/hk@3x.png 3x\" height=\"16\" src=\"https://cdn.sofifa.net/pixel.gif\" title=\"Hong Kong\" width=\"21\"/>\\n      中文(繁體)\\n     </a>\\n     <a class=\"bp3-button bp3-minimal lang\" href=\"/players?hl=uk-UA\" rel=\"nofollow\" role=\"button\">\\n      <img alt=\"\" class=\"flag\" data-src=\"https://cdn.sofifa.net/flags/ua.png\" data-srcset=\"https://cdn.sofifa.net/flags/ua@2x.png 2x, https://cdn.sofifa.net/flags/ua@3x.png 3x\" height=\"16\" src=\"https://cdn.sofifa.net/pixel.gif\" title=\"Ukraine\" width=\"21\"/>\\n      Українська\\n     </a>\\n     <a class=\"bp3-button bp3-minimal lang\" href=\"/players?hl=cs-CZ\" rel=\"nofollow\" role=\"button\">\\n      <img alt=\"\" class=\"flag\" data-src=\"https://cdn.sofifa.net/flags/cz.png\" data-srcset=\"https://cdn.sofifa.net/flags/cz@2x.png 2x, https://cdn.sofifa.net/flags/cz@3x.png 3x\" height=\"16\" src=\"https://cdn.sofifa.net/pixel.gif\" title=\"Czech Republic\" width=\"21\"/>\\n      Čeština\\n     </a>\\n     <a class=\"bp3-button bp3-minimal lang\" href=\"/players?hl=ar-AA\" rel=\"nofollow\" role=\"button\">\\n      <img alt=\"\" class=\"flag\" data-src=\"https://cdn.sofifa.net/flags/sa.png\" data-srcset=\"https://cdn.sofifa.net/flags/sa@2x.png 2x, https://cdn.sofifa.net/flags/sa@3x.png 3x\" height=\"16\" src=\"https://cdn.sofifa.net/pixel.gif\" title=\"Saudi Arabia\" width=\"21\"/>\\n      العربية\\n     </a>\\n    </div>\\n   </div>\\n   <div class=\"header\">\\n    <div class=\"center\">\\n     <div class=\"top-banner\" role=\"banner\">\\n      <div data-pw-desk=\"leaderboard_atf\" id=\"pwDeskLbAtf\" style=\"width:728px;height:90px\">\\n      </div>\\n      <script>\\n       window.ramp.que.push(function () {\\n    window.ramp.addTag(\"pwDeskLbAtf\");\\n  })\\n      </script>\\n     </div>\\n     <h1 class=\"ellipsis\">\\n      Players\\n     </h1>\\n     <h2>\\n      <div class=\"dropdown\">\\n       <a class=\"bp3-button bp3-minimal text dropdown-toggle\" href=\"javascript:void(0);\" rel=\"nofollow\" role=\"button\" tabindex=\"200\">\\n        <span class=\"bp3-button-text\">\\n         FIFA 23\\n        </span>\\n        <span class=\"bp3-icon bp3-icon-caret-down\">\\n         <svg height=\"16\" viewbox=\"0 0 24 24\" width=\"16\">\\n          <polyline points=\"6 9 12 15 18 9\">\\n          </polyline>\\n         </svg>\\n        </span>\\n       </a>\\n       <div class=\"bp3-menu\">\\n        <a class=\"bp3-menu-item\" href=\"/players?r=230017&amp;set=true\">\\n         FIFA 23\\n        </a>\\n        <a class=\"bp3-menu-item\" href=\"/players?r=220069&amp;set=true\">\\n         FIFA 22\\n        </a>\\n        <a class=\"bp3-menu-item\" href=\"/players?r=210064&amp;set=true\">\\n         FIFA 21\\n        </a>\\n        <a class=\"bp3-menu-item\" href=\"/players?r=200061&amp;set=true\">\\n         FIFA 20\\n        </a>\\n        <a class=\"bp3-menu-item\" href=\"/players?r=190075&amp;set=true\">\\n         FIFA 19\\n        </a>\\n        <a class=\"bp3-menu-item\" href=\"/players?r=180084&amp;set=true\">\\n         FIFA 18\\n        </a>\\n        <a class=\"bp3-menu-item\" href=\"/players?r=170099&amp;set=true\">\\n         FIFA 17\\n        </a>\\n        <a class=\"bp3-menu-item\" href=\"/players?r=160058&amp;set=true\">\\n         FIFA 16\\n        </a>\\n        <a class=\"bp3-menu-item\" href=\"/players?r=150059&amp;set=true\">\\n         FIFA 15\\n        </a>\\n        <a class=\"bp3-menu-item\" href=\"/players?r=140052&amp;set=true\">\\n         FIFA 14\\n        </a>\\n        <a class=\"bp3-menu-item\" href=\"/players?r=130034&amp;set=true\">\\n         FIFA 13\\n        </a>\\n        <a class=\"bp3-menu-item\" href=\"/players?r=120002&amp;set=true\">\\n         FIFA 12\\n        </a>\\n        <a class=\"bp3-menu-item\" href=\"/players?r=110002&amp;set=true\">\\n         FIFA 11\\n        </a>\\n        <a class=\"bp3-menu-item\" href=\"/players?r=100002&amp;set=true\">\\n         FIFA 10\\n        </a>\\n        <a class=\"bp3-menu-item\" href=\"/players?r=090002&amp;set=true\">\\n         FIFA 09\\n        </a>\\n        <a class=\"bp3-menu-item\" href=\"/players?r=080002&amp;set=true\">\\n         FIFA 08\\n        </a>\\n        <a class=\"bp3-menu-item\" href=\"/players?r=070002&amp;set=true\">\\n         FIFA 07\\n        </a>\\n       </div>\\n      </div>\\n      <div class=\"dropdown\">\\n       <a class=\"bp3-button bp3-minimal text dropdown-toggle\" href=\"javascript:void(0);\" rel=\"nofollow\" role=\"button\" tabindex=\"200\">\\n        <span class=\"bp3-button-text\">\\n         Feb 28, 2023\\n        </span>\\n        <span class=\"bp3-icon bp3-icon-caret-down\">\\n         <svg height=\"16\" viewbox=\"0 0 24 24\" width=\"16\">\\n          <polyline points=\"6 9 12 15 18 9\">\\n          </polyline>\\n         </svg>\\n        </span>\\n       </a>\\n       <div class=\"bp3-menu\">\\n        <a class=\"bp3-menu-item\" href=\"/players?r=230017&amp;set=true\">\\n         Feb 28, 2023\\n        </a>\\n        <a class=\"bp3-menu-item\" href=\"/players?r=230016&amp;set=true\">\\n         Feb 23, 2023\\n        </a>\\n        <a class=\"bp3-menu-item\" href=\"/players?r=230015&amp;set=true\">\\n         Feb 22, 2023\\n        </a>\\n        <a class=\"bp3-menu-item\" href=\"/players?r=230014&amp;set=true\">\\n         Feb 13, 2023\\n        </a>\\n        <a class=\"bp3-menu-item\" href=\"/players?r=230013&amp;set=true\">\\n         Feb 7, 2023\\n        </a>\\n        <a class=\"bp3-menu-item\" href=\"/players?r=230012&amp;set=true\">\\n         Jan 30, 2023\\n        </a>\\n        <a class=\"bp3-menu-item\" href=\"/players?r=230011&amp;set=true\">\\n         Jan 25, 2023\\n        </a>\\n        <a class=\"bp3-menu-item\" href=\"/players?r=230010&amp;set=true\">\\n         Jan 18, 2023\\n        </a>\\n        <a class=\"bp3-menu-item\" href=\"/players?r=230009&amp;set=true\">\\n         Jan 13, 2023\\n        </a>\\n        <a class=\"bp3-menu-item\" href=\"/players?r=230008&amp;set=true\">\\n         Dec 17, 2022\\n        </a>\\n        <a class=\"bp3-menu-item\" href=\"/players?r=230007&amp;set=true\">\\n         Dec 6, 2022\\n        </a>\\n        <a class=\"bp3-menu-item\" href=\"/players?r=230006&amp;set=true\">\\n         Nov 16, 2022\\n        </a>\\n        <a class=\"bp3-menu-item\" href=\"/players?r=230005&amp;set=true\">\\n         Oct 28, 2022\\n        </a>\\n        <a class=\"bp3-menu-item\" href=\"/players?r=230004&amp;set=true\">\\n         Oct 7, 2022\\n        </a>\\n        <a class=\"bp3-menu-item\" href=\"/players?r=230003&amp;set=true\">\\n         Sep 28, 2022\\n        </a>\\n        <a class=\"bp3-menu-item\" href=\"/players?r=230002&amp;set=true\">\\n         Sep 26, 2022\\n        </a>\\n        <a class=\"bp3-menu-item\" href=\"/players?r=230001&amp;set=true\">\\n         Sep 1, 2022\\n        </a>\\n        <a class=\"bp3-menu-item\" href=\"/players?r=202200&amp;set=true\">\\n         World Cup 2022\\n        </a>\\n       </div>\\n      </div>\\n     </h2>\\n    </div>\\n   </div>\\n   <div class=\"sub-nav\">\\n    <div class=\"center\">\\n     <form action=\"/players\" class=\"top-search bp3-input-group\" method=\"get\">\\n      <span class=\"bp3-icon bp3-icon-search\">\\n       <svg height=\"16\" viewbox=\"0 0 24 24\" width=\"16\">\\n        <circle cx=\"11\" cy=\"11\" r=\"8\">\\n        </circle>\\n        <line x1=\"21\" x2=\"16.65\" y1=\"21\" y2=\"16.65\">\\n        </line>\\n       </svg>\\n      </span>\\n      <input class=\"bp3-input player-suggest suggest\" data-roster=\"230017\" name=\"keyword\" placeholder=\"Search Player ...\" type=\"text\"/>\\n     </form>\\n     <div class=\"bp3-tabs\">\\n      <div class=\"bp3-tab-list\" role=\"tablist\">\\n       <a aria-selected=\"true\" class=\"bp3-tab\" href=\"/players\" role=\"tab\">\\n        Trending\\n       </a>\\n       <a class=\"bp3-tab\" href=\"/players?type=added\" role=\"tab\">\\n        Added\\n       </a>\\n       <a class=\"bp3-tab\" href=\"/players?type=updated\" role=\"tab\">\\n        Updated\\n       </a>\\n       <a class=\"bp3-tab\" href=\"/players?type=free\" role=\"tab\">\\n        Free\\n       </a>\\n       <a class=\"bp3-tab\" href=\"/players?type=onLoan\" role=\"tab\">\\n        On Loan\\n       </a>\\n       <a class=\"bp3-tab\" href=\"/players?type=removed\" role=\"tab\">\\n        Removed\\n       </a>\\n       <a class=\"bp3-tab\" href=\"/players?type=customized\" role=\"tab\">\\n        Customized\\n       </a>\\n       <a class=\"bp3-tab need-sign-in\" data-action=\"forward\" href=\"/customize\" role=\"tab\">\\n        Create Player\\n       </a>\\n       <a class=\"bp3-tab\" href=\"/calculator\" role=\"tab\">\\n        Calculator\\n       </a>\\n      </div>\\n     </div>\\n    </div>\\n   </div>\\n  </header>\\n  <div class=\"center\">\\n   <div class=\"grid\">\\n    <div class=\"col col-4\" style=\"width:298px\">\\n     <details class=\"card\">\\n      <summary>\\n       Columns Selected\\n      </summary>\\n      <form action=\"/players?\" class=\"detail-toggle\" method=\"get\">\\n       <div class=\"choices-column half-spacing\">\\n        <select class=\"choices-multiple\" data-always=\"true\" data-placeholder=\"Add Column\" multiple=\"\" name=\"showCol[]\">\\n         <optgroup label=\"Basic\">\\n          <option value=\"pi\">\\n           ID\\n          </option>\\n          <option selected=\"\" value=\"ae\">\\n           Age\\n          </option>\\n          <option value=\"hi\">\\n           Height\\n          </option>\\n          <option value=\"wi\">\\n           Weight\\n          </option>\\n          <option value=\"pf\">\\n           Preferred Foot\\n          </option>\\n          <option selected=\"\" value=\"oa\">\\n           Overall Rating\\n          </option>\\n          <option selected=\"\" value=\"pt\">\\n           Potential\\n          </option>\\n          <option value=\"bo\">\\n           Best Overall\\n          </option>\\n          <option value=\"bp\">\\n           Best Position\\n          </option>\\n          <option value=\"gu\">\\n           Growth\\n          </option>\\n          <option value=\"jt\">\\n           Joined\\n          </option>\\n          <option value=\"le\">\\n           Loan Date End\\n          </option>\\n          <option selected=\"\" value=\"vl\">\\n           Value\\n          </option>\\n          <option selected=\"\" value=\"wg\">\\n           Wage\\n          </option>\\n          <option value=\"rc\">\\n           Release Clause\\n          </option>\\n         </optgroup>\\n         <optgroup label=\"Attacking\">\\n          <option value=\"ta\">\\n           Total Attacking\\n          </option>\\n          <option value=\"cr\">\\n           Crossing\\n          </option>\\n          <option value=\"fi\">\\n           Finishing\\n          </option>\\n          <option value=\"he\">\\n           Heading Accuracy\\n          </option>\\n          <option value=\"sh\">\\n           Short Passing\\n          </option>\\n          <option value=\"vo\">\\n           Volleys\\n          </option>\\n         </optgroup>\\n         <optgroup label=\"Skill\">\\n          <option value=\"ts\">\\n           Total Skill\\n          </option>\\n          <option value=\"dr\">\\n           Dribbling\\n          </option>\\n          <option value=\"cu\">\\n           Curve\\n          </option>\\n          <option value=\"fr\">\\n           FK Accuracy\\n          </option>\\n          <option value=\"lo\">\\n           Long Passing\\n          </option>\\n          <option value=\"bl\">\\n           Ball Control\\n          </option>\\n         </optgroup>\\n         <optgroup label=\"Movement\">\\n          <option value=\"to\">\\n           Total Movement\\n          </option>\\n          <option value=\"ac\">\\n           Acceleration\\n          </option>\\n          <option value=\"sp\">\\n           Sprint Speed\\n          </option>\\n          <option value=\"ag\">\\n           Agility\\n          </option>\\n          <option value=\"re\">\\n           Reactions\\n          </option>\\n          <option value=\"ba\">\\n           Balance\\n          </option>\\n         </optgroup>\\n         <optgroup label=\"Power\">\\n          <option value=\"tp\">\\n           Total Power\\n          </option>\\n          <option value=\"so\">\\n           Shot Power\\n          </option>\\n          <option value=\"ju\">\\n           Jumping\\n          </option>\\n          <option value=\"st\">\\n           Stamina\\n          </option>\\n          <option value=\"sr\">\\n           Strength\\n          </option>\\n          <option value=\"ln\">\\n           Long Shots\\n          </option>\\n         </optgroup>\\n         <optgroup label=\"Mentality\">\\n          <option value=\"te\">\\n           Total Mentality\\n          </option>\\n          <option value=\"ar\">\\n           Aggression\\n          </option>\\n          <option value=\"in\">\\n           Interceptions\\n          </option>\\n          <option value=\"po\">\\n           Positioning\\n          </option>\\n          <option value=\"vi\">\\n           Vision\\n          </option>\\n          <option value=\"pe\">\\n           Penalties\\n          </option>\\n          <option value=\"cm\">\\n           Composure\\n          </option>\\n         </optgroup>\\n         <optgroup label=\"Defending\">\\n          <option value=\"td\">\\n           Total Defending\\n          </option>\\n          <option value=\"ma\">\\n           Marking\\n          </option>\\n          <option value=\"sa\">\\n           Standing Tackle\\n          </option>\\n          <option value=\"sl\">\\n           Sliding Tackle\\n          </option>\\n         </optgroup>\\n         <optgroup label=\"Goalkeeping\">\\n          <option value=\"tg\">\\n           Total Goalkeeping\\n          </option>\\n          <option value=\"gd\">\\n           GK Diving\\n          </option>\\n          <option value=\"gh\">\\n           GK Handling\\n          </option>\\n          <option value=\"gc\">\\n           GK Kicking\\n          </option>\\n          <option value=\"gp\">\\n           GK Positioning\\n          </option>\\n          <option value=\"gr\">\\n           GK Reflexes\\n          </option>\\n         </optgroup>\\n         <optgroup label=\"Special\">\\n          <option selected=\"\" value=\"tt\">\\n           Total Stats\\n          </option>\\n          <option value=\"bs\">\\n           Base Stats\\n          </option>\\n          <option value=\"wk\">\\n           Weak Foot\\n          </option>\\n          <option value=\"sk\">\\n           Skill Moves\\n          </option>\\n          <option value=\"aw\">\\n           Attacking Work Rate\\n          </option>\\n          <option value=\"dw\">\\n           Defensive Work Rate\\n          </option>\\n          <option value=\"ir\">\\n           International Reputation\\n          </option>\\n          <option value=\"bt\">\\n           Body Type\\n          </option>\\n          <option value=\"pac\">\\n           Pace / Diving\\n          </option>\\n          <option value=\"sho\">\\n           Shooting / Handling\\n          </option>\\n          <option value=\"pas\">\\n           Passing / Kicking\\n          </option>\\n          <option value=\"dri\">\\n           Dribbling / Reflexes\\n          </option>\\n          <option value=\"def\">\\n           Defending / Pace\\n          </option>\\n          <option value=\"phy\">\\n           Physical / Positioning\\n          </option>\\n         </optgroup>\\n        </select>\\n       </div>\\n       <div class=\"bp3-control-group bp3-fill\">\\n        <button class=\"bp3-button bp3-intent-primary\" type=\"submit\">\\n         Apply\\n        </button>\\n        <a class=\"bp3-button pjax\" href=\"/players?showCol=reset\">\\n         Reset\\n        </a>\\n       </div>\\n      </form>\\n     </details>\\n     <details class=\"card\">\\n      <summary>\\n       Basket\\n      </summary>\\n      <div class=\"detail-toggle\">\\n       <div id=\"basket\">\\n       </div>\\n       <div class=\"bp3-control-group bp3-fill half-spacing\">\\n        <a class=\"bp3-button bp3-intent-primary\" href=\"/players/compare\" rel=\"nofollow\">\\n         Compare\\n        </a>\\n        <button class=\"bp3-button basket-clear\">\\n         Clear\\n        </button>\\n       </div>\\n       <div class=\"bp3-control-group bp3-fill\">\\n        <a class=\"bp3-button need-sign-in\" data-action=\"forward\" href=\"/shortlist/create\" rel=\"nofollow\">\\n         + Shortlist\\n        </a>\\n        <a class=\"bp3-button need-sign-in\" data-action=\"forward\" href=\"/squad/create\" rel=\"nofollow\">\\n         + Squad\\n        </a>\\n       </div>\\n      </div>\\n     </details>\\n     <form action=\"/players\" class=\"relative pjax-form\" data-pjax=\"content-target\">\\n      <div class=\"card\">\\n       <h5>\\n        Search\\n       </h5>\\n       <div class=\"half-spacing grid\">\\n        <div class=\"col col-6\">\\n         <label class=\"ellipsis\">\\n          Name\\n         </label>\\n        </div>\\n        <div class=\"col col-12\">\\n         <input class=\"bp3-input bp3-fill\" name=\"keyword\" type=\"text\" value=\"\"/>\\n        </div>\\n       </div>\\n       <div class=\"half-spacing\">\\n        <select data-placeholder=\"Type\" id=\"choices-type\" name=\"type\">\\n         <option selected=\"\" value=\"all\">\\n          All Players\\n         </option>\\n         <option value=\"added\">\\n          Added Players\\n         </option>\\n         <option value=\"updated\">\\n          Updated Players\\n         </option>\\n         <option value=\"free\">\\n          Free Players\\n         </option>\\n         <option value=\"onLoan\">\\n          On Loan Players\\n         </option>\\n         <option value=\"removed\">\\n          Removed Players\\n         </option>\\n         <option value=\"customized\">\\n          Customized Players\\n         </option>\\n        </select>\\n       </div>\\n       <div class=\"half-spacing\">\\n        <select data-placeholder=\"Continents\" id=\"choices-ct\" multiple=\"\" name=\"ct[]\">\\n         <option value=\"2\">\\n          Europe\\n         </option>\\n         <option value=\"6\">\\n          Asia\\n         </option>\\n         <option value=\"0\">\\n          South America\\n         </option>\\n         <option value=\"1\">\\n          North America\\n         </option>\\n         <option value=\"8\">\\n          Africa\\n         </option>\\n         <option value=\"7\">\\n          Oceania\\n         </option>\\n        </select>\\n       </div>\\n       <div class=\"half-spacing\">\\n        <select data-placeholder=\"Nationality / Region\" data-value=\"\" id=\"choices-na\" multiple=\"\" name=\"na[]\">\\n        </select>\\n       </div>\\n       <div class=\"half-spacing\">\\n        <select data-placeholder=\"Leagues\" id=\"choices-lg\" multiple=\"\" name=\"lg[]\">\\n         <optgroup label=\"Top 5\">\\n          <option value=\"13\">\\n           [England] Premier League\\n          </option>\\n          <option value=\"16\">\\n           [France] Ligue 1\\n          </option>\\n          <option value=\"19\">\\n           [Germany] Bundesliga\\n          </option>\\n          <option value=\"31\">\\n           [Italy] Serie A\\n          </option>\\n          <option value=\"53\">\\n           [Spain] La Liga\\n          </option>\\n         </optgroup>\\n         <optgroup label=\"A-Z\">\\n          <option value=\"353\">\\n           [Argentina] Liga Profesional\\n          </option>\\n          <option value=\"351\">\\n           [Australia] A-League\\n          </option>\\n          <option value=\"80\">\\n           [Austria] Bundesliga\\n          </option>\\n          <option value=\"4\">\\n           [Belgium] Jupiler Pro League\\n          </option>\\n          <option value=\"2017\">\\n           [Bolivia] Liga De Futbol Prof\\n          </option>\\n          <option value=\"7\">\\n           [Brazil] Serie A\\n          </option>\\n          <option value=\"335\">\\n           [Chile] Primera Division\\n          </option>\\n          <option value=\"2012\">\\n           [China PR] Super League\\n          </option>\\n          <option value=\"336\">\\n           [Colombia] Liga BetPlay\\n          </option>\\n          <option value=\"317\">\\n           [Croatia] 1. HNL\\n          </option>\\n          <option value=\"318\">\\n           [Cyprus] 1. Division\\n          </option>\\n          <option value=\"319\">\\n           [Czech Republic] Fortuna Liga\\n          </option>\\n          <option value=\"1\">\\n           [Denmark] Superliga\\n          </option>\\n          <option value=\"2018\">\\n           [Ecuador] Liga Pro\\n          </option>\\n          <option value=\"14\">\\n           [England] Championship\\n          </option>\\n          <option value=\"60\">\\n           [England] League One\\n          </option>\\n          <option value=\"61\">\\n           [England] League Two\\n          </option>\\n          <option value=\"62\">\\n           [England] National League\\n          </option>\\n          <option value=\"322\">\\n           [Finland] Veikkausliiga\\n          </option>\\n          <option value=\"17\">\\n           [France] Ligue 2\\n          </option>\\n          <option value=\"20\">\\n           [Germany] 2. Bundesliga\\n          </option>\\n          <option value=\"2076\">\\n           [Germany] 3. Liga\\n          </option>\\n          <option value=\"63\">\\n           [Greece] Super League\\n          </option>\\n          <option value=\"64\">\\n           [Hungary] NB I.\\n          </option>\\n          <option value=\"2149\">\\n           [India] Indian Super League\\n          </option>\\n          <option value=\"32\">\\n           [Italy] Serie B\\n          </option>\\n          <option value=\"83\">\\n           [Korea Republic] K League 1\\n          </option>\\n          <option value=\"10\">\\n           [Netherlands] Eredivisie\\n          </option>\\n          <option value=\"41\">\\n           [Norway] Eliteserien\\n          </option>\\n          <option value=\"337\">\\n           [Paraguay] Primera División\\n          </option>\\n          <option value=\"2020\">\\n           [Peru] Primera Division\\n          </option>\\n          <option value=\"66\">\\n           [Poland] Ekstraklasa\\n          </option>\\n          <option value=\"308\">\\n           [Portugal] Liga Portugal\\n          </option>\\n          <option value=\"65\">\\n           [Republic of Ireland] Premier Division\\n          </option>\\n          <option value=\"330\">\\n           [Romania] Liga 1\\n          </option>\\n          <option value=\"350\">\\n           [Saudi Arabia] Pro League\\n          </option>\\n          <option value=\"50\">\\n           [Scotland] Premiership\\n          </option>\\n          <option value=\"347\">\\n           [South Africa] Premier League\\n          </option>\\n          <option value=\"54\">\\n           [Spain] La Liga 2\\n          </option>\\n          <option value=\"56\">\\n           [Sweden] Allsvenskan\\n          </option>\\n          <option value=\"189\">\\n           [Switzerland] Super League\\n          </option>\\n          <option value=\"68\">\\n           [Turkey] Super Lig\\n          </option>\\n          <option value=\"332\">\\n           [Ukraine] Premier League\\n          </option>\\n          <option value=\"2013\">\\n           [United Arab Emirates] Pro League\\n          </option>\\n          <option value=\"39\">\\n           [United States] Major League Soccer\\n          </option>\\n          <option value=\"338\">\\n           [Uruguay] Primera Division\\n          </option>\\n          <option value=\"2019\">\\n           [Venezuela] Primera Division\\n          </option>\\n         </optgroup>\\n        </select>\\n       </div>\\n       <div class=\"half-spacing\">\\n        <select data-placeholder=\"Teams\" data-value=\"\" id=\"choices-tm\" multiple=\"\" name=\"tm[]\">\\n        </select>\\n       </div>\\n       <div class=\"half-spacing grid\">\\n        <div class=\"col col-9\">\\n         <label class=\"ellipsis\">\\n          Age\\n         </label>\\n        </div>\\n        <div class=\"col col-3\">\\n         <input class=\"bp3-input min\" id=\"ael\" max=\"45\" min=\"15\" name=\"ael\" placeholder=\"15\" size=\"2\" type=\"number\" value=\"\"/>\\n        </div>\\n        <div class=\"col col-1\">\\n        </div>\\n        <div class=\"col col-3\">\\n         <input class=\"bp3-input max\" id=\"aeh\" max=\"45\" min=\"15\" name=\"aeh\" placeholder=\"45\" size=\"2\" type=\"number\" value=\"\"/>\\n        </div>\\n       </div>\\n       <div class=\"half-spacing grid\">\\n        <div class=\"col col-9\">\\n         <label class=\"ellipsis\">\\n          Overall Rating\\n         </label>\\n        </div>\\n        <div class=\"col col-3\">\\n         <input class=\"bp3-input min\" id=\"oal\" max=\"99\" min=\"0\" name=\"oal\" placeholder=\"0\" size=\"2\" type=\"number\" value=\"\"/>\\n        </div>\\n        <div class=\"col col-1\">\\n        </div>\\n        <div class=\"col col-3\">\\n         <input class=\"bp3-input max\" id=\"oah\" max=\"99\" min=\"0\" name=\"oah\" placeholder=\"99\" size=\"2\" type=\"number\" value=\"\"/>\\n        </div>\\n       </div>\\n       <div class=\"half-spacing grid\">\\n        <div class=\"col col-9\">\\n         <label class=\"ellipsis\">\\n          Potential\\n         </label>\\n        </div>\\n        <div class=\"col col-3\">\\n         <input class=\"bp3-input min\" id=\"ptl\" max=\"99\" min=\"0\" name=\"ptl\" placeholder=\"0\" size=\"2\" type=\"number\" value=\"\"/>\\n        </div>\\n        <div class=\"col col-1\">\\n        </div>\\n        <div class=\"col col-3\">\\n         <input class=\"bp3-input max\" id=\"pth\" max=\"99\" min=\"0\" name=\"pth\" placeholder=\"99\" size=\"2\" type=\"number\" value=\"\"/>\\n        </div>\\n       </div>\\n       <div class=\"half-spacing\">\\n        <select class=\"choices-multiple\" data-placeholder=\"Position\" multiple=\"\" name=\"pn[]\">\\n         <option value=\"27\">\\n          LW\\n         </option>\\n         <option value=\"25\">\\n          ST\\n         </option>\\n         <option value=\"23\">\\n          RW\\n         </option>\\n         <option value=\"22\">\\n          LF\\n         </option>\\n         <option value=\"21\">\\n          CF\\n         </option>\\n         <option value=\"20\">\\n          RF\\n         </option>\\n         <option value=\"18\">\\n          CAM\\n         </option>\\n         <option value=\"16\">\\n          LM\\n         </option>\\n         <option value=\"14\">\\n          CM\\n         </option>\\n         <option value=\"12\">\\n          RM\\n         </option>\\n         <option value=\"10\">\\n          CDM\\n         </option>\\n         <option value=\"8\">\\n          LWB\\n         </option>\\n         <option value=\"7\">\\n          LB\\n         </option>\\n         <option value=\"5\">\\n          CB\\n         </option>\\n         <option value=\"3\">\\n          RB\\n         </option>\\n         <option value=\"2\">\\n          RWB\\n         </option>\\n         <option value=\"0\">\\n          GK\\n         </option>\\n        </select>\\n       </div>\\n       <div class=\"half-spacing\">\\n        <select class=\"choices-multiple\" data-placeholder=\"Preferred Foot\" multiple=\"\" name=\"pf[]\">\\n         <option value=\"1\">\\n          Right\\n         </option>\\n         <option value=\"2\">\\n          Left\\n         </option>\\n        </select>\\n       </div>\\n       <div class=\"half-spacing\">\\n        <select class=\"choices-multiple\" data-placeholder=\"Weak Foot\" multiple=\"\" name=\"wk[]\">\\n         <option value=\"1\">\\n          1 ★\\n         </option>\\n         <option value=\"2\">\\n          2 ★\\n         </option>\\n         <option value=\"3\">\\n          3 ★\\n         </option>\\n         <option value=\"4\">\\n          4 ★\\n         </option>\\n         <option value=\"5\">\\n          5 ★\\n         </option>\\n        </select>\\n       </div>\\n       <div class=\"half-spacing\">\\n        <select class=\"choices-multiple\" data-placeholder=\"Skill Moves\" multiple=\"\" name=\"sk[]\">\\n         <option value=\"0\">\\n          1 ★\\n         </option>\\n         <option value=\"1\">\\n          2 ★\\n         </option>\\n         <option value=\"2\">\\n          3 ★\\n         </option>\\n         <option value=\"3\">\\n          4 ★\\n         </option>\\n         <option value=\"4\">\\n          5 ★\\n         </option>\\n        </select>\\n       </div>\\n       <div class=\"half-spacing grid\">\\n        <div class=\"col col-7\">\\n         <label class=\"ellipsis\">\\n          Height\\n         </label>\\n        </div>\\n        <div class=\"col col-4\">\\n         <input class=\"bp3-input min\" id=\"hil\" max=\"220\" min=\"150\" name=\"hil\" placeholder=\"150 cm\" size=\"2\" type=\"number\" value=\"\"/>\\n        </div>\\n        <div class=\"col col-1\">\\n        </div>\\n        <div class=\"col col-4\">\\n         <input class=\"bp3-input max\" id=\"hih\" max=\"220\" min=\"150\" name=\"hih\" placeholder=\"220 cm\" size=\"2\" type=\"number\" value=\"\"/>\\n        </div>\\n       </div>\\n       <div class=\"half-spacing grid\">\\n        <div class=\"col col-7\">\\n         <label class=\"ellipsis\">\\n          Weight\\n         </label>\\n        </div>\\n        <div class=\"col col-4\">\\n         <input class=\"bp3-input min\" id=\"wil\" max=\"130\" min=\"50\" name=\"wil\" placeholder=\"50 kg\" size=\"2\" type=\"number\" value=\"\"/>\\n        </div>\\n        <div class=\"col col-1\">\\n        </div>\\n        <div class=\"col col-4\">\\n         <input class=\"bp3-input max\" id=\"wih\" max=\"130\" min=\"50\" name=\"wih\" placeholder=\"130 kg\" size=\"2\" type=\"number\" value=\"\"/>\\n        </div>\\n       </div>\\n       <div class=\"half-spacing grid\">\\n        <div class=\"col col-7\">\\n         <label class=\"ellipsis\">\\n          Value\\n         </label>\\n        </div>\\n        <div class=\"col col-12\">\\n         <div class=\"bp3-input-group bp3-fill\">\\n          <div class=\"bp3-input-action\">\\n           €\\n          </div>\\n          <input class=\"bp3-input\" id=\"vlh\" name=\"vlh\" placeholder=\"150000000\" step=\"10000\" type=\"number\" value=\"\"/>\\n         </div>\\n        </div>\\n       </div>\\n       <div class=\"half-spacing grid\">\\n        <div class=\"col col-7\">\\n         <label class=\"ellipsis\">\\n          Wage\\n         </label>\\n        </div>\\n        <div class=\"col col-12\">\\n         <div class=\"bp3-input-group bp3-fill\">\\n          <div class=\"bp3-input-action\">\\n           €\\n          </div>\\n          <input class=\"bp3-input\" id=\"wgh\" name=\"wgh\" placeholder=\"600000\" step=\"10000\" type=\"number\" value=\"\"/>\\n         </div>\\n        </div>\\n       </div>\\n       <div class=\"half-spacing grid\">\\n        <div class=\"col col-7\">\\n         <label class=\"ellipsis\">\\n          Release Clause\\n         </label>\\n        </div>\\n        <div class=\"col col-12\">\\n         <div class=\"bp3-input-group bp3-fill\">\\n          <div class=\"bp3-input-action\">\\n           €\\n          </div>\\n          <input class=\"bp3-input\" id=\"rch\" name=\"rch\" placeholder=\"600000000\" step=\"10000\" type=\"number\" value=\"\"/>\\n         </div>\\n        </div>\\n       </div>\\n       <div class=\"text-right\">\\n        <button class=\"bp3-button bp3-intent-primary bp3-fill\" type=\"submit\">\\n         Submit\\n        </button>\\n       </div>\\n      </div>\\n      <div class=\"card\">\\n       <h5>\\n        Attacking\\n       </h5>\\n       <div class=\"half-spacing grid\">\\n        <div class=\"col col-9\">\\n         <label class=\"ellipsis\">\\n          Crossing\\n         </label>\\n        </div>\\n        <div class=\"col col-3\">\\n         <input class=\"bp3-input min\" id=\"crl\" max=\"99\" min=\"0\" name=\"crl\" placeholder=\"0\" size=\"2\" type=\"number\" value=\"\"/>\\n        </div>\\n        <div class=\"col col-1\">\\n        </div>\\n        <div class=\"col col-3\">\\n         <input class=\"bp3-input max\" id=\"crh\" max=\"99\" min=\"0\" name=\"crh\" placeholder=\"99\" size=\"2\" type=\"number\" value=\"\"/>\\n        </div>\\n       </div>\\n       <div class=\"half-spacing grid\">\\n        <div class=\"col col-9\">\\n         <label class=\"ellipsis\">\\n          Finishing\\n         </label>\\n        </div>\\n        <div class=\"col col-3\">\\n         <input class=\"bp3-input min\" id=\"fil\" max=\"99\" min=\"0\" name=\"fil\" placeholder=\"0\" size=\"2\" type=\"number\" value=\"\"/>\\n        </div>\\n        <div class=\"col col-1\">\\n        </div>\\n        <div class=\"col col-3\">\\n         <input class=\"bp3-input max\" id=\"fih\" max=\"99\" min=\"0\" name=\"fih\" placeholder=\"99\" size=\"2\" type=\"number\" value=\"\"/>\\n        </div>\\n       </div>\\n       <div class=\"half-spacing grid\">\\n        <div class=\"col col-9\">\\n         <label class=\"ellipsis\">\\n          Heading Accuracy\\n         </label>\\n        </div>\\n        <div class=\"col col-3\">\\n         <input class=\"bp3-input min\" id=\"hel\" max=\"99\" min=\"0\" name=\"hel\" placeholder=\"0\" size=\"2\" type=\"number\" value=\"\"/>\\n        </div>\\n        <div class=\"col col-1\">\\n        </div>\\n        <div class=\"col col-3\">\\n         <input class=\"bp3-input max\" id=\"heh\" max=\"99\" min=\"0\" name=\"heh\" placeholder=\"99\" size=\"2\" type=\"number\" value=\"\"/>\\n        </div>\\n       </div>\\n       <div class=\"half-spacing grid\">\\n        <div class=\"col col-9\">\\n         <label class=\"ellipsis\">\\n          Short Passing\\n         </label>\\n        </div>\\n        <div class=\"col col-3\">\\n         <input class=\"bp3-input min\" id=\"shl\" max=\"99\" min=\"0\" name=\"shl\" placeholder=\"0\" size=\"2\" type=\"number\" value=\"\"/>\\n        </div>\\n        <div class=\"col col-1\">\\n        </div>\\n        <div class=\"col col-3\">\\n         <input class=\"bp3-input max\" id=\"shh\" max=\"99\" min=\"0\" name=\"shh\" placeholder=\"99\" size=\"2\" type=\"number\" value=\"\"/>\\n        </div>\\n       </div>\\n       <div class=\"spacing grid\">\\n        <div class=\"col col-9\">\\n         <label class=\"ellipsis\">\\n          Volleys\\n         </label>\\n        </div>\\n        <div class=\"col col-3\">\\n         <input class=\"bp3-input min\" id=\"vol\" max=\"99\" min=\"0\" name=\"vol\" placeholder=\"0\" size=\"2\" type=\"number\" value=\"\"/>\\n        </div>\\n        <div class=\"col col-1\">\\n        </div>\\n        <div class=\"col col-3\">\\n         <input class=\"bp3-input max\" id=\"voh\" max=\"99\" min=\"0\" name=\"voh\" placeholder=\"99\" size=\"2\" type=\"number\" value=\"\"/>\\n        </div>\\n       </div>\\n       <h5>\\n        Skill\\n       </h5>\\n       <div class=\"half-spacing grid\">\\n        <div class=\"col col-9\">\\n         <label class=\"ellipsis\">\\n          Dribbling\\n         </label>\\n        </div>\\n        <div class=\"col col-3\">\\n         <input class=\"bp3-input min\" id=\"drl\" max=\"99\" min=\"0\" name=\"drl\" placeholder=\"0\" size=\"2\" type=\"number\" value=\"\"/>\\n        </div>\\n        <div class=\"col col-1\">\\n        </div>\\n        <div class=\"col col-3\">\\n         <input class=\"bp3-input max\" id=\"drh\" max=\"99\" min=\"0\" name=\"drh\" placeholder=\"99\" size=\"2\" type=\"number\" value=\"\"/>\\n        </div>\\n       </div>\\n       <div class=\"half-spacing grid\">\\n        <div class=\"col col-9\">\\n         <label class=\"ellipsis\">\\n          Curve\\n         </label>\\n        </div>\\n        <div class=\"col col-3\">\\n         <input class=\"bp3-input min\" id=\"cul\" max=\"99\" min=\"0\" name=\"cul\" placeholder=\"0\" size=\"2\" type=\"number\" value=\"\"/>\\n        </div>\\n        <div class=\"col col-1\">\\n        </div>\\n        <div class=\"col col-3\">\\n         <input class=\"bp3-input max\" id=\"cuh\" max=\"99\" min=\"0\" name=\"cuh\" placeholder=\"99\" size=\"2\" type=\"number\" value=\"\"/>\\n        </div>\\n       </div>\\n       <div class=\"half-spacing grid\">\\n        <div class=\"col col-9\">\\n         <label class=\"ellipsis\">\\n          FK Accuracy\\n         </label>\\n        </div>\\n        <div class=\"col col-3\">\\n         <input class=\"bp3-input min\" id=\"frl\" max=\"99\" min=\"0\" name=\"frl\" placeholder=\"0\" size=\"2\" type=\"number\" value=\"\"/>\\n        </div>\\n        <div class=\"col col-1\">\\n        </div>\\n        <div class=\"col col-3\">\\n         <input class=\"bp3-input max\" id=\"frh\" max=\"99\" min=\"0\" name=\"frh\" placeholder=\"99\" size=\"2\" type=\"number\" value=\"\"/>\\n        </div>\\n       </div>\\n       <div class=\"half-spacing grid\">\\n        <div class=\"col col-9\">\\n         <label class=\"ellipsis\">\\n          Long Passing\\n         </label>\\n        </div>\\n        <div class=\"col col-3\">\\n         <input class=\"bp3-input min\" id=\"lol\" max=\"99\" min=\"0\" name=\"lol\" placeholder=\"0\" size=\"2\" type=\"number\" value=\"\"/>\\n        </div>\\n        <div class=\"col col-1\">\\n        </div>\\n        <div class=\"col col-3\">\\n         <input class=\"bp3-input max\" id=\"loh\" max=\"99\" min=\"0\" name=\"loh\" placeholder=\"99\" size=\"2\" type=\"number\" value=\"\"/>\\n        </div>\\n       </div>\\n       <div class=\"spacing grid\">\\n        <div class=\"col col-9\">\\n         <label class=\"ellipsis\">\\n          Ball Control\\n         </label>\\n        </div>\\n        <div class=\"col col-3\">\\n         <input class=\"bp3-input min\" id=\"bll\" max=\"99\" min=\"0\" name=\"bll\" placeholder=\"0\" size=\"2\" type=\"number\" value=\"\"/>\\n        </div>\\n        <div class=\"col col-1\">\\n        </div>\\n        <div class=\"col col-3\">\\n         <input class=\"bp3-input max\" id=\"blh\" max=\"99\" min=\"0\" name=\"blh\" placeholder=\"99\" size=\"2\" type=\"number\" value=\"\"/>\\n        </div>\\n       </div>\\n       <h5>\\n        Movement\\n       </h5>\\n       <div class=\"half-spacing grid\">\\n        <div class=\"col col-9\">\\n         <label class=\"ellipsis\">\\n          Acceleration\\n         </label>\\n        </div>\\n        <div class=\"col col-3\">\\n         <input class=\"bp3-input min\" id=\"acl\" max=\"99\" min=\"0\" name=\"acl\" placeholder=\"0\" size=\"2\" type=\"number\" value=\"\"/>\\n        </div>\\n        <div class=\"col col-1\">\\n        </div>\\n        <div class=\"col col-3\">\\n         <input class=\"bp3-input max\" id=\"ach\" max=\"99\" min=\"0\" name=\"ach\" placeholder=\"99\" size=\"2\" type=\"number\" value=\"\"/>\\n        </div>\\n       </div>\\n       <div class=\"half-spacing grid\">\\n        <div class=\"col col-9\">\\n         <label class=\"ellipsis\">\\n          Sprint Speed\\n         </label>\\n        </div>\\n        <div class=\"col col-3\">\\n         <input class=\"bp3-input min\" id=\"spl\" max=\"99\" min=\"0\" name=\"spl\" placeholder=\"0\" size=\"2\" type=\"number\" value=\"\"/>\\n        </div>\\n        <div class=\"col col-1\">\\n        </div>\\n        <div class=\"col col-3\">\\n         <input class=\"bp3-input max\" id=\"sph\" max=\"99\" min=\"0\" name=\"sph\" placeholder=\"99\" size=\"2\" type=\"number\" value=\"\"/>\\n        </div>\\n       </div>\\n       <div class=\"half-spacing grid\">\\n        <div class=\"col col-9\">\\n         <label class=\"ellipsis\">\\n          Agility\\n         </label>\\n        </div>\\n        <div class=\"col col-3\">\\n         <input class=\"bp3-input min\" id=\"agl\" max=\"99\" min=\"0\" name=\"agl\" placeholder=\"0\" size=\"2\" type=\"number\" value=\"\"/>\\n        </div>\\n        <div class=\"col col-1\">\\n        </div>\\n        <div class=\"col col-3\">\\n         <input class=\"bp3-input max\" id=\"agh\" max=\"99\" min=\"0\" name=\"agh\" placeholder=\"99\" size=\"2\" type=\"number\" value=\"\"/>\\n        </div>\\n       </div>\\n       <div class=\"half-spacing grid\">\\n        <div class=\"col col-9\">\\n         <label class=\"ellipsis\">\\n          Reactions\\n         </label>\\n        </div>\\n        <div class=\"col col-3\">\\n         <input class=\"bp3-input min\" id=\"rel\" max=\"99\" min=\"0\" name=\"rel\" placeholder=\"0\" size=\"2\" type=\"number\" value=\"\"/>\\n        </div>\\n        <div class=\"col col-1\">\\n        </div>\\n        <div class=\"col col-3\">\\n         <input class=\"bp3-input max\" id=\"reh\" max=\"99\" min=\"0\" name=\"reh\" placeholder=\"99\" size=\"2\" type=\"number\" value=\"\"/>\\n        </div>\\n       </div>\\n       <div class=\"spacing grid\">\\n        <div class=\"col col-9\">\\n         <label class=\"ellipsis\">\\n          Balance\\n         </label>\\n        </div>\\n        <div class=\"col col-3\">\\n         <input class=\"bp3-input min\" id=\"bal\" max=\"99\" min=\"0\" name=\"bal\" placeholder=\"0\" size=\"2\" type=\"number\" value=\"\"/>\\n        </div>\\n        <div class=\"col col-1\">\\n        </div>\\n        <div class=\"col col-3\">\\n         <input class=\"bp3-input max\" id=\"bah\" max=\"99\" min=\"0\" name=\"bah\" placeholder=\"99\" size=\"2\" type=\"number\" value=\"\"/>\\n        </div>\\n       </div>\\n       <h5>\\n        Power\\n       </h5>\\n       <div class=\"half-spacing grid\">\\n        <div class=\"col col-9\">\\n         <label class=\"ellipsis\">\\n          Shot Power\\n         </label>\\n        </div>\\n        <div class=\"col col-3\">\\n         <input class=\"bp3-input min\" id=\"sol\" max=\"99\" min=\"0\" name=\"sol\" placeholder=\"0\" size=\"2\" type=\"number\" value=\"\"/>\\n        </div>\\n        <div class=\"col col-1\">\\n        </div>\\n        <div class=\"col col-3\">\\n         <input class=\"bp3-input max\" id=\"soh\" max=\"99\" min=\"0\" name=\"soh\" placeholder=\"99\" size=\"2\" type=\"number\" value=\"\"/>\\n        </div>\\n       </div>\\n       <div class=\"half-spacing grid\">\\n        <div class=\"col col-9\">\\n         <label class=\"ellipsis\">\\n          Jumping\\n         </label>\\n        </div>\\n        <div class=\"col col-3\">\\n         <input class=\"bp3-input min\" id=\"jul\" max=\"99\" min=\"0\" name=\"jul\" placeholder=\"0\" size=\"2\" type=\"number\" value=\"\"/>\\n        </div>\\n        <div class=\"col col-1\">\\n        </div>\\n        <div class=\"col col-3\">\\n         <input class=\"bp3-input max\" id=\"juh\" max=\"99\" min=\"0\" name=\"juh\" placeholder=\"99\" size=\"2\" type=\"number\" value=\"\"/>\\n        </div>\\n       </div>\\n       <div class=\"half-spacing grid\">\\n        <div class=\"col col-9\">\\n         <label class=\"ellipsis\">\\n          Stamina\\n         </label>\\n        </div>\\n        <div class=\"col col-3\">\\n         <input class=\"bp3-input min\" id=\"stl\" max=\"99\" min=\"0\" name=\"stl\" placeholder=\"0\" size=\"2\" type=\"number\" value=\"\"/>\\n        </div>\\n        <div class=\"col col-1\">\\n        </div>\\n        <div class=\"col col-3\">\\n         <input class=\"bp3-input max\" id=\"sth\" max=\"99\" min=\"0\" name=\"sth\" placeholder=\"99\" size=\"2\" type=\"number\" value=\"\"/>\\n        </div>\\n       </div>\\n       <div class=\"half-spacing grid\">\\n        <div class=\"col col-9\">\\n         <label class=\"ellipsis\">\\n          Strength\\n         </label>\\n        </div>\\n        <div class=\"col col-3\">\\n         <input class=\"bp3-input min\" id=\"srl\" max=\"99\" min=\"0\" name=\"srl\" placeholder=\"0\" size=\"2\" type=\"number\" value=\"\"/>\\n        </div>\\n        <div class=\"col col-1\">\\n        </div>\\n        <div class=\"col col-3\">\\n         <input class=\"bp3-input max\" id=\"srh\" max=\"99\" min=\"0\" name=\"srh\" placeholder=\"99\" size=\"2\" type=\"number\" value=\"\"/>\\n        </div>\\n       </div>\\n       <div class=\"spacing grid\">\\n        <div class=\"col col-9\">\\n         <label class=\"ellipsis\">\\n          Long Shots\\n         </label>\\n        </div>\\n        <div class=\"col col-3\">\\n         <input class=\"bp3-input min\" id=\"lnl\" max=\"99\" min=\"0\" name=\"lnl\" placeholder=\"0\" size=\"2\" type=\"number\" value=\"\"/>\\n        </div>\\n        <div class=\"col col-1\">\\n        </div>\\n        <div class=\"col col-3\">\\n         <input class=\"bp3-input max\" id=\"lnh\" max=\"99\" min=\"0\" name=\"lnh\" placeholder=\"99\" size=\"2\" type=\"number\" value=\"\"/>\\n        </div>\\n       </div>\\n       <h5>\\n        Mentality\\n       </h5>\\n       <div class=\"half-spacing grid\">\\n        <div class=\"col col-9\">\\n         <label class=\"ellipsis\">\\n          Aggression\\n         </label>\\n        </div>\\n        <div class=\"col col-3\">\\n         <input class=\"bp3-input min\" id=\"arl\" max=\"99\" min=\"0\" name=\"arl\" placeholder=\"0\" size=\"2\" type=\"number\" value=\"\"/>\\n        </div>\\n        <div class=\"col col-1\">\\n        </div>\\n        <div class=\"col col-3\">\\n         <input class=\"bp3-input max\" id=\"arh\" max=\"99\" min=\"0\" name=\"arh\" placeholder=\"99\" size=\"2\" type=\"number\" value=\"\"/>\\n        </div>\\n       </div>\\n       <div class=\"half-spacing grid\">\\n        <div class=\"col col-9\">\\n         <label class=\"ellipsis\">\\n          Interceptions\\n         </label>\\n        </div>\\n        <div class=\"col col-3\">\\n         <input class=\"bp3-input min\" id=\"inl\" max=\"99\" min=\"0\" name=\"inl\" placeholder=\"0\" size=\"2\" type=\"number\" value=\"\"/>\\n        </div>\\n        <div class=\"col col-1\">\\n        </div>\\n        <div class=\"col col-3\">\\n         <input class=\"bp3-input max\" id=\"inh\" max=\"99\" min=\"0\" name=\"inh\" placeholder=\"99\" size=\"2\" type=\"number\" value=\"\"/>\\n        </div>\\n       </div>\\n       <div class=\"half-spacing grid\">\\n        <div class=\"col col-9\">\\n         <label class=\"ellipsis\">\\n          Positioning\\n         </label>\\n        </div>\\n        <div class=\"col col-3\">\\n         <input class=\"bp3-input min\" id=\"pol\" max=\"99\" min=\"0\" name=\"pol\" placeholder=\"0\" size=\"2\" type=\"number\" value=\"\"/>\\n        </div>\\n        <div class=\"col col-1\">\\n        </div>\\n        <div class=\"col col-3\">\\n         <input class=\"bp3-input max\" id=\"poh\" max=\"99\" min=\"0\" name=\"poh\" placeholder=\"99\" size=\"2\" type=\"number\" value=\"\"/>\\n        </div>\\n       </div>\\n       <div class=\"half-spacing grid\">\\n        <div class=\"col col-9\">\\n         <label class=\"ellipsis\">\\n          Vision\\n         </label>\\n        </div>\\n        <div class=\"col col-3\">\\n         <input class=\"bp3-input min\" id=\"vil\" max=\"99\" min=\"0\" name=\"vil\" placeholder=\"0\" size=\"2\" type=\"number\" value=\"\"/>\\n        </div>\\n        <div class=\"col col-1\">\\n        </div>\\n        <div class=\"col col-3\">\\n         <input class=\"bp3-input max\" id=\"vih\" max=\"99\" min=\"0\" name=\"vih\" placeholder=\"99\" size=\"2\" type=\"number\" value=\"\"/>\\n        </div>\\n       </div>\\n       <div class=\"half-spacing grid\">\\n        <div class=\"col col-9\">\\n         <label class=\"ellipsis\">\\n          Penalties\\n         </label>\\n        </div>\\n        <div class=\"col col-3\">\\n         <input class=\"bp3-input min\" id=\"pel\" max=\"99\" min=\"0\" name=\"pel\" placeholder=\"0\" size=\"2\" type=\"number\" value=\"\"/>\\n        </div>\\n        <div class=\"col col-1\">\\n        </div>\\n        <div class=\"col col-3\">\\n         <input class=\"bp3-input max\" id=\"peh\" max=\"99\" min=\"0\" name=\"peh\" placeholder=\"99\" size=\"2\" type=\"number\" value=\"\"/>\\n        </div>\\n       </div>\\n       <div class=\"spacing grid\">\\n        <div class=\"col col-9\">\\n         <label class=\"ellipsis\">\\n          Composure\\n         </label>\\n        </div>\\n        <div class=\"col col-3\">\\n         <input class=\"bp3-input min\" id=\"cml\" max=\"99\" min=\"0\" name=\"cml\" placeholder=\"0\" size=\"2\" type=\"number\" value=\"\"/>\\n        </div>\\n        <div class=\"col col-1\">\\n        </div>\\n        <div class=\"col col-3\">\\n         <input class=\"bp3-input max\" id=\"cmh\" max=\"99\" min=\"0\" name=\"cmh\" placeholder=\"99\" size=\"2\" type=\"number\" value=\"\"/>\\n        </div>\\n       </div>\\n       <h5>\\n        Defending\\n       </h5>\\n       <div class=\"half-spacing grid\">\\n        <div class=\"col col-9\">\\n         <label class=\"ellipsis\">\\n          Defensive Awareness\\n         </label>\\n        </div>\\n        <div class=\"col col-3\">\\n         <input class=\"bp3-input min\" id=\"mal\" max=\"99\" min=\"0\" name=\"mal\" placeholder=\"0\" size=\"2\" type=\"number\" value=\"\"/>\\n        </div>\\n        <div class=\"col col-1\">\\n        </div>\\n        <div class=\"col col-3\">\\n         <input class=\"bp3-input max\" id=\"mah\" max=\"99\" min=\"0\" name=\"mah\" placeholder=\"99\" size=\"2\" type=\"number\" value=\"\"/>\\n        </div>\\n       </div>\\n       <div class=\"half-spacing grid\">\\n        <div class=\"col col-9\">\\n         <label class=\"ellipsis\">\\n          Standing Tackle\\n         </label>\\n        </div>\\n        <div class=\"col col-3\">\\n         <input class=\"bp3-input min\" id=\"sal\" max=\"99\" min=\"0\" name=\"sal\" placeholder=\"0\" size=\"2\" type=\"number\" value=\"\"/>\\n        </div>\\n        <div class=\"col col-1\">\\n        </div>\\n        <div class=\"col col-3\">\\n         <input class=\"bp3-input max\" id=\"sah\" max=\"99\" min=\"0\" name=\"sah\" placeholder=\"99\" size=\"2\" type=\"number\" value=\"\"/>\\n        </div>\\n       </div>\\n       <div class=\"half-spacing grid\">\\n        <div class=\"col col-9\">\\n         <label class=\"ellipsis\">\\n          Sliding Tackle\\n         </label>\\n        </div>\\n        <div class=\"col col-3\">\\n         <input class=\"bp3-input min\" id=\"sll\" max=\"99\" min=\"0\" name=\"sll\" placeholder=\"0\" size=\"2\" type=\"number\" value=\"\"/>\\n        </div>\\n        <div class=\"col col-1\">\\n        </div>\\n        <div class=\"col col-3\">\\n         <input class=\"bp3-input max\" id=\"slh\" max=\"99\" min=\"0\" name=\"slh\" placeholder=\"99\" size=\"2\" type=\"number\" value=\"\"/>\\n        </div>\\n       </div>\\n       <div class=\"text-right\">\\n        <button class=\"bp3-button bp3-intent-primary bp3-fill\" type=\"submit\">\\n         Submit\\n        </button>\\n       </div>\\n      </div>\\n      <div class=\"card\">\\n       <div id=\"filter-gk\">\\n        <h5>\\n         Goalkeeping\\n        </h5>\\n        <div class=\"half-spacing grid\">\\n         <div class=\"col col-9\">\\n          <label class=\"ellipsis\">\\n           GK Diving\\n          </label>\\n         </div>\\n         <div class=\"col col-3\">\\n          <input class=\"bp3-input min\" id=\"gdl\" max=\"99\" min=\"0\" name=\"gdl\" placeholder=\"0\" size=\"2\" type=\"number\" value=\"\"/>\\n         </div>\\n         <div class=\"col col-1\">\\n         </div>\\n         <div class=\"col col-3\">\\n          <input class=\"bp3-input max\" id=\"gdh\" max=\"99\" min=\"0\" name=\"gdh\" placeholder=\"99\" size=\"2\" type=\"number\" value=\"\"/>\\n         </div>\\n        </div>\\n       </div>\\n       <div class=\"half-spacing grid\">\\n        <div class=\"col col-9\">\\n         <label class=\"ellipsis\">\\n          GK Handling\\n         </label>\\n        </div>\\n        <div class=\"col col-3\">\\n         <input class=\"bp3-input min\" id=\"ghl\" max=\"99\" min=\"0\" name=\"ghl\" placeholder=\"0\" size=\"2\" type=\"number\" value=\"\"/>\\n        </div>\\n        <div class=\"col col-1\">\\n        </div>\\n        <div class=\"col col-3\">\\n         <input class=\"bp3-input max\" id=\"ghh\" max=\"99\" min=\"0\" name=\"ghh\" placeholder=\"99\" size=\"2\" type=\"number\" value=\"\"/>\\n        </div>\\n       </div>\\n       <div class=\"half-spacing grid\">\\n        <div class=\"col col-9\">\\n         <label class=\"ellipsis\">\\n          GK Kicking\\n         </label>\\n        </div>\\n        <div class=\"col col-3\">\\n         <input class=\"bp3-input min\" id=\"gkl\" max=\"99\" min=\"0\" name=\"gkl\" placeholder=\"0\" size=\"2\" type=\"number\" value=\"\"/>\\n        </div>\\n        <div class=\"col col-1\">\\n        </div>\\n        <div class=\"col col-3\">\\n         <input class=\"bp3-input max\" id=\"gkh\" max=\"99\" min=\"0\" name=\"gkh\" placeholder=\"99\" size=\"2\" type=\"number\" value=\"\"/>\\n        </div>\\n       </div>\\n       <div class=\"half-spacing grid\">\\n        <div class=\"col col-9\">\\n         <label class=\"ellipsis\">\\n          GK Positioning\\n         </label>\\n        </div>\\n        <div class=\"col col-3\">\\n         <input class=\"bp3-input min\" id=\"gpl\" max=\"99\" min=\"0\" name=\"gpl\" placeholder=\"0\" size=\"2\" type=\"number\" value=\"\"/>\\n        </div>\\n        <div class=\"col col-1\">\\n        </div>\\n        <div class=\"col col-3\">\\n         <input class=\"bp3-input max\" id=\"gph\" max=\"99\" min=\"0\" name=\"gph\" placeholder=\"99\" size=\"2\" type=\"number\" value=\"\"/>\\n        </div>\\n       </div>\\n       <div class=\"spacing grid\">\\n        <div class=\"col col-9\">\\n         <label class=\"ellipsis\">\\n          GK Reflexes\\n         </label>\\n        </div>\\n        <div class=\"col col-3\">\\n         <input class=\"bp3-input min\" id=\"grl\" max=\"99\" min=\"0\" name=\"grl\" placeholder=\"0\" size=\"2\" type=\"number\" value=\"\"/>\\n        </div>\\n        <div class=\"col col-1\">\\n        </div>\\n        <div class=\"col col-3\">\\n         <input class=\"bp3-input max\" id=\"grh\" max=\"99\" min=\"0\" name=\"grh\" placeholder=\"99\" size=\"2\" type=\"number\" value=\"\"/>\\n        </div>\\n       </div>\\n       <h5>\\n        Special\\n       </h5>\\n       <div class=\"half-spacing\">\\n        <select class=\"choices-multiple\" data-placeholder=\"Preferred Position 1\" multiple=\"\" name=\"pn1[]\">\\n         <option value=\"27\">\\n          LW\\n         </option>\\n         <option value=\"25\">\\n          ST\\n         </option>\\n         <option value=\"23\">\\n          RW\\n         </option>\\n         <option value=\"22\">\\n          LF\\n         </option>\\n         <option value=\"21\">\\n          CF\\n         </option>\\n         <option value=\"20\">\\n          RF\\n         </option>\\n         <option value=\"18\">\\n          CAM\\n         </option>\\n         <option value=\"16\">\\n          LM\\n         </option>\\n         <option value=\"14\">\\n          CM\\n         </option>\\n         <option value=\"12\">\\n          RM\\n         </option>\\n         <option value=\"10\">\\n          CDM\\n         </option>\\n         <option value=\"8\">\\n          LWB\\n         </option>\\n         <option value=\"7\">\\n          LB\\n         </option>\\n         <option value=\"5\">\\n          CB\\n         </option>\\n         <option value=\"3\">\\n          RB\\n         </option>\\n         <option value=\"2\">\\n          RWB\\n         </option>\\n         <option value=\"0\">\\n          GK\\n         </option>\\n        </select>\\n       </div>\\n       <div class=\"half-spacing\">\\n        <select class=\"choices-multiple\" data-placeholder=\"Preferred Position 2\" multiple=\"\" name=\"pn2[]\">\\n         <option value=\"27\">\\n          LW\\n         </option>\\n         <option value=\"25\">\\n          ST\\n         </option>\\n         <option value=\"23\">\\n          RW\\n         </option>\\n         <option value=\"22\">\\n          LF\\n         </option>\\n         <option value=\"21\">\\n          CF\\n         </option>\\n         <option value=\"20\">\\n          RF\\n         </option>\\n         <option value=\"18\">\\n          CAM\\n         </option>\\n         <option value=\"16\">\\n          LM\\n         </option>\\n         <option value=\"14\">\\n          CM\\n         </option>\\n         <option value=\"12\">\\n          RM\\n         </option>\\n         <option value=\"10\">\\n          CDM\\n         </option>\\n         <option value=\"8\">\\n          LWB\\n         </option>\\n         <option value=\"7\">\\n          LB\\n         </option>\\n         <option value=\"5\">\\n          CB\\n         </option>\\n         <option value=\"3\">\\n          RB\\n         </option>\\n         <option value=\"2\">\\n          RWB\\n         </option>\\n         <option value=\"0\">\\n          GK\\n         </option>\\n        </select>\\n       </div>\\n       <div class=\"half-spacing\">\\n        <select class=\"choices-multiple\" data-placeholder=\"Preferred Position 3\" multiple=\"\" name=\"pn3[]\">\\n         <option value=\"27\">\\n          LW\\n         </option>\\n         <option value=\"25\">\\n          ST\\n         </option>\\n         <option value=\"23\">\\n          RW\\n         </option>\\n         <option value=\"22\">\\n          LF\\n         </option>\\n         <option value=\"21\">\\n          CF\\n         </option>\\n         <option value=\"20\">\\n          RF\\n         </option>\\n         <option value=\"18\">\\n          CAM\\n         </option>\\n         <option value=\"16\">\\n          LM\\n         </option>\\n         <option value=\"14\">\\n          CM\\n         </option>\\n         <option value=\"12\">\\n          RM\\n         </option>\\n         <option value=\"10\">\\n          CDM\\n         </option>\\n         <option value=\"8\">\\n          LWB\\n         </option>\\n         <option value=\"7\">\\n          LB\\n         </option>\\n         <option value=\"5\">\\n          CB\\n         </option>\\n         <option value=\"3\">\\n          RB\\n         </option>\\n         <option value=\"2\">\\n          RWB\\n         </option>\\n         <option value=\"0\">\\n          GK\\n         </option>\\n        </select>\\n       </div>\\n       <div class=\"half-spacing\">\\n        <select class=\"choices-multiple\" data-placeholder=\"Preferred Position 4\" multiple=\"\" name=\"pn4[]\">\\n         <option value=\"27\">\\n          LW\\n         </option>\\n         <option value=\"25\">\\n          ST\\n         </option>\\n         <option value=\"23\">\\n          RW\\n         </option>\\n         <option value=\"22\">\\n          LF\\n         </option>\\n         <option value=\"21\">\\n          CF\\n         </option>\\n         <option value=\"20\">\\n          RF\\n         </option>\\n         <option value=\"18\">\\n          CAM\\n         </option>\\n         <option value=\"16\">\\n          LM\\n         </option>\\n         <option value=\"14\">\\n          CM\\n         </option>\\n         <option value=\"12\">\\n          RM\\n         </option>\\n         <option value=\"10\">\\n          CDM\\n         </option>\\n         <option value=\"8\">\\n          LWB\\n         </option>\\n         <option value=\"7\">\\n          LB\\n         </option>\\n         <option value=\"5\">\\n          CB\\n         </option>\\n         <option value=\"3\">\\n          RB\\n         </option>\\n         <option value=\"2\">\\n          RWB\\n         </option>\\n         <option value=\"0\">\\n          GK\\n         </option>\\n        </select>\\n       </div>\\n       <div class=\"half-spacing grid\">\\n        <div class=\"col col-9\">\\n         <label class=\"ellipsis\">\\n          Growth\\n         </label>\\n        </div>\\n        <div class=\"col col-3\">\\n         <input class=\"bp3-input min\" id=\"gul\" max=\"99\" min=\"0\" name=\"gul\" placeholder=\"0\" size=\"2\" type=\"number\" value=\"\"/>\\n        </div>\\n        <div class=\"col col-1\">\\n        </div>\\n        <div class=\"col col-3\">\\n         <input class=\"bp3-input max\" id=\"guh\" max=\"99\" min=\"0\" name=\"guh\" placeholder=\"99\" size=\"2\" type=\"number\" value=\"\"/>\\n        </div>\\n       </div>\\n       <div class=\"half-spacing grid\">\\n        <div class=\"col col-9\">\\n         <label class=\"ellipsis\">\\n          Contract Valid Until\\n         </label>\\n        </div>\\n        <div class=\"col col-3\">\\n         <input class=\"bp3-input min\" id=\"cvl\" max=\"2050\" min=\"2000\" name=\"cvl\" placeholder=\"2000\" size=\"2\" type=\"number\" value=\"\"/>\\n        </div>\\n        <div class=\"col col-1\">\\n        </div>\\n        <div class=\"col col-3\">\\n         <input class=\"bp3-input max\" id=\"cvh\" max=\"2050\" min=\"2000\" name=\"cvh\" placeholder=\"2050\" size=\"2\" type=\"number\" value=\"\"/>\\n        </div>\\n       </div>\\n       <div class=\"half-spacing grid\">\\n        <div class=\"col col-12\">\\n         <select class=\"choices-single\" name=\"jd\">\\n          <option value=\"\">\\n           Joined Day\\n          </option>\\n          <option value=\"31\">\\n           31\\n          </option>\\n          <option value=\"30\">\\n           30\\n          </option>\\n          <option value=\"29\">\\n           29\\n          </option>\\n          <option value=\"28\">\\n           28\\n          </option>\\n          <option value=\"27\">\\n           27\\n          </option>\\n          <option value=\"26\">\\n           26\\n          </option>\\n          <option value=\"25\">\\n           25\\n          </option>\\n          <option value=\"24\">\\n           24\\n          </option>\\n          <option value=\"23\">\\n           23\\n          </option>\\n          <option value=\"22\">\\n           22\\n          </option>\\n          <option value=\"21\">\\n           21\\n          </option>\\n          <option value=\"20\">\\n           20\\n          </option>\\n          <option value=\"19\">\\n           19\\n          </option>\\n          <option value=\"18\">\\n           18\\n          </option>\\n          <option value=\"17\">\\n           17\\n          </option>\\n          <option value=\"16\">\\n           16\\n          </option>\\n          <option value=\"15\">\\n           15\\n          </option>\\n          <option value=\"14\">\\n           14\\n          </option>\\n          <option value=\"13\">\\n           13\\n          </option>\\n          <option value=\"12\">\\n           12\\n          </option>\\n          <option value=\"11\">\\n           11\\n          </option>\\n          <option value=\"10\">\\n           10\\n          </option>\\n          <option value=\"9\">\\n           9\\n          </option>\\n          <option value=\"8\">\\n           8\\n          </option>\\n          <option value=\"7\">\\n           7\\n          </option>\\n          <option value=\"6\">\\n           6\\n          </option>\\n          <option value=\"5\">\\n           5\\n          </option>\\n          <option value=\"4\">\\n           4\\n          </option>\\n          <option value=\"3\">\\n           3\\n          </option>\\n          <option value=\"2\">\\n           2\\n          </option>\\n          <option value=\"1\">\\n           1\\n          </option>\\n         </select>\\n        </div>\\n        <div class=\"col col-1\">\\n        </div>\\n        <div class=\"col col-12\">\\n         <select class=\"choices-single\" name=\"jm\">\\n          <option value=\"\">\\n           Joined Month\\n          </option>\\n          <option value=\"12\">\\n           December\\n          </option>\\n          <option value=\"11\">\\n           November\\n          </option>\\n          <option value=\"10\">\\n           October\\n          </option>\\n          <option value=\"9\">\\n           September\\n          </option>\\n          <option value=\"8\">\\n           August\\n          </option>\\n          <option value=\"7\">\\n           July\\n          </option>\\n          <option value=\"6\">\\n           June\\n          </option>\\n          <option value=\"5\">\\n           May\\n          </option>\\n          <option value=\"4\">\\n           April\\n          </option>\\n          <option value=\"3\">\\n           March\\n          </option>\\n          <option value=\"2\">\\n           February\\n          </option>\\n          <option value=\"1\">\\n           January\\n          </option>\\n         </select>\\n        </div>\\n        <div class=\"col col-1\">\\n        </div>\\n        <div class=\"col col-12\">\\n         <select class=\"choices-single\" name=\"jy\">\\n          <option value=\"\">\\n           Joined Year\\n          </option>\\n          <option value=\"2023\">\\n           2023\\n          </option>\\n          <option value=\"2022\">\\n           2022\\n          </option>\\n          <option value=\"2021\">\\n           2021\\n          </option>\\n          <option value=\"2020\">\\n           2020\\n          </option>\\n          <option value=\"2019\">\\n           2019\\n          </option>\\n          <option value=\"2018\">\\n           2018\\n          </option>\\n          <option value=\"2017\">\\n           2017\\n          </option>\\n          <option value=\"2016\">\\n           2016\\n          </option>\\n          <option value=\"2015\">\\n           2015\\n          </option>\\n          <option value=\"2014\">\\n           2014\\n          </option>\\n          <option value=\"2013\">\\n           2013\\n          </option>\\n          <option value=\"2012\">\\n           2012\\n          </option>\\n          <option value=\"2011\">\\n           2011\\n          </option>\\n          <option value=\"2010\">\\n           2010\\n          </option>\\n          <option value=\"2009\">\\n           2009\\n          </option>\\n          <option value=\"2008\">\\n           2008\\n          </option>\\n          <option value=\"2007\">\\n           2007\\n          </option>\\n          <option value=\"2006\">\\n           2006\\n          </option>\\n          <option value=\"2005\">\\n           2005\\n          </option>\\n          <option value=\"2004\">\\n           2004\\n          </option>\\n          <option value=\"2003\">\\n           2003\\n          </option>\\n          <option value=\"2002\">\\n           2002\\n          </option>\\n          <option value=\"2001\">\\n           2001\\n          </option>\\n          <option value=\"2000\">\\n           2000\\n          </option>\\n          <option value=\"1999\">\\n           1999\\n          </option>\\n          <option value=\"1998\">\\n           1998\\n          </option>\\n          <option value=\"1997\">\\n           1997\\n          </option>\\n          <option value=\"1996\">\\n           1996\\n          </option>\\n          <option value=\"1995\">\\n           1995\\n          </option>\\n          <option value=\"1994\">\\n           1994\\n          </option>\\n          <option value=\"1993\">\\n           1993\\n          </option>\\n          <option value=\"1992\">\\n           1992\\n          </option>\\n          <option value=\"1991\">\\n           1991\\n          </option>\\n          <option value=\"1990\">\\n           1990\\n          </option>\\n          <option value=\"1989\">\\n           1989\\n          </option>\\n          <option value=\"1988\">\\n           1988\\n          </option>\\n          <option value=\"1987\">\\n           1987\\n          </option>\\n          <option value=\"1986\">\\n           1986\\n          </option>\\n          <option value=\"1985\">\\n           1985\\n          </option>\\n          <option value=\"1984\">\\n           1984\\n          </option>\\n          <option value=\"1983\">\\n           1983\\n          </option>\\n          <option value=\"1982\">\\n           1982\\n          </option>\\n          <option value=\"1981\">\\n           1981\\n          </option>\\n         </select>\\n        </div>\\n       </div>\\n       <div class=\"half-spacing\">\\n        <select class=\"choices-multiple\" data-placeholder=\"Attacking Work Rate\" multiple=\"\" name=\"aw[]\">\\n         <option value=\"1\">\\n          Low\\n         </option>\\n         <option value=\"0\">\\n          Medium\\n         </option>\\n         <option value=\"2\">\\n          High\\n         </option>\\n        </select>\\n       </div>\\n       <div class=\"half-spacing\">\\n        <select class=\"choices-multiple\" data-placeholder=\"Defensive Work Rate\" multiple=\"\" name=\"dw[]\">\\n         <option value=\"1\">\\n          Low\\n         </option>\\n         <option value=\"0\">\\n          Medium\\n         </option>\\n         <option value=\"2\">\\n          High\\n         </option>\\n        </select>\\n       </div>\\n       <div class=\"half-spacing\">\\n        <select class=\"choices-multiple\" data-placeholder=\"International Reputation\" multiple=\"\" name=\"ir[]\">\\n         <option value=\"1\">\\n          1 ★\\n         </option>\\n         <option value=\"2\">\\n          2 ★\\n         </option>\\n         <option value=\"3\">\\n          3 ★\\n         </option>\\n         <option value=\"4\">\\n          4 ★\\n         </option>\\n         <option value=\"5\">\\n          5 ★\\n         </option>\\n        </select>\\n       </div>\\n       <div class=\"half-spacing\">\\n        <select class=\"choices-multiple\" data-placeholder=\"Real Face\" multiple=\"\" name=\"hc[]\">\\n         <option value=\"0\">\\n          Yes\\n         </option>\\n         <option value=\"1\">\\n          No\\n         </option>\\n        </select>\\n       </div>\\n       <div class=\"half-spacing grid\">\\n        <div class=\"col col-12\">\\n         <select class=\"choices-single\" name=\"bd\">\\n          <option value=\"\">\\n           Birth Day\\n          </option>\\n          <option value=\"31\">\\n           31\\n          </option>\\n          <option value=\"30\">\\n           30\\n          </option>\\n          <option value=\"29\">\\n           29\\n          </option>\\n          <option value=\"28\">\\n           28\\n          </option>\\n          <option value=\"27\">\\n           27\\n          </option>\\n          <option value=\"26\">\\n           26\\n          </option>\\n          <option value=\"25\">\\n           25\\n          </option>\\n          <option value=\"24\">\\n           24\\n          </option>\\n          <option value=\"23\">\\n           23\\n          </option>\\n          <option value=\"22\">\\n           22\\n          </option>\\n          <option value=\"21\">\\n           21\\n          </option>\\n          <option value=\"20\">\\n           20\\n          </option>\\n          <option value=\"19\">\\n           19\\n          </option>\\n          <option value=\"18\">\\n           18\\n          </option>\\n          <option value=\"17\">\\n           17\\n          </option>\\n          <option value=\"16\">\\n           16\\n          </option>\\n          <option value=\"15\">\\n           15\\n          </option>\\n          <option value=\"14\">\\n           14\\n          </option>\\n          <option value=\"13\">\\n           13\\n          </option>\\n          <option value=\"12\">\\n           12\\n          </option>\\n          <option value=\"11\">\\n           11\\n          </option>\\n          <option value=\"10\">\\n           10\\n          </option>\\n          <option value=\"9\">\\n           9\\n          </option>\\n          <option value=\"8\">\\n           8\\n          </option>\\n          <option value=\"7\">\\n           7\\n          </option>\\n          <option value=\"6\">\\n           6\\n          </option>\\n          <option value=\"5\">\\n           5\\n          </option>\\n          <option value=\"4\">\\n           4\\n          </option>\\n          <option value=\"3\">\\n           3\\n          </option>\\n          <option value=\"2\">\\n           2\\n          </option>\\n          <option value=\"1\">\\n           1\\n          </option>\\n         </select>\\n        </div>\\n        <div class=\"col col-1\">\\n        </div>\\n        <div class=\"col col-12\">\\n         <select class=\"choices-single\" name=\"bm\">\\n          <option value=\"\">\\n           Birth Month\\n          </option>\\n          <option value=\"12\">\\n           December\\n          </option>\\n          <option value=\"11\">\\n           November\\n          </option>\\n          <option value=\"10\">\\n           October\\n          </option>\\n          <option value=\"9\">\\n           September\\n          </option>\\n          <option value=\"8\">\\n           August\\n          </option>\\n          <option value=\"7\">\\n           July\\n          </option>\\n          <option value=\"6\">\\n           June\\n          </option>\\n          <option value=\"5\">\\n           May\\n          </option>\\n          <option value=\"4\">\\n           April\\n          </option>\\n          <option value=\"3\">\\n           March\\n          </option>\\n          <option value=\"2\">\\n           February\\n          </option>\\n          <option value=\"1\">\\n           January\\n          </option>\\n         </select>\\n        </div>\\n        <div class=\"col col-1\">\\n        </div>\\n        <div class=\"col col-12\">\\n         <select class=\"choices-single\" name=\"by\">\\n          <option value=\"\">\\n           Birth Year\\n          </option>\\n          <option value=\"2013\">\\n           2013\\n          </option>\\n          <option value=\"2012\">\\n           2012\\n          </option>\\n          <option value=\"2011\">\\n           2011\\n          </option>\\n          <option value=\"2010\">\\n           2010\\n          </option>\\n          <option value=\"2009\">\\n           2009\\n          </option>\\n          <option value=\"2008\">\\n           2008\\n          </option>\\n          <option value=\"2007\">\\n           2007\\n          </option>\\n          <option value=\"2006\">\\n           2006\\n          </option>\\n          <option value=\"2005\">\\n           2005\\n          </option>\\n          <option value=\"2004\">\\n           2004\\n          </option>\\n          <option value=\"2003\">\\n           2003\\n          </option>\\n          <option value=\"2002\">\\n           2002\\n          </option>\\n          <option value=\"2001\">\\n           2001\\n          </option>\\n          <option value=\"2000\">\\n           2000\\n          </option>\\n          <option value=\"1999\">\\n           1999\\n          </option>\\n          <option value=\"1998\">\\n           1998\\n          </option>\\n          <option value=\"1997\">\\n           1997\\n          </option>\\n          <option value=\"1996\">\\n           1996\\n          </option>\\n          <option value=\"1995\">\\n           1995\\n          </option>\\n          <option value=\"1994\">\\n           1994\\n          </option>\\n          <option value=\"1993\">\\n           1993\\n          </option>\\n          <option value=\"1992\">\\n           1992\\n          </option>\\n          <option value=\"1991\">\\n           1991\\n          </option>\\n          <option value=\"1990\">\\n           1990\\n          </option>\\n          <option value=\"1989\">\\n           1989\\n          </option>\\n          <option value=\"1988\">\\n           1988\\n          </option>\\n          <option value=\"1987\">\\n           1987\\n          </option>\\n          <option value=\"1986\">\\n           1986\\n          </option>\\n          <option value=\"1985\">\\n           1985\\n          </option>\\n          <option value=\"1984\">\\n           1984\\n          </option>\\n          <option value=\"1983\">\\n           1983\\n          </option>\\n          <option value=\"1982\">\\n           1982\\n          </option>\\n          <option value=\"1981\">\\n           1981\\n          </option>\\n          <option value=\"1980\">\\n           1980\\n          </option>\\n          <option value=\"1979\">\\n           1979\\n          </option>\\n          <option value=\"1978\">\\n           1978\\n          </option>\\n          <option value=\"1977\">\\n           1977\\n          </option>\\n          <option value=\"1976\">\\n           1976\\n          </option>\\n          <option value=\"1975\">\\n           1975\\n          </option>\\n          <option value=\"1974\">\\n           1974\\n          </option>\\n          <option value=\"1973\">\\n           1973\\n          </option>\\n          <option value=\"1972\">\\n           1972\\n          </option>\\n          <option value=\"1971\">\\n           1971\\n          </option>\\n          <option value=\"1970\">\\n           1970\\n          </option>\\n          <option value=\"1969\">\\n           1969\\n          </option>\\n          <option value=\"1968\">\\n           1968\\n          </option>\\n          <option value=\"1967\">\\n           1967\\n          </option>\\n          <option value=\"1966\">\\n           1966\\n          </option>\\n          <option value=\"1965\">\\n           1965\\n          </option>\\n          <option value=\"1964\">\\n           1964\\n          </option>\\n          <option value=\"1963\">\\n           1963\\n          </option>\\n          <option value=\"1962\">\\n           1962\\n          </option>\\n          <option value=\"1961\">\\n           1961\\n          </option>\\n         </select>\\n        </div>\\n       </div>\\n       <div class=\"half-spacing\">\\n        <select class=\"choices-multiple\" data-placeholder=\"Body Type\" multiple=\"\" name=\"bt[]\">\\n         <option value=\"1\">\\n          Lean (170-185)\\n         </option>\\n         <option value=\"2\">\\n          Normal (170-185)\\n         </option>\\n         <option value=\"3\">\\n          Stocky (170-185)\\n         </option>\\n         <option value=\"4\">\\n          Lean (185+)\\n         </option>\\n         <option value=\"5\">\\n          Normal (185+)\\n         </option>\\n         <option value=\"6\">\\n          Stocky (185+)\\n         </option>\\n         <option value=\"7\">\\n          Lean (170-)\\n         </option>\\n         <option value=\"8\">\\n          Normal (170-)\\n         </option>\\n         <option value=\"9\">\\n          Stocky (170-)\\n         </option>\\n         <option value=\"0\">\\n          Unique\\n         </option>\\n        </select>\\n       </div>\\n       <div class=\"half-spacing\">\\n        <select class=\"choices-multiple\" data-placeholder=\"Traits\" multiple=\"\" name=\"t1[]\">\\n         <option value=\"1\">\\n          Long Throw-in\\n         </option>\\n         <option value=\"2\">\\n          Power Free-Kick\\n         </option>\\n         <option value=\"4\">\\n          Injury Prone\\n         </option>\\n         <option value=\"8\">\\n          Solid Player\\n         </option>\\n         <option value=\"16\">\\n          Dives Into Tackles (AI)\\n         </option>\\n         <option value=\"64\">\\n          Leadership\\n         </option>\\n         <option value=\"128\">\\n          Early Crosser\\n         </option>\\n         <option value=\"256\">\\n          Finesse Shot\\n         </option>\\n         <option value=\"512\">\\n          Flair\\n         </option>\\n         <option value=\"1024\">\\n          Long Passer (AI)\\n         </option>\\n         <option value=\"2048\">\\n          Long Shot Taker (AI)\\n         </option>\\n         <option value=\"4096\">\\n          Speed Dribbler (AI)\\n         </option>\\n         <option value=\"8192\">\\n          Playmaker (AI)\\n         </option>\\n         <option value=\"16384\">\\n          GK Long Throw\\n         </option>\\n         <option value=\"32768\">\\n          Power Header\\n         </option>\\n         <option value=\"65536\">\\n          Giant Throw-in\\n         </option>\\n         <option value=\"131072\">\\n          Outside Foot Shot\\n         </option>\\n         <option value=\"8388608\">\\n          One Club Player\\n         </option>\\n         <option value=\"16777216\">\\n          Team Player\\n         </option>\\n         <option value=\"33554432\">\\n          Chip Shot (AI)\\n         </option>\\n         <option value=\"67108864\">\\n          Technical Dribbler (AI)\\n         </option>\\n         <option value=\"134217728\">\\n          Rushes Out Of Goal\\n         </option>\\n         <option value=\"268435456\">\\n          Cautious With Crosses\\n         </option>\\n         <option value=\"536870912\">\\n          Comes For Crosses\\n         </option>\\n        </select>\\n       </div>\\n       <div class=\"half-spacing\">\\n        <select class=\"choices-multiple\" data-placeholder=\"Traits\" multiple=\"\" name=\"t2[]\">\\n         <option value=\"2\">\\n          Saves with Feet\\n         </option>\\n        </select>\\n       </div>\\n       <div class=\"half-spacing\">\\n        <select class=\"choices-multiple\" data-placeholder=\"Player Specialities\" multiple=\"\" name=\"sc[]\">\\n         <option value=\"1\">\\n          Poacher\\n         </option>\\n         <option value=\"2\">\\n          Speedster\\n         </option>\\n         <option value=\"4\">\\n          Aerial Threat\\n         </option>\\n         <option value=\"8\">\\n          Dribbler\\n         </option>\\n         <option value=\"16\">\\n          Playmaker\\n         </option>\\n         <option value=\"32\">\\n          Engine\\n         </option>\\n         <option value=\"64\">\\n          Distance Shooter\\n         </option>\\n         <option value=\"128\">\\n          Crosser\\n         </option>\\n         <option value=\"256\">\\n          FK Specialist\\n         </option>\\n         <option value=\"512\">\\n          Tackling\\n         </option>\\n         <option value=\"1024\">\\n          Tactician\\n         </option>\\n         <option value=\"2048\">\\n          Acrobat\\n         </option>\\n         <option value=\"4096\">\\n          Strength\\n         </option>\\n         <option value=\"8192\">\\n          Clinical Finisher\\n         </option>\\n         <option value=\"16384\">\\n          Complete Defender\\n         </option>\\n         <option value=\"32768\">\\n          Complete Midfielder\\n         </option>\\n         <option value=\"65536\">\\n          Complete Forward\\n         </option>\\n        </select>\\n       </div>\\n       <div class=\"half-spacing grid\">\\n        <div class=\"col col-9\">\\n         <label class=\"ellipsis\">\\n          LS ST RS\\n         </label>\\n        </div>\\n        <div class=\"col col-3\">\\n         <input class=\"bp3-input min\" id=\"rsl\" max=\"99\" min=\"0\" name=\"rsl\" placeholder=\"0\" size=\"2\" type=\"number\" value=\"\"/>\\n        </div>\\n        <div class=\"col col-1\">\\n        </div>\\n        <div class=\"col col-3\">\\n         <input class=\"bp3-input max\" id=\"rsh\" max=\"99\" min=\"0\" name=\"rsh\" placeholder=\"99\" size=\"2\" type=\"number\" value=\"\"/>\\n        </div>\\n       </div>\\n       <div class=\"half-spacing grid\">\\n        <div class=\"col col-9\">\\n         <label class=\"ellipsis\">\\n          LW RW\\n         </label>\\n        </div>\\n        <div class=\"col col-3\">\\n         <input class=\"bp3-input min\" id=\"rwl\" max=\"99\" min=\"0\" name=\"rwl\" placeholder=\"0\" size=\"2\" type=\"number\" value=\"\"/>\\n        </div>\\n        <div class=\"col col-1\">\\n        </div>\\n        <div class=\"col col-3\">\\n         <input class=\"bp3-input max\" id=\"rwh\" max=\"99\" min=\"0\" name=\"rwh\" placeholder=\"99\" size=\"2\" type=\"number\" value=\"\"/>\\n        </div>\\n       </div>\\n       <div class=\"half-spacing grid\">\\n        <div class=\"col col-9\">\\n         <label class=\"ellipsis\">\\n          LF CF RF\\n         </label>\\n        </div>\\n        <div class=\"col col-3\">\\n         <input class=\"bp3-input min\" id=\"rfl\" max=\"99\" min=\"0\" name=\"rfl\" placeholder=\"0\" size=\"2\" type=\"number\" value=\"\"/>\\n        </div>\\n        <div class=\"col col-1\">\\n        </div>\\n        <div class=\"col col-3\">\\n         <input class=\"bp3-input max\" id=\"rfh\" max=\"99\" min=\"0\" name=\"rfh\" placeholder=\"99\" size=\"2\" type=\"number\" value=\"\"/>\\n        </div>\\n       </div>\\n       <div class=\"half-spacing grid\">\\n        <div class=\"col col-9\">\\n         <label class=\"ellipsis\">\\n          LAM CAM RAM\\n         </label>\\n        </div>\\n        <div class=\"col col-3\">\\n         <input class=\"bp3-input min\" id=\"raml\" max=\"99\" min=\"0\" name=\"raml\" placeholder=\"0\" size=\"2\" type=\"number\" value=\"\"/>\\n        </div>\\n        <div class=\"col col-1\">\\n        </div>\\n        <div class=\"col col-3\">\\n         <input class=\"bp3-input max\" id=\"ramh\" max=\"99\" min=\"0\" name=\"ramh\" placeholder=\"99\" size=\"2\" type=\"number\" value=\"\"/>\\n        </div>\\n       </div>\\n       <div class=\"half-spacing grid\">\\n        <div class=\"col col-9\">\\n         <label class=\"ellipsis\">\\n          LCM CM RCM\\n         </label>\\n        </div>\\n        <div class=\"col col-3\">\\n         <input class=\"bp3-input min\" id=\"rcml\" max=\"99\" min=\"0\" name=\"rcml\" placeholder=\"0\" size=\"2\" type=\"number\" value=\"\"/>\\n        </div>\\n        <div class=\"col col-1\">\\n        </div>\\n        <div class=\"col col-3\">\\n         <input class=\"bp3-input max\" id=\"rcmh\" max=\"99\" min=\"0\" name=\"rcmh\" placeholder=\"99\" size=\"2\" type=\"number\" value=\"\"/>\\n        </div>\\n       </div>\\n       <div class=\"half-spacing grid\">\\n        <div class=\"col col-9\">\\n         <label class=\"ellipsis\">\\n          LM RM\\n         </label>\\n        </div>\\n        <div class=\"col col-3\">\\n         <input class=\"bp3-input min\" id=\"rml\" max=\"99\" min=\"0\" name=\"rml\" placeholder=\"0\" size=\"2\" type=\"number\" value=\"\"/>\\n        </div>\\n        <div class=\"col col-1\">\\n        </div>\\n        <div class=\"col col-3\">\\n         <input class=\"bp3-input max\" id=\"rmh\" max=\"99\" min=\"0\" name=\"rmh\" placeholder=\"99\" size=\"2\" type=\"number\" value=\"\"/>\\n        </div>\\n       </div>\\n       <div class=\"half-spacing grid\">\\n        <div class=\"col col-9\">\\n         <label class=\"ellipsis\">\\n          LDM CDM RDM\\n         </label>\\n        </div>\\n        <div class=\"col col-3\">\\n         <input class=\"bp3-input min\" id=\"rdml\" max=\"99\" min=\"0\" name=\"rdml\" placeholder=\"0\" size=\"2\" type=\"number\" value=\"\"/>\\n        </div>\\n        <div class=\"col col-1\">\\n        </div>\\n        <div class=\"col col-3\">\\n         <input class=\"bp3-input max\" id=\"rdmh\" max=\"99\" min=\"0\" name=\"rdmh\" placeholder=\"99\" size=\"2\" type=\"number\" value=\"\"/>\\n        </div>\\n       </div>\\n       <div class=\"half-spacing grid\">\\n        <div class=\"col col-9\">\\n         <label class=\"ellipsis\">\\n          LCB CB RCB\\n         </label>\\n        </div>\\n        <div class=\"col col-3\">\\n         <input class=\"bp3-input min\" id=\"rcbl\" max=\"99\" min=\"0\" name=\"rcbl\" placeholder=\"0\" size=\"2\" type=\"number\" value=\"\"/>\\n        </div>\\n        <div class=\"col col-1\">\\n        </div>\\n        <div class=\"col col-3\">\\n         <input class=\"bp3-input max\" id=\"rcbh\" max=\"99\" min=\"0\" name=\"rcbh\" placeholder=\"99\" size=\"2\" type=\"number\" value=\"\"/>\\n        </div>\\n       </div>\\n       <div class=\"half-spacing grid\">\\n        <div class=\"col col-9\">\\n         <label class=\"ellipsis\">\\n          LB RB\\n         </label>\\n        </div>\\n        <div class=\"col col-3\">\\n         <input class=\"bp3-input min\" id=\"rbl\" max=\"99\" min=\"0\" name=\"rbl\" placeholder=\"0\" size=\"2\" type=\"number\" value=\"\"/>\\n        </div>\\n        <div class=\"col col-1\">\\n        </div>\\n        <div class=\"col col-3\">\\n         <input class=\"bp3-input max\" id=\"rbh\" max=\"99\" min=\"0\" name=\"rbh\" placeholder=\"99\" size=\"2\" type=\"number\" value=\"\"/>\\n        </div>\\n       </div>\\n       <div class=\"half-spacing grid\">\\n        <div class=\"col col-9\">\\n         <label class=\"ellipsis\">\\n          LWB RWB\\n         </label>\\n        </div>\\n        <div class=\"col col-3\">\\n         <input class=\"bp3-input min\" id=\"rwbl\" max=\"99\" min=\"0\" name=\"rwbl\" placeholder=\"0\" size=\"2\" type=\"number\" value=\"\"/>\\n        </div>\\n        <div class=\"col col-1\">\\n        </div>\\n        <div class=\"col col-3\">\\n         <input class=\"bp3-input max\" id=\"rwbh\" max=\"99\" min=\"0\" name=\"rwbh\" placeholder=\"99\" size=\"2\" type=\"number\" value=\"\"/>\\n        </div>\\n       </div>\\n       <div class=\"half-spacing grid\">\\n        <div class=\"col col-9\">\\n         <label class=\"ellipsis\">\\n          PAC / DIV\\n         </label>\\n        </div>\\n        <div class=\"col col-3\">\\n         <input class=\"bp3-input min\" id=\"pacl\" max=\"99\" min=\"0\" name=\"pacl\" placeholder=\"0\" size=\"2\" type=\"number\" value=\"\"/>\\n        </div>\\n        <div class=\"col col-1\">\\n        </div>\\n        <div class=\"col col-3\">\\n         <input class=\"bp3-input max\" id=\"pach\" max=\"99\" min=\"0\" name=\"pach\" placeholder=\"99\" size=\"2\" type=\"number\" value=\"\"/>\\n        </div>\\n       </div>\\n       <div class=\"half-spacing grid\">\\n        <div class=\"col col-9\">\\n         <label class=\"ellipsis\">\\n          SHO / HAN\\n         </label>\\n        </div>\\n        <div class=\"col col-3\">\\n         <input class=\"bp3-input min\" id=\"shol\" max=\"99\" min=\"0\" name=\"shol\" placeholder=\"0\" size=\"2\" type=\"number\" value=\"\"/>\\n        </div>\\n        <div class=\"col col-1\">\\n        </div>\\n        <div class=\"col col-3\">\\n         <input class=\"bp3-input max\" id=\"shoh\" max=\"99\" min=\"0\" name=\"shoh\" placeholder=\"99\" size=\"2\" type=\"number\" value=\"\"/>\\n        </div>\\n       </div>\\n       <div class=\"half-spacing grid\">\\n        <div class=\"col col-9\">\\n         <label class=\"ellipsis\">\\n          PAS / KIC\\n         </label>\\n        </div>\\n        <div class=\"col col-3\">\\n         <input class=\"bp3-input min\" id=\"pasl\" max=\"99\" min=\"0\" name=\"pasl\" placeholder=\"0\" size=\"2\" type=\"number\" value=\"\"/>\\n        </div>\\n        <div class=\"col col-1\">\\n        </div>\\n        <div class=\"col col-3\">\\n         <input class=\"bp3-input max\" id=\"pash\" max=\"99\" min=\"0\" name=\"pash\" placeholder=\"99\" size=\"2\" type=\"number\" value=\"\"/>\\n        </div>\\n       </div>\\n       <div class=\"half-spacing grid\">\\n        <div class=\"col col-9\">\\n         <label class=\"ellipsis\">\\n          DRI / REF\\n         </label>\\n        </div>\\n        <div class=\"col col-3\">\\n         <input class=\"bp3-input min\" id=\"dril\" max=\"99\" min=\"0\" name=\"dril\" placeholder=\"0\" size=\"2\" type=\"number\" value=\"\"/>\\n        </div>\\n        <div class=\"col col-1\">\\n        </div>\\n        <div class=\"col col-3\">\\n         <input class=\"bp3-input max\" id=\"drih\" max=\"99\" min=\"0\" name=\"drih\" placeholder=\"99\" size=\"2\" type=\"number\" value=\"\"/>\\n        </div>\\n       </div>\\n       <div class=\"half-spacing grid\">\\n        <div class=\"col col-9\">\\n         <label class=\"ellipsis\">\\n          DEF / SPD\\n         </label>\\n        </div>\\n        <div class=\"col col-3\">\\n         <input class=\"bp3-input min\" id=\"defl\" max=\"99\" min=\"0\" name=\"defl\" placeholder=\"0\" size=\"2\" type=\"number\" value=\"\"/>\\n        </div>\\n        <div class=\"col col-1\">\\n        </div>\\n        <div class=\"col col-3\">\\n         <input class=\"bp3-input max\" id=\"defh\" max=\"99\" min=\"0\" name=\"defh\" placeholder=\"99\" size=\"2\" type=\"number\" value=\"\"/>\\n        </div>\\n       </div>\\n       <div class=\"half-spacing grid\">\\n        <div class=\"col col-9\">\\n         <label class=\"ellipsis\">\\n          PHY / POS\\n         </label>\\n        </div>\\n        <div class=\"col col-3\">\\n         <input class=\"bp3-input min\" id=\"phyl\" max=\"99\" min=\"0\" name=\"phyl\" placeholder=\"0\" size=\"2\" type=\"number\" value=\"\"/>\\n        </div>\\n        <div class=\"col col-1\">\\n        </div>\\n        <div class=\"col col-3\">\\n         <input class=\"bp3-input max\" id=\"phyh\" max=\"99\" min=\"0\" name=\"phyh\" placeholder=\"99\" size=\"2\" type=\"number\" value=\"\"/>\\n        </div>\\n       </div>\\n       <div class=\"text-right\">\\n        <button class=\"bp3-button bp3-intent-primary bp3-fill\" type=\"submit\">\\n         Submit\\n        </button>\\n       </div>\\n      </div>\\n     </form>\\n     <div class=\"double-spacing\">\\n      <h5>\\n       PARTNERS\\n      </h5>\\n      <div class=\"spacing grid\">\\n       <div class=\"col text-center\">\\n        <a aria-label=\"fifaleague.it\" data-tip-pos=\"top\" href=\"https://www.fifaleague.it/\" role=\"tooltip\" target=\"_blank\">\\n         <img alt=\"fifaleague.it\" height=\"75\" src=\"https://cdn.sofifa.net/partners/fifaleague.it.png\" srcset=\"https://cdn.sofifa.net/partners/fifaleague.it@2x.png 2x, https://cdn.sofifa.net/partners/fifaleague.it@3x.png 3x\" width=\"75\"/>\\n        </a>\\n       </div>\\n       <div class=\"col text-center\">\\n        <a aria-label=\"FIFER Mods\" data-tip-pos=\"top\" href=\"https://twitter.com/FIFER_Mods\" role=\"tooltip\" target=\"_blank\">\\n         <img alt=\"FIFER Mods\" height=\"75\" src=\"https://cdn.sofifa.net/partners/fifer.png\" srcset=\"https://cdn.sofifa.net/partners/fifer@2x.png 2x, https://cdn.sofifa.net/partners/fifer@3x.png 3x\" width=\"75\"/>\\n        </a>\\n       </div>\\n       <div class=\"col text-center\">\\n        <a aria-label=\"fifa-town.de\" data-tip-pos=\"top\" href=\"https://fifa-town.de/\" role=\"tooltip\" target=\"_blank\">\\n         <img alt=\"FIFA-Town\" height=\"75\" src=\"https://cdn.sofifa.net/partners/fifa-town.de.png\" srcset=\"https://cdn.sofifa.net/partners/fifa-town.de@2x.png 2x, https://cdn.sofifa.net/partners/fifa-town.de@3x.png 3x\" width=\"75\"/>\\n        </a>\\n       </div>\\n      </div>\\n     </div>\\n    </div>\\n    <div class=\"col col-12\">\\n     <div class=\"card\" style=\"width: 894px;\">\\n      <table class=\"table table-hover persist-area\">\\n       <thead>\\n        <tr class=\"persist-header\">\\n         <th class=\"col-avatar\">\\n         </th>\\n         <th class=\"col-name text-left\">\\n          Name\\n         </th>\\n         <th aria-label=\"Age\" class=\"col col-ae\" data-tip-pos=\"top\" role=\"tooltip\">\\n          <a class=\"pjax ellipsis\" href=\"/players?col=ae&amp;sort=asc\" rel=\"nofollow\">\\n           <span class=\"bp3-icon sorter\">\\n           </span>\\n           Age\\n          </a>\\n         </th>\\n         <th aria-label=\"Overall Rating\" class=\"col col-oa\" data-tip-pos=\"top\" role=\"tooltip\">\\n          <a class=\"pjax ellipsis\" href=\"/players?col=oa&amp;sort=desc\" rel=\"nofollow\">\\n           <span class=\"bp3-icon sorter\">\\n           </span>\\n           Overall Rating\\n          </a>\\n         </th>\\n         <th aria-label=\"Potential\" class=\"col col-pt\" data-tip-pos=\"top\" role=\"tooltip\">\\n          <a class=\"pjax ellipsis\" href=\"/players?col=pt&amp;sort=desc\" rel=\"nofollow\">\\n           <span class=\"bp3-icon sorter\">\\n           </span>\\n           Potential\\n          </a>\\n         </th>\\n         <th aria-label=\"Team &amp; Contract\" class=\"col-name text-left\" data-tip-pos=\"top\" role=\"tooltip\">\\n          <a class=\"pjax ellipsis\" href=\"/players?col=tm&amp;sort=asc\" rel=\"nofollow\">\\n           <span class=\"bp3-icon sorter\">\\n           </span>\\n           Team &amp; Contract\\n          </a>\\n         </th>\\n         <th aria-label=\"Value\" class=\"col col-vl\" data-tip-pos=\"top\" role=\"tooltip\">\\n          <a class=\"pjax ellipsis\" href=\"/players?col=vl&amp;sort=asc\" rel=\"nofollow\">\\n           <span class=\"bp3-icon sorter\">\\n           </span>\\n           Value\\n          </a>\\n         </th>\\n         <th aria-label=\"Wage\" class=\"col col-wg\" data-tip-pos=\"top\" role=\"tooltip\">\\n          <a class=\"pjax ellipsis\" href=\"/players?col=wg&amp;sort=asc\" rel=\"nofollow\">\\n           <span class=\"bp3-icon sorter\">\\n           </span>\\n           Wage\\n          </a>\\n         </th>\\n         <th aria-label=\"Total Stats\" class=\"col col-tt\" data-tip-pos=\"top\" role=\"tooltip\">\\n          <a class=\"pjax ellipsis\" href=\"/players?col=tt&amp;sort=desc\" rel=\"nofollow\">\\n           <span class=\"bp3-icon sorter\">\\n           </span>\\n           Total Stats\\n          </a>\\n         </th>\\n        </tr>\\n       </thead>\\n       <tbody class=\"list\">\\n        <tr>\\n         <td class=\"col-avatar\" data-balloon=\"Click here!\" data-balloon-pos=\"up\" data-balloon-visible=\"\">\\n          <figure class=\"avatar\">\\n           <img alt=\"\" class=\"player-check\" data-root=\"https://cdn.sofifa.net/players/\" data-src=\"https://cdn.sofifa.net/players/271/668/23_60.png\" data-srcset=\"https://cdn.sofifa.net/players/271/668/23_120.png 2x, https://cdn.sofifa.net/players/271/668/23_180.png 3x\" data-type=\"player\" id=\"271668\" src=\"https://cdn.sofifa.net/players/notfound_0_60.png\"/>\\n          </figure>\\n         </td>\\n         <td class=\"col-name\">\\n          <a aria-label=\"Xavier Simons\" data-tip-pos=\"top\" href=\"/player/271668/xavier-simons/230017/\" role=\"tooltip\">\\n           <div class=\"ellipsis\">\\n            X. Simons\\n           </div>\\n          </a>\\n          <img alt=\"\" class=\"flag\" data-src=\"https://cdn.sofifa.net/flags/gb-eng.png\" data-srcset=\"https://cdn.sofifa.net/flags/gb-eng@2x.png 2x, https://cdn.sofifa.net/flags/gb-eng@3x.png 3x\" height=\"16\" src=\"https://cdn.sofifa.net/pixel.gif\" title=\"England\" width=\"21\"/>\\n          <a href=\"/players?pn=10\" rel=\"nofollow\">\\n           <span class=\"pos pos10\">\\n            CDM\\n           </span>\\n          </a>\\n          <a href=\"/players?pn=14\" rel=\"nofollow\">\\n           <span class=\"pos pos14\">\\n            CM\\n           </span>\\n          </a>\\n          <a href=\"/players?pn=3\" rel=\"nofollow\">\\n           <span class=\"pos pos3\">\\n            RB\\n           </span>\\n          </a>\\n         </td>\\n         <td class=\"col col-ae\" data-col=\"ae\">\\n          19\\n         </td>\\n         <td class=\"col col-oa\" data-col=\"oa\">\\n          <span class=\"bp3-tag p p-62\">\\n           62\\n          </span>\\n         </td>\\n         <td class=\"col col-pt\" data-col=\"pt\">\\n          <span class=\"bp3-tag p p-78\">\\n           78\\n          </span>\\n         </td>\\n         <td class=\"col-name\">\\n          <div class=\"ellipsis\">\\n           <figure class=\"avatar avatar-sm transparent\">\\n            <img alt=\"\" class=\"team\" data-root=\"https://cdn.sofifa.net/teams/\" data-src=\"https://cdn.sofifa.net/teams/1952/30.png\" data-srcset=\"https://cdn.sofifa.net/teams/1952/60.png 2x, https://cdn.sofifa.net/teams/1952/90.png 3x\" data-type=\"team\" src=\"https://cdn.sofifa.net/teams/notfound_30.png\"/>\\n           </figure>\\n           <a href=\"/team/1952/hull-city/\">\\n            Hull City\\n           </a>\\n           <div class=\"sub\">\\n            2021 ~ 2023\\n           </div>\\n          </div>\\n         </td>\\n         <td class=\"col col-vl\" data-col=\"vl\">\\n          €975K\\n         </td>\\n         <td class=\"col col-wg\" data-col=\"wg\">\\n          €2K\\n         </td>\\n         <td class=\"col col-tt\" data-col=\"tt\">\\n          <span class=\"bp3-tag p\">\\n           1680\\n          </span>\\n         </td>\\n        </tr>\\n        <tr>\\n         <td class=\"col-avatar\">\\n          <figure class=\"avatar\">\\n           <img alt=\"\" class=\"player-check\" data-root=\"https://cdn.sofifa.net/players/\" data-src=\"https://cdn.sofifa.net/players/273/990/23_60.png\" data-srcset=\"https://cdn.sofifa.net/players/273/990/23_120.png 2x, https://cdn.sofifa.net/players/273/990/23_180.png 3x\" data-type=\"player\" id=\"273990\" src=\"https://cdn.sofifa.net/players/notfound_0_60.png\"/>\\n          </figure>\\n         </td>\\n         <td class=\"col-name\">\\n          <a aria-label=\"Jefferson Ruan Pereira dos Santos\" data-tip-pos=\"top\" href=\"/player/273990/jefferson-ruan-pereira-dos-santos/230017/\" role=\"tooltip\">\\n           <div class=\"ellipsis\">\\n            Jeffinho\\n           </div>\\n          </a>\\n          <img alt=\"\" class=\"flag\" data-src=\"https://cdn.sofifa.net/flags/br.png\" data-srcset=\"https://cdn.sofifa.net/flags/br@2x.png 2x, https://cdn.sofifa.net/flags/br@3x.png 3x\" height=\"16\" src=\"https://cdn.sofifa.net/pixel.gif\" title=\"Brazil\" width=\"21\"/>\\n          <a href=\"/players?pn=27\" rel=\"nofollow\">\\n           <span class=\"pos pos27\">\\n            LW\\n           </span>\\n          </a>\\n          <a href=\"/players?pn=16\" rel=\"nofollow\">\\n           <span class=\"pos pos16\">\\n            LM\\n           </span>\\n          </a>\\n         </td>\\n         <td class=\"col col-ae\" data-col=\"ae\">\\n          22\\n         </td>\\n         <td class=\"col col-oa\" data-col=\"oa\">\\n          <span class=\"bp3-tag p p-73\">\\n           73\\n          </span>\\n         </td>\\n         <td class=\"col col-pt\" data-col=\"pt\">\\n          <span class=\"bp3-tag p p-82\">\\n           82\\n          </span>\\n         </td>\\n         <td class=\"col-name\">\\n          <div class=\"ellipsis\">\\n           <figure class=\"avatar avatar-sm transparent\">\\n            <img alt=\"\" class=\"team\" data-root=\"https://cdn.sofifa.net/teams/\" data-src=\"https://cdn.sofifa.net/teams/66/30.png\" data-srcset=\"https://cdn.sofifa.net/teams/66/60.png 2x, https://cdn.sofifa.net/teams/66/90.png 3x\" data-type=\"team\" src=\"https://cdn.sofifa.net/teams/notfound_30.png\"/>\\n           </figure>\\n           <a href=\"/team/66/olympique-lyonnais/\">\\n            Olympique Lyonnais\\n           </a>\\n           <div class=\"sub\">\\n            2023 ~ 2027\\n           </div>\\n          </div>\\n         </td>\\n         <td class=\"col col-vl\" data-col=\"vl\">\\n          €7M\\n         </td>\\n         <td class=\"col col-wg\" data-col=\"wg\">\\n          €41K\\n         </td>\\n         <td class=\"col col-tt\" data-col=\"tt\">\\n          <span class=\"bp3-tag p\">\\n           1687\\n          </span>\\n         </td>\\n        </tr>\\n        <tr>\\n         <td class=\"col-avatar\">\\n          <figure class=\"avatar\">\\n           <img alt=\"\" class=\"player-check\" data-root=\"https://cdn.sofifa.net/players/\" data-src=\"https://cdn.sofifa.net/players/233/795/23_60.png\" data-srcset=\"https://cdn.sofifa.net/players/233/795/23_120.png 2x, https://cdn.sofifa.net/players/233/795/23_180.png 3x\" data-type=\"player\" id=\"233795\" src=\"https://cdn.sofifa.net/players/notfound_0_60.png\"/>\\n          </figure>\\n         </td>\\n         <td class=\"col-name\">\\n          <a aria-label=\"Ben Brereton Díaz\" data-tip-pos=\"top\" href=\"/player/233795/ben-brereton-diaz/230017/\" role=\"tooltip\">\\n           <div class=\"ellipsis\">\\n            B. Brereton Díaz\\n           </div>\\n          </a>\\n          <img alt=\"\" class=\"flag\" data-src=\"https://cdn.sofifa.net/flags/cl.png\" data-srcset=\"https://cdn.sofifa.net/flags/cl@2x.png 2x, https://cdn.sofifa.net/flags/cl@3x.png 3x\" height=\"16\" src=\"https://cdn.sofifa.net/pixel.gif\" title=\"Chile\" width=\"21\"/>\\n          <a href=\"/players?pn=25\" rel=\"nofollow\">\\n           <span class=\"pos pos25\">\\n            ST\\n           </span>\\n          </a>\\n          <a href=\"/players?pn=27\" rel=\"nofollow\">\\n           <span class=\"pos pos27\">\\n            LW\\n           </span>\\n          </a>\\n         </td>\\n         <td class=\"col col-ae\" data-col=\"ae\">\\n          23\\n         </td>\\n         <td class=\"col col-oa\" data-col=\"oa\">\\n          <span class=\"bp3-tag p p-75\">\\n           75\\n          </span>\\n         </td>\\n         <td class=\"col col-pt\" data-col=\"pt\">\\n          <span class=\"bp3-tag p p-82\">\\n           82\\n          </span>\\n         </td>\\n         <td class=\"col-name\">\\n          <div class=\"ellipsis\">\\n           <figure class=\"avatar avatar-sm transparent\">\\n            <img alt=\"\" class=\"team\" data-root=\"https://cdn.sofifa.net/teams/\" data-src=\"https://cdn.sofifa.net/teams/3/30.png\" data-srcset=\"https://cdn.sofifa.net/teams/3/60.png 2x, https://cdn.sofifa.net/teams/3/90.png 3x\" data-type=\"team\" src=\"https://cdn.sofifa.net/teams/notfound_30.png\"/>\\n           </figure>\\n           <a href=\"/team/3/blackburn-rovers/\">\\n            Blackburn Rovers\\n           </a>\\n           <div class=\"sub\">\\n            2019 ~ 2023\\n           </div>\\n          </div>\\n         </td>\\n         <td class=\"col col-vl\" data-col=\"vl\">\\n          €11.5M\\n         </td>\\n         <td class=\"col col-wg\" data-col=\"wg\">\\n          €38K\\n         </td>\\n         <td class=\"col col-tt\" data-col=\"tt\">\\n          <span class=\"bp3-tag p\">\\n           1894\\n          </span>\\n         </td>\\n        </tr>\\n        <tr>\\n         <td class=\"col-avatar\">\\n          <figure class=\"avatar\">\\n           <img alt=\"\" class=\"player-check\" data-root=\"https://cdn.sofifa.net/players/\" data-src=\"https://cdn.sofifa.net/players/261/417/23_60.png\" data-srcset=\"https://cdn.sofifa.net/players/261/417/23_120.png 2x, https://cdn.sofifa.net/players/261/417/23_180.png 3x\" data-type=\"player\" id=\"261417\" src=\"https://cdn.sofifa.net/players/notfound_0_60.png\"/>\\n          </figure>\\n         </td>\\n         <td class=\"col-name\">\\n          <a aria-label=\"Kevin Mier\" data-tip-pos=\"top\" href=\"/player/261417/kevin-mier/230017/\" role=\"tooltip\">\\n           <div class=\"ellipsis\">\\n            K. Mier\\n           </div>\\n          </a>\\n          <img alt=\"\" class=\"flag\" data-src=\"https://cdn.sofifa.net/flags/co.png\" data-srcset=\"https://cdn.sofifa.net/flags/co@2x.png 2x, https://cdn.sofifa.net/flags/co@3x.png 3x\" height=\"16\" src=\"https://cdn.sofifa.net/pixel.gif\" title=\"Colombia\" width=\"21\"/>\\n          <a href=\"/players?pn=0\" rel=\"nofollow\">\\n           <span class=\"pos pos0\">\\n            GK\\n           </span>\\n          </a>\\n         </td>\\n         <td class=\"col col-ae\" data-col=\"ae\">\\n          22\\n         </td>\\n         <td class=\"col col-oa\" data-col=\"oa\">\\n          <span class=\"bp3-tag p p-73\">\\n           73\\n          </span>\\n         </td>\\n         <td class=\"col col-pt\" data-col=\"pt\">\\n          <span class=\"bp3-tag p p-84\">\\n           84\\n          </span>\\n         </td>\\n         <td class=\"col-name\">\\n          <div class=\"ellipsis\">\\n           <figure class=\"avatar avatar-sm transparent\">\\n            <img alt=\"\" class=\"team\" data-root=\"https://cdn.sofifa.net/teams/\" data-src=\"https://cdn.sofifa.net/teams/101100/30.png\" data-srcset=\"https://cdn.sofifa.net/teams/101100/60.png 2x, https://cdn.sofifa.net/teams/101100/90.png 3x\" data-type=\"team\" src=\"https://cdn.sofifa.net/teams/notfound_30.png\"/>\\n           </figure>\\n           <a href=\"/team/101100/atletico-nacional/\">\\n            Atlético Nacional\\n           </a>\\n           <div class=\"sub\">\\n            2019 ~ 2025\\n           </div>\\n          </div>\\n         </td>\\n         <td class=\"col col-vl\" data-col=\"vl\">\\n          €6M\\n         </td>\\n         <td class=\"col col-wg\" data-col=\"wg\">\\n          €3K\\n         </td>\\n         <td class=\"col col-tt\" data-col=\"tt\">\\n          <span class=\"bp3-tag p\">\\n           1101\\n          </span>\\n         </td>\\n        </tr>\\n        <tr>\\n         <td class=\"col-avatar\">\\n          <figure class=\"avatar\">\\n           <img alt=\"\" class=\"player-check\" data-root=\"https://cdn.sofifa.net/players/\" data-src=\"https://cdn.sofifa.net/players/246/791/23_60.png\" data-srcset=\"https://cdn.sofifa.net/players/246/791/23_120.png 2x, https://cdn.sofifa.net/players/246/791/23_180.png 3x\" data-type=\"player\" id=\"246791\" src=\"https://cdn.sofifa.net/players/notfound_0_60.png\"/>\\n          </figure>\\n         </td>\\n         <td class=\"col-name\">\\n          <a aria-label=\"Manor Solomon\" data-tip-pos=\"top\" href=\"/player/246791/manor-solomon/230017/\" role=\"tooltip\">\\n           <div class=\"ellipsis\">\\n            M. Solomon\\n           </div>\\n          </a>\\n          <img alt=\"\" class=\"flag\" data-src=\"https://cdn.sofifa.net/flags/il.png\" data-srcset=\"https://cdn.sofifa.net/flags/il@2x.png 2x, https://cdn.sofifa.net/flags/il@3x.png 3x\" height=\"16\" src=\"https://cdn.sofifa.net/pixel.gif\" title=\"Israel\" width=\"21\"/>\\n          <a href=\"/players?pn=16\" rel=\"nofollow\">\\n           <span class=\"pos pos16\">\\n            LM\\n           </span>\\n          </a>\\n          <a href=\"/players?pn=12\" rel=\"nofollow\">\\n           <span class=\"pos pos12\">\\n            RM\\n           </span>\\n          </a>\\n          <a href=\"/players?pn=18\" rel=\"nofollow\">\\n           <span class=\"pos pos18\">\\n            CAM\\n           </span>\\n          </a>\\n         </td>\\n         <td class=\"col col-ae\" data-col=\"ae\">\\n          22\\n         </td>\\n         <td class=\"col col-oa\" data-col=\"oa\">\\n          <span class=\"bp3-tag p p-76\">\\n           76\\n          </span>\\n         </td>\\n         <td class=\"col col-pt\" data-col=\"pt\">\\n          <span class=\"bp3-tag p p-83\">\\n           83\\n          </span>\\n         </td>\\n         <td class=\"col-name\">\\n          <div class=\"ellipsis\">\\n           <figure class=\"avatar avatar-sm transparent\">\\n            <img alt=\"\" class=\"team\" data-root=\"https://cdn.sofifa.net/teams/\" data-src=\"https://cdn.sofifa.net/teams/144/30.png\" data-srcset=\"https://cdn.sofifa.net/teams/144/60.png 2x, https://cdn.sofifa.net/teams/144/90.png 3x\" data-type=\"team\" src=\"https://cdn.sofifa.net/teams/notfound_30.png\"/>\\n           </figure>\\n           <a href=\"/team/144/fulham/\">\\n            Fulham\\n           </a>\\n           <div class=\"sub\">\\n            Jun 30, 2023\\n            <span class=\"bp3-tag bp3-minimal bp3-intent-success\">\\n             On Loan\\n            </span>\\n           </div>\\n          </div>\\n         </td>\\n         <td class=\"col col-vl\" data-col=\"vl\">\\n          €15M\\n         </td>\\n         <td class=\"col col-wg\" data-col=\"wg\">\\n          €900\\n         </td>\\n         <td class=\"col col-tt\" data-col=\"tt\">\\n          <span class=\"bp3-tag p\">\\n           1859\\n          </span>\\n         </td>\\n        </tr>\\n        <tr>\\n         <td class=\"col-avatar\">\\n          <figure class=\"avatar\">\\n           <img alt=\"\" class=\"player-check\" data-root=\"https://cdn.sofifa.net/players/\" data-src=\"https://cdn.sofifa.net/players/195/864/23_60.png\" data-srcset=\"https://cdn.sofifa.net/players/195/864/23_120.png 2x, https://cdn.sofifa.net/players/195/864/23_180.png 3x\" data-type=\"player\" id=\"195864\" src=\"https://cdn.sofifa.net/players/notfound_0_60.png\"/>\\n          </figure>\\n         </td>\\n         <td class=\"col-name\">\\n          <a aria-label=\"Paul Pogba\" data-tip-pos=\"top\" href=\"/player/195864/paul-pogba/230017/\" role=\"tooltip\">\\n           <div class=\"ellipsis\">\\n            P. Pogba\\n           </div>\\n          </a>\\n          <img alt=\"\" class=\"flag\" data-src=\"https://cdn.sofifa.net/flags/fr.png\" data-srcset=\"https://cdn.sofifa.net/flags/fr@2x.png 2x, https://cdn.sofifa.net/flags/fr@3x.png 3x\" height=\"16\" src=\"https://cdn.sofifa.net/pixel.gif\" title=\"France\" width=\"21\"/>\\n          <a href=\"/players?pn=14\" rel=\"nofollow\">\\n           <span class=\"pos pos14\">\\n            CM\\n           </span>\\n          </a>\\n          <a href=\"/players?pn=10\" rel=\"nofollow\">\\n           <span class=\"pos pos10\">\\n            CDM\\n           </span>\\n          </a>\\n          <a href=\"/players?pn=16\" rel=\"nofollow\">\\n           <span class=\"pos pos16\">\\n            LM\\n           </span>\\n          </a>\\n         </td>\\n         <td class=\"col col-ae\" data-col=\"ae\">\\n          29\\n         </td>\\n         <td class=\"col col-oa\" data-col=\"oa\">\\n          <span class=\"bp3-tag p p-85\">\\n           85\\n          </span>\\n         </td>\\n         <td class=\"col col-pt\" data-col=\"pt\">\\n          <span class=\"bp3-tag p p-85\">\\n           85\\n          </span>\\n         </td>\\n         <td class=\"col-name\">\\n          <div class=\"ellipsis\">\\n           <figure class=\"avatar avatar-sm transparent\">\\n            <img alt=\"\" class=\"team\" data-root=\"https://cdn.sofifa.net/teams/\" data-src=\"https://cdn.sofifa.net/teams/45/30.png\" data-srcset=\"https://cdn.sofifa.net/teams/45/60.png 2x, https://cdn.sofifa.net/teams/45/90.png 3x\" data-type=\"team\" src=\"https://cdn.sofifa.net/teams/notfound_30.png\"/>\\n           </figure>\\n           <a href=\"/team/45/juventus/\">\\n            Juventus\\n           </a>\\n           <div class=\"sub\">\\n            2022 ~ 2026\\n           </div>\\n          </div>\\n         </td>\\n         <td class=\"col col-vl\" data-col=\"vl\">\\n          €52.5M\\n         </td>\\n         <td class=\"col col-wg\" data-col=\"wg\">\\n          €165K\\n         </td>\\n         <td class=\"col col-tt\" data-col=\"tt\">\\n          <span class=\"bp3-tag p\">\\n           2168\\n          </span>\\n         </td>\\n        </tr>\\n        <tr>\\n         <td class=\"col-avatar\">\\n          <figure class=\"avatar\">\\n           <img alt=\"\" class=\"player-check\" data-root=\"https://cdn.sofifa.net/players/\" data-src=\"https://cdn.sofifa.net/players/259/608/23_60.png\" data-srcset=\"https://cdn.sofifa.net/players/259/608/23_120.png 2x, https://cdn.sofifa.net/players/259/608/23_180.png 3x\" data-type=\"player\" id=\"259608\" src=\"https://cdn.sofifa.net/players/notfound_0_60.png\"/>\\n          </figure>\\n         </td>\\n         <td class=\"col-name\">\\n          <a aria-label=\"Evan Ferguson\" data-tip-pos=\"top\" href=\"/player/259608/evan-ferguson/230017/\" role=\"tooltip\">\\n           <div class=\"ellipsis\">\\n            E. Ferguson\\n           </div>\\n          </a>\\n          <img alt=\"\" class=\"flag\" data-src=\"https://cdn.sofifa.net/flags/ie.png\" data-srcset=\"https://cdn.sofifa.net/flags/ie@2x.png 2x, https://cdn.sofifa.net/flags/ie@3x.png 3x\" height=\"16\" src=\"https://cdn.sofifa.net/pixel.gif\" title=\"Republic of Ireland\" width=\"21\"/>\\n          <a href=\"/players?pn=25\" rel=\"nofollow\">\\n           <span class=\"pos pos25\">\\n            ST\\n           </span>\\n          </a>\\n          <a href=\"/players?pn=21\" rel=\"nofollow\">\\n           <span class=\"pos pos21\">\\n            CF\\n           </span>\\n          </a>\\n         </td>\\n         <td class=\"col col-ae\" data-col=\"ae\">\\n          17\\n         </td>\\n         <td class=\"col col-oa\" data-col=\"oa\">\\n          <span class=\"bp3-tag p p-65\">\\n           65\\n          </span>\\n         </td>\\n         <td class=\"col col-pt\" data-col=\"pt\">\\n          <span class=\"bp3-tag p p-82\">\\n           82\\n          </span>\\n         </td>\\n         <td class=\"col-name\">\\n          <div class=\"ellipsis\">\\n           <figure class=\"avatar avatar-sm transparent\">\\n            <img alt=\"\" class=\"team\" data-root=\"https://cdn.sofifa.net/teams/\" data-src=\"https://cdn.sofifa.net/teams/1808/30.png\" data-srcset=\"https://cdn.sofifa.net/teams/1808/60.png 2x, https://cdn.sofifa.net/teams/1808/90.png 3x\" data-type=\"team\" src=\"https://cdn.sofifa.net/teams/notfound_30.png\"/>\\n           </figure>\\n           <a href=\"/team/1808/brighton-hove-albion/\">\\n            Brighton &amp; Hove Albion\\n           </a>\\n           <div class=\"sub\">\\n            2021 ~ 2026\\n           </div>\\n          </div>\\n         </td>\\n         <td class=\"col col-vl\" data-col=\"vl\">\\n          €1.8M\\n         </td>\\n         <td class=\"col col-wg\" data-col=\"wg\">\\n          €3K\\n         </td>\\n         <td class=\"col col-tt\" data-col=\"tt\">\\n          <span class=\"bp3-tag p\">\\n           1566\\n          </span>\\n         </td>\\n        </tr>\\n        <tr>\\n         <td class=\"col-avatar\">\\n          <figure class=\"avatar\">\\n           <img alt=\"\" class=\"player-check\" data-root=\"https://cdn.sofifa.net/players/\" data-src=\"https://cdn.sofifa.net/players/243/862/23_60.png\" data-srcset=\"https://cdn.sofifa.net/players/243/862/23_120.png 2x, https://cdn.sofifa.net/players/243/862/23_180.png 3x\" data-type=\"player\" id=\"243862\" src=\"https://cdn.sofifa.net/players/notfound_0_60.png\"/>\\n          </figure>\\n         </td>\\n         <td class=\"col-name\">\\n          <a aria-label=\"James Igbekeme\" data-tip-pos=\"top\" href=\"/player/243862/james-igbekeme/230016/\" role=\"tooltip\">\\n           <div class=\"ellipsis\">\\n            J. Igbekeme\\n           </div>\\n          </a>\\n          <img alt=\"\" class=\"flag\" data-src=\"https://cdn.sofifa.net/flags/ng.png\" data-srcset=\"https://cdn.sofifa.net/flags/ng@2x.png 2x, https://cdn.sofifa.net/flags/ng@3x.png 3x\" height=\"16\" src=\"https://cdn.sofifa.net/pixel.gif\" title=\"Nigeria\" width=\"21\"/>\\n          <a href=\"/players?pn=14\" rel=\"nofollow\">\\n           <span class=\"pos pos14\">\\n            CM\\n           </span>\\n          </a>\\n          <a href=\"/players?pn=16\" rel=\"nofollow\">\\n           <span class=\"pos pos16\">\\n            LM\\n           </span>\\n          </a>\\n         </td>\\n         <td class=\"col col-ae\" data-col=\"ae\">\\n          26\\n         </td>\\n         <td class=\"col col-oa\" data-col=\"oa\">\\n          <span class=\"bp3-tag p p-66\">\\n           66\\n          </span>\\n         </td>\\n         <td class=\"col col-pt\" data-col=\"pt\">\\n          <span class=\"bp3-tag p p-67\">\\n           67\\n          </span>\\n         </td>\\n         <td class=\"col-name\">\\n          <div class=\"ellipsis\">\\n           <figure class=\"avatar avatar-sm transparent\">\\n            <img alt=\"\" class=\"team\" data-root=\"https://cdn.sofifa.net/teams/\" data-src=\"https://cdn.sofifa.net/teams/244/30.png\" data-srcset=\"https://cdn.sofifa.net/teams/244/60.png 2x, https://cdn.sofifa.net/teams/244/90.png 3x\" data-type=\"team\" src=\"https://cdn.sofifa.net/teams/notfound_30.png\"/>\\n           </figure>\\n           <a href=\"/team/244/real-zaragoza/\">\\n            Real Zaragoza\\n           </a>\\n           <div class=\"sub\">\\n            2018 ~ 2024\\n           </div>\\n          </div>\\n         </td>\\n         <td class=\"col col-vl\" data-col=\"vl\">\\n          €1M\\n         </td>\\n         <td class=\"col col-wg\" data-col=\"wg\">\\n          €3K\\n         </td>\\n         <td class=\"col col-tt\" data-col=\"tt\">\\n          <span class=\"bp3-tag p\">\\n           1897\\n          </span>\\n         </td>\\n        </tr>\\n        <tr>\\n         <td class=\"col-avatar\">\\n          <figure class=\"avatar\">\\n           <img alt=\"\" class=\"player-check\" data-root=\"https://cdn.sofifa.net/players/\" data-src=\"https://cdn.sofifa.net/players/247/090/23_60.png\" data-srcset=\"https://cdn.sofifa.net/players/247/090/23_120.png 2x, https://cdn.sofifa.net/players/247/090/23_180.png 3x\" data-type=\"player\" id=\"247090\" src=\"https://cdn.sofifa.net/players/notfound_0_60.png\"/>\\n          </figure>\\n         </td>\\n         <td class=\"col-name\">\\n          <a aria-label=\"Enzo Fernández\" data-tip-pos=\"top\" href=\"/player/247090/enzo-fernandez/230017/\" role=\"tooltip\">\\n           <div class=\"ellipsis\">\\n            E. Fernández\\n           </div>\\n          </a>\\n          <img alt=\"\" class=\"flag\" data-src=\"https://cdn.sofifa.net/flags/ar.png\" data-srcset=\"https://cdn.sofifa.net/flags/ar@2x.png 2x, https://cdn.sofifa.net/flags/ar@3x.png 3x\" height=\"16\" src=\"https://cdn.sofifa.net/pixel.gif\" title=\"Argentina\" width=\"21\"/>\\n          <a href=\"/players?pn=14\" rel=\"nofollow\">\\n           <span class=\"pos pos14\">\\n            CM\\n           </span>\\n          </a>\\n          <a href=\"/players?pn=10\" rel=\"nofollow\">\\n           <span class=\"pos pos10\">\\n            CDM\\n           </span>\\n          </a>\\n         </td>\\n         <td class=\"col col-ae\" data-col=\"ae\">\\n          21\\n         </td>\\n         <td class=\"col col-oa\" data-col=\"oa\">\\n          <span class=\"bp3-tag p p-81\">\\n           81\\n          </span>\\n         </td>\\n         <td class=\"col col-pt\" data-col=\"pt\">\\n          <span class=\"bp3-tag p p-88\">\\n           88\\n          </span>\\n         </td>\\n         <td class=\"col-name\">\\n          <div class=\"ellipsis\">\\n           <figure class=\"avatar avatar-sm transparent\">\\n            <img alt=\"\" class=\"team\" data-root=\"https://cdn.sofifa.net/teams/\" data-src=\"https://cdn.sofifa.net/teams/5/30.png\" data-srcset=\"https://cdn.sofifa.net/teams/5/60.png 2x, https://cdn.sofifa.net/teams/5/90.png 3x\" data-type=\"team\" src=\"https://cdn.sofifa.net/teams/notfound_30.png\"/>\\n           </figure>\\n           <a href=\"/team/5/chelsea/\">\\n            Chelsea\\n           </a>\\n           <div class=\"sub\">\\n            2023 ~ 2031\\n           </div>\\n          </div>\\n         </td>\\n         <td class=\"col col-vl\" data-col=\"vl\">\\n          €52M\\n         </td>\\n         <td class=\"col col-wg\" data-col=\"wg\">\\n          €86K\\n         </td>\\n         <td class=\"col col-tt\" data-col=\"tt\">\\n          <span class=\"bp3-tag p\">\\n           2175\\n          </span>\\n         </td>\\n        </tr>\\n        <tr>\\n         <td class=\"col-avatar\">\\n          <figure class=\"avatar\">\\n           <img alt=\"\" class=\"player-check\" data-root=\"https://cdn.sofifa.net/players/\" data-src=\"https://cdn.sofifa.net/players/261/299/23_60.png\" data-srcset=\"https://cdn.sofifa.net/players/261/299/23_120.png 2x, https://cdn.sofifa.net/players/261/299/23_180.png 3x\" data-type=\"player\" id=\"261299\" src=\"https://cdn.sofifa.net/players/notfound_0_60.png\"/>\\n          </figure>\\n         </td>\\n         <td class=\"col-name\">\\n          <a aria-label=\"Alex Scott\" data-tip-pos=\"top\" href=\"/player/261299/alex-scott/230017/\" role=\"tooltip\">\\n           <div class=\"ellipsis\">\\n            A. Scott\\n           </div>\\n          </a>\\n          <img alt=\"\" class=\"flag\" data-src=\"https://cdn.sofifa.net/flags/gb-eng.png\" data-srcset=\"https://cdn.sofifa.net/flags/gb-eng@2x.png 2x, https://cdn.sofifa.net/flags/gb-eng@3x.png 3x\" height=\"16\" src=\"https://cdn.sofifa.net/pixel.gif\" title=\"England\" width=\"21\"/>\\n          <a href=\"/players?pn=14\" rel=\"nofollow\">\\n           <span class=\"pos pos14\">\\n            CM\\n           </span>\\n          </a>\\n          <a href=\"/players?pn=18\" rel=\"nofollow\">\\n           <span class=\"pos pos18\">\\n            CAM\\n           </span>\\n          </a>\\n          <a href=\"/players?pn=12\" rel=\"nofollow\">\\n           <span class=\"pos pos12\">\\n            RM\\n           </span>\\n          </a>\\n         </td>\\n         <td class=\"col col-ae\" data-col=\"ae\">\\n          18\\n         </td>\\n         <td class=\"col col-oa\" data-col=\"oa\">\\n          <span class=\"bp3-tag p p-69\">\\n           69\\n          </span>\\n         </td>\\n         <td class=\"col col-pt\" data-col=\"pt\">\\n          <span class=\"bp3-tag p p-83\">\\n           83\\n          </span>\\n         </td>\\n         <td class=\"col-name\">\\n          <div class=\"ellipsis\">\\n           <figure class=\"avatar avatar-sm transparent\">\\n            <img alt=\"\" class=\"team\" data-root=\"https://cdn.sofifa.net/teams/\" data-src=\"https://cdn.sofifa.net/teams/1919/30.png\" data-srcset=\"https://cdn.sofifa.net/teams/1919/60.png 2x, https://cdn.sofifa.net/teams/1919/90.png 3x\" data-type=\"team\" src=\"https://cdn.sofifa.net/teams/notfound_30.png\"/>\\n           </figure>\\n           <a href=\"/team/1919/bristol-city/\">\\n            Bristol City\\n           </a>\\n           <div class=\"sub\">\\n            2021 ~ 2025\\n           </div>\\n          </div>\\n         </td>\\n         <td class=\"col col-vl\" data-col=\"vl\">\\n          €3.2M\\n         </td>\\n         <td class=\"col col-wg\" data-col=\"wg\">\\n          €6K\\n         </td>\\n         <td class=\"col col-tt\" data-col=\"tt\">\\n          <span class=\"bp3-tag p\">\\n           1889\\n          </span>\\n         </td>\\n        </tr>\\n        <tr>\\n         <td class=\"col-avatar\">\\n          <figure class=\"avatar\">\\n           <img alt=\"\" class=\"player-check\" data-root=\"https://cdn.sofifa.net/players/\" data-src=\"https://cdn.sofifa.net/players/223/689/23_60.png\" data-srcset=\"https://cdn.sofifa.net/players/223/689/23_120.png 2x, https://cdn.sofifa.net/players/223/689/23_180.png 3x\" data-type=\"player\" id=\"223689\" src=\"https://cdn.sofifa.net/players/notfound_0_60.png\"/>\\n          </figure>\\n         </td>\\n         <td class=\"col-name\">\\n          <a aria-label=\"Wout Weghorst\" data-tip-pos=\"top\" href=\"/player/223689/wout-weghorst/230017/\" role=\"tooltip\">\\n           <div class=\"ellipsis\">\\n            W. Weghorst\\n           </div>\\n          </a>\\n          <img alt=\"\" class=\"flag\" data-src=\"https://cdn.sofifa.net/flags/nl.png\" data-srcset=\"https://cdn.sofifa.net/flags/nl@2x.png 2x, https://cdn.sofifa.net/flags/nl@3x.png 3x\" height=\"16\" src=\"https://cdn.sofifa.net/pixel.gif\" title=\"Netherlands\" width=\"21\"/>\\n          <a href=\"/players?pn=25\" rel=\"nofollow\">\\n           <span class=\"pos pos25\">\\n            ST\\n           </span>\\n          </a>\\n         </td>\\n         <td class=\"col col-ae\" data-col=\"ae\">\\n          29\\n         </td>\\n         <td class=\"col col-oa\" data-col=\"oa\">\\n          <span class=\"bp3-tag p p-79\">\\n           79\\n          </span>\\n         </td>\\n         <td class=\"col col-pt\" data-col=\"pt\">\\n          <span class=\"bp3-tag p p-79\">\\n           79\\n          </span>\\n         </td>\\n         <td class=\"col-name\">\\n          <div class=\"ellipsis\">\\n           <figure class=\"avatar avatar-sm transparent\">\\n            <img alt=\"\" class=\"team\" data-root=\"https://cdn.sofifa.net/teams/\" data-src=\"https://cdn.sofifa.net/teams/11/30.png\" data-srcset=\"https://cdn.sofifa.net/teams/11/60.png 2x, https://cdn.sofifa.net/teams/11/90.png 3x\" data-type=\"team\" src=\"https://cdn.sofifa.net/teams/notfound_30.png\"/>\\n           </figure>\\n           <a href=\"/team/11/manchester-united/\">\\n            Manchester United\\n           </a>\\n           <div class=\"sub\">\\n            Jun 30, 2023\\n            <span class=\"bp3-tag bp3-minimal bp3-intent-success\">\\n             On Loan\\n            </span>\\n           </div>\\n          </div>\\n         </td>\\n         <td class=\"col col-vl\" data-col=\"vl\">\\n          €17.5M\\n         </td>\\n         <td class=\"col col-wg\" data-col=\"wg\">\\n          €59K\\n         </td>\\n         <td class=\"col col-tt\" data-col=\"tt\">\\n          <span class=\"bp3-tag p\">\\n           1904\\n          </span>\\n         </td>\\n        </tr>\\n        <tr>\\n         <td class=\"col-avatar\">\\n          <figure class=\"avatar\">\\n           <img alt=\"\" class=\"player-check\" data-root=\"https://cdn.sofifa.net/players/\" data-src=\"https://cdn.sofifa.net/players/247/635/23_60.png\" data-srcset=\"https://cdn.sofifa.net/players/247/635/23_120.png 2x, https://cdn.sofifa.net/players/247/635/23_180.png 3x\" data-type=\"player\" id=\"247635\" src=\"https://cdn.sofifa.net/players/notfound_0_60.png\"/>\\n          </figure>\\n         </td>\\n         <td class=\"col-name\">\\n          <a aria-label=\"Khvicha Kvaratskhelia\" data-tip-pos=\"top\" href=\"/player/247635/khvicha-kvaratskhelia/230017/\" role=\"tooltip\">\\n           <div class=\"ellipsis\">\\n            K. Kvaratskhelia\\n           </div>\\n          </a>\\n          <img alt=\"\" class=\"flag\" data-src=\"https://cdn.sofifa.net/flags/ge.png\" data-srcset=\"https://cdn.sofifa.net/flags/ge@2x.png 2x, https://cdn.sofifa.net/flags/ge@3x.png 3x\" height=\"16\" src=\"https://cdn.sofifa.net/pixel.gif\" title=\"Georgia\" width=\"21\"/>\\n          <a href=\"/players?pn=27\" rel=\"nofollow\">\\n           <span class=\"pos pos27\">\\n            LW\\n           </span>\\n          </a>\\n          <a href=\"/players?pn=18\" rel=\"nofollow\">\\n           <span class=\"pos pos18\">\\n            CAM\\n           </span>\\n          </a>\\n         </td>\\n         <td class=\"col col-ae\" data-col=\"ae\">\\n          21\\n         </td>\\n         <td class=\"col col-oa\" data-col=\"oa\">\\n          <span class=\"bp3-tag p p-79\">\\n           79\\n          </span>\\n         </td>\\n         <td class=\"col col-pt\" data-col=\"pt\">\\n          <span class=\"bp3-tag p p-88\">\\n           88\\n          </span>\\n         </td>\\n         <td class=\"col-name\">\\n          <div class=\"ellipsis\">\\n           <figure class=\"avatar avatar-sm transparent\">\\n            <img alt=\"\" class=\"team\" data-root=\"https://cdn.sofifa.net/teams/\" data-src=\"https://cdn.sofifa.net/teams/48/30.png\" data-srcset=\"https://cdn.sofifa.net/teams/48/60.png 2x, https://cdn.sofifa.net/teams/48/90.png 3x\" data-type=\"team\" src=\"https://cdn.sofifa.net/teams/notfound_30.png\"/>\\n           </figure>\\n           <a href=\"/team/48/napoli/\">\\n            Napoli\\n           </a>\\n           <div class=\"sub\">\\n            2022 ~ 2027\\n           </div>\\n          </div>\\n         </td>\\n         <td class=\"col col-vl\" data-col=\"vl\">\\n          €39.5M\\n         </td>\\n         <td class=\"col col-wg\" data-col=\"wg\">\\n          €46K\\n         </td>\\n         <td class=\"col col-tt\" data-col=\"tt\">\\n          <span class=\"bp3-tag p\">\\n           1949\\n          </span>\\n         </td>\\n        </tr>\\n        <tr>\\n         <td class=\"col-avatar\">\\n          <figure class=\"avatar\">\\n           <img alt=\"\" class=\"player-check\" data-root=\"https://cdn.sofifa.net/players/\" data-src=\"https://cdn.sofifa.net/players/245/367/23_60.png\" data-srcset=\"https://cdn.sofifa.net/players/245/367/23_120.png 2x, https://cdn.sofifa.net/players/245/367/23_180.png 3x\" data-type=\"player\" id=\"245367\" src=\"https://cdn.sofifa.net/players/notfound_0_60.png\"/>\\n          </figure>\\n         </td>\\n         <td class=\"col-name\">\\n          <a aria-label=\"Xavi Simons\" data-tip-pos=\"top\" href=\"/player/245367/xavi-simons/230017/\" role=\"tooltip\">\\n           <div class=\"ellipsis\">\\n            X. Simons\\n           </div>\\n          </a>\\n          <img alt=\"\" class=\"flag\" data-src=\"https://cdn.sofifa.net/flags/nl.png\" data-srcset=\"https://cdn.sofifa.net/flags/nl@2x.png 2x, https://cdn.sofifa.net/flags/nl@3x.png 3x\" height=\"16\" src=\"https://cdn.sofifa.net/pixel.gif\" title=\"Netherlands\" width=\"21\"/>\\n          <a href=\"/players?pn=18\" rel=\"nofollow\">\\n           <span class=\"pos pos18\">\\n            CAM\\n           </span>\\n          </a>\\n          <a href=\"/players?pn=23\" rel=\"nofollow\">\\n           <span class=\"pos pos23\">\\n            RW\\n           </span>\\n          </a>\\n          <a href=\"/players?pn=27\" rel=\"nofollow\">\\n           <span class=\"pos pos27\">\\n            LW\\n           </span>\\n          </a>\\n         </td>\\n         <td class=\"col col-ae\" data-col=\"ae\">\\n          19\\n         </td>\\n         <td class=\"col col-oa\" data-col=\"oa\">\\n          <span class=\"bp3-tag p p-76\">\\n           76\\n          </span>\\n         </td>\\n         <td class=\"col col-pt\" data-col=\"pt\">\\n          <span class=\"bp3-tag p p-88\">\\n           88\\n          </span>\\n         </td>\\n         <td class=\"col-name\">\\n          <div class=\"ellipsis\">\\n           <figure class=\"avatar avatar-sm transparent\">\\n            <img alt=\"\" class=\"team\" data-root=\"https://cdn.sofifa.net/teams/\" data-src=\"https://cdn.sofifa.net/teams/247/30.png\" data-srcset=\"https://cdn.sofifa.net/teams/247/60.png 2x, https://cdn.sofifa.net/teams/247/90.png 3x\" data-type=\"team\" src=\"https://cdn.sofifa.net/teams/notfound_30.png\"/>\\n           </figure>\\n           <a href=\"/team/247/psv/\">\\n            PSV\\n           </a>\\n           <div class=\"sub\">\\n            2022 ~ 2027\\n           </div>\\n          </div>\\n         </td>\\n         <td class=\"col col-vl\" data-col=\"vl\">\\n          €18M\\n         </td>\\n         <td class=\"col col-wg\" data-col=\"wg\">\\n          €10K\\n         </td>\\n         <td class=\"col col-tt\" data-col=\"tt\">\\n          <span class=\"bp3-tag p\">\\n           1976\\n          </span>\\n         </td>\\n        </tr>\\n        <tr>\\n         <td class=\"col-avatar\">\\n          <figure class=\"avatar\">\\n           <img alt=\"\" class=\"player-check\" data-root=\"https://cdn.sofifa.net/players/\" data-src=\"https://cdn.sofifa.net/players/253/072/23_60.png\" data-srcset=\"https://cdn.sofifa.net/players/253/072/23_120.png 2x, https://cdn.sofifa.net/players/253/072/23_180.png 3x\" data-type=\"player\" id=\"253072\" src=\"https://cdn.sofifa.net/players/notfound_0_60.png\"/>\\n          </figure>\\n         </td>\\n         <td class=\"col-name\">\\n          <a aria-label=\"Darwin Núñez\" data-tip-pos=\"top\" href=\"/player/253072/darwin-nunez/230017/\" role=\"tooltip\">\\n           <div class=\"ellipsis\">\\n            D. Núñez\\n           </div>\\n          </a>\\n          <img alt=\"\" class=\"flag\" data-src=\"https://cdn.sofifa.net/flags/uy.png\" data-srcset=\"https://cdn.sofifa.net/flags/uy@2x.png 2x, https://cdn.sofifa.net/flags/uy@3x.png 3x\" height=\"16\" src=\"https://cdn.sofifa.net/pixel.gif\" title=\"Uruguay\" width=\"21\"/>\\n          <a href=\"/players?pn=25\" rel=\"nofollow\">\\n           <span class=\"pos pos25\">\\n            ST\\n           </span>\\n          </a>\\n          <a href=\"/players?pn=27\" rel=\"nofollow\">\\n           <span class=\"pos pos27\">\\n            LW\\n           </span>\\n          </a>\\n         </td>\\n         <td class=\"col col-ae\" data-col=\"ae\">\\n          23\\n         </td>\\n         <td class=\"col col-oa\" data-col=\"oa\">\\n          <span class=\"bp3-tag p p-82\">\\n           82\\n          </span>\\n         </td>\\n         <td class=\"col col-pt\" data-col=\"pt\">\\n          <span class=\"bp3-tag p p-89\">\\n           89\\n          </span>\\n         </td>\\n         <td class=\"col-name\">\\n          <div class=\"ellipsis\">\\n           <figure class=\"avatar avatar-sm transparent\">\\n            <img alt=\"\" class=\"team\" data-root=\"https://cdn.sofifa.net/teams/\" data-src=\"https://cdn.sofifa.net/teams/9/30.png\" data-srcset=\"https://cdn.sofifa.net/teams/9/60.png 2x, https://cdn.sofifa.net/teams/9/90.png 3x\" data-type=\"team\" src=\"https://cdn.sofifa.net/teams/notfound_30.png\"/>\\n           </figure>\\n           <a href=\"/team/9/liverpool/\">\\n            Liverpool\\n           </a>\\n           <div class=\"sub\">\\n            2022 ~ 2028\\n           </div>\\n          </div>\\n         </td>\\n         <td class=\"col col-vl\" data-col=\"vl\">\\n          €61.5M\\n         </td>\\n         <td class=\"col col-wg\" data-col=\"wg\">\\n          €120K\\n         </td>\\n         <td class=\"col col-tt\" data-col=\"tt\">\\n          <span class=\"bp3-tag p\">\\n           2075\\n          </span>\\n         </td>\\n        </tr>\\n        <tr>\\n         <td class=\"col-avatar\">\\n          <figure class=\"avatar\">\\n           <img alt=\"\" class=\"player-check\" data-root=\"https://cdn.sofifa.net/players/\" data-src=\"https://cdn.sofifa.net/players/253/149/23_60.png\" data-srcset=\"https://cdn.sofifa.net/players/253/149/23_120.png 2x, https://cdn.sofifa.net/players/253/149/23_180.png 3x\" data-type=\"player\" id=\"253149\" src=\"https://cdn.sofifa.net/players/notfound_0_60.png\"/>\\n          </figure>\\n         </td>\\n         <td class=\"col-name\">\\n          <a aria-label=\"Jeremie Frimpong\" data-tip-pos=\"top\" href=\"/player/253149/jeremie-frimpong/230017/\" role=\"tooltip\">\\n           <div class=\"ellipsis\">\\n            J. Frimpong\\n           </div>\\n          </a>\\n          <img alt=\"\" class=\"flag\" data-src=\"https://cdn.sofifa.net/flags/nl.png\" data-srcset=\"https://cdn.sofifa.net/flags/nl@2x.png 2x, https://cdn.sofifa.net/flags/nl@3x.png 3x\" height=\"16\" src=\"https://cdn.sofifa.net/pixel.gif\" title=\"Netherlands\" width=\"21\"/>\\n          <a href=\"/players?pn=2\" rel=\"nofollow\">\\n           <span class=\"pos pos2\">\\n            RWB\\n           </span>\\n          </a>\\n          <a href=\"/players?pn=3\" rel=\"nofollow\">\\n           <span class=\"pos pos3\">\\n            RB\\n           </span>\\n          </a>\\n          <a href=\"/players?pn=12\" rel=\"nofollow\">\\n           <span class=\"pos pos12\">\\n            RM\\n           </span>\\n          </a>\\n         </td>\\n         <td class=\"col col-ae\" data-col=\"ae\">\\n          21\\n         </td>\\n         <td class=\"col col-oa\" data-col=\"oa\">\\n          <span class=\"bp3-tag p p-82\">\\n           82\\n          </span>\\n         </td>\\n         <td class=\"col col-pt\" data-col=\"pt\">\\n          <span class=\"bp3-tag p p-88\">\\n           88\\n          </span>\\n         </td>\\n         <td class=\"col-name\">\\n          <div class=\"ellipsis\">\\n           <figure class=\"avatar avatar-sm transparent\">\\n            <img alt=\"\" class=\"team\" data-root=\"https://cdn.sofifa.net/teams/\" data-src=\"https://cdn.sofifa.net/teams/32/30.png\" data-srcset=\"https://cdn.sofifa.net/teams/32/60.png 2x, https://cdn.sofifa.net/teams/32/90.png 3x\" data-type=\"team\" src=\"https://cdn.sofifa.net/teams/notfound_30.png\"/>\\n           </figure>\\n           <a href=\"/team/32/bayer-04-leverkusen/\">\\n            Bayer 04 Leverkusen\\n           </a>\\n           <div class=\"sub\">\\n            2021 ~ 2025\\n           </div>\\n          </div>\\n         </td>\\n         <td class=\"col col-vl\" data-col=\"vl\">\\n          €46M\\n         </td>\\n         <td class=\"col col-wg\" data-col=\"wg\">\\n          €44K\\n         </td>\\n         <td class=\"col col-tt\" data-col=\"tt\">\\n          <span class=\"bp3-tag p\">\\n           2054\\n          </span>\\n         </td>\\n        </tr>\\n        <tr>\\n         <td class=\"col-avatar\">\\n          <figure class=\"avatar\">\\n           <img alt=\"\" class=\"player-check\" data-root=\"https://cdn.sofifa.net/players/\" data-src=\"https://cdn.sofifa.net/players/231/677/23_60.png\" data-srcset=\"https://cdn.sofifa.net/players/231/677/23_120.png 2x, https://cdn.sofifa.net/players/231/677/23_180.png 3x\" data-type=\"player\" id=\"231677\" src=\"https://cdn.sofifa.net/players/notfound_0_60.png\"/>\\n          </figure>\\n         </td>\\n         <td class=\"col-name\">\\n          <a aria-label=\"Marcus Rashford\" data-tip-pos=\"top\" href=\"/player/231677/marcus-rashford/230017/\" role=\"tooltip\">\\n           <div class=\"ellipsis\">\\n            M. Rashford\\n           </div>\\n          </a>\\n          <img alt=\"\" class=\"flag\" data-src=\"https://cdn.sofifa.net/flags/gb-eng.png\" data-srcset=\"https://cdn.sofifa.net/flags/gb-eng@2x.png 2x, https://cdn.sofifa.net/flags/gb-eng@3x.png 3x\" height=\"16\" src=\"https://cdn.sofifa.net/pixel.gif\" title=\"England\" width=\"21\"/>\\n          <a href=\"/players?pn=27\" rel=\"nofollow\">\\n           <span class=\"pos pos27\">\\n            LW\\n           </span>\\n          </a>\\n          <a href=\"/players?pn=16\" rel=\"nofollow\">\\n           <span class=\"pos pos16\">\\n            LM\\n           </span>\\n          </a>\\n          <a href=\"/players?pn=25\" rel=\"nofollow\">\\n           <span class=\"pos pos25\">\\n            ST\\n           </span>\\n          </a>\\n         </td>\\n         <td class=\"col col-ae\" data-col=\"ae\">\\n          24\\n         </td>\\n         <td class=\"col col-oa\" data-col=\"oa\">\\n          <span class=\"bp3-tag p p-84\">\\n           84\\n          </span>\\n         </td>\\n         <td class=\"col col-pt\" data-col=\"pt\">\\n          <span class=\"bp3-tag p p-87\">\\n           87\\n          </span>\\n         </td>\\n         <td class=\"col-name\">\\n          <div class=\"ellipsis\">\\n           <figure class=\"avatar avatar-sm transparent\">\\n            <img alt=\"\" class=\"team\" data-root=\"https://cdn.sofifa.net/teams/\" data-src=\"https://cdn.sofifa.net/teams/11/30.png\" data-srcset=\"https://cdn.sofifa.net/teams/11/60.png 2x, https://cdn.sofifa.net/teams/11/90.png 3x\" data-type=\"team\" src=\"https://cdn.sofifa.net/teams/notfound_30.png\"/>\\n           </figure>\\n           <a href=\"/team/11/manchester-united/\">\\n            Manchester United\\n           </a>\\n           <div class=\"sub\">\\n            2014 ~ 2024\\n           </div>\\n          </div>\\n         </td>\\n         <td class=\"col col-vl\" data-col=\"vl\">\\n          €57.5M\\n         </td>\\n         <td class=\"col col-wg\" data-col=\"wg\">\\n          €155K\\n         </td>\\n         <td class=\"col col-tt\" data-col=\"tt\">\\n          <span class=\"bp3-tag p\">\\n           2117\\n          </span>\\n         </td>\\n        </tr>\\n        <tr>\\n         <td class=\"col-avatar\">\\n          <figure class=\"avatar\">\\n           <img alt=\"\" class=\"player-check\" data-root=\"https://cdn.sofifa.net/players/\" data-src=\"https://cdn.sofifa.net/players/246/340/23_60.png\" data-srcset=\"https://cdn.sofifa.net/players/246/340/23_120.png 2x, https://cdn.sofifa.net/players/246/340/23_180.png 3x\" data-type=\"player\" id=\"246340\" src=\"https://cdn.sofifa.net/players/notfound_0_60.png\"/>\\n          </figure>\\n         </td>\\n         <td class=\"col-name\">\\n          <a aria-label=\"Mykhailo Mudryk\" data-tip-pos=\"top\" href=\"/player/246340/mykhailo-mudryk/230017/\" role=\"tooltip\">\\n           <div class=\"ellipsis\">\\n            M. Mudryk\\n           </div>\\n          </a>\\n          <img alt=\"\" class=\"flag\" data-src=\"https://cdn.sofifa.net/flags/ua.png\" data-srcset=\"https://cdn.sofifa.net/flags/ua@2x.png 2x, https://cdn.sofifa.net/flags/ua@3x.png 3x\" height=\"16\" src=\"https://cdn.sofifa.net/pixel.gif\" title=\"Ukraine\" width=\"21\"/>\\n          <a href=\"/players?pn=16\" rel=\"nofollow\">\\n           <span class=\"pos pos16\">\\n            LM\\n           </span>\\n          </a>\\n          <a href=\"/players?pn=18\" rel=\"nofollow\">\\n           <span class=\"pos pos18\">\\n            CAM\\n           </span>\\n          </a>\\n         </td>\\n         <td class=\"col col-ae\" data-col=\"ae\">\\n          21\\n         </td>\\n         <td class=\"col col-oa\" data-col=\"oa\">\\n          <span class=\"bp3-tag p p-75\">\\n           75\\n          </span>\\n         </td>\\n         <td class=\"col col-pt\" data-col=\"pt\">\\n          <span class=\"bp3-tag p p-85\">\\n           85\\n          </span>\\n         </td>\\n         <td class=\"col-name\">\\n          <div class=\"ellipsis\">\\n           <figure class=\"avatar avatar-sm transparent\">\\n            <img alt=\"\" class=\"team\" data-root=\"https://cdn.sofifa.net/teams/\" data-src=\"https://cdn.sofifa.net/teams/5/30.png\" data-srcset=\"https://cdn.sofifa.net/teams/5/60.png 2x, https://cdn.sofifa.net/teams/5/90.png 3x\" data-type=\"team\" src=\"https://cdn.sofifa.net/teams/notfound_30.png\"/>\\n           </figure>\\n           <a href=\"/team/5/chelsea/\">\\n            Chelsea\\n           </a>\\n           <div class=\"sub\">\\n            2023 ~ 2031\\n           </div>\\n          </div>\\n         </td>\\n         <td class=\"col col-vl\" data-col=\"vl\">\\n          €12.5M\\n         </td>\\n         <td class=\"col col-wg\" data-col=\"wg\">\\n          €57K\\n         </td>\\n         <td class=\"col col-tt\" data-col=\"tt\">\\n          <span class=\"bp3-tag p\">\\n           1829\\n          </span>\\n         </td>\\n        </tr>\\n        <tr>\\n         <td class=\"col-avatar\">\\n          <figure class=\"avatar\">\\n           <img alt=\"\" class=\"player-check\" data-root=\"https://cdn.sofifa.net/players/\" data-src=\"https://cdn.sofifa.net/players/268/438/23_60.png\" data-srcset=\"https://cdn.sofifa.net/players/268/438/23_120.png 2x, https://cdn.sofifa.net/players/268/438/23_180.png 3x\" data-type=\"player\" id=\"268438\" src=\"https://cdn.sofifa.net/players/notfound_0_60.png\"/>\\n          </figure>\\n         </td>\\n         <td class=\"col-name\">\\n          <a aria-label=\"Alejandro Garnacho Ferreyra\" data-tip-pos=\"top\" href=\"/player/268438/alejandro-garnacho-ferreyra/230017/\" role=\"tooltip\">\\n           <div class=\"ellipsis\">\\n            Alejandro Garnacho\\n           </div>\\n          </a>\\n          <img alt=\"\" class=\"flag\" data-src=\"https://cdn.sofifa.net/flags/ar.png\" data-srcset=\"https://cdn.sofifa.net/flags/ar@2x.png 2x, https://cdn.sofifa.net/flags/ar@3x.png 3x\" height=\"16\" src=\"https://cdn.sofifa.net/pixel.gif\" title=\"Argentina\" width=\"21\"/>\\n          <a href=\"/players?pn=27\" rel=\"nofollow\">\\n           <span class=\"pos pos27\">\\n            LW\\n           </span>\\n          </a>\\n          <a href=\"/players?pn=16\" rel=\"nofollow\">\\n           <span class=\"pos pos16\">\\n            LM\\n           </span>\\n          </a>\\n         </td>\\n         <td class=\"col col-ae\" data-col=\"ae\">\\n          18\\n         </td>\\n         <td class=\"col col-oa\" data-col=\"oa\">\\n          <span class=\"bp3-tag p p-68\">\\n           68\\n          </span>\\n         </td>\\n         <td class=\"col col-pt\" data-col=\"pt\">\\n          <span class=\"bp3-tag p p-86\">\\n           86\\n          </span>\\n         </td>\\n         <td class=\"col-name\">\\n          <div class=\"ellipsis\">\\n           <figure class=\"avatar avatar-sm transparent\">\\n            <img alt=\"\" class=\"team\" data-root=\"https://cdn.sofifa.net/teams/\" data-src=\"https://cdn.sofifa.net/teams/11/30.png\" data-srcset=\"https://cdn.sofifa.net/teams/11/60.png 2x, https://cdn.sofifa.net/teams/11/90.png 3x\" data-type=\"team\" src=\"https://cdn.sofifa.net/teams/notfound_30.png\"/>\\n           </figure>\\n           <a href=\"/team/11/manchester-united/\">\\n            Manchester United\\n           </a>\\n           <div class=\"sub\">\\n            2021 ~ 2023\\n           </div>\\n          </div>\\n         </td>\\n         <td class=\"col col-vl\" data-col=\"vl\">\\n          €3.1M\\n         </td>\\n         <td class=\"col col-wg\" data-col=\"wg\">\\n          €15K\\n         </td>\\n         <td class=\"col col-tt\" data-col=\"tt\">\\n          <span class=\"bp3-tag p\">\\n           1680\\n          </span>\\n         </td>\\n        </tr>\\n        <tr>\\n         <td class=\"col-avatar\">\\n          <figure class=\"avatar added\">\\n           <img alt=\"\" class=\"player-check\" data-root=\"https://cdn.sofifa.net/players/\" data-src=\"https://cdn.sofifa.net/players/272/443/23_60.png\" data-srcset=\"https://cdn.sofifa.net/players/272/443/23_120.png 2x, https://cdn.sofifa.net/players/272/443/23_180.png 3x\" data-type=\"player\" id=\"272443\" src=\"https://cdn.sofifa.net/players/notfound_0_60.png\"/>\\n          </figure>\\n         </td>\\n         <td class=\"col-name\">\\n          <a aria-label=\"Guillem Naranjo Planelles\" data-tip-pos=\"top\" href=\"/player/272443/guillem-naranjo-planelles/230017/\" role=\"tooltip\">\\n           <div class=\"ellipsis\">\\n            Guillem Naranjo\\n           </div>\\n          </a>\\n          <img alt=\"\" class=\"flag\" data-src=\"https://cdn.sofifa.net/flags/es.png\" data-srcset=\"https://cdn.sofifa.net/flags/es@2x.png 2x, https://cdn.sofifa.net/flags/es@3x.png 3x\" height=\"16\" src=\"https://cdn.sofifa.net/pixel.gif\" title=\"Spain\" width=\"21\"/>\\n          <a href=\"/players?pn=25\" rel=\"nofollow\">\\n           <span class=\"pos pos25\">\\n            ST\\n           </span>\\n          </a>\\n         </td>\\n         <td class=\"col col-ae\" data-col=\"ae\">\\n          22\\n         </td>\\n         <td class=\"col col-oa\" data-col=\"oa\">\\n          <span class=\"bp3-tag p p-62\">\\n           62\\n          </span>\\n         </td>\\n         <td class=\"col col-pt\" data-col=\"pt\">\\n          <span class=\"bp3-tag p p-69\">\\n           69\\n          </span>\\n         </td>\\n         <td class=\"col-name\">\\n          <div class=\"ellipsis\">\\n           <figure class=\"avatar avatar-sm transparent\">\\n            <img alt=\"\" class=\"team\" data-root=\"https://cdn.sofifa.net/teams/\" data-src=\"https://cdn.sofifa.net/teams/244/30.png\" data-srcset=\"https://cdn.sofifa.net/teams/244/60.png 2x, https://cdn.sofifa.net/teams/244/90.png 3x\" data-type=\"team\" src=\"https://cdn.sofifa.net/teams/notfound_30.png\"/>\\n           </figure>\\n           <a href=\"/team/244/real-zaragoza/\">\\n            Real Zaragoza\\n           </a>\\n           <div class=\"sub\">\\n            2022 ~ 2023\\n           </div>\\n          </div>\\n         </td>\\n         <td class=\"col col-vl\" data-col=\"vl\">\\n          €825K\\n         </td>\\n         <td class=\"col col-wg\" data-col=\"wg\">\\n          €2K\\n         </td>\\n         <td class=\"col col-tt\" data-col=\"tt\">\\n          <span class=\"bp3-tag p\">\\n           1490\\n          </span>\\n         </td>\\n        </tr>\\n        <tr>\\n         <td class=\"col-avatar\">\\n          <figure class=\"avatar\">\\n           <img alt=\"\" class=\"player-check\" data-root=\"https://cdn.sofifa.net/players/\" data-src=\"https://cdn.sofifa.net/players/265/188/23_60.png\" data-srcset=\"https://cdn.sofifa.net/players/265/188/23_120.png 2x, https://cdn.sofifa.net/players/265/188/23_180.png 3x\" data-type=\"player\" id=\"265188\" src=\"https://cdn.sofifa.net/players/notfound_0_60.png\"/>\\n          </figure>\\n         </td>\\n         <td class=\"col-name\">\\n          <a aria-label=\"Giorgio Scalvini\" data-tip-pos=\"top\" href=\"/player/265188/giorgio-scalvini/230017/\" role=\"tooltip\">\\n           <div class=\"ellipsis\">\\n            G. Scalvini\\n           </div>\\n          </a>\\n          <img alt=\"\" class=\"flag\" data-src=\"https://cdn.sofifa.net/flags/it.png\" data-srcset=\"https://cdn.sofifa.net/flags/it@2x.png 2x, https://cdn.sofifa.net/flags/it@3x.png 3x\" height=\"16\" src=\"https://cdn.sofifa.net/pixel.gif\" title=\"Italy\" width=\"21\"/>\\n          <a href=\"/players?pn=5\" rel=\"nofollow\">\\n           <span class=\"pos pos5\">\\n            CB\\n           </span>\\n          </a>\\n         </td>\\n         <td class=\"col col-ae\" data-col=\"ae\">\\n          18\\n         </td>\\n         <td class=\"col col-oa\" data-col=\"oa\">\\n          <span class=\"bp3-tag p p-71\">\\n           71\\n          </span>\\n         </td>\\n         <td class=\"col col-pt\" data-col=\"pt\">\\n          <span class=\"bp3-tag p p-86\">\\n           86\\n          </span>\\n         </td>\\n         <td class=\"col-name\">\\n          <div class=\"ellipsis\">\\n           <figure class=\"avatar avatar-sm transparent\">\\n            <img alt=\"\" class=\"team\" data-root=\"https://cdn.sofifa.net/teams/\" data-src=\"https://cdn.sofifa.net/teams/39/30.png\" data-srcset=\"https://cdn.sofifa.net/teams/39/60.png 2x, https://cdn.sofifa.net/teams/39/90.png 3x\" data-type=\"team\" src=\"https://cdn.sofifa.net/teams/notfound_30.png\"/>\\n           </figure>\\n           <a href=\"/team/39/atalanta/\">\\n            Atalanta\\n           </a>\\n           <div class=\"sub\">\\n            2021 ~ 2023\\n           </div>\\n          </div>\\n         </td>\\n         <td class=\"col col-vl\" data-col=\"vl\">\\n          €4.1M\\n         </td>\\n         <td class=\"col col-wg\" data-col=\"wg\">\\n          €7K\\n         </td>\\n         <td class=\"col col-tt\" data-col=\"tt\">\\n          <span class=\"bp3-tag p\">\\n           1528\\n          </span>\\n         </td>\\n        </tr>\\n        <tr>\\n         <td class=\"col-avatar\">\\n          <figure class=\"avatar\">\\n           <img alt=\"\" class=\"player-check\" data-root=\"https://cdn.sofifa.net/players/\" data-src=\"https://cdn.sofifa.net/players/245/637/23_60.png\" data-srcset=\"https://cdn.sofifa.net/players/245/637/23_120.png 2x, https://cdn.sofifa.net/players/245/637/23_180.png 3x\" data-type=\"player\" id=\"245637\" src=\"https://cdn.sofifa.net/players/notfound_0_60.png\"/>\\n          </figure>\\n         </td>\\n         <td class=\"col-name\">\\n          <a aria-label=\"Georginio Rutter\" data-tip-pos=\"top\" href=\"/player/245637/georginio-rutter/230017/\" role=\"tooltip\">\\n           <div class=\"ellipsis\">\\n            G. Rutter\\n           </div>\\n          </a>\\n          <img alt=\"\" class=\"flag\" data-src=\"https://cdn.sofifa.net/flags/fr.png\" data-srcset=\"https://cdn.sofifa.net/flags/fr@2x.png 2x, https://cdn.sofifa.net/flags/fr@3x.png 3x\" height=\"16\" src=\"https://cdn.sofifa.net/pixel.gif\" title=\"France\" width=\"21\"/>\\n          <a href=\"/players?pn=25\" rel=\"nofollow\">\\n           <span class=\"pos pos25\">\\n            ST\\n           </span>\\n          </a>\\n         </td>\\n         <td class=\"col col-ae\" data-col=\"ae\">\\n          20\\n         </td>\\n         <td class=\"col col-oa\" data-col=\"oa\">\\n          <span class=\"bp3-tag p p-75\">\\n           75\\n          </span>\\n         </td>\\n         <td class=\"col col-pt\" data-col=\"pt\">\\n          <span class=\"bp3-tag p p-85\">\\n           85\\n          </span>\\n         </td>\\n         <td class=\"col-name\">\\n          <div class=\"ellipsis\">\\n           <figure class=\"avatar avatar-sm transparent\">\\n            <img alt=\"\" class=\"team\" data-root=\"https://cdn.sofifa.net/teams/\" data-src=\"https://cdn.sofifa.net/teams/8/30.png\" data-srcset=\"https://cdn.sofifa.net/teams/8/60.png 2x, https://cdn.sofifa.net/teams/8/90.png 3x\" data-type=\"team\" src=\"https://cdn.sofifa.net/teams/notfound_30.png\"/>\\n           </figure>\\n           <a href=\"/team/8/leeds-united/\">\\n            Leeds United\\n           </a>\\n           <div class=\"sub\">\\n            2023 ~ 2028\\n           </div>\\n          </div>\\n         </td>\\n         <td class=\"col col-vl\" data-col=\"vl\">\\n          €12.5M\\n         </td>\\n         <td class=\"col col-wg\" data-col=\"wg\">\\n          €30K\\n         </td>\\n         <td class=\"col col-tt\" data-col=\"tt\">\\n          <span class=\"bp3-tag p\">\\n           1751\\n          </span>\\n         </td>\\n        </tr>\\n        <tr>\\n         <td class=\"col-avatar\">\\n          <figure class=\"avatar\">\\n           <img alt=\"\" class=\"player-check\" data-root=\"https://cdn.sofifa.net/players/\" data-src=\"https://cdn.sofifa.net/players/255/565/23_60.png\" data-srcset=\"https://cdn.sofifa.net/players/255/565/23_120.png 2x, https://cdn.sofifa.net/players/255/565/23_180.png 3x\" data-type=\"player\" id=\"255565\" src=\"https://cdn.sofifa.net/players/notfound_0_60.png\"/>\\n          </figure>\\n         </td>\\n         <td class=\"col-name\">\\n          <a aria-label=\"Kaoru Mitoma\" data-tip-pos=\"top\" href=\"/player/255565/kaoru-mitoma/230017/\" role=\"tooltip\">\\n           <div class=\"ellipsis\">\\n            K. Mitoma\\n           </div>\\n          </a>\\n          <img alt=\"\" class=\"flag\" data-src=\"https://cdn.sofifa.net/flags/jp.png\" data-srcset=\"https://cdn.sofifa.net/flags/jp@2x.png 2x, https://cdn.sofifa.net/flags/jp@3x.png 3x\" height=\"16\" src=\"https://cdn.sofifa.net/pixel.gif\" title=\"Japan\" width=\"21\"/>\\n          <a href=\"/players?pn=16\" rel=\"nofollow\">\\n           <span class=\"pos pos16\">\\n            LM\\n           </span>\\n          </a>\\n          <a href=\"/players?pn=27\" rel=\"nofollow\">\\n           <span class=\"pos pos27\">\\n            LW\\n           </span>\\n          </a>\\n          <a href=\"/players?pn=8\" rel=\"nofollow\">\\n           <span class=\"pos pos8\">\\n            LWB\\n           </span>\\n          </a>\\n         </td>\\n         <td class=\"col col-ae\" data-col=\"ae\">\\n          25\\n         </td>\\n         <td class=\"col col-oa\" data-col=\"oa\">\\n          <span class=\"bp3-tag p p-77\">\\n           77\\n          </span>\\n         </td>\\n         <td class=\"col col-pt\" data-col=\"pt\">\\n          <span class=\"bp3-tag p p-80\">\\n           80\\n          </span>\\n         </td>\\n         <td class=\"col-name\">\\n          <div class=\"ellipsis\">\\n           <figure class=\"avatar avatar-sm transparent\">\\n            <img alt=\"\" class=\"team\" data-root=\"https://cdn.sofifa.net/teams/\" data-src=\"https://cdn.sofifa.net/teams/1808/30.png\" data-srcset=\"https://cdn.sofifa.net/teams/1808/60.png 2x, https://cdn.sofifa.net/teams/1808/90.png 3x\" data-type=\"team\" src=\"https://cdn.sofifa.net/teams/notfound_30.png\"/>\\n           </figure>\\n           <a href=\"/team/1808/brighton-hove-albion/\">\\n            Brighton &amp; Hove Albion\\n           </a>\\n           <div class=\"sub\">\\n            2021 ~ 2025\\n           </div>\\n          </div>\\n         </td>\\n         <td class=\"col col-vl\" data-col=\"vl\">\\n          €14M\\n         </td>\\n         <td class=\"col col-wg\" data-col=\"wg\">\\n          €57K\\n         </td>\\n         <td class=\"col col-tt\" data-col=\"tt\">\\n          <span class=\"bp3-tag p\">\\n           1977\\n          </span>\\n         </td>\\n        </tr>\\n        <tr>\\n         <td class=\"col-avatar\">\\n          <figure class=\"avatar\">\\n           <img alt=\"\" class=\"player-check\" data-root=\"https://cdn.sofifa.net/players/\" data-src=\"https://cdn.sofifa.net/players/264/388/23_60.png\" data-srcset=\"https://cdn.sofifa.net/players/264/388/23_120.png 2x, https://cdn.sofifa.net/players/264/388/23_180.png 3x\" data-type=\"player\" id=\"264388\" src=\"https://cdn.sofifa.net/players/notfound_0_60.png\"/>\\n          </figure>\\n         </td>\\n         <td class=\"col-name\">\\n          <a aria-label=\"Alberto Moleiro González\" data-tip-pos=\"top\" href=\"/player/264388/alberto-moleiro-gonzalez/230017/\" role=\"tooltip\">\\n           <div class=\"ellipsis\">\\n            Moleiro\\n           </div>\\n          </a>\\n          <img alt=\"\" class=\"flag\" data-src=\"https://cdn.sofifa.net/flags/es.png\" data-srcset=\"https://cdn.sofifa.net/flags/es@2x.png 2x, https://cdn.sofifa.net/flags/es@3x.png 3x\" height=\"16\" src=\"https://cdn.sofifa.net/pixel.gif\" title=\"Spain\" width=\"21\"/>\\n          <a href=\"/players?pn=16\" rel=\"nofollow\">\\n           <span class=\"pos pos16\">\\n            LM\\n           </span>\\n          </a>\\n          <a href=\"/players?pn=14\" rel=\"nofollow\">\\n           <span class=\"pos pos14\">\\n            CM\\n           </span>\\n          </a>\\n          <a href=\"/players?pn=18\" rel=\"nofollow\">\\n           <span class=\"pos pos18\">\\n            CAM\\n           </span>\\n          </a>\\n         </td>\\n         <td class=\"col col-ae\" data-col=\"ae\">\\n          18\\n         </td>\\n         <td class=\"col col-oa\" data-col=\"oa\">\\n          <span class=\"bp3-tag p p-74\">\\n           74\\n          </span>\\n         </td>\\n         <td class=\"col col-pt\" data-col=\"pt\">\\n          <span class=\"bp3-tag p p-87\">\\n           87\\n          </span>\\n         </td>\\n         <td class=\"col-name\">\\n          <div class=\"ellipsis\">\\n           <figure class=\"avatar avatar-sm transparent\">\\n            <img alt=\"\" class=\"team\" data-root=\"https://cdn.sofifa.net/teams/\" data-src=\"https://cdn.sofifa.net/teams/472/30.png\" data-srcset=\"https://cdn.sofifa.net/teams/472/60.png 2x, https://cdn.sofifa.net/teams/472/90.png 3x\" data-type=\"team\" src=\"https://cdn.sofifa.net/teams/notfound_30.png\"/>\\n           </figure>\\n           <a href=\"/team/472/las-palmas/\">\\n            Las Palmas\\n           </a>\\n           <div class=\"sub\">\\n            2021 ~ 2026\\n           </div>\\n          </div>\\n         </td>\\n         <td class=\"col col-vl\" data-col=\"vl\">\\n          €10M\\n         </td>\\n         <td class=\"col col-wg\" data-col=\"wg\">\\n          €3K\\n         </td>\\n         <td class=\"col col-tt\" data-col=\"tt\">\\n          <span class=\"bp3-tag p\">\\n           1846\\n          </span>\\n         </td>\\n        </tr>\\n        <tr>\\n         <td class=\"col-avatar\">\\n          <figure class=\"avatar\">\\n           <img alt=\"\" class=\"player-check\" data-root=\"https://cdn.sofifa.net/players/\" data-src=\"https://cdn.sofifa.net/players/270/086/23_60.png\" data-srcset=\"https://cdn.sofifa.net/players/270/086/23_120.png 2x, https://cdn.sofifa.net/players/270/086/23_180.png 3x\" data-type=\"player\" id=\"270086\" src=\"https://cdn.sofifa.net/players/notfound_0_60.png\"/>\\n          </figure>\\n         </td>\\n         <td class=\"col-name\">\\n          <a aria-label=\"António João Tavares Silva\" data-tip-pos=\"top\" href=\"/player/270086/antonio-joao-tavares-silva/230017/\" role=\"tooltip\">\\n           <div class=\"ellipsis\">\\n            António Silva\\n           </div>\\n          </a>\\n          <img alt=\"\" class=\"flag\" data-src=\"https://cdn.sofifa.net/flags/pt.png\" data-srcset=\"https://cdn.sofifa.net/flags/pt@2x.png 2x, https://cdn.sofifa.net/flags/pt@3x.png 3x\" height=\"16\" src=\"https://cdn.sofifa.net/pixel.gif\" title=\"Portugal\" width=\"21\"/>\\n          <a href=\"/players?pn=5\" rel=\"nofollow\">\\n           <span class=\"pos pos5\">\\n            CB\\n           </span>\\n          </a>\\n         </td>\\n         <td class=\"col col-ae\" data-col=\"ae\">\\n          18\\n         </td>\\n         <td class=\"col col-oa\" data-col=\"oa\">\\n          <span class=\"bp3-tag p p-75\">\\n           75\\n          </span>\\n         </td>\\n         <td class=\"col col-pt\" data-col=\"pt\">\\n          <span class=\"bp3-tag p p-87\">\\n           87\\n          </span>\\n         </td>\\n         <td class=\"col-name\">\\n          <div class=\"ellipsis\">\\n           <figure class=\"avatar avatar-sm transparent\">\\n            <img alt=\"\" class=\"team\" data-root=\"https://cdn.sofifa.net/teams/\" data-src=\"https://cdn.sofifa.net/teams/234/30.png\" data-srcset=\"https://cdn.sofifa.net/teams/234/60.png 2x, https://cdn.sofifa.net/teams/234/90.png 3x\" data-type=\"team\" src=\"https://cdn.sofifa.net/teams/notfound_30.png\"/>\\n           </figure>\\n           <a href=\"/team/234/benfica/\">\\n            Benfica\\n           </a>\\n           <div class=\"sub\">\\n            2022 ~ 2027\\n           </div>\\n          </div>\\n         </td>\\n         <td class=\"col col-vl\" data-col=\"vl\">\\n          €12M\\n         </td>\\n         <td class=\"col col-wg\" data-col=\"wg\">\\n          €3K\\n         </td>\\n         <td class=\"col col-tt\" data-col=\"tt\">\\n          <span class=\"bp3-tag p\">\\n           1701\\n          </span>\\n         </td>\\n        </tr>\\n        <tr>\\n         <td class=\"col-avatar\">\\n          <figure class=\"avatar\">\\n           <img alt=\"\" class=\"player-check\" data-root=\"https://cdn.sofifa.net/players/\" data-src=\"https://cdn.sofifa.net/players/259/399/23_60.png\" data-srcset=\"https://cdn.sofifa.net/players/259/399/23_120.png 2x, https://cdn.sofifa.net/players/259/399/23_180.png 3x\" data-type=\"player\" id=\"259399\" src=\"https://cdn.sofifa.net/players/notfound_0_60.png\"/>\\n          </figure>\\n         </td>\\n         <td class=\"col-name\">\\n          <a aria-label=\"Rasmus Højlund\" data-tip-pos=\"top\" href=\"/player/259399/rasmus-hojlund/230017/\" role=\"tooltip\">\\n           <div class=\"ellipsis\">\\n            R. Højlund\\n           </div>\\n          </a>\\n          <img alt=\"\" class=\"flag\" data-src=\"https://cdn.sofifa.net/flags/dk.png\" data-srcset=\"https://cdn.sofifa.net/flags/dk@2x.png 2x, https://cdn.sofifa.net/flags/dk@3x.png 3x\" height=\"16\" src=\"https://cdn.sofifa.net/pixel.gif\" title=\"Denmark\" width=\"21\"/>\\n          <a href=\"/players?pn=25\" rel=\"nofollow\">\\n           <span class=\"pos pos25\">\\n            ST\\n           </span>\\n          </a>\\n         </td>\\n         <td class=\"col col-ae\" data-col=\"ae\">\\n          19\\n         </td>\\n         <td class=\"col col-oa\" data-col=\"oa\">\\n          <span class=\"bp3-tag p p-71\">\\n           71\\n          </span>\\n         </td>\\n         <td class=\"col col-pt\" data-col=\"pt\">\\n          <span class=\"bp3-tag p p-86\">\\n           86\\n          </span>\\n         </td>\\n         <td class=\"col-name\">\\n          <div class=\"ellipsis\">\\n           <figure class=\"avatar avatar-sm transparent\">\\n            <img alt=\"\" class=\"team\" data-root=\"https://cdn.sofifa.net/teams/\" data-src=\"https://cdn.sofifa.net/teams/39/30.png\" data-srcset=\"https://cdn.sofifa.net/teams/39/60.png 2x, https://cdn.sofifa.net/teams/39/90.png 3x\" data-type=\"team\" src=\"https://cdn.sofifa.net/teams/notfound_30.png\"/>\\n           </figure>\\n           <a href=\"/team/39/atalanta/\">\\n            Atalanta\\n           </a>\\n           <div class=\"sub\">\\n            2022 ~ 2027\\n           </div>\\n          </div>\\n         </td>\\n         <td class=\"col col-vl\" data-col=\"vl\">\\n          €4.5M\\n         </td>\\n         <td class=\"col col-wg\" data-col=\"wg\">\\n          €17K\\n         </td>\\n         <td class=\"col col-tt\" data-col=\"tt\">\\n          <span class=\"bp3-tag p\">\\n           1718\\n          </span>\\n         </td>\\n        </tr>\\n        <tr>\\n         <td class=\"col-avatar\">\\n          <figure class=\"avatar\">\\n           <img alt=\"\" class=\"player-check\" data-root=\"https://cdn.sofifa.net/players/\" data-src=\"https://cdn.sofifa.net/players/247/497/23_60.png\" data-srcset=\"https://cdn.sofifa.net/players/247/497/23_120.png 2x, https://cdn.sofifa.net/players/247/497/23_180.png 3x\" data-type=\"player\" id=\"247497\" src=\"https://cdn.sofifa.net/players/notfound_0_60.png\"/>\\n          </figure>\\n         </td>\\n         <td class=\"col-name\">\\n          <a aria-label=\"Armel Bella Kotchap\" data-tip-pos=\"top\" href=\"/player/247497/armel-bella-kotchap/230017/\" role=\"tooltip\">\\n           <div class=\"ellipsis\">\\n            A. Bella Kotchap\\n           </div>\\n          </a>\\n          <img alt=\"\" class=\"flag\" data-src=\"https://cdn.sofifa.net/flags/de.png\" data-srcset=\"https://cdn.sofifa.net/flags/de@2x.png 2x, https://cdn.sofifa.net/flags/de@3x.png 3x\" height=\"16\" src=\"https://cdn.sofifa.net/pixel.gif\" title=\"Germany\" width=\"21\"/>\\n          <a href=\"/players?pn=5\" rel=\"nofollow\">\\n           <span class=\"pos pos5\">\\n            CB\\n           </span>\\n          </a>\\n         </td>\\n         <td class=\"col col-ae\" data-col=\"ae\">\\n          20\\n         </td>\\n         <td class=\"col col-oa\" data-col=\"oa\">\\n          <span class=\"bp3-tag p p-74\">\\n           74\\n          </span>\\n         </td>\\n         <td class=\"col col-pt\" data-col=\"pt\">\\n          <span class=\"bp3-tag p p-83\">\\n           83\\n          </span>\\n         </td>\\n         <td class=\"col-name\">\\n          <div class=\"ellipsis\">\\n           <figure class=\"avatar avatar-sm transparent\">\\n            <img alt=\"\" class=\"team\" data-root=\"https://cdn.sofifa.net/teams/\" data-src=\"https://cdn.sofifa.net/teams/17/30.png\" data-srcset=\"https://cdn.sofifa.net/teams/17/60.png 2x, https://cdn.sofifa.net/teams/17/90.png 3x\" data-type=\"team\" src=\"https://cdn.sofifa.net/teams/notfound_30.png\"/>\\n           </figure>\\n           <a href=\"/team/17/southampton/\">\\n            Southampton\\n           </a>\\n           <div class=\"sub\">\\n            2022 ~ 2026\\n           </div>\\n          </div>\\n         </td>\\n         <td class=\"col col-vl\" data-col=\"vl\">\\n          €8.5M\\n         </td>\\n         <td class=\"col col-wg\" data-col=\"wg\">\\n          €28K\\n         </td>\\n         <td class=\"col col-tt\" data-col=\"tt\">\\n          <span class=\"bp3-tag p\">\\n           1579\\n          </span>\\n         </td>\\n        </tr>\\n        <tr>\\n         <td class=\"col-avatar\">\\n          <figure class=\"avatar\">\\n           <img alt=\"\" class=\"player-check\" data-root=\"https://cdn.sofifa.net/players/\" data-src=\"https://cdn.sofifa.net/players/239/837/23_60.png\" data-srcset=\"https://cdn.sofifa.net/players/239/837/23_120.png 2x, https://cdn.sofifa.net/players/239/837/23_180.png 3x\" data-type=\"player\" id=\"239837\" src=\"https://cdn.sofifa.net/players/notfound_0_60.png\"/>\\n          </figure>\\n         </td>\\n         <td class=\"col-name\">\\n          <a aria-label=\"Alexis Mac Allister\" data-tip-pos=\"top\" href=\"/player/239837/alexis-mac-allister/230017/\" role=\"tooltip\">\\n           <div class=\"ellipsis\">\\n            A. Mac Allister\\n           </div>\\n          </a>\\n          <img alt=\"\" class=\"flag\" data-src=\"https://cdn.sofifa.net/flags/ar.png\" data-srcset=\"https://cdn.sofifa.net/flags/ar@2x.png 2x, https://cdn.sofifa.net/flags/ar@3x.png 3x\" height=\"16\" src=\"https://cdn.sofifa.net/pixel.gif\" title=\"Argentina\" width=\"21\"/>\\n          <a href=\"/players?pn=14\" rel=\"nofollow\">\\n           <span class=\"pos pos14\">\\n            CM\\n           </span>\\n          </a>\\n          <a href=\"/players?pn=18\" rel=\"nofollow\">\\n           <span class=\"pos pos18\">\\n            CAM\\n           </span>\\n          </a>\\n          <a href=\"/players?pn=10\" rel=\"nofollow\">\\n           <span class=\"pos pos10\">\\n            CDM\\n           </span>\\n          </a>\\n         </td>\\n         <td class=\"col col-ae\" data-col=\"ae\">\\n          23\\n         </td>\\n         <td class=\"col col-oa\" data-col=\"oa\">\\n          <span class=\"bp3-tag p p-78\">\\n           78\\n          </span>\\n         </td>\\n         <td class=\"col col-pt\" data-col=\"pt\">\\n          <span class=\"bp3-tag p p-83\">\\n           83\\n          </span>\\n         </td>\\n         <td class=\"col-name\">\\n          <div class=\"ellipsis\">\\n           <figure class=\"avatar avatar-sm transparent\">\\n            <img alt=\"\" class=\"team\" data-root=\"https://cdn.sofifa.net/teams/\" data-src=\"https://cdn.sofifa.net/teams/1808/30.png\" data-srcset=\"https://cdn.sofifa.net/teams/1808/60.png 2x, https://cdn.sofifa.net/teams/1808/90.png 3x\" data-type=\"team\" src=\"https://cdn.sofifa.net/teams/notfound_30.png\"/>\\n           </figure>\\n           <a href=\"/team/1808/brighton-hove-albion/\">\\n            Brighton &amp; Hove Albion\\n           </a>\\n           <div class=\"sub\">\\n            2019 ~ 2025\\n           </div>\\n          </div>\\n         </td>\\n         <td class=\"col col-vl\" data-col=\"vl\">\\n          €21M\\n         </td>\\n         <td class=\"col col-wg\" data-col=\"wg\">\\n          €56K\\n         </td>\\n         <td class=\"col col-tt\" data-col=\"tt\">\\n          <span class=\"bp3-tag p\">\\n           2129\\n          </span>\\n         </td>\\n        </tr>\\n        <tr>\\n         <td class=\"col-avatar\">\\n          <figure class=\"avatar\">\\n           <img alt=\"\" class=\"player-check\" data-root=\"https://cdn.sofifa.net/players/\" data-src=\"https://cdn.sofifa.net/players/245/371/23_60.png\" data-srcset=\"https://cdn.sofifa.net/players/245/371/23_120.png 2x, https://cdn.sofifa.net/players/245/371/23_180.png 3x\" data-type=\"player\" id=\"245371\" src=\"https://cdn.sofifa.net/players/notfound_0_60.png\"/>\\n          </figure>\\n         </td>\\n         <td class=\"col-name\">\\n          <a aria-label=\"Thiago Almada\" data-tip-pos=\"top\" href=\"/player/245371/thiago-almada/230017/\" role=\"tooltip\">\\n           <div class=\"ellipsis\">\\n            T. Almada\\n           </div>\\n          </a>\\n          <img alt=\"\" class=\"flag\" data-src=\"https://cdn.sofifa.net/flags/ar.png\" data-srcset=\"https://cdn.sofifa.net/flags/ar@2x.png 2x, https://cdn.sofifa.net/flags/ar@3x.png 3x\" height=\"16\" src=\"https://cdn.sofifa.net/pixel.gif\" title=\"Argentina\" width=\"21\"/>\\n          <a href=\"/players?pn=18\" rel=\"nofollow\">\\n           <span class=\"pos pos18\">\\n            CAM\\n           </span>\\n          </a>\\n          <a href=\"/players?pn=14\" rel=\"nofollow\">\\n           <span class=\"pos pos14\">\\n            CM\\n           </span>\\n          </a>\\n          <a href=\"/players?pn=21\" rel=\"nofollow\">\\n           <span class=\"pos pos21\">\\n            CF\\n           </span>\\n          </a>\\n         </td>\\n         <td class=\"col col-ae\" data-col=\"ae\">\\n          21\\n         </td>\\n         <td class=\"col col-oa\" data-col=\"oa\">\\n          <span class=\"bp3-tag p p-76\">\\n           76\\n          </span>\\n         </td>\\n         <td class=\"col col-pt\" data-col=\"pt\">\\n          <span class=\"bp3-tag p p-87\">\\n           87\\n          </span>\\n         </td>\\n         <td class=\"col-name\">\\n          <div class=\"ellipsis\">\\n           <figure class=\"avatar avatar-sm transparent\">\\n            <img alt=\"\" class=\"team\" data-root=\"https://cdn.sofifa.net/teams/\" data-src=\"https://cdn.sofifa.net/teams/112885/30.png\" data-srcset=\"https://cdn.sofifa.net/teams/112885/60.png 2x, https://cdn.sofifa.net/teams/112885/90.png 3x\" data-type=\"team\" src=\"https://cdn.sofifa.net/teams/notfound_30.png\"/>\\n           </figure>\\n           <a href=\"/team/112885/atlanta-united/\">\\n            Atlanta United\\n           </a>\\n           <div class=\"sub\">\\n            2022 ~ 2025\\n           </div>\\n          </div>\\n         </td>\\n         <td class=\"col col-vl\" data-col=\"vl\">\\n          €17M\\n         </td>\\n         <td class=\"col col-wg\" data-col=\"wg\">\\n          €7K\\n         </td>\\n         <td class=\"col col-tt\" data-col=\"tt\">\\n          <span class=\"bp3-tag p\">\\n           2001\\n          </span>\\n         </td>\\n        </tr>\\n        <tr>\\n         <td class=\"col-avatar\">\\n          <figure class=\"avatar\">\\n           <img alt=\"\" class=\"player-check\" data-root=\"https://cdn.sofifa.net/players/\" data-src=\"https://cdn.sofifa.net/players/260/952/23_60.png\" data-srcset=\"https://cdn.sofifa.net/players/260/952/23_120.png 2x, https://cdn.sofifa.net/players/260/952/23_180.png 3x\" data-type=\"player\" id=\"260952\" src=\"https://cdn.sofifa.net/players/notfound_0_60.png\"/>\\n          </figure>\\n         </td>\\n         <td class=\"col-name\">\\n          <a aria-label=\"Andreas Schjelderup\" data-tip-pos=\"top\" href=\"/player/260952/andreas-schjelderup/230017/\" role=\"tooltip\">\\n           <div class=\"ellipsis\">\\n            A. Schjelderup\\n           </div>\\n          </a>\\n          <img alt=\"\" class=\"flag\" data-src=\"https://cdn.sofifa.net/flags/no.png\" data-srcset=\"https://cdn.sofifa.net/flags/no@2x.png 2x, https://cdn.sofifa.net/flags/no@3x.png 3x\" height=\"16\" src=\"https://cdn.sofifa.net/pixel.gif\" title=\"Norway\" width=\"21\"/>\\n          <a href=\"/players?pn=16\" rel=\"nofollow\">\\n           <span class=\"pos pos16\">\\n            LM\\n           </span>\\n          </a>\\n          <a href=\"/players?pn=27\" rel=\"nofollow\">\\n           <span class=\"pos pos27\">\\n            LW\\n           </span>\\n          </a>\\n          <a href=\"/players?pn=18\" rel=\"nofollow\">\\n           <span class=\"pos pos18\">\\n            CAM\\n           </span>\\n          </a>\\n         </td>\\n         <td class=\"col col-ae\" data-col=\"ae\">\\n          18\\n         </td>\\n         <td class=\"col col-oa\" data-col=\"oa\">\\n          <span class=\"bp3-tag p p-71\">\\n           71\\n          </span>\\n         </td>\\n         <td class=\"col col-pt\" data-col=\"pt\">\\n          <span class=\"bp3-tag p p-86\">\\n           86\\n          </span>\\n         </td>\\n         <td class=\"col-name\">\\n          <div class=\"ellipsis\">\\n           <figure class=\"avatar avatar-sm transparent\">\\n            <img alt=\"\" class=\"team\" data-root=\"https://cdn.sofifa.net/teams/\" data-src=\"https://cdn.sofifa.net/teams/234/30.png\" data-srcset=\"https://cdn.sofifa.net/teams/234/60.png 2x, https://cdn.sofifa.net/teams/234/90.png 3x\" data-type=\"team\" src=\"https://cdn.sofifa.net/teams/notfound_30.png\"/>\\n           </figure>\\n           <a href=\"/team/234/benfica/\">\\n            Benfica\\n           </a>\\n           <div class=\"sub\">\\n            2023 ~ 2028\\n           </div>\\n          </div>\\n         </td>\\n         <td class=\"col col-vl\" data-col=\"vl\">\\n          €4.4M\\n         </td>\\n         <td class=\"col col-wg\" data-col=\"wg\">\\n          €3K\\n         </td>\\n         <td class=\"col col-tt\" data-col=\"tt\">\\n          <span class=\"bp3-tag p\">\\n           1753\\n          </span>\\n         </td>\\n        </tr>\\n        <tr>\\n         <td class=\"col-avatar\">\\n          <figure class=\"avatar\">\\n           <img alt=\"\" class=\"player-check\" data-root=\"https://cdn.sofifa.net/players/\" data-src=\"https://cdn.sofifa.net/players/251/570/23_60.png\" data-srcset=\"https://cdn.sofifa.net/players/251/570/23_120.png 2x, https://cdn.sofifa.net/players/251/570/23_180.png 3x\" data-type=\"player\" id=\"251570\" src=\"https://cdn.sofifa.net/players/notfound_0_60.png\"/>\\n          </figure>\\n         </td>\\n         <td class=\"col-name\">\\n          <a aria-label=\"Rayan Cherki\" data-tip-pos=\"top\" href=\"/player/251570/rayan-cherki/230017/\" role=\"tooltip\">\\n           <div class=\"ellipsis\">\\n            R. Cherki\\n           </div>\\n          </a>\\n          <img alt=\"\" class=\"flag\" data-src=\"https://cdn.sofifa.net/flags/fr.png\" data-srcset=\"https://cdn.sofifa.net/flags/fr@2x.png 2x, https://cdn.sofifa.net/flags/fr@3x.png 3x\" height=\"16\" src=\"https://cdn.sofifa.net/pixel.gif\" title=\"France\" width=\"21\"/>\\n          <a href=\"/players?pn=18\" rel=\"nofollow\">\\n           <span class=\"pos pos18\">\\n            CAM\\n           </span>\\n          </a>\\n          <a href=\"/players?pn=27\" rel=\"nofollow\">\\n           <span class=\"pos pos27\">\\n            LW\\n           </span>\\n          </a>\\n          <a href=\"/players?pn=23\" rel=\"nofollow\">\\n           <span class=\"pos pos23\">\\n            RW\\n           </span>\\n          </a>\\n         </td>\\n         <td class=\"col col-ae\" data-col=\"ae\">\\n          18\\n         </td>\\n         <td class=\"col col-oa\" data-col=\"oa\">\\n          <span class=\"bp3-tag p p-73\">\\n           73\\n          </span>\\n         </td>\\n         <td class=\"col col-pt\" data-col=\"pt\">\\n          <span class=\"bp3-tag p p-88\">\\n           88\\n          </span>\\n         </td>\\n         <td class=\"col-name\">\\n          <div class=\"ellipsis\">\\n           <figure class=\"avatar avatar-sm transparent\">\\n            <img alt=\"\" class=\"team\" data-root=\"https://cdn.sofifa.net/teams/\" data-src=\"https://cdn.sofifa.net/teams/66/30.png\" data-srcset=\"https://cdn.sofifa.net/teams/66/60.png 2x, https://cdn.sofifa.net/teams/66/90.png 3x\" data-type=\"team\" src=\"https://cdn.sofifa.net/teams/notfound_30.png\"/>\\n           </figure>\\n           <a href=\"/team/66/olympique-lyonnais/\">\\n            Olympique Lyonnais\\n           </a>\\n           <div class=\"sub\">\\n            2019 ~ 2023\\n           </div>\\n          </div>\\n         </td>\\n         <td class=\"col col-vl\" data-col=\"vl\">\\n          €7M\\n         </td>\\n         <td class=\"col col-wg\" data-col=\"wg\">\\n          €15K\\n         </td>\\n         <td class=\"col col-tt\" data-col=\"tt\">\\n          <span class=\"bp3-tag p\">\\n           1719\\n          </span>\\n         </td>\\n        </tr>\\n        <tr>\\n         <td class=\"col-avatar\">\\n          <figure class=\"avatar\">\\n           <img alt=\"\" class=\"player-check\" data-root=\"https://cdn.sofifa.net/players/\" data-src=\"https://cdn.sofifa.net/players/232/293/23_60.png\" data-srcset=\"https://cdn.sofifa.net/players/232/293/23_120.png 2x, https://cdn.sofifa.net/players/232/293/23_180.png 3x\" data-type=\"player\" id=\"232293\" src=\"https://cdn.sofifa.net/players/notfound_0_60.png\"/>\\n          </figure>\\n         </td>\\n         <td class=\"col-name\">\\n          <a aria-label=\"Victor Osimhen\" data-tip-pos=\"top\" href=\"/player/232293/victor-osimhen/230017/\" role=\"tooltip\">\\n           <div class=\"ellipsis\">\\n            V. Osimhen\\n           </div>\\n          </a>\\n          <img alt=\"\" class=\"flag\" data-src=\"https://cdn.sofifa.net/flags/ng.png\" data-srcset=\"https://cdn.sofifa.net/flags/ng@2x.png 2x, https://cdn.sofifa.net/flags/ng@3x.png 3x\" height=\"16\" src=\"https://cdn.sofifa.net/pixel.gif\" title=\"Nigeria\" width=\"21\"/>\\n          <a href=\"/players?pn=25\" rel=\"nofollow\">\\n           <span class=\"pos pos25\">\\n            ST\\n           </span>\\n          </a>\\n         </td>\\n         <td class=\"col col-ae\" data-col=\"ae\">\\n          23\\n         </td>\\n         <td class=\"col col-oa\" data-col=\"oa\">\\n          <span class=\"bp3-tag p p-84\">\\n           84\\n          </span>\\n         </td>\\n         <td class=\"col col-pt\" data-col=\"pt\">\\n          <span class=\"bp3-tag p p-90\">\\n           90\\n          </span>\\n         </td>\\n         <td class=\"col-name\">\\n          <div class=\"ellipsis\">\\n           <figure class=\"avatar avatar-sm transparent\">\\n            <img alt=\"\" class=\"team\" data-root=\"https://cdn.sofifa.net/teams/\" data-src=\"https://cdn.sofifa.net/teams/48/30.png\" data-srcset=\"https://cdn.sofifa.net/teams/48/60.png 2x, https://cdn.sofifa.net/teams/48/90.png 3x\" data-type=\"team\" src=\"https://cdn.sofifa.net/teams/notfound_30.png\"/>\\n           </figure>\\n           <a href=\"/team/48/napoli/\">\\n            Napoli\\n           </a>\\n           <div class=\"sub\">\\n            2020 ~ 2025\\n           </div>\\n          </div>\\n         </td>\\n         <td class=\"col col-vl\" data-col=\"vl\">\\n          €67.5M\\n         </td>\\n         <td class=\"col col-wg\" data-col=\"wg\">\\n          €79K\\n         </td>\\n         <td class=\"col col-tt\" data-col=\"tt\">\\n          <span class=\"bp3-tag p\">\\n           2017\\n          </span>\\n         </td>\\n        </tr>\\n        <tr>\\n         <td class=\"col-avatar\">\\n          <figure class=\"avatar\">\\n           <img alt=\"\" class=\"player-check\" data-root=\"https://cdn.sofifa.net/players/\" data-src=\"https://cdn.sofifa.net/players/256/630/23_60.png\" data-srcset=\"https://cdn.sofifa.net/players/256/630/23_120.png 2x, https://cdn.sofifa.net/players/256/630/23_180.png 3x\" data-type=\"player\" id=\"256630\" src=\"https://cdn.sofifa.net/players/notfound_0_60.png\"/>\\n          </figure>\\n         </td>\\n         <td class=\"col-name\">\\n          <a aria-label=\"Florian Wirtz\" data-tip-pos=\"top\" href=\"/player/256630/florian-wirtz/230017/\" role=\"tooltip\">\\n           <div class=\"ellipsis\">\\n            F. Wirtz\\n           </div>\\n          </a>\\n          <img alt=\"\" class=\"flag\" data-src=\"https://cdn.sofifa.net/flags/de.png\" data-srcset=\"https://cdn.sofifa.net/flags/de@2x.png 2x, https://cdn.sofifa.net/flags/de@3x.png 3x\" height=\"16\" src=\"https://cdn.sofifa.net/pixel.gif\" title=\"Germany\" width=\"21\"/>\\n          <a href=\"/players?pn=18\" rel=\"nofollow\">\\n           <span class=\"pos pos18\">\\n            CAM\\n           </span>\\n          </a>\\n          <a href=\"/players?pn=14\" rel=\"nofollow\">\\n           <span class=\"pos pos14\">\\n            CM\\n           </span>\\n          </a>\\n         </td>\\n         <td class=\"col col-ae\" data-col=\"ae\">\\n          19\\n         </td>\\n         <td class=\"col col-oa\" data-col=\"oa\">\\n          <span class=\"bp3-tag p p-82\">\\n           82\\n          </span>\\n         </td>\\n         <td class=\"col col-pt\" data-col=\"pt\">\\n          <span class=\"bp3-tag p p-91\">\\n           91\\n          </span>\\n         </td>\\n         <td class=\"col-name\">\\n          <div class=\"ellipsis\">\\n           <figure class=\"avatar avatar-sm transparent\">\\n            <img alt=\"\" class=\"team\" data-root=\"https://cdn.sofifa.net/teams/\" data-src=\"https://cdn.sofifa.net/teams/32/30.png\" data-srcset=\"https://cdn.sofifa.net/teams/32/60.png 2x, https://cdn.sofifa.net/teams/32/90.png 3x\" data-type=\"team\" src=\"https://cdn.sofifa.net/teams/notfound_30.png\"/>\\n           </figure>\\n           <a href=\"/team/32/bayer-04-leverkusen/\">\\n            Bayer 04 Leverkusen\\n           </a>\\n           <div class=\"sub\">\\n            2020 ~ 2027\\n           </div>\\n          </div>\\n         </td>\\n         <td class=\"col col-vl\" data-col=\"vl\">\\n          €66M\\n         </td>\\n         <td class=\"col col-wg\" data-col=\"wg\">\\n          €38K\\n         </td>\\n         <td class=\"col col-tt\" data-col=\"tt\">\\n          <span class=\"bp3-tag p\">\\n           1994\\n          </span>\\n         </td>\\n        </tr>\\n        <tr>\\n         <td class=\"col-avatar\">\\n          <figure class=\"avatar\">\\n           <img alt=\"\" class=\"player-check\" data-root=\"https://cdn.sofifa.net/players/\" data-src=\"https://cdn.sofifa.net/players/262/842/23_60.png\" data-srcset=\"https://cdn.sofifa.net/players/262/842/23_120.png 2x, https://cdn.sofifa.net/players/262/842/23_180.png 3x\" data-type=\"player\" id=\"262842\" src=\"https://cdn.sofifa.net/players/notfound_0_60.png\"/>\\n          </figure>\\n         </td>\\n         <td class=\"col-name\">\\n          <a aria-label=\"Martin Baturina\" data-tip-pos=\"top\" href=\"/player/262842/martin-baturina/230017/\" role=\"tooltip\">\\n           <div class=\"ellipsis\">\\n            M. Baturina\\n           </div>\\n          </a>\\n          <img alt=\"\" class=\"flag\" data-src=\"https://cdn.sofifa.net/flags/hr.png\" data-srcset=\"https://cdn.sofifa.net/flags/hr@2x.png 2x, https://cdn.sofifa.net/flags/hr@3x.png 3x\" height=\"16\" src=\"https://cdn.sofifa.net/pixel.gif\" title=\"Croatia\" width=\"21\"/>\\n          <a href=\"/players?pn=14\" rel=\"nofollow\">\\n           <span class=\"pos pos14\">\\n            CM\\n           </span>\\n          </a>\\n          <a href=\"/players?pn=18\" rel=\"nofollow\">\\n           <span class=\"pos pos18\">\\n            CAM\\n           </span>\\n          </a>\\n         </td>\\n         <td class=\"col col-ae\" data-col=\"ae\">\\n          19\\n         </td>\\n         <td class=\"col col-oa\" data-col=\"oa\">\\n          <span class=\"bp3-tag p p-71\">\\n           71\\n          </span>\\n         </td>\\n         <td class=\"col col-pt\" data-col=\"pt\">\\n          <span class=\"bp3-tag p p-86\">\\n           86\\n          </span>\\n         </td>\\n         <td class=\"col-name\">\\n          <div class=\"ellipsis\">\\n           <figure class=\"avatar avatar-sm transparent\">\\n            <img alt=\"\" class=\"team\" data-root=\"https://cdn.sofifa.net/teams/\" data-src=\"https://cdn.sofifa.net/teams/211/30.png\" data-srcset=\"https://cdn.sofifa.net/teams/211/60.png 2x, https://cdn.sofifa.net/teams/211/90.png 3x\" data-type=\"team\" src=\"https://cdn.sofifa.net/teams/notfound_30.png\"/>\\n           </figure>\\n           <a href=\"/team/211/dinamo-zagreb/\">\\n            Dinamo Zagreb\\n           </a>\\n           <div class=\"sub\">\\n            2021 ~ 2027\\n           </div>\\n          </div>\\n         </td>\\n         <td class=\"col col-vl\" data-col=\"vl\">\\n          €4.4M\\n         </td>\\n         <td class=\"col col-wg\" data-col=\"wg\">\\n          €500\\n         </td>\\n         <td class=\"col col-tt\" data-col=\"tt\">\\n          <span class=\"bp3-tag p\">\\n           1910\\n          </span>\\n         </td>\\n        </tr>\\n        <tr>\\n         <td class=\"col-avatar\">\\n          <figure class=\"avatar\">\\n           <img alt=\"\" class=\"player-check\" data-root=\"https://cdn.sofifa.net/players/\" data-src=\"https://cdn.sofifa.net/players/020/801/23_60.png\" data-srcset=\"https://cdn.sofifa.net/players/020/801/23_120.png 2x, https://cdn.sofifa.net/players/020/801/23_180.png 3x\" data-type=\"player\" id=\"20801\" src=\"https://cdn.sofifa.net/players/notfound_0_60.png\"/>\\n          </figure>\\n         </td>\\n         <td class=\"col-name\">\\n          <a aria-label=\"C. Ronaldo dos Santos Aveiro\" data-tip-pos=\"top\" href=\"/player/20801/c-ronaldo-dos-santos-aveiro/230017/\" role=\"tooltip\">\\n           <div class=\"ellipsis\">\\n            Cristiano Ronaldo\\n           </div>\\n          </a>\\n          <img alt=\"\" class=\"flag\" data-src=\"https://cdn.sofifa.net/flags/pt.png\" data-srcset=\"https://cdn.sofifa.net/flags/pt@2x.png 2x, https://cdn.sofifa.net/flags/pt@3x.png 3x\" height=\"16\" src=\"https://cdn.sofifa.net/pixel.gif\" title=\"Portugal\" width=\"21\"/>\\n          <a href=\"/players?pn=25\" rel=\"nofollow\">\\n           <span class=\"pos pos25\">\\n            ST\\n           </span>\\n          </a>\\n         </td>\\n         <td class=\"col col-ae\" data-col=\"ae\">\\n          37\\n         </td>\\n         <td class=\"col col-oa\" data-col=\"oa\">\\n          <span class=\"bp3-tag p p-87\">\\n           87\\n          </span>\\n         </td>\\n         <td class=\"col col-pt\" data-col=\"pt\">\\n          <span class=\"bp3-tag p p-87\">\\n           87\\n          </span>\\n         </td>\\n         <td class=\"col-name\">\\n          <div class=\"ellipsis\">\\n           <figure class=\"avatar avatar-sm transparent\">\\n            <img alt=\"\" class=\"team\" data-root=\"https://cdn.sofifa.net/teams/\" data-src=\"https://cdn.sofifa.net/teams/112139/30.png\" data-srcset=\"https://cdn.sofifa.net/teams/112139/60.png 2x, https://cdn.sofifa.net/teams/112139/90.png 3x\" data-type=\"team\" src=\"https://cdn.sofifa.net/teams/notfound_30.png\"/>\\n           </figure>\\n           <a href=\"/team/112139/al-nassr/\">\\n            Al Nassr\\n           </a>\\n           <div class=\"sub\">\\n            2023 ~ 2025\\n           </div>\\n          </div>\\n         </td>\\n         <td class=\"col col-vl\" data-col=\"vl\">\\n          €27M\\n         </td>\\n         <td class=\"col col-wg\" data-col=\"wg\">\\n          €72K\\n         </td>\\n         <td class=\"col col-tt\" data-col=\"tt\">\\n          <span class=\"bp3-tag p\">\\n           2101\\n          </span>\\n         </td>\\n        </tr>\\n        <tr>\\n         <td class=\"col-avatar\">\\n          <figure class=\"avatar\">\\n           <img alt=\"\" class=\"player-check\" data-root=\"https://cdn.sofifa.net/players/\" data-src=\"https://cdn.sofifa.net/players/229/391/23_60.png\" data-srcset=\"https://cdn.sofifa.net/players/229/391/23_120.png 2x, https://cdn.sofifa.net/players/229/391/23_180.png 3x\" data-type=\"player\" id=\"229391\" src=\"https://cdn.sofifa.net/players/notfound_0_60.png\"/>\\n          </figure>\\n         </td>\\n         <td class=\"col-name\">\\n          <a aria-label=\"João Maria Palhinha Gonçalves\" data-tip-pos=\"top\" href=\"/player/229391/joao-maria-palhinha-goncalves/230017/\" role=\"tooltip\">\\n           <div class=\"ellipsis\">\\n            Palhinha\\n           </div>\\n          </a>\\n          <img alt=\"\" class=\"flag\" data-src=\"https://cdn.sofifa.net/flags/pt.png\" data-srcset=\"https://cdn.sofifa.net/flags/pt@2x.png 2x, https://cdn.sofifa.net/flags/pt@3x.png 3x\" height=\"16\" src=\"https://cdn.sofifa.net/pixel.gif\" title=\"Portugal\" width=\"21\"/>\\n          <a href=\"/players?pn=10\" rel=\"nofollow\">\\n           <span class=\"pos pos10\">\\n            CDM\\n           </span>\\n          </a>\\n          <a href=\"/players?pn=14\" rel=\"nofollow\">\\n           <span class=\"pos pos14\">\\n            CM\\n           </span>\\n          </a>\\n         </td>\\n         <td class=\"col col-ae\" data-col=\"ae\">\\n          26\\n         </td>\\n         <td class=\"col col-oa\" data-col=\"oa\">\\n          <span class=\"bp3-tag p p-82\">\\n           82\\n          </span>\\n         </td>\\n         <td class=\"col col-pt\" data-col=\"pt\">\\n          <span class=\"bp3-tag p p-84\">\\n           84\\n          </span>\\n         </td>\\n         <td class=\"col-name\">\\n          <div class=\"ellipsis\">\\n           <figure class=\"avatar avatar-sm transparent\">\\n            <img alt=\"\" class=\"team\" data-root=\"https://cdn.sofifa.net/teams/\" data-src=\"https://cdn.sofifa.net/teams/144/30.png\" data-srcset=\"https://cdn.sofifa.net/teams/144/60.png 2x, https://cdn.sofifa.net/teams/144/90.png 3x\" data-type=\"team\" src=\"https://cdn.sofifa.net/teams/notfound_30.png\"/>\\n           </figure>\\n           <a href=\"/team/144/fulham/\">\\n            Fulham\\n           </a>\\n           <div class=\"sub\">\\n            2022 ~ 2027\\n           </div>\\n          </div>\\n         </td>\\n         <td class=\"col col-vl\" data-col=\"vl\">\\n          €34M\\n         </td>\\n         <td class=\"col col-wg\" data-col=\"wg\">\\n          €72K\\n         </td>\\n         <td class=\"col col-tt\" data-col=\"tt\">\\n          <span class=\"bp3-tag p\">\\n           2051\\n          </span>\\n         </td>\\n        </tr>\\n        <tr>\\n         <td class=\"col-avatar\">\\n          <figure class=\"avatar\">\\n           <img alt=\"\" class=\"player-check\" data-root=\"https://cdn.sofifa.net/players/\" data-src=\"https://cdn.sofifa.net/players/260/599/23_60.png\" data-srcset=\"https://cdn.sofifa.net/players/260/599/23_120.png 2x, https://cdn.sofifa.net/players/260/599/23_180.png 3x\" data-type=\"player\" id=\"260599\" src=\"https://cdn.sofifa.net/players/notfound_0_60.png\"/>\\n          </figure>\\n         </td>\\n         <td class=\"col-name\">\\n          <a aria-label=\"Alan Varela\" data-tip-pos=\"top\" href=\"/player/260599/alan-varela/230017/\" role=\"tooltip\">\\n           <div class=\"ellipsis\">\\n            A. Varela\\n           </div>\\n          </a>\\n          <img alt=\"\" class=\"flag\" data-src=\"https://cdn.sofifa.net/flags/ar.png\" data-srcset=\"https://cdn.sofifa.net/flags/ar@2x.png 2x, https://cdn.sofifa.net/flags/ar@3x.png 3x\" height=\"16\" src=\"https://cdn.sofifa.net/pixel.gif\" title=\"Argentina\" width=\"21\"/>\\n          <a href=\"/players?pn=10\" rel=\"nofollow\">\\n           <span class=\"pos pos10\">\\n            CDM\\n           </span>\\n          </a>\\n          <a href=\"/players?pn=14\" rel=\"nofollow\">\\n           <span class=\"pos pos14\">\\n            CM\\n           </span>\\n          </a>\\n         </td>\\n         <td class=\"col col-ae\" data-col=\"ae\">\\n          20\\n         </td>\\n         <td class=\"col col-oa\" data-col=\"oa\">\\n          <span class=\"bp3-tag p p-76\">\\n           76\\n          </span>\\n         </td>\\n         <td class=\"col col-pt\" data-col=\"pt\">\\n          <span class=\"bp3-tag p p-86\">\\n           86\\n          </span>\\n         </td>\\n         <td class=\"col-name\">\\n          <div class=\"ellipsis\">\\n           <figure class=\"avatar avatar-sm transparent\">\\n            <img alt=\"\" class=\"team\" data-root=\"https://cdn.sofifa.net/teams/\" data-src=\"https://cdn.sofifa.net/teams/1877/30.png\" data-srcset=\"https://cdn.sofifa.net/teams/1877/60.png 2x, https://cdn.sofifa.net/teams/1877/90.png 3x\" data-type=\"team\" src=\"https://cdn.sofifa.net/teams/notfound_30.png\"/>\\n           </figure>\\n           <a href=\"/team/1877/boca-juniors/\">\\n            Boca Juniors\\n           </a>\\n           <div class=\"sub\">\\n            2020 ~ 2026\\n           </div>\\n          </div>\\n         </td>\\n         <td class=\"col col-vl\" data-col=\"vl\">\\n          €15.5M\\n         </td>\\n         <td class=\"col col-wg\" data-col=\"wg\">\\n          €11K\\n         </td>\\n         <td class=\"col col-tt\" data-col=\"tt\">\\n          <span class=\"bp3-tag p\">\\n           1967\\n          </span>\\n         </td>\\n        </tr>\\n        <tr>\\n         <td class=\"col-avatar\">\\n          <figure class=\"avatar\">\\n           <img alt=\"\" class=\"player-check\" data-root=\"https://cdn.sofifa.net/players/\" data-src=\"https://cdn.sofifa.net/players/158/023/23_60.png\" data-srcset=\"https://cdn.sofifa.net/players/158/023/23_120.png 2x, https://cdn.sofifa.net/players/158/023/23_180.png 3x\" data-type=\"player\" id=\"158023\" src=\"https://cdn.sofifa.net/players/notfound_0_60.png\"/>\\n          </figure>\\n         </td>\\n         <td class=\"col-name\">\\n          <a aria-label=\"Lionel Messi\" data-tip-pos=\"top\" href=\"/player/158023/lionel-messi/230017/\" role=\"tooltip\">\\n           <div class=\"ellipsis\">\\n            L. Messi\\n           </div>\\n          </a>\\n          <img alt=\"\" class=\"flag\" data-src=\"https://cdn.sofifa.net/flags/ar.png\" data-srcset=\"https://cdn.sofifa.net/flags/ar@2x.png 2x, https://cdn.sofifa.net/flags/ar@3x.png 3x\" height=\"16\" src=\"https://cdn.sofifa.net/pixel.gif\" title=\"Argentina\" width=\"21\"/>\\n          <a href=\"/players?pn=23\" rel=\"nofollow\">\\n           <span class=\"pos pos23\">\\n            RW\\n           </span>\\n          </a>\\n         </td>\\n         <td class=\"col col-ae\" data-col=\"ae\">\\n          35\\n         </td>\\n         <td class=\"col col-oa\" data-col=\"oa\">\\n          <span class=\"bp3-tag p p-91\">\\n           91\\n          </span>\\n         </td>\\n         <td class=\"col col-pt\" data-col=\"pt\">\\n          <span class=\"bp3-tag p p-91\">\\n           91\\n          </span>\\n         </td>\\n         <td class=\"col-name\">\\n          <div class=\"ellipsis\">\\n           <figure class=\"avatar avatar-sm transparent\">\\n            <img alt=\"\" class=\"team\" data-root=\"https://cdn.sofifa.net/teams/\" data-src=\"https://cdn.sofifa.net/teams/73/30.png\" data-srcset=\"https://cdn.sofifa.net/teams/73/60.png 2x, https://cdn.sofifa.net/teams/73/90.png 3x\" data-type=\"team\" src=\"https://cdn.sofifa.net/teams/notfound_30.png\"/>\\n           </figure>\\n           <a href=\"/team/73/paris-saint-germain/\">\\n            Paris Saint Germain\\n           </a>\\n           <div class=\"sub\">\\n            2021 ~ 2023\\n           </div>\\n          </div>\\n         </td>\\n         <td class=\"col col-vl\" data-col=\"vl\">\\n          €54M\\n         </td>\\n         <td class=\"col col-wg\" data-col=\"wg\">\\n          €195K\\n         </td>\\n         <td class=\"col col-tt\" data-col=\"tt\">\\n          <span class=\"bp3-tag p\">\\n           2190\\n          </span>\\n         </td>\\n        </tr>\\n        <tr>\\n         <td class=\"col-avatar\">\\n          <figure class=\"avatar\">\\n           <img alt=\"\" class=\"player-check\" data-root=\"https://cdn.sofifa.net/players/\" data-src=\"https://cdn.sofifa.net/players/246/191/23_60.png\" data-srcset=\"https://cdn.sofifa.net/players/246/191/23_120.png 2x, https://cdn.sofifa.net/players/246/191/23_180.png 3x\" data-type=\"player\" id=\"246191\" src=\"https://cdn.sofifa.net/players/notfound_0_60.png\"/>\\n          </figure>\\n         </td>\\n         <td class=\"col-name\">\\n          <a aria-label=\"Julián Álvarez\" data-tip-pos=\"top\" href=\"/player/246191/julian-alvarez/230017/\" role=\"tooltip\">\\n           <div class=\"ellipsis\">\\n            J. Álvarez\\n           </div>\\n          </a>\\n          <img alt=\"\" class=\"flag\" data-src=\"https://cdn.sofifa.net/flags/ar.png\" data-srcset=\"https://cdn.sofifa.net/flags/ar@2x.png 2x, https://cdn.sofifa.net/flags/ar@3x.png 3x\" height=\"16\" src=\"https://cdn.sofifa.net/pixel.gif\" title=\"Argentina\" width=\"21\"/>\\n          <a href=\"/players?pn=25\" rel=\"nofollow\">\\n           <span class=\"pos pos25\">\\n            ST\\n           </span>\\n          </a>\\n          <a href=\"/players?pn=23\" rel=\"nofollow\">\\n           <span class=\"pos pos23\">\\n            RW\\n           </span>\\n          </a>\\n         </td>\\n         <td class=\"col col-ae\" data-col=\"ae\">\\n          22\\n         </td>\\n         <td class=\"col col-oa\" data-col=\"oa\">\\n          <span class=\"bp3-tag p p-79\">\\n           79\\n          </span>\\n         </td>\\n         <td class=\"col col-pt\" data-col=\"pt\">\\n          <span class=\"bp3-tag p p-86\">\\n           86\\n          </span>\\n         </td>\\n         <td class=\"col-name\">\\n          <div class=\"ellipsis\">\\n           <figure class=\"avatar avatar-sm transparent\">\\n            <img alt=\"\" class=\"team\" data-root=\"https://cdn.sofifa.net/teams/\" data-src=\"https://cdn.sofifa.net/teams/10/30.png\" data-srcset=\"https://cdn.sofifa.net/teams/10/60.png 2x, https://cdn.sofifa.net/teams/10/90.png 3x\" data-type=\"team\" src=\"https://cdn.sofifa.net/teams/notfound_30.png\"/>\\n           </figure>\\n           <a href=\"/team/10/manchester-city/\">\\n            Manchester City\\n           </a>\\n           <div class=\"sub\">\\n            2022 ~ 2027\\n           </div>\\n          </div>\\n         </td>\\n         <td class=\"col col-vl\" data-col=\"vl\">\\n          €36M\\n         </td>\\n         <td class=\"col col-wg\" data-col=\"wg\">\\n          €110K\\n         </td>\\n         <td class=\"col col-tt\" data-col=\"tt\">\\n          <span class=\"bp3-tag p\">\\n           2129\\n          </span>\\n         </td>\\n        </tr>\\n        <tr>\\n         <td class=\"col-avatar\">\\n          <figure class=\"avatar\">\\n           <img alt=\"\" class=\"player-check\" data-root=\"https://cdn.sofifa.net/players/\" data-src=\"https://cdn.sofifa.net/players/256/790/23_60.png\" data-srcset=\"https://cdn.sofifa.net/players/256/790/23_120.png 2x, https://cdn.sofifa.net/players/256/790/23_180.png 3x\" data-type=\"player\" id=\"256790\" src=\"https://cdn.sofifa.net/players/notfound_0_60.png\"/>\\n          </figure>\\n         </td>\\n         <td class=\"col-name\">\\n          <a aria-label=\"Jamal Musiala\" data-tip-pos=\"top\" href=\"/player/256790/jamal-musiala/230017/\" role=\"tooltip\">\\n           <div class=\"ellipsis\">\\n            J. Musiala\\n           </div>\\n          </a>\\n          <img alt=\"\" class=\"flag\" data-src=\"https://cdn.sofifa.net/flags/de.png\" data-srcset=\"https://cdn.sofifa.net/flags/de@2x.png 2x, https://cdn.sofifa.net/flags/de@3x.png 3x\" height=\"16\" src=\"https://cdn.sofifa.net/pixel.gif\" title=\"Germany\" width=\"21\"/>\\n          <a href=\"/players?pn=18\" rel=\"nofollow\">\\n           <span class=\"pos pos18\">\\n            CAM\\n           </span>\\n          </a>\\n          <a href=\"/players?pn=16\" rel=\"nofollow\">\\n           <span class=\"pos pos16\">\\n            LM\\n           </span>\\n          </a>\\n          <a href=\"/players?pn=14\" rel=\"nofollow\">\\n           <span class=\"pos pos14\">\\n            CM\\n           </span>\\n          </a>\\n         </td>\\n         <td class=\"col col-ae\" data-col=\"ae\">\\n          19\\n         </td>\\n         <td class=\"col col-oa\" data-col=\"oa\">\\n          <span class=\"bp3-tag p p-83\">\\n           83\\n          </span>\\n         </td>\\n         <td class=\"col col-pt\" data-col=\"pt\">\\n          <span class=\"bp3-tag p p-92\">\\n           92\\n          </span>\\n         </td>\\n         <td class=\"col-name\">\\n          <div class=\"ellipsis\">\\n           <figure class=\"avatar avatar-sm transparent\">\\n            <img alt=\"\" class=\"team\" data-root=\"https://cdn.sofifa.net/teams/\" data-src=\"https://cdn.sofifa.net/teams/21/30.png\" data-srcset=\"https://cdn.sofifa.net/teams/21/60.png 2x, https://cdn.sofifa.net/teams/21/90.png 3x\" data-type=\"team\" src=\"https://cdn.sofifa.net/teams/notfound_30.png\"/>\\n           </figure>\\n           <a href=\"/team/21/fc-bayern-munchen/\">\\n            FC Bayern München\\n           </a>\\n           <div class=\"sub\">\\n            2020 ~ 2026\\n           </div>\\n          </div>\\n         </td>\\n         <td class=\"col col-vl\" data-col=\"vl\">\\n          €78.5M\\n         </td>\\n         <td class=\"col col-wg\" data-col=\"wg\">\\n          €46K\\n         </td>\\n         <td class=\"col col-tt\" data-col=\"tt\">\\n          <span class=\"bp3-tag p\">\\n           2027\\n          </span>\\n         </td>\\n        </tr>\\n        <tr>\\n         <td class=\"col-avatar\">\\n          <figure class=\"avatar\">\\n           <img alt=\"\" class=\"player-check\" data-root=\"https://cdn.sofifa.net/players/\" data-src=\"https://cdn.sofifa.net/players/252/371/23_60.png\" data-srcset=\"https://cdn.sofifa.net/players/252/371/23_120.png 2x, https://cdn.sofifa.net/players/252/371/23_180.png 3x\" data-type=\"player\" id=\"252371\" src=\"https://cdn.sofifa.net/players/notfound_0_60.png\"/>\\n          </figure>\\n         </td>\\n         <td class=\"col-name\">\\n          <a aria-label=\"Jude Bellingham\" data-tip-pos=\"top\" href=\"/player/252371/jude-bellingham/230017/\" role=\"tooltip\">\\n           <div class=\"ellipsis\">\\n            J. Bellingham\\n           </div>\\n          </a>\\n          <img alt=\"\" class=\"flag\" data-src=\"https://cdn.sofifa.net/flags/gb-eng.png\" data-srcset=\"https://cdn.sofifa.net/flags/gb-eng@2x.png 2x, https://cdn.sofifa.net/flags/gb-eng@3x.png 3x\" height=\"16\" src=\"https://cdn.sofifa.net/pixel.gif\" title=\"England\" width=\"21\"/>\\n          <a href=\"/players?pn=14\" rel=\"nofollow\">\\n           <span class=\"pos pos14\">\\n            CM\\n           </span>\\n          </a>\\n         </td>\\n         <td class=\"col col-ae\" data-col=\"ae\">\\n          19\\n         </td>\\n         <td class=\"col col-oa\" data-col=\"oa\">\\n          <span class=\"bp3-tag p p-85\">\\n           85\\n          </span>\\n         </td>\\n         <td class=\"col col-pt\" data-col=\"pt\">\\n          <span class=\"bp3-tag p p-91\">\\n           91\\n          </span>\\n         </td>\\n         <td class=\"col-name\">\\n          <div class=\"ellipsis\">\\n           <figure class=\"avatar avatar-sm transparent\">\\n            <img alt=\"\" class=\"team\" data-root=\"https://cdn.sofifa.net/teams/\" data-src=\"https://cdn.sofifa.net/teams/22/30.png\" data-srcset=\"https://cdn.sofifa.net/teams/22/60.png 2x, https://cdn.sofifa.net/teams/22/90.png 3x\" data-type=\"team\" src=\"https://cdn.sofifa.net/teams/notfound_30.png\"/>\\n           </figure>\\n           <a href=\"/team/22/borussia-dortmund/\">\\n            Borussia Dortmund\\n           </a>\\n           <div class=\"sub\">\\n            2020 ~ 2025\\n           </div>\\n          </div>\\n         </td>\\n         <td class=\"col col-vl\" data-col=\"vl\">\\n          €81.5M\\n         </td>\\n         <td class=\"col col-wg\" data-col=\"wg\">\\n          €44K\\n         </td>\\n         <td class=\"col col-tt\" data-col=\"tt\">\\n          <span class=\"bp3-tag p\">\\n           2198\\n          </span>\\n         </td>\\n        </tr>\\n        <tr>\\n         <td class=\"col-avatar\">\\n          <figure class=\"avatar\">\\n           <img alt=\"\" class=\"player-check\" data-root=\"https://cdn.sofifa.net/players/\" data-src=\"https://cdn.sofifa.net/players/233/260/23_60.png\" data-srcset=\"https://cdn.sofifa.net/players/233/260/23_120.png 2x, https://cdn.sofifa.net/players/233/260/23_180.png 3x\" data-type=\"player\" id=\"233260\" src=\"https://cdn.sofifa.net/players/notfound_0_60.png\"/>\\n          </figure>\\n         </td>\\n         <td class=\"col-name\">\\n          <a aria-label=\"Alexis Vega\" data-tip-pos=\"top\" href=\"/player/233260/alexis-vega/230017/\" role=\"tooltip\">\\n           <div class=\"ellipsis\">\\n            A. Vega\\n           </div>\\n          </a>\\n          <img alt=\"\" class=\"flag\" data-src=\"https://cdn.sofifa.net/flags/mx.png\" data-srcset=\"https://cdn.sofifa.net/flags/mx@2x.png 2x, https://cdn.sofifa.net/flags/mx@3x.png 3x\" height=\"16\" src=\"https://cdn.sofifa.net/pixel.gif\" title=\"Mexico\" width=\"21\"/>\\n          <a href=\"/players?pn=27\" rel=\"nofollow\">\\n           <span class=\"pos pos27\">\\n            LW\\n           </span>\\n          </a>\\n          <a href=\"/players?pn=25\" rel=\"nofollow\">\\n           <span class=\"pos pos25\">\\n            ST\\n           </span>\\n          </a>\\n          <a href=\"/players?pn=16\" rel=\"nofollow\">\\n           <span class=\"pos pos16\">\\n            LM\\n           </span>\\n          </a>\\n         </td>\\n         <td class=\"col col-ae\" data-col=\"ae\">\\n          24\\n         </td>\\n         <td class=\"col col-oa\" data-col=\"oa\">\\n          <span class=\"bp3-tag p p-79\">\\n           79\\n          </span>\\n         </td>\\n         <td class=\"col col-pt\" data-col=\"pt\">\\n          <span class=\"bp3-tag p p-82\">\\n           82\\n          </span>\\n         </td>\\n         <td class=\"col-name\">\\n          <div class=\"ellipsis\">\\n           <a href=\"/players?na=83\" rel=\"nofollow\" title=\"Mexico\">\\n            <img alt=\"\" class=\"flag\" data-src=\"https://cdn.sofifa.net/flags/mx.png\" data-srcset=\"https://cdn.sofifa.net/flags/mx@2x.png 2x, https://cdn.sofifa.net/flags/mx@3x.png 3x\" height=\"16\" src=\"https://cdn.sofifa.net/pixel.gif\" width=\"21\"/>\\n           </a>\\n           Mexico\\n           <div class=\"sub\">\\n            Free\\n           </div>\\n          </div>\\n         </td>\\n         <td class=\"col col-vl\" data-col=\"vl\">\\n          €0\\n         </td>\\n         <td class=\"col col-wg\" data-col=\"wg\">\\n          €0\\n         </td>\\n         <td class=\"col col-tt\" data-col=\"tt\">\\n          <span class=\"bp3-tag p\">\\n           1966\\n          </span>\\n         </td>\\n        </tr>\\n        <tr>\\n         <td class=\"col-avatar\">\\n          <figure class=\"avatar\">\\n           <img alt=\"\" class=\"player-check\" data-root=\"https://cdn.sofifa.net/players/\" data-src=\"https://cdn.sofifa.net/players/246/174/23_60.png\" data-srcset=\"https://cdn.sofifa.net/players/246/174/23_120.png 2x, https://cdn.sofifa.net/players/246/174/23_180.png 3x\" data-type=\"player\" id=\"246174\" src=\"https://cdn.sofifa.net/players/notfound_0_60.png\"/>\\n          </figure>\\n         </td>\\n         <td class=\"col-name\">\\n          <a aria-label=\"Harvey Elliott\" data-tip-pos=\"top\" href=\"/player/246174/harvey-elliott/230017/\" role=\"tooltip\">\\n           <div class=\"ellipsis\">\\n            H. Elliott\\n           </div>\\n          </a>\\n          <img alt=\"\" class=\"flag\" data-src=\"https://cdn.sofifa.net/flags/gb-eng.png\" data-srcset=\"https://cdn.sofifa.net/flags/gb-eng@2x.png 2x, https://cdn.sofifa.net/flags/gb-eng@3x.png 3x\" height=\"16\" src=\"https://cdn.sofifa.net/pixel.gif\" title=\"England\" width=\"21\"/>\\n          <a href=\"/players?pn=18\" rel=\"nofollow\">\\n           <span class=\"pos pos18\">\\n            CAM\\n           </span>\\n          </a>\\n          <a href=\"/players?pn=14\" rel=\"nofollow\">\\n           <span class=\"pos pos14\">\\n            CM\\n           </span>\\n          </a>\\n          <a href=\"/players?pn=23\" rel=\"nofollow\">\\n           <span class=\"pos pos23\">\\n            RW\\n           </span>\\n          </a>\\n         </td>\\n         <td class=\"col col-ae\" data-col=\"ae\">\\n          19\\n         </td>\\n         <td class=\"col col-oa\" data-col=\"oa\">\\n          <span class=\"bp3-tag p p-76\">\\n           76\\n          </span>\\n         </td>\\n         <td class=\"col col-pt\" data-col=\"pt\">\\n          <span class=\"bp3-tag p p-87\">\\n           87\\n          </span>\\n         </td>\\n         <td class=\"col-name\">\\n          <div class=\"ellipsis\">\\n           <figure class=\"avatar avatar-sm transparent\">\\n            <img alt=\"\" class=\"team\" data-root=\"https://cdn.sofifa.net/teams/\" data-src=\"https://cdn.sofifa.net/teams/9/30.png\" data-srcset=\"https://cdn.sofifa.net/teams/9/60.png 2x, https://cdn.sofifa.net/teams/9/90.png 3x\" data-type=\"team\" src=\"https://cdn.sofifa.net/teams/notfound_30.png\"/>\\n           </figure>\\n           <a href=\"/team/9/liverpool/\">\\n            Liverpool\\n           </a>\\n           <div class=\"sub\">\\n            2019 ~ 2027\\n           </div>\\n          </div>\\n         </td>\\n         <td class=\"col col-vl\" data-col=\"vl\">\\n          €16M\\n         </td>\\n         <td class=\"col col-wg\" data-col=\"wg\">\\n          €46K\\n         </td>\\n         <td class=\"col col-tt\" data-col=\"tt\">\\n          <span class=\"bp3-tag p\">\\n           1799\\n          </span>\\n         </td>\\n        </tr>\\n        <tr>\\n         <td class=\"col-avatar\">\\n          <figure class=\"avatar\">\\n           <img alt=\"\" class=\"player-check\" data-root=\"https://cdn.sofifa.net/players/\" data-src=\"https://cdn.sofifa.net/players/236/772/23_60.png\" data-srcset=\"https://cdn.sofifa.net/players/236/772/23_120.png 2x, https://cdn.sofifa.net/players/236/772/23_180.png 3x\" data-type=\"player\" id=\"236772\" src=\"https://cdn.sofifa.net/players/notfound_0_60.png\"/>\\n          </figure>\\n         </td>\\n         <td class=\"col-name\">\\n          <a aria-label=\"Dominik Szoboszlai\" data-tip-pos=\"top\" href=\"/player/236772/dominik-szoboszlai/230017/\" role=\"tooltip\">\\n           <div class=\"ellipsis\">\\n            D. Szoboszlai\\n           </div>\\n          </a>\\n          <img alt=\"\" class=\"flag\" data-src=\"https://cdn.sofifa.net/flags/hu.png\" data-srcset=\"https://cdn.sofifa.net/flags/hu@2x.png 2x, https://cdn.sofifa.net/flags/hu@3x.png 3x\" height=\"16\" src=\"https://cdn.sofifa.net/pixel.gif\" title=\"Hungary\" width=\"21\"/>\\n          <a href=\"/players?pn=18\" rel=\"nofollow\">\\n           <span class=\"pos pos18\">\\n            CAM\\n           </span>\\n          </a>\\n          <a href=\"/players?pn=16\" rel=\"nofollow\">\\n           <span class=\"pos pos16\">\\n            LM\\n           </span>\\n          </a>\\n         </td>\\n         <td class=\"col col-ae\" data-col=\"ae\">\\n          21\\n         </td>\\n         <td class=\"col col-oa\" data-col=\"oa\">\\n          <span class=\"bp3-tag p p-81\">\\n           81\\n          </span>\\n         </td>\\n         <td class=\"col col-pt\" data-col=\"pt\">\\n          <span class=\"bp3-tag p p-87\">\\n           87\\n          </span>\\n         </td>\\n         <td class=\"col-name\">\\n          <div class=\"ellipsis\">\\n           <figure class=\"avatar avatar-sm transparent\">\\n            <img alt=\"\" class=\"team\" data-root=\"https://cdn.sofifa.net/teams/\" data-src=\"https://cdn.sofifa.net/teams/112172/30.png\" data-srcset=\"https://cdn.sofifa.net/teams/112172/60.png 2x, https://cdn.sofifa.net/teams/112172/90.png 3x\" data-type=\"team\" src=\"https://cdn.sofifa.net/teams/notfound_30.png\"/>\\n           </figure>\\n           <a href=\"/team/112172/rb-leipzig/\">\\n            RB Leipzig\\n           </a>\\n           <div class=\"sub\">\\n            2021 ~ 2026\\n           </div>\\n          </div>\\n         </td>\\n         <td class=\"col col-vl\" data-col=\"vl\">\\n          €41.5M\\n         </td>\\n         <td class=\"col col-wg\" data-col=\"wg\">\\n          €46K\\n         </td>\\n         <td class=\"col col-tt\" data-col=\"tt\">\\n          <span class=\"bp3-tag p\">\\n           2024\\n          </span>\\n         </td>\\n        </tr>\\n        <tr>\\n         <td class=\"col-avatar\">\\n          <figure class=\"avatar\">\\n           <img alt=\"\" class=\"player-check\" data-root=\"https://cdn.sofifa.net/players/\" data-src=\"https://cdn.sofifa.net/players/237/692/23_60.png\" data-srcset=\"https://cdn.sofifa.net/players/237/692/23_120.png 2x, https://cdn.sofifa.net/players/237/692/23_180.png 3x\" data-type=\"player\" id=\"237692\" src=\"https://cdn.sofifa.net/players/notfound_0_60.png\"/>\\n          </figure>\\n         </td>\\n         <td class=\"col-name\">\\n          <a aria-label=\"Phil Foden\" data-tip-pos=\"top\" href=\"/player/237692/phil-foden/230017/\" role=\"tooltip\">\\n           <div class=\"ellipsis\">\\n            P. Foden\\n           </div>\\n          </a>\\n          <img alt=\"\" class=\"flag\" data-src=\"https://cdn.sofifa.net/flags/gb-eng.png\" data-srcset=\"https://cdn.sofifa.net/flags/gb-eng@2x.png 2x, https://cdn.sofifa.net/flags/gb-eng@3x.png 3x\" height=\"16\" src=\"https://cdn.sofifa.net/pixel.gif\" title=\"England\" width=\"21\"/>\\n          <a href=\"/players?pn=27\" rel=\"nofollow\">\\n           <span class=\"pos pos27\">\\n            LW\\n           </span>\\n          </a>\\n          <a href=\"/players?pn=21\" rel=\"nofollow\">\\n           <span class=\"pos pos21\">\\n            CF\\n           </span>\\n          </a>\\n          <a href=\"/players?pn=18\" rel=\"nofollow\">\\n           <span class=\"pos pos18\">\\n            CAM\\n           </span>\\n          </a>\\n         </td>\\n         <td class=\"col col-ae\" data-col=\"ae\">\\n          22\\n         </td>\\n         <td class=\"col col-oa\" data-col=\"oa\">\\n          <span class=\"bp3-tag p p-84\">\\n           84\\n          </span>\\n         </td>\\n         <td class=\"col col-pt\" data-col=\"pt\">\\n          <span class=\"bp3-tag p p-90\">\\n           90\\n          </span>\\n         </td>\\n         <td class=\"col-name\">\\n          <div class=\"ellipsis\">\\n           <figure class=\"avatar avatar-sm transparent\">\\n            <img alt=\"\" class=\"team\" data-root=\"https://cdn.sofifa.net/teams/\" data-src=\"https://cdn.sofifa.net/teams/10/30.png\" data-srcset=\"https://cdn.sofifa.net/teams/10/60.png 2x, https://cdn.sofifa.net/teams/10/90.png 3x\" data-type=\"team\" src=\"https://cdn.sofifa.net/teams/notfound_30.png\"/>\\n           </figure>\\n           <a href=\"/team/10/manchester-city/\">\\n            Manchester City\\n           </a>\\n           <div class=\"sub\">\\n            2016 ~ 2027\\n           </div>\\n          </div>\\n         </td>\\n         <td class=\"col col-vl\" data-col=\"vl\">\\n          €67.5M\\n         </td>\\n         <td class=\"col col-wg\" data-col=\"wg\">\\n          €165K\\n         </td>\\n         <td class=\"col col-tt\" data-col=\"tt\">\\n          <span class=\"bp3-tag p\">\\n           2084\\n          </span>\\n         </td>\\n        </tr>\\n        <tr>\\n         <td class=\"col-avatar\">\\n          <figure class=\"avatar\">\\n           <img alt=\"\" class=\"player-check\" data-root=\"https://cdn.sofifa.net/players/\" data-src=\"https://cdn.sofifa.net/players/243/715/23_60.png\" data-srcset=\"https://cdn.sofifa.net/players/243/715/23_120.png 2x, https://cdn.sofifa.net/players/243/715/23_180.png 3x\" data-type=\"player\" id=\"243715\" src=\"https://cdn.sofifa.net/players/notfound_0_60.png\"/>\\n          </figure>\\n         </td>\\n         <td class=\"col-name\">\\n          <a aria-label=\"William Saliba\" data-tip-pos=\"top\" href=\"/player/243715/william-saliba/230017/\" role=\"tooltip\">\\n           <div class=\"ellipsis\">\\n            W. Saliba\\n           </div>\\n          </a>\\n          <img alt=\"\" class=\"flag\" data-src=\"https://cdn.sofifa.net/flags/fr.png\" data-srcset=\"https://cdn.sofifa.net/flags/fr@2x.png 2x, https://cdn.sofifa.net/flags/fr@3x.png 3x\" height=\"16\" src=\"https://cdn.sofifa.net/pixel.gif\" title=\"France\" width=\"21\"/>\\n          <a href=\"/players?pn=5\" rel=\"nofollow\">\\n           <span class=\"pos pos5\">\\n            CB\\n           </span>\\n          </a>\\n         </td>\\n         <td class=\"col col-ae\" data-col=\"ae\">\\n          21\\n         </td>\\n         <td class=\"col col-oa\" data-col=\"oa\">\\n          <span class=\"bp3-tag p p-83\">\\n           83\\n          </span>\\n         </td>\\n         <td class=\"col col-pt\" data-col=\"pt\">\\n          <span class=\"bp3-tag p p-89\">\\n           89\\n          </span>\\n         </td>\\n         <td class=\"col-name\">\\n          <div class=\"ellipsis\">\\n           <figure class=\"avatar avatar-sm transparent\">\\n            <img alt=\"\" class=\"team\" data-root=\"https://cdn.sofifa.net/teams/\" data-src=\"https://cdn.sofifa.net/teams/1/30.png\" data-srcset=\"https://cdn.sofifa.net/teams/1/60.png 2x, https://cdn.sofifa.net/teams/1/90.png 3x\" data-type=\"team\" src=\"https://cdn.sofifa.net/teams/notfound_30.png\"/>\\n           </figure>\\n           <a href=\"/team/1/arsenal/\">\\n            Arsenal\\n           </a>\\n           <div class=\"sub\">\\n            2019 ~ 2024\\n           </div>\\n          </div>\\n         </td>\\n         <td class=\"col col-vl\" data-col=\"vl\">\\n          €53M\\n         </td>\\n         <td class=\"col col-wg\" data-col=\"wg\">\\n          €73K\\n         </td>\\n         <td class=\"col col-tt\" data-col=\"tt\">\\n          <span class=\"bp3-tag p\">\\n           1888\\n          </span>\\n         </td>\\n        </tr>\\n        <tr>\\n         <td class=\"col-avatar\">\\n          <figure class=\"avatar\">\\n           <img alt=\"\" class=\"player-check\" data-root=\"https://cdn.sofifa.net/players/\" data-src=\"https://cdn.sofifa.net/players/251/421/23_60.png\" data-srcset=\"https://cdn.sofifa.net/players/251/421/23_120.png 2x, https://cdn.sofifa.net/players/251/421/23_180.png 3x\" data-type=\"player\" id=\"251421\" src=\"https://cdn.sofifa.net/players/notfound_0_60.png\"/>\\n          </figure>\\n         </td>\\n         <td class=\"col-name\">\\n          <a aria-label=\"Brennan Johnson\" data-tip-pos=\"top\" href=\"/player/251421/brennan-johnson/230017/\" role=\"tooltip\">\\n           <div class=\"ellipsis\">\\n            B. Johnson\\n           </div>\\n          </a>\\n          <img alt=\"\" class=\"flag\" data-src=\"https://cdn.sofifa.net/flags/gb-wls.png\" data-srcset=\"https://cdn.sofifa.net/flags/gb-wls@2x.png 2x, https://cdn.sofifa.net/flags/gb-wls@3x.png 3x\" height=\"16\" src=\"https://cdn.sofifa.net/pixel.gif\" title=\"Wales\" width=\"21\"/>\\n          <a href=\"/players?pn=23\" rel=\"nofollow\">\\n           <span class=\"pos pos23\">\\n            RW\\n           </span>\\n          </a>\\n          <a href=\"/players?pn=25\" rel=\"nofollow\">\\n           <span class=\"pos pos25\">\\n            ST\\n           </span>\\n          </a>\\n          <a href=\"/players?pn=12\" rel=\"nofollow\">\\n           <span class=\"pos pos12\">\\n            RM\\n           </span>\\n          </a>\\n         </td>\\n         <td class=\"col col-ae\" data-col=\"ae\">\\n          21\\n         </td>\\n         <td class=\"col col-oa\" data-col=\"oa\">\\n          <span class=\"bp3-tag p p-75\">\\n           75\\n          </span>\\n         </td>\\n         <td class=\"col col-pt\" data-col=\"pt\">\\n          <span class=\"bp3-tag p p-85\">\\n           85\\n          </span>\\n         </td>\\n         <td class=\"col-name\">\\n          <div class=\"ellipsis\">\\n           <figure class=\"avatar avatar-sm transparent\">\\n            <img alt=\"\" class=\"team\" data-root=\"https://cdn.sofifa.net/teams/\" data-src=\"https://cdn.sofifa.net/teams/14/30.png\" data-srcset=\"https://cdn.sofifa.net/teams/14/60.png 2x, https://cdn.sofifa.net/teams/14/90.png 3x\" data-type=\"team\" src=\"https://cdn.sofifa.net/teams/notfound_30.png\"/>\\n           </figure>\\n           <a href=\"/team/14/nottingham-forest/\">\\n            Nottingham Forest\\n           </a>\\n           <div class=\"sub\">\\n            2019 ~ 2026\\n           </div>\\n          </div>\\n         </td>\\n         <td class=\"col col-vl\" data-col=\"vl\">\\n          €12.5M\\n         </td>\\n         <td class=\"col col-wg\" data-col=\"wg\">\\n          €43K\\n         </td>\\n         <td class=\"col col-tt\" data-col=\"tt\">\\n          <span class=\"bp3-tag p\">\\n           1837\\n          </span>\\n         </td>\\n        </tr>\\n        <tr>\\n         <td class=\"col-avatar\">\\n          <figure class=\"avatar\">\\n           <img alt=\"\" class=\"player-check\" data-root=\"https://cdn.sofifa.net/players/\" data-src=\"https://cdn.sofifa.net/players/251/470/23_60.png\" data-srcset=\"https://cdn.sofifa.net/players/251/470/23_120.png 2x, https://cdn.sofifa.net/players/251/470/23_180.png 3x\" data-type=\"player\" id=\"251470\" src=\"https://cdn.sofifa.net/players/notfound_0_60.png\"/>\\n          </figure>\\n         </td>\\n         <td class=\"col-name\">\\n          <a aria-label=\"Charles De Ketelaere\" data-tip-pos=\"top\" href=\"/player/251470/charles-de-ketelaere/230017/\" role=\"tooltip\">\\n           <div class=\"ellipsis\">\\n            C. De Ketelaere\\n           </div>\\n          </a>\\n          <img alt=\"\" class=\"flag\" data-src=\"https://cdn.sofifa.net/flags/be.png\" data-srcset=\"https://cdn.sofifa.net/flags/be@2x.png 2x, https://cdn.sofifa.net/flags/be@3x.png 3x\" height=\"16\" src=\"https://cdn.sofifa.net/pixel.gif\" title=\"Belgium\" width=\"21\"/>\\n          <a href=\"/players?pn=25\" rel=\"nofollow\">\\n           <span class=\"pos pos25\">\\n            ST\\n           </span>\\n          </a>\\n          <a href=\"/players?pn=27\" rel=\"nofollow\">\\n           <span class=\"pos pos27\">\\n            LW\\n           </span>\\n          </a>\\n         </td>\\n         <td class=\"col col-ae\" data-col=\"ae\">\\n          21\\n         </td>\\n         <td class=\"col col-oa\" data-col=\"oa\">\\n          <span class=\"bp3-tag p p-78\">\\n           78\\n          </span>\\n         </td>\\n         <td class=\"col col-pt\" data-col=\"pt\">\\n          <span class=\"bp3-tag p p-88\">\\n           88\\n          </span>\\n         </td>\\n         <td class=\"col-name\">\\n          <div class=\"ellipsis\">\\n           <figure class=\"avatar avatar-sm transparent\">\\n            <img alt=\"\" class=\"team\" data-root=\"https://cdn.sofifa.net/teams/\" data-src=\"https://cdn.sofifa.net/teams/47/30.png\" data-srcset=\"https://cdn.sofifa.net/teams/47/60.png 2x, https://cdn.sofifa.net/teams/47/90.png 3x\" data-type=\"team\" src=\"https://cdn.sofifa.net/teams/notfound_30.png\"/>\\n           </figure>\\n           <a href=\"/team/47/milan/\">\\n            Milan\\n           </a>\\n           <div class=\"sub\">\\n            2022 ~ 2027\\n           </div>\\n          </div>\\n         </td>\\n         <td class=\"col col-vl\" data-col=\"vl\">\\n          €32M\\n         </td>\\n         <td class=\"col col-wg\" data-col=\"wg\">\\n          €49K\\n         </td>\\n         <td class=\"col col-tt\" data-col=\"tt\">\\n          <span class=\"bp3-tag p\">\\n           2067\\n          </span>\\n         </td>\\n        </tr>\\n        <tr>\\n         <td class=\"col-avatar\">\\n          <figure class=\"avatar\">\\n           <img alt=\"\" class=\"player-check\" data-root=\"https://cdn.sofifa.net/players/\" data-src=\"https://cdn.sofifa.net/players/251/566/23_60.png\" data-srcset=\"https://cdn.sofifa.net/players/251/566/23_120.png 2x, https://cdn.sofifa.net/players/251/566/23_180.png 3x\" data-type=\"player\" id=\"251566\" src=\"https://cdn.sofifa.net/players/notfound_0_60.png\"/>\\n          </figure>\\n         </td>\\n         <td class=\"col-name\">\\n          <a aria-label=\"Gabriel Teodoro Martinelli Silva\" data-tip-pos=\"top\" href=\"/player/251566/gabriel-teodoro-martinelli-silva/230017/\" role=\"tooltip\">\\n           <div class=\"ellipsis\">\\n            Gabriel Martinelli\\n           </div>\\n          </a>\\n          <img alt=\"\" class=\"flag\" data-src=\"https://cdn.sofifa.net/flags/br.png\" data-srcset=\"https://cdn.sofifa.net/flags/br@2x.png 2x, https://cdn.sofifa.net/flags/br@3x.png 3x\" height=\"16\" src=\"https://cdn.sofifa.net/pixel.gif\" title=\"Brazil\" width=\"21\"/>\\n          <a href=\"/players?pn=27\" rel=\"nofollow\">\\n           <span class=\"pos pos27\">\\n            LW\\n           </span>\\n          </a>\\n          <a href=\"/players?pn=16\" rel=\"nofollow\">\\n           <span class=\"pos pos16\">\\n            LM\\n           </span>\\n          </a>\\n         </td>\\n         <td class=\"col col-ae\" data-col=\"ae\">\\n          21\\n         </td>\\n         <td class=\"col col-oa\" data-col=\"oa\">\\n          <span class=\"bp3-tag p p-81\">\\n           81\\n          </span>\\n         </td>\\n         <td class=\"col col-pt\" data-col=\"pt\">\\n          <span class=\"bp3-tag p p-88\">\\n           88\\n          </span>\\n         </td>\\n         <td class=\"col-name\">\\n          <div class=\"ellipsis\">\\n           <figure class=\"avatar avatar-sm transparent\">\\n            <img alt=\"\" class=\"team\" data-root=\"https://cdn.sofifa.net/teams/\" data-src=\"https://cdn.sofifa.net/teams/1/30.png\" data-srcset=\"https://cdn.sofifa.net/teams/1/60.png 2x, https://cdn.sofifa.net/teams/1/90.png 3x\" data-type=\"team\" src=\"https://cdn.sofifa.net/teams/notfound_30.png\"/>\\n           </figure>\\n           <a href=\"/team/1/arsenal/\">\\n            Arsenal\\n           </a>\\n           <div class=\"sub\">\\n            2019 ~ 2027\\n           </div>\\n          </div>\\n         </td>\\n         <td class=\"col col-vl\" data-col=\"vl\">\\n          €52.5M\\n         </td>\\n         <td class=\"col col-wg\" data-col=\"wg\">\\n          €78K\\n         </td>\\n         <td class=\"col col-tt\" data-col=\"tt\">\\n          <span class=\"bp3-tag p\">\\n           1992\\n          </span>\\n         </td>\\n        </tr>\\n        <tr>\\n         <td class=\"col-avatar\">\\n          <figure class=\"avatar\">\\n           <img alt=\"\" class=\"player-check\" data-root=\"https://cdn.sofifa.net/players/\" data-src=\"https://cdn.sofifa.net/players/260/601/23_60.png\" data-srcset=\"https://cdn.sofifa.net/players/260/601/23_120.png 2x, https://cdn.sofifa.net/players/260/601/23_180.png 3x\" data-type=\"player\" id=\"260601\" src=\"https://cdn.sofifa.net/players/notfound_0_60.png\"/>\\n          </figure>\\n         </td>\\n         <td class=\"col-name\">\\n          <a aria-label=\"Exequiel Zeballos\" data-tip-pos=\"top\" href=\"/player/260601/exequiel-zeballos/230017/\" role=\"tooltip\">\\n           <div class=\"ellipsis\">\\n            E. Zeballos\\n           </div>\\n          </a>\\n          <img alt=\"\" class=\"flag\" data-src=\"https://cdn.sofifa.net/flags/ar.png\" data-srcset=\"https://cdn.sofifa.net/flags/ar@2x.png 2x, https://cdn.sofifa.net/flags/ar@3x.png 3x\" height=\"16\" src=\"https://cdn.sofifa.net/pixel.gif\" title=\"Argentina\" width=\"21\"/>\\n          <a href=\"/players?pn=23\" rel=\"nofollow\">\\n           <span class=\"pos pos23\">\\n            RW\\n           </span>\\n          </a>\\n          <a href=\"/players?pn=27\" rel=\"nofollow\">\\n           <span class=\"pos pos27\">\\n            LW\\n           </span>\\n          </a>\\n         </td>\\n         <td class=\"col col-ae\" data-col=\"ae\">\\n          20\\n         </td>\\n         <td class=\"col col-oa\" data-col=\"oa\">\\n          <span class=\"bp3-tag p p-72\">\\n           72\\n          </span>\\n         </td>\\n         <td class=\"col col-pt\" data-col=\"pt\">\\n          <span class=\"bp3-tag p p-85\">\\n           85\\n          </span>\\n         </td>\\n         <td class=\"col-name\">\\n          <div class=\"ellipsis\">\\n           <figure class=\"avatar avatar-sm transparent\">\\n            <img alt=\"\" class=\"team\" data-root=\"https://cdn.sofifa.net/teams/\" data-src=\"https://cdn.sofifa.net/teams/1877/30.png\" data-srcset=\"https://cdn.sofifa.net/teams/1877/60.png 2x, https://cdn.sofifa.net/teams/1877/90.png 3x\" data-type=\"team\" src=\"https://cdn.sofifa.net/teams/notfound_30.png\"/>\\n           </figure>\\n           <a href=\"/team/1877/boca-juniors/\">\\n            Boca Juniors\\n           </a>\\n           <div class=\"sub\">\\n            2020 ~ 2026\\n           </div>\\n          </div>\\n         </td>\\n         <td class=\"col col-vl\" data-col=\"vl\">\\n          €5.5M\\n         </td>\\n         <td class=\"col col-wg\" data-col=\"wg\">\\n          €10K\\n         </td>\\n         <td class=\"col col-tt\" data-col=\"tt\">\\n          <span class=\"bp3-tag p\">\\n           1713\\n          </span>\\n         </td>\\n        </tr>\\n        <tr>\\n         <td class=\"col-avatar\">\\n          <figure class=\"avatar\">\\n           <img alt=\"\" class=\"player-check\" data-root=\"https://cdn.sofifa.net/players/\" data-src=\"https://cdn.sofifa.net/players/268/421/23_60.png\" data-srcset=\"https://cdn.sofifa.net/players/268/421/23_120.png 2x, https://cdn.sofifa.net/players/268/421/23_180.png 3x\" data-type=\"player\" id=\"268421\" src=\"https://cdn.sofifa.net/players/notfound_0_60.png\"/>\\n          </figure>\\n         </td>\\n         <td class=\"col-name\">\\n          <a aria-label=\"Mathys Tel\" data-tip-pos=\"top\" href=\"/player/268421/mathys-tel/230017/\" role=\"tooltip\">\\n           <div class=\"ellipsis\">\\n            M. Tel\\n           </div>\\n          </a>\\n          <img alt=\"\" class=\"flag\" data-src=\"https://cdn.sofifa.net/flags/fr.png\" data-srcset=\"https://cdn.sofifa.net/flags/fr@2x.png 2x, https://cdn.sofifa.net/flags/fr@3x.png 3x\" height=\"16\" src=\"https://cdn.sofifa.net/pixel.gif\" title=\"France\" width=\"21\"/>\\n          <a href=\"/players?pn=25\" rel=\"nofollow\">\\n           <span class=\"pos pos25\">\\n            ST\\n           </span>\\n          </a>\\n          <a href=\"/players?pn=16\" rel=\"nofollow\">\\n           <span class=\"pos pos16\">\\n            LM\\n           </span>\\n          </a>\\n          <a href=\"/players?pn=12\" rel=\"nofollow\">\\n           <span class=\"pos pos12\">\\n            RM\\n           </span>\\n          </a>\\n         </td>\\n         <td class=\"col col-ae\" data-col=\"ae\">\\n          17\\n         </td>\\n         <td class=\"col col-oa\" data-col=\"oa\">\\n          <span class=\"bp3-tag p p-67\">\\n           67\\n          </span>\\n         </td>\\n         <td class=\"col col-pt\" data-col=\"pt\">\\n          <span class=\"bp3-tag p p-86\">\\n           86\\n          </span>\\n         </td>\\n         <td class=\"col-name\">\\n          <div class=\"ellipsis\">\\n           <figure class=\"avatar avatar-sm transparent\">\\n            <img alt=\"\" class=\"team\" data-root=\"https://cdn.sofifa.net/teams/\" data-src=\"https://cdn.sofifa.net/teams/21/30.png\" data-srcset=\"https://cdn.sofifa.net/teams/21/60.png 2x, https://cdn.sofifa.net/teams/21/90.png 3x\" data-type=\"team\" src=\"https://cdn.sofifa.net/teams/notfound_30.png\"/>\\n           </figure>\\n           <a href=\"/team/21/fc-bayern-munchen/\">\\n            FC Bayern München\\n           </a>\\n           <div class=\"sub\">\\n            2022 ~ 2027\\n           </div>\\n          </div>\\n         </td>\\n         <td class=\"col col-vl\" data-col=\"vl\">\\n          €2.6M\\n         </td>\\n         <td class=\"col col-wg\" data-col=\"wg\">\\n          €4K\\n         </td>\\n         <td class=\"col col-tt\" data-col=\"tt\">\\n          <span class=\"bp3-tag p\">\\n           1677\\n          </span>\\n         </td>\\n        </tr>\\n        <tr>\\n         <td class=\"col-avatar\">\\n          <figure class=\"avatar\">\\n           <img alt=\"\" class=\"player-check\" data-root=\"https://cdn.sofifa.net/players/\" data-src=\"https://cdn.sofifa.net/players/251/852/23_60.png\" data-srcset=\"https://cdn.sofifa.net/players/251/852/23_120.png 2x, https://cdn.sofifa.net/players/251/852/23_180.png 3x\" data-type=\"player\" id=\"251852\" src=\"https://cdn.sofifa.net/players/notfound_0_60.png\"/>\\n          </figure>\\n         </td>\\n         <td class=\"col-name\">\\n          <a aria-label=\"Karim Adeyemi\" data-tip-pos=\"top\" href=\"/player/251852/karim-adeyemi/230017/\" role=\"tooltip\">\\n           <div class=\"ellipsis\">\\n            K. Adeyemi\\n           </div>\\n          </a>\\n          <img alt=\"\" class=\"flag\" data-src=\"https://cdn.sofifa.net/flags/de.png\" data-srcset=\"https://cdn.sofifa.net/flags/de@2x.png 2x, https://cdn.sofifa.net/flags/de@3x.png 3x\" height=\"16\" src=\"https://cdn.sofifa.net/pixel.gif\" title=\"Germany\" width=\"21\"/>\\n          <a href=\"/players?pn=25\" rel=\"nofollow\">\\n           <span class=\"pos pos25\">\\n            ST\\n           </span>\\n          </a>\\n          <a href=\"/players?pn=12\" rel=\"nofollow\">\\n           <span class=\"pos pos12\">\\n            RM\\n           </span>\\n          </a>\\n          <a href=\"/players?pn=16\" rel=\"nofollow\">\\n           <span class=\"pos pos16\">\\n            LM\\n           </span>\\n          </a>\\n         </td>\\n         <td class=\"col col-ae\" data-col=\"ae\">\\n          20\\n         </td>\\n         <td class=\"col col-oa\" data-col=\"oa\">\\n          <span class=\"bp3-tag p p-76\">\\n           76\\n          </span>\\n         </td>\\n         <td class=\"col col-pt\" data-col=\"pt\">\\n          <span class=\"bp3-tag p p-86\">\\n           86\\n          </span>\\n         </td>\\n         <td class=\"col-name\">\\n          <div class=\"ellipsis\">\\n           <figure class=\"avatar avatar-sm transparent\">\\n            <img alt=\"\" class=\"team\" data-root=\"https://cdn.sofifa.net/teams/\" data-src=\"https://cdn.sofifa.net/teams/22/30.png\" data-srcset=\"https://cdn.sofifa.net/teams/22/60.png 2x, https://cdn.sofifa.net/teams/22/90.png 3x\" data-type=\"team\" src=\"https://cdn.sofifa.net/teams/notfound_30.png\"/>\\n           </figure>\\n           <a href=\"/team/22/borussia-dortmund/\">\\n            Borussia Dortmund\\n           </a>\\n           <div class=\"sub\">\\n            2022 ~ 2027\\n           </div>\\n          </div>\\n         </td>\\n         <td class=\"col col-vl\" data-col=\"vl\">\\n          €16.5M\\n         </td>\\n         <td class=\"col col-wg\" data-col=\"wg\">\\n          €32K\\n         </td>\\n         <td class=\"col col-tt\" data-col=\"tt\">\\n          <span class=\"bp3-tag p\">\\n           1918\\n          </span>\\n         </td>\\n        </tr>\\n        <tr>\\n         <td class=\"col-avatar\">\\n          <figure class=\"avatar\">\\n           <img alt=\"\" class=\"player-check\" data-root=\"https://cdn.sofifa.net/players/\" data-src=\"https://cdn.sofifa.net/players/222/665/23_60.png\" data-srcset=\"https://cdn.sofifa.net/players/222/665/23_120.png 2x, https://cdn.sofifa.net/players/222/665/23_180.png 3x\" data-type=\"player\" id=\"222665\" src=\"https://cdn.sofifa.net/players/notfound_0_60.png\"/>\\n          </figure>\\n         </td>\\n         <td class=\"col-name\">\\n          <a aria-label=\"Martin Ødegaard\" data-tip-pos=\"top\" href=\"/player/222665/martin-odegaard/230017/\" role=\"tooltip\">\\n           <div class=\"ellipsis\">\\n            M. Ødegaard\\n           </div>\\n          </a>\\n          <img alt=\"\" class=\"flag\" data-src=\"https://cdn.sofifa.net/flags/no.png\" data-srcset=\"https://cdn.sofifa.net/flags/no@2x.png 2x, https://cdn.sofifa.net/flags/no@3x.png 3x\" height=\"16\" src=\"https://cdn.sofifa.net/pixel.gif\" title=\"Norway\" width=\"21\"/>\\n          <a href=\"/players?pn=18\" rel=\"nofollow\">\\n           <span class=\"pos pos18\">\\n            CAM\\n           </span>\\n          </a>\\n          <a href=\"/players?pn=14\" rel=\"nofollow\">\\n           <span class=\"pos pos14\">\\n            CM\\n           </span>\\n          </a>\\n         </td>\\n         <td class=\"col col-ae\" data-col=\"ae\">\\n          23\\n         </td>\\n         <td class=\"col col-oa\" data-col=\"oa\">\\n          <span class=\"bp3-tag p p-85\">\\n           85\\n          </span>\\n         </td>\\n         <td class=\"col col-pt\" data-col=\"pt\">\\n          <span class=\"bp3-tag p p-89\">\\n           89\\n          </span>\\n         </td>\\n         <td class=\"col-name\">\\n          <div class=\"ellipsis\">\\n           <figure class=\"avatar avatar-sm transparent\">\\n            <img alt=\"\" class=\"team\" data-root=\"https://cdn.sofifa.net/teams/\" data-src=\"https://cdn.sofifa.net/teams/1/30.png\" data-srcset=\"https://cdn.sofifa.net/teams/1/60.png 2x, https://cdn.sofifa.net/teams/1/90.png 3x\" data-type=\"team\" src=\"https://cdn.sofifa.net/teams/notfound_30.png\"/>\\n           </figure>\\n           <a href=\"/team/1/arsenal/\">\\n            Arsenal\\n           </a>\\n           <div class=\"sub\">\\n            2021 ~ 2026\\n           </div>\\n          </div>\\n         </td>\\n         <td class=\"col col-vl\" data-col=\"vl\">\\n          €77.5M\\n         </td>\\n         <td class=\"col col-wg\" data-col=\"wg\">\\n          €115K\\n         </td>\\n         <td class=\"col col-tt\" data-col=\"tt\">\\n          <span class=\"bp3-tag p\">\\n           2125\\n          </span>\\n         </td>\\n        </tr>\\n        <tr>\\n         <td class=\"col-avatar\">\\n          <figure class=\"avatar\">\\n           <img alt=\"\" class=\"player-check\" data-root=\"https://cdn.sofifa.net/players/\" data-src=\"https://cdn.sofifa.net/players/239/301/23_60.png\" data-srcset=\"https://cdn.sofifa.net/players/239/301/23_120.png 2x, https://cdn.sofifa.net/players/239/301/23_180.png 3x\" data-type=\"player\" id=\"239301\" src=\"https://cdn.sofifa.net/players/notfound_0_60.png\"/>\\n          </figure>\\n         </td>\\n         <td class=\"col-name\">\\n          <a aria-label=\"Lisandro Martínez\" data-tip-pos=\"top\" href=\"/player/239301/lisandro-martinez/230017/\" role=\"tooltip\">\\n           <div class=\"ellipsis\">\\n            L. Martínez\\n           </div>\\n          </a>\\n          <img alt=\"\" class=\"flag\" data-src=\"https://cdn.sofifa.net/flags/ar.png\" data-srcset=\"https://cdn.sofifa.net/flags/ar@2x.png 2x, https://cdn.sofifa.net/flags/ar@3x.png 3x\" height=\"16\" src=\"https://cdn.sofifa.net/pixel.gif\" title=\"Argentina\" width=\"21\"/>\\n          <a href=\"/players?pn=5\" rel=\"nofollow\">\\n           <span class=\"pos pos5\">\\n            CB\\n           </span>\\n          </a>\\n         </td>\\n         <td class=\"col col-ae\" data-col=\"ae\">\\n          24\\n         </td>\\n         <td class=\"col col-oa\" data-col=\"oa\">\\n          <span class=\"bp3-tag p p-83\">\\n           83\\n          </span>\\n         </td>\\n         <td class=\"col col-pt\" data-col=\"pt\">\\n          <span class=\"bp3-tag p p-88\">\\n           88\\n          </span>\\n         </td>\\n         <td class=\"col-name\">\\n          <div class=\"ellipsis\">\\n           <figure class=\"avatar avatar-sm transparent\">\\n            <img alt=\"\" class=\"team\" data-root=\"https://cdn.sofifa.net/teams/\" data-src=\"https://cdn.sofifa.net/teams/11/30.png\" data-srcset=\"https://cdn.sofifa.net/teams/11/60.png 2x, https://cdn.sofifa.net/teams/11/90.png 3x\" data-type=\"team\" src=\"https://cdn.sofifa.net/teams/notfound_30.png\"/>\\n           </figure>\\n           <a href=\"/team/11/manchester-united/\">\\n            Manchester United\\n           </a>\\n           <div class=\"sub\">\\n            2022 ~ 2027\\n           </div>\\n          </div>\\n         </td>\\n         <td class=\"col col-vl\" data-col=\"vl\">\\n          €49.5M\\n         </td>\\n         <td class=\"col col-wg\" data-col=\"wg\">\\n          €115K\\n         </td>\\n         <td class=\"col col-tt\" data-col=\"tt\">\\n          <span class=\"bp3-tag p\">\\n           2148\\n          </span>\\n         </td>\\n        </tr>\\n        <tr>\\n         <td class=\"col-avatar\">\\n          <figure class=\"avatar\">\\n           <img alt=\"\" class=\"player-check\" data-root=\"https://cdn.sofifa.net/players/\" data-src=\"https://cdn.sofifa.net/players/258/906/23_60.png\" data-srcset=\"https://cdn.sofifa.net/players/258/906/23_120.png 2x, https://cdn.sofifa.net/players/258/906/23_180.png 3x\" data-type=\"player\" id=\"258906\" src=\"https://cdn.sofifa.net/players/notfound_0_60.png\"/>\\n          </figure>\\n         </td>\\n         <td class=\"col-name\">\\n          <a aria-label=\"Wilfried Gnonto\" data-tip-pos=\"top\" href=\"/player/258906/wilfried-gnonto/230017/\" role=\"tooltip\">\\n           <div class=\"ellipsis\">\\n            W. Gnonto\\n           </div>\\n          </a>\\n          <img alt=\"\" class=\"flag\" data-src=\"https://cdn.sofifa.net/flags/it.png\" data-srcset=\"https://cdn.sofifa.net/flags/it@2x.png 2x, https://cdn.sofifa.net/flags/it@3x.png 3x\" height=\"16\" src=\"https://cdn.sofifa.net/pixel.gif\" title=\"Italy\" width=\"21\"/>\\n          <a href=\"/players?pn=16\" rel=\"nofollow\">\\n           <span class=\"pos pos16\">\\n            LM\\n           </span>\\n          </a>\\n          <a href=\"/players?pn=12\" rel=\"nofollow\">\\n           <span class=\"pos pos12\">\\n            RM\\n           </span>\\n          </a>\\n          <a href=\"/players?pn=25\" rel=\"nofollow\">\\n           <span class=\"pos pos25\">\\n            ST\\n           </span>\\n          </a>\\n         </td>\\n         <td class=\"col col-ae\" data-col=\"ae\">\\n          18\\n         </td>\\n         <td class=\"col col-oa\" data-col=\"oa\">\\n          <span class=\"bp3-tag p p-74\">\\n           74\\n          </span>\\n         </td>\\n         <td class=\"col col-pt\" data-col=\"pt\">\\n          <span class=\"bp3-tag p p-86\">\\n           86\\n          </span>\\n         </td>\\n         <td class=\"col-name\">\\n          <div class=\"ellipsis\">\\n           <figure class=\"avatar avatar-sm transparent\">\\n            <img alt=\"\" class=\"team\" data-root=\"https://cdn.sofifa.net/teams/\" data-src=\"https://cdn.sofifa.net/teams/8/30.png\" data-srcset=\"https://cdn.sofifa.net/teams/8/60.png 2x, https://cdn.sofifa.net/teams/8/90.png 3x\" data-type=\"team\" src=\"https://cdn.sofifa.net/teams/notfound_30.png\"/>\\n           </figure>\\n           <a href=\"/team/8/leeds-united/\">\\n            Leeds United\\n           </a>\\n           <div class=\"sub\">\\n            2022 ~ 2027\\n           </div>\\n          </div>\\n         </td>\\n         <td class=\"col col-vl\" data-col=\"vl\">\\n          €10M\\n         </td>\\n         <td class=\"col col-wg\" data-col=\"wg\">\\n          €12K\\n         </td>\\n         <td class=\"col col-tt\" data-col=\"tt\">\\n          <span class=\"bp3-tag p\">\\n           1798\\n          </span>\\n         </td>\\n        </tr>\\n        <tr>\\n         <td class=\"col-avatar\">\\n          <figure class=\"avatar\">\\n           <img alt=\"\" class=\"player-check\" data-root=\"https://cdn.sofifa.net/players/\" data-src=\"https://cdn.sofifa.net/players/262/863/23_60.png\" data-srcset=\"https://cdn.sofifa.net/players/262/863/23_120.png 2x, https://cdn.sofifa.net/players/262/863/23_180.png 3x\" data-type=\"player\" id=\"262863\" src=\"https://cdn.sofifa.net/players/notfound_0_60.png\"/>\\n          </figure>\\n         </td>\\n         <td class=\"col-name\">\\n          <a aria-label=\"Antonio Nusa\" data-tip-pos=\"top\" href=\"/player/262863/antonio-nusa/230017/\" role=\"tooltip\">\\n           <div class=\"ellipsis\">\\n            A. Nusa\\n           </div>\\n          </a>\\n          <img alt=\"\" class=\"flag\" data-src=\"https://cdn.sofifa.net/flags/no.png\" data-srcset=\"https://cdn.sofifa.net/flags/no@2x.png 2x, https://cdn.sofifa.net/flags/no@3x.png 3x\" height=\"16\" src=\"https://cdn.sofifa.net/pixel.gif\" title=\"Norway\" width=\"21\"/>\\n          <a href=\"/players?pn=27\" rel=\"nofollow\">\\n           <span class=\"pos pos27\">\\n            LW\\n           </span>\\n          </a>\\n          <a href=\"/players?pn=23\" rel=\"nofollow\">\\n           <span class=\"pos pos23\">\\n            RW\\n           </span>\\n          </a>\\n          <a href=\"/players?pn=25\" rel=\"nofollow\">\\n           <span class=\"pos pos25\">\\n            ST\\n           </span>\\n          </a>\\n         </td>\\n         <td class=\"col col-ae\" data-col=\"ae\">\\n          17\\n         </td>\\n         <td class=\"col col-oa\" data-col=\"oa\">\\n          <span class=\"bp3-tag p p-68\">\\n           68\\n          </span>\\n         </td>\\n         <td class=\"col col-pt\" data-col=\"pt\">\\n          <span class=\"bp3-tag p p-88\">\\n           88\\n          </span>\\n         </td>\\n         <td class=\"col-name\">\\n          <div class=\"ellipsis\">\\n           <figure class=\"avatar avatar-sm transparent\">\\n            <img alt=\"\" class=\"team\" data-root=\"https://cdn.sofifa.net/teams/\" data-src=\"https://cdn.sofifa.net/teams/231/30.png\" data-srcset=\"https://cdn.sofifa.net/teams/231/60.png 2x, https://cdn.sofifa.net/teams/231/90.png 3x\" data-type=\"team\" src=\"https://cdn.sofifa.net/teams/notfound_30.png\"/>\\n           </figure>\\n           <a href=\"/team/231/club-brugge/\">\\n            Club Brugge\\n           </a>\\n           <div class=\"sub\">\\n            2021 ~ 2025\\n           </div>\\n          </div>\\n         </td>\\n         <td class=\"col col-vl\" data-col=\"vl\">\\n          €3.3M\\n         </td>\\n         <td class=\"col col-wg\" data-col=\"wg\">\\n          €2K\\n         </td>\\n         <td class=\"col col-tt\" data-col=\"tt\">\\n          <span class=\"bp3-tag p\">\\n           1678\\n          </span>\\n         </td>\\n        </tr>\\n        <tr>\\n         <td class=\"col-avatar\">\\n          <figure class=\"avatar\">\\n           <img alt=\"\" class=\"player-check\" data-root=\"https://cdn.sofifa.net/players/\" data-src=\"https://cdn.sofifa.net/players/231/936/23_60.png\" data-srcset=\"https://cdn.sofifa.net/players/231/936/23_120.png 2x, https://cdn.sofifa.net/players/231/936/23_180.png 3x\" data-type=\"player\" id=\"231936\" src=\"https://cdn.sofifa.net/players/notfound_0_60.png\"/>\\n          </figure>\\n         </td>\\n         <td class=\"col-name\">\\n          <a aria-label=\"Benjamin White\" data-tip-pos=\"top\" href=\"/player/231936/benjamin-white/230017/\" role=\"tooltip\">\\n           <div class=\"ellipsis\">\\n            B. White\\n           </div>\\n          </a>\\n          <img alt=\"\" class=\"flag\" data-src=\"https://cdn.sofifa.net/flags/gb-eng.png\" data-srcset=\"https://cdn.sofifa.net/flags/gb-eng@2x.png 2x, https://cdn.sofifa.net/flags/gb-eng@3x.png 3x\" height=\"16\" src=\"https://cdn.sofifa.net/pixel.gif\" title=\"England\" width=\"21\"/>\\n          <a href=\"/players?pn=3\" rel=\"nofollow\">\\n           <span class=\"pos pos3\">\\n            RB\\n           </span>\\n          </a>\\n          <a href=\"/players?pn=5\" rel=\"nofollow\">\\n           <span class=\"pos pos5\">\\n            CB\\n           </span>\\n          </a>\\n         </td>\\n         <td class=\"col col-ae\" data-col=\"ae\">\\n          24\\n         </td>\\n         <td class=\"col col-oa\" data-col=\"oa\">\\n          <span class=\"bp3-tag p p-80\">\\n           80\\n          </span>\\n         </td>\\n         <td class=\"col col-pt\" data-col=\"pt\">\\n          <span class=\"bp3-tag p p-84\">\\n           84\\n          </span>\\n         </td>\\n         <td class=\"col-name\">\\n          <div class=\"ellipsis\">\\n           <figure class=\"avatar avatar-sm transparent\">\\n            <img alt=\"\" class=\"team\" data-root=\"https://cdn.sofifa.net/teams/\" data-src=\"https://cdn.sofifa.net/teams/1/30.png\" data-srcset=\"https://cdn.sofifa.net/teams/1/60.png 2x, https://cdn.sofifa.net/teams/1/90.png 3x\" data-type=\"team\" src=\"https://cdn.sofifa.net/teams/notfound_30.png\"/>\\n           </figure>\\n           <a href=\"/team/1/arsenal/\">\\n            Arsenal\\n           </a>\\n           <div class=\"sub\">\\n            2021 ~ 2026\\n           </div>\\n          </div>\\n         </td>\\n         <td class=\"col col-vl\" data-col=\"vl\">\\n          €28M\\n         </td>\\n         <td class=\"col col-wg\" data-col=\"wg\">\\n          €69K\\n         </td>\\n         <td class=\"col col-tt\" data-col=\"tt\">\\n          <span class=\"bp3-tag p\">\\n           1791\\n          </span>\\n         </td>\\n        </tr>\\n        <tr>\\n         <td class=\"col-avatar\">\\n          <figure class=\"avatar\">\\n           <img alt=\"\" class=\"player-check\" data-root=\"https://cdn.sofifa.net/players/\" data-src=\"https://cdn.sofifa.net/players/241/721/23_60.png\" data-srcset=\"https://cdn.sofifa.net/players/241/721/23_120.png 2x, https://cdn.sofifa.net/players/241/721/23_180.png 3x\" data-type=\"player\" id=\"241721\" src=\"https://cdn.sofifa.net/players/notfound_0_60.png\"/>\\n          </figure>\\n         </td>\\n         <td class=\"col-name\">\\n          <a aria-label=\"Rafael da Conceição Leão\" data-tip-pos=\"top\" href=\"/player/241721/rafael-da-conceicao-leao/230017/\" role=\"tooltip\">\\n           <div class=\"ellipsis\">\\n            Rafael Leão\\n           </div>\\n          </a>\\n          <img alt=\"\" class=\"flag\" data-src=\"https://cdn.sofifa.net/flags/pt.png\" data-srcset=\"https://cdn.sofifa.net/flags/pt@2x.png 2x, https://cdn.sofifa.net/flags/pt@3x.png 3x\" height=\"16\" src=\"https://cdn.sofifa.net/pixel.gif\" title=\"Portugal\" width=\"21\"/>\\n          <a href=\"/players?pn=27\" rel=\"nofollow\">\\n           <span class=\"pos pos27\">\\n            LW\\n           </span>\\n          </a>\\n          <a href=\"/players?pn=16\" rel=\"nofollow\">\\n           <span class=\"pos pos16\">\\n            LM\\n           </span>\\n          </a>\\n         </td>\\n         <td class=\"col col-ae\" data-col=\"ae\">\\n          23\\n         </td>\\n         <td class=\"col col-oa\" data-col=\"oa\">\\n          <span class=\"bp3-tag p p-84\">\\n           84\\n          </span>\\n         </td>\\n         <td class=\"col col-pt\" data-col=\"pt\">\\n          <span class=\"bp3-tag p p-90\">\\n           90\\n          </span>\\n         </td>\\n         <td class=\"col-name\">\\n          <div class=\"ellipsis\">\\n           <figure class=\"avatar avatar-sm transparent\">\\n            <img alt=\"\" class=\"team\" data-root=\"https://cdn.sofifa.net/teams/\" data-src=\"https://cdn.sofifa.net/teams/47/30.png\" data-srcset=\"https://cdn.sofifa.net/teams/47/60.png 2x, https://cdn.sofifa.net/teams/47/90.png 3x\" data-type=\"team\" src=\"https://cdn.sofifa.net/teams/notfound_30.png\"/>\\n           </figure>\\n           <a href=\"/team/47/milan/\">\\n            Milan\\n           </a>\\n           <div class=\"sub\">\\n            2019 ~ 2024\\n           </div>\\n          </div>\\n         </td>\\n         <td class=\"col col-vl\" data-col=\"vl\">\\n          €66.5M\\n         </td>\\n         <td class=\"col col-wg\" data-col=\"wg\">\\n          €90K\\n         </td>\\n         <td class=\"col col-tt\" data-col=\"tt\">\\n          <span class=\"bp3-tag p\">\\n           1971\\n          </span>\\n         </td>\\n        </tr>\\n        <tr>\\n         <td class=\"col-avatar\">\\n          <figure class=\"avatar\">\\n           <img alt=\"\" class=\"player-check\" data-root=\"https://cdn.sofifa.net/players/\" data-src=\"https://cdn.sofifa.net/players/254/796/23_60.png\" data-srcset=\"https://cdn.sofifa.net/players/254/796/23_120.png 2x, https://cdn.sofifa.net/players/254/796/23_180.png 3x\" data-type=\"player\" id=\"254796\" src=\"https://cdn.sofifa.net/players/notfound_0_60.png\"/>\\n          </figure>\\n         </td>\\n         <td class=\"col-name\">\\n          <a aria-label=\"Noni Madueke\" data-tip-pos=\"top\" href=\"/player/254796/noni-madueke/230017/\" role=\"tooltip\">\\n           <div class=\"ellipsis\">\\n            N. Madueke\\n           </div>\\n          </a>\\n          <img alt=\"\" class=\"flag\" data-src=\"https://cdn.sofifa.net/flags/gb-eng.png\" data-srcset=\"https://cdn.sofifa.net/flags/gb-eng@2x.png 2x, https://cdn.sofifa.net/flags/gb-eng@3x.png 3x\" height=\"16\" src=\"https://cdn.sofifa.net/pixel.gif\" title=\"England\" width=\"21\"/>\\n          <a href=\"/players?pn=23\" rel=\"nofollow\">\\n           <span class=\"pos pos23\">\\n            RW\\n           </span>\\n          </a>\\n         </td>\\n         <td class=\"col col-ae\" data-col=\"ae\">\\n          20\\n         </td>\\n         <td class=\"col col-oa\" data-col=\"oa\">\\n          <span class=\"bp3-tag p p-77\">\\n           77\\n          </span>\\n         </td>\\n         <td class=\"col col-pt\" data-col=\"pt\">\\n          <span class=\"bp3-tag p p-86\">\\n           86\\n          </span>\\n         </td>\\n         <td class=\"col-name\">\\n          <div class=\"ellipsis\">\\n           <figure class=\"avatar avatar-sm transparent\">\\n            <img alt=\"\" class=\"team\" data-root=\"https://cdn.sofifa.net/teams/\" data-src=\"https://cdn.sofifa.net/teams/5/30.png\" data-srcset=\"https://cdn.sofifa.net/teams/5/60.png 2x, https://cdn.sofifa.net/teams/5/90.png 3x\" data-type=\"team\" src=\"https://cdn.sofifa.net/teams/notfound_30.png\"/>\\n           </figure>\\n           <a href=\"/team/5/chelsea/\">\\n            Chelsea\\n           </a>\\n           <div class=\"sub\">\\n            2023 ~ 2030\\n           </div>\\n          </div>\\n         </td>\\n         <td class=\"col col-vl\" data-col=\"vl\">\\n          €23M\\n         </td>\\n         <td class=\"col col-wg\" data-col=\"wg\">\\n          €72K\\n         </td>\\n         <td class=\"col col-tt\" data-col=\"tt\">\\n          <span class=\"bp3-tag p\">\\n           1896\\n          </span>\\n         </td>\\n        </tr>\\n        <tr>\\n         <td class=\"col-avatar\">\\n          <figure class=\"avatar\">\\n           <img alt=\"\" class=\"player-check\" data-root=\"https://cdn.sofifa.net/players/\" data-src=\"https://cdn.sofifa.net/players/257/179/23_60.png\" data-srcset=\"https://cdn.sofifa.net/players/257/179/23_120.png 2x, https://cdn.sofifa.net/players/257/179/23_180.png 3x\" data-type=\"player\" id=\"257179\" src=\"https://cdn.sofifa.net/players/notfound_0_60.png\"/>\\n          </figure>\\n         </td>\\n         <td class=\"col-name\">\\n          <a aria-label=\"Gonçalo Bernardo Inácio\" data-tip-pos=\"top\" href=\"/player/257179/goncalo-bernardo-inacio/230017/\" role=\"tooltip\">\\n           <div class=\"ellipsis\">\\n            Gonçalo Inácio\\n           </div>\\n          </a>\\n          <img alt=\"\" class=\"flag\" data-src=\"https://cdn.sofifa.net/flags/pt.png\" data-srcset=\"https://cdn.sofifa.net/flags/pt@2x.png 2x, https://cdn.sofifa.net/flags/pt@3x.png 3x\" height=\"16\" src=\"https://cdn.sofifa.net/pixel.gif\" title=\"Portugal\" width=\"21\"/>\\n          <a href=\"/players?pn=5\" rel=\"nofollow\">\\n           <span class=\"pos pos5\">\\n            CB\\n           </span>\\n          </a>\\n         </td>\\n         <td class=\"col col-ae\" data-col=\"ae\">\\n          20\\n         </td>\\n         <td class=\"col col-oa\" data-col=\"oa\">\\n          <span class=\"bp3-tag p p-79\">\\n           79\\n          </span>\\n         </td>\\n         <td class=\"col col-pt\" data-col=\"pt\">\\n          <span class=\"bp3-tag p p-88\">\\n           88\\n          </span>\\n         </td>\\n         <td class=\"col-name\">\\n          <div class=\"ellipsis\">\\n           <figure class=\"avatar avatar-sm transparent\">\\n            <img alt=\"\" class=\"team\" data-root=\"https://cdn.sofifa.net/teams/\" data-src=\"https://cdn.sofifa.net/teams/237/30.png\" data-srcset=\"https://cdn.sofifa.net/teams/237/60.png 2x, https://cdn.sofifa.net/teams/237/90.png 3x\" data-type=\"team\" src=\"https://cdn.sofifa.net/teams/notfound_30.png\"/>\\n           </figure>\\n           <a href=\"/team/237/sporting-cp/\">\\n            Sporting CP\\n           </a>\\n           <div class=\"sub\">\\n            2019 ~ 2026\\n           </div>\\n          </div>\\n         </td>\\n         <td class=\"col col-vl\" data-col=\"vl\">\\n          €36M\\n         </td>\\n         <td class=\"col col-wg\" data-col=\"wg\">\\n          €11K\\n         </td>\\n         <td class=\"col col-tt\" data-col=\"tt\">\\n          <span class=\"bp3-tag p\">\\n           1773\\n          </span>\\n         </td>\\n        </tr>\\n        <tr>\\n         <td class=\"col-avatar\">\\n          <figure class=\"avatar\">\\n           <img alt=\"\" class=\"player-check\" data-root=\"https://cdn.sofifa.net/players/\" data-src=\"https://cdn.sofifa.net/players/262/118/23_60.png\" data-srcset=\"https://cdn.sofifa.net/players/262/118/23_120.png 2x, https://cdn.sofifa.net/players/262/118/23_180.png 3x\" data-type=\"player\" id=\"262118\" src=\"https://cdn.sofifa.net/players/notfound_0_60.png\"/>\\n          </figure>\\n         </td>\\n         <td class=\"col-name\">\\n          <a aria-label=\"Tino Livramento\" data-tip-pos=\"top\" href=\"/player/262118/tino-livramento/230017/\" role=\"tooltip\">\\n           <div class=\"ellipsis\">\\n            T. Livramento\\n           </div>\\n          </a>\\n          <img alt=\"\" class=\"flag\" data-src=\"https://cdn.sofifa.net/flags/gb-eng.png\" data-srcset=\"https://cdn.sofifa.net/flags/gb-eng@2x.png 2x, https://cdn.sofifa.net/flags/gb-eng@3x.png 3x\" height=\"16\" src=\"https://cdn.sofifa.net/pixel.gif\" title=\"England\" width=\"21\"/>\\n          <a href=\"/players?pn=3\" rel=\"nofollow\">\\n           <span class=\"pos pos3\">\\n            RB\\n           </span>\\n          </a>\\n         </td>\\n         <td class=\"col col-ae\" data-col=\"ae\">\\n          19\\n         </td>\\n         <td class=\"col col-oa\" data-col=\"oa\">\\n          <span class=\"bp3-tag p p-74\">\\n           74\\n          </span>\\n         </td>\\n         <td class=\"col col-pt\" data-col=\"pt\">\\n          <span class=\"bp3-tag p p-84\">\\n           84\\n          </span>\\n         </td>\\n         <td class=\"col-name\">\\n          <div class=\"ellipsis\">\\n           <figure class=\"avatar avatar-sm transparent\">\\n            <img alt=\"\" class=\"team\" data-root=\"https://cdn.sofifa.net/teams/\" data-src=\"https://cdn.sofifa.net/teams/17/30.png\" data-srcset=\"https://cdn.sofifa.net/teams/17/60.png 2x, https://cdn.sofifa.net/teams/17/90.png 3x\" data-type=\"team\" src=\"https://cdn.sofifa.net/teams/notfound_30.png\"/>\\n           </figure>\\n           <a href=\"/team/17/southampton/\">\\n            Southampton\\n           </a>\\n           <div class=\"sub\">\\n            2021 ~ 2026\\n           </div>\\n          </div>\\n         </td>\\n         <td class=\"col col-vl\" data-col=\"vl\">\\n          €8.5M\\n         </td>\\n         <td class=\"col col-wg\" data-col=\"wg\">\\n          €21K\\n         </td>\\n         <td class=\"col col-tt\" data-col=\"tt\">\\n          <span class=\"bp3-tag p\">\\n           1841\\n          </span>\\n         </td>\\n        </tr>\\n       </tbody>\\n      </table>\\n      <div class=\"pagination\">\\n       <a class=\"bp3-button bp3-intent-primary pjax\" href=\"/players?offset=60\">\\n        <span class=\"bp3-button-text\">\\n         Next\\n        </span>\\n        <span class=\"bp3-icon bp3-icon-chevron-right\">\\n         <svg height=\"16\" viewbox=\"0 0 24 24\" width=\"16\">\\n          <polyline points=\"9 18 15 12 9 6\">\\n          </polyline>\\n         </svg>\\n        </span>\\n       </a>\\n      </div>\\n     </div>\\n    </div>\\n   </div>\\n  </div>\\n  <footer>\\n   <div class=\"center\">\\n    <p class=\"copyright\">\\n     All product names, logos, and brands are the property of their respective owners.\\n     <br/>\\n     All company, product, and service names used in this website are for identification purposes only.\\n     <br/>\\n     <a href=\"/help/tos\">\\n      Terms\\n     </a>\\n     <a href=\"/help/privacy\">\\n      Privacy\\n     </a>\\n     <a href=\"/help/faq\">\\n      FAQ\\n     </a>\\n    </p>\\n   </div>\\n  </footer>\\n  <div class=\"hide\" id=\"sign-in-form\">\\n   <div class=\"bp3-dialog-header\">\\n    <h4 class=\"bp3-heading\">\\n     Sign in\\n    </h4>\\n    <button class=\"bp3-button bp3-minimal bp3-dialog-close-button btn-cancel\" type=\"button\">\\n     <span class=\"bp3-icon bp3-icon-small-cross\" icon=\"small-cross\">\\n      <svg height=\"20\" viewbox=\"0 0 24 24\" width=\"20\">\\n       <line x1=\"18\" x2=\"6\" y1=\"6\" y2=\"18\">\\n       </line>\\n       <line x1=\"6\" x2=\"18\" y1=\"6\" y2=\"18\">\\n       </line>\\n      </svg>\\n     </span>\\n    </button>\\n   </div>\\n   <div class=\"bp3-dialog-body\">\\n    <form action=\"/signIn\" class=\"ajax-form\" method=\"post\">\\n     <div class=\"bp3-form-group bp3-inline\">\\n      <input class=\"bp3-input bp3-fill\" name=\"email\" placeholder=\"Email\" type=\"text\"/>\\n     </div>\\n     <div class=\"bp3-form-group bp3-inline\">\\n      <input class=\"bp3-input bp3-fill\" name=\"password\" placeholder=\"Password\" type=\"password\"/>\\n     </div>\\n     <div class=\"bp3-form-group bp3-inline spacing\">\\n      <div class=\"bp3-full-width text-right\">\\n       <a class=\"bp3-button bp3-minimal sign-up\" href=\"/signUp\">\\n        Sign up\\n       </a>\\n       <a class=\"bp3-button bp3-minimal forgot\" href=\"/forgot\">\\n        Forgot password\\n       </a>\\n       <button class=\"bp3-button\" name=\"submit\" type=\"submit\">\\n        Sign in\\n       </button>\\n      </div>\\n     </div>\\n     <div class=\"bp3-divider spacing\">\\n     </div>\\n     <div class=\"bp3-form-group bp3-inline\">\\n      <a class=\"bp3-button google bp3-fill\" href=\"/authorize/google\" rel=\"nofollow\">\\n       <div>\\n        <svg class=\"icon\" fill=\"none\" height=\"16\" style=\"stroke:none\" viewbox=\"0 0 18 18\" width=\"16\" xmlns=\"https://www.w3.org/2000/svg\">\\n         <path clip-rule=\"evenodd\" d=\"M17.64 9.204c0-.638-.057-1.252-.164-1.84H9v3.48h4.844a4.14 4.14 0 0 1-1.796 2.717v2.258h2.908c1.702-1.567 2.684-3.874 2.684-6.615z\" fill=\"#4285F4\" fill-rule=\"evenodd\">\\n         </path>\\n         <path clip-rule=\"evenodd\" d=\"M9 18c2.43 0 4.467-.806 5.956-2.18l-2.909-2.259c-.805.54-1.836.86-3.047.86-2.344 0-4.328-1.584-5.036-3.711H.957v2.332A8.997 8.997 0 0 0 9 18z\" fill=\"#34A853\" fill-rule=\"evenodd\">\\n         </path>\\n         <path clip-rule=\"evenodd\" d=\"M3.964 10.71A5.41 5.41 0 0 1 3.682 9c0-.593.102-1.17.282-1.71V4.958H.957A8.996 8.996 0 0 0 0 9c0 1.452.348 2.827.957 4.042l3.007-2.332z\" fill=\"#FBBC05\" fill-rule=\"evenodd\">\\n         </path>\\n         <path clip-rule=\"evenodd\" d=\"M9 3.58c1.321 0 2.508.454 3.44 1.345l2.582-2.58C13.462.891 11.426 0 9 0A8.997 8.997 0 0 0 .957 4.958L3.964 7.29C4.672 5.163 6.656 3.58 9 3.58z\" fill=\"#EA4335\" fill-rule=\"evenodd\">\\n         </path>\\n        </svg>\\n       </div>\\n       Sign in with Google\\n      </a>\\n      <a aria-label=\"Sign in with Facebook\" class=\"bp3-button facebook compact\" data-tip-pos=\"top\" href=\"/authorize/facebook\" rel=\"nofollow\" role=\"tooltip\">\\n       <svg height=\"20\" viewbox=\"0 0 24 24\" width=\"20\" xmlns=\"https://www.w3.org/2000/svg\">\\n        <path d=\"M22.675 0H1.325C.593 0 0 .593 0 1.325v21.351C0 23.407.593 24 1.325 24H12.82v-9.294H9.692v-3.622h3.128V8.413c0-3.1 1.893-4.788 4.659-4.788 1.325 0 2.463.099 2.795.143v3.24l-1.918.001c-1.504 0-1.795.715-1.795 1.763v2.313h3.587l-.467 3.622h-3.12V24h6.116c.73 0 1.323-.593 1.323-1.325V1.325C24 .593 23.407 0 22.675 0z\" fill=\"#fff\">\\n        </path>\\n       </svg>\\n      </a>\\n      <a aria-label=\"Sign in with Twitter\" class=\"bp3-button twitter compact\" data-tip-pos=\"top\" href=\"/authorize/twitter\" rel=\"nofollow\" role=\"tooltip\">\\n       <svg height=\"20\" style=\"margin:-.15rem 0 0 -.15rem;stroke:none\" viewbox=\"0 0 512 512\" width=\"20\" xmlns=\"https://www.w3.org/2000/svg\">\\n        <path d=\"M512 97.248c-19.04 8.352-39.328 13.888-60.48 16.576 21.76-12.992 38.368-33.408 46.176-58.016-20.288 12.096-42.688 20.64-66.56 25.408C411.872 60.704 384.416 48 354.464 48c-58.112 0-104.896 47.168-104.896 104.992 0 8.32.704 16.32 2.432 23.936-87.264-4.256-164.48-46.08-216.352-109.792-9.056 15.712-14.368 33.696-14.368 53.056 0 36.352 18.72 68.576 46.624 87.232-16.864-.32-33.408-5.216-47.424-12.928v1.152c0 51.008 36.384 93.376 84.096 103.136-8.544 2.336-17.856 3.456-27.52 3.456-6.72 0-13.504-.384-19.872-1.792 13.6 41.568 52.192 72.128 98.08 73.12-35.712 27.936-81.056 44.768-130.144 44.768-8.608 0-16.864-.384-25.12-1.44C46.496 446.88 101.6 464 161.024 464c193.152 0 298.752-160 298.752-298.688 0-4.64-.16-9.12-.384-13.568 20.832-14.784 38.336-33.248 52.608-54.496z\" fill=\"#03a9f4\">\\n        </path>\\n       </svg>\\n      </a>\\n      <a aria-label=\"Sign in with Disqus\" class=\"bp3-button disqus compact\" data-tip-pos=\"top\" href=\"/authorize/disqus\" rel=\"nofollow\" role=\"tooltip\">\\n       <svg height=\"20\" viewbox=\"0 0 512 512\" width=\"20\" xmlns=\"https://www.w3.org/2000/svg\">\\n        <path d=\"M265.344 496c-60.832 0-116.512-21.44-159.488-56.928L0 452.928l40.832-97.408C26.496 325.184 18.656 291.488 18.656 256c0-132.576 110.496-240 246.656-240C401.664 16 512 123.424 512 256S401.664 496 265.344 496z\" fill=\"#2196f3\">\\n        </path>\\n        <path d=\"M266.912 128H176v256h89.632C350.432 384 400 329.12 400 255.296v-.672C400 180.832 351.072 128 266.912 128zm65.984 128.16c0 41.472-25.92 64.864-65.024 64.864h-26.56v-130.24h26.56c39.104 0 65.024 23.744 65.024 64.704v.672z\" fill=\"#fafafa\">\\n        </path>\\n       </svg>\\n      </a>\\n      <a aria-label=\"Sign in with Discord\" class=\"bp3-button discord compact\" data-tip-pos=\"top\" href=\"/authorize/discord\" rel=\"nofollow\" role=\"tooltip\">\\n       <svg height=\"20\" viewbox=\"77.836 30.904 171.8 172.032\" width=\"20\" xmlns=\"http://www.w3.org/2000/svg\">\\n        <path d=\"M78 116.8C78 69.4 116.4 31 163.8 31s85.8 38.4 85.8 85.8-38.4 85.8-85.8 85.8c-47.4-.1-85.8-38.5-85.8-85.8z\" fill=\"#5865f2\">\\n        </path>\\n        <path d=\"M202.4 81.9c-7.3-3.3-14.9-5.7-22.8-7-1 1.8-2.1 4.1-2.9 6-8.4-1.3-16.9-1.3-25.3 0-.9-2.1-1.9-4.1-3-6-7.9 1.3-15.6 3.7-22.8 7.1-14.4 21.5-18.3 42.4-16.4 63.1 8.5 6.3 17.9 11.1 28 14.1 2.3-3.1 4.3-6.3 6-9.7-3.3-1.2-6.4-2.7-9.4-4.5.8-.6 1.5-1.2 2.3-1.8 17.7 8.4 38.3 8.4 56 0 .8.6 1.5 1.2 2.3 1.8-3 1.8-6.2 3.3-9.5 4.5 1.7 3.4 3.7 6.6 6 9.7 10.1-3.1 19.6-7.8 28-14.1 2.2-24-4-44.8-16.5-63.2zm-56.8 50.4c-5.5 0-9.9-5-9.9-11.1s4.4-11.2 9.9-11.2c5.6 0 10 5 10 11.2-.1 6.1-4.4 11.1-10 11.1zm36.8 0c-5.5 0-9.9-5-9.9-11.1s4.4-11.2 9.9-11.2c5.6 0 10 5 9.9 11.2s-4.4 11.1-9.9 11.1z\" fill=\"#fff\">\\n        </path>\\n       </svg>\\n      </a>\\n     </div>\\n    </form>\\n   </div>\\n  </div>\\n  <div class=\"hide\" id=\"sign-up-form\">\\n   <div class=\"bp3-dialog-header\">\\n    <h4 class=\"bp3-heading\">\\n     Sign up\\n    </h4>\\n    <button class=\"bp3-button bp3-minimal bp3-dialog-close-button btn-cancel\" type=\"button\">\\n     <span class=\"bp3-icon bp3-icon-small-cross\" icon=\"small-cross\">\\n      <svg height=\"20\" viewbox=\"0 0 24 24\" width=\"20\">\\n       <line x1=\"18\" x2=\"6\" y1=\"6\" y2=\"18\">\\n       </line>\\n       <line x1=\"6\" x2=\"18\" y1=\"6\" y2=\"18\">\\n       </line>\\n      </svg>\\n     </span>\\n    </button>\\n   </div>\\n   <div class=\"bp3-dialog-body\">\\n    <form action=\"/signUp\" class=\"ajax-form\" data-next=\"/players\" method=\"post\">\\n     <div class=\"bp3-form-group bp3-inline\">\\n      <input class=\"bp3-input bp3-fill\" name=\"email\" placeholder=\"Email\" type=\"text\"/>\\n     </div>\\n     <div class=\"bp3-form-group bp3-inline\">\\n      <input class=\"bp3-input bp3-fill\" name=\"name\" placeholder=\"Name\" type=\"text\"/>\\n     </div>\\n     <div class=\"bp3-form-group bp3-inline\">\\n      <input class=\"bp3-input bp3-fill\" id=\"password\" name=\"password\" placeholder=\"Password\" type=\"password\"/>\\n     </div>\\n     <div class=\"bp3-form-group bp3-inline\">\\n      <input class=\"bp3-input bp3-fill\" name=\"confirmPassword\" placeholder=\"Confirm password\" type=\"password\"/>\\n     </div>\\n     <div class=\"bp3-form-group bp3-inline spacing\">\\n      <div class=\"bp3-full-width text-right\">\\n       <button class=\"bp3-button\" name=\"submit\" type=\"submit\">\\n        Submit\\n       </button>\\n      </div>\\n     </div>\\n    </form>\\n   </div>\\n  </div>\\n  <div class=\"hide\" id=\"forgot-form\">\\n   <div class=\"bp3-dialog-header\">\\n    <h4 class=\"bp3-heading\">\\n     Forgot password\\n    </h4>\\n    <button class=\"bp3-button bp3-minimal bp3-dialog-close-button btn-cancel\" type=\"button\">\\n     <span class=\"bp3-icon bp3-icon-small-cross\" icon=\"small-cross\">\\n      <svg height=\"20\" viewbox=\"0 0 24 24\" width=\"20\">\\n       <line x1=\"18\" x2=\"6\" y1=\"6\" y2=\"18\">\\n       </line>\\n       <line x1=\"6\" x2=\"18\" y1=\"6\" y2=\"18\">\\n       </line>\\n      </svg>\\n     </span>\\n    </button>\\n   </div>\\n   <div class=\"bp3-dialog-body\">\\n    <form action=\"/forgot\" class=\"ajax-form\" method=\"post\">\\n     <div class=\"bp3-form-group bp3-inline\">\\n      Please provide your email. We will send you an email containing further instructions.\\n     </div>\\n     <div class=\"bp3-form-group bp3-inline\">\\n      <input class=\"bp3-input bp3-fill\" name=\"email\" placeholder=\"Email\" type=\"text\"/>\\n     </div>\\n     <div class=\"bp3-form-group bp3-inline\">\\n      <div class=\"bp3-full-width text-right\">\\n       <button class=\"bp3-button\" name=\"submit\" type=\"submit\">\\n        Submit\\n       </button>\\n      </div>\\n     </div>\\n    </form>\\n   </div>\\n  </div>\\n  <script src=\"https://static.sofifa.net/js/desktop.min.js?2\">\\n  </script>\\n  <script defer=\"\" src=\"https://www.googletagmanager.com/gtag/js?id=G-PP9GQXYTK4\">\\n  </script>\\n  <script defer=\"\" src=\"https://cdn.intergient.com/1024268/72628/ramp_config.js\">\\n  </script>\\n  <script defer=\"\" src=\"https://static.sofifa.net/js/ramp.min.js?2\">\\n  </script>\\n  <script defer=\"\" src=\"https://cdn.intergient.com/ramp_core.js\">\\n  </script>\\n  <script async=\"\" src=\"https://www.googletagmanager.com/gtag/js?id=UA-27924384-1\">\\n  </script>\\n  <script>\\n   window.dataLayer = window.dataLayer || [];function gtag(){dataLayer.push(arguments);}gtag(\\'js\\', new Date());gtag(\\'config\\', \\'UA-27924384-1\\');\\n  </script>\\n </body>\\n</html>'"
            ],
            "application/vnd.google.colaboratory.intrinsic+json": {
              "type": "string"
            }
          },
          "metadata": {},
          "execution_count": 8
        }
      ]
    },
    {
      "cell_type": "code",
      "source": [
        "arr = [i for i in soup.findAll('tr')]"
      ],
      "metadata": {
        "id": "SwQQd-J83YpE"
      },
      "execution_count": null,
      "outputs": []
    },
    {
      "cell_type": "code",
      "source": [
        "del arr[0]"
      ],
      "metadata": {
        "id": "K3W1DFkW4sT5"
      },
      "execution_count": null,
      "outputs": []
    },
    {
      "cell_type": "code",
      "source": [
        "\n",
        "# Image Link\n",
        "re.sub('^<img.*data-srcset=\"| .*/>', '' , str(arr[0].find('img',{\"class\": \"player-check\"})))"
      ],
      "metadata": {
        "colab": {
          "base_uri": "https://localhost:8080/",
          "height": 35
        },
        "id": "cKlbKIb7lqFy",
        "outputId": "08745e3e-5dbb-4eca-de8c-bc991da95779"
      },
      "execution_count": null,
      "outputs": [
        {
          "output_type": "execute_result",
          "data": {
            "text/plain": [
              "'https://cdn.sofifa.net/players/271/668/23_120.png'"
            ],
            "application/vnd.google.colaboratory.intrinsic+json": {
              "type": "string"
            }
          },
          "metadata": {},
          "execution_count": 11
        }
      ]
    },
    {
      "cell_type": "code",
      "source": [
        "arr[0].find('a', {\"role\":\"tooltip\"})"
      ],
      "metadata": {
        "colab": {
          "base_uri": "https://localhost:8080/"
        },
        "id": "sunB-WPc4WiH",
        "outputId": "78e9c4b6-53ac-47f0-d6d9-8774b9727bc5"
      },
      "execution_count": null,
      "outputs": [
        {
          "output_type": "execute_result",
          "data": {
            "text/plain": [
              "<a aria-label=\"Xavier Simons\" data-tip-pos=\"top\" href=\"/player/271668/xavier-simons/230017/\" role=\"tooltip\"><div class=\"ellipsis\">X. Simons</div></a>"
            ]
          },
          "metadata": {},
          "execution_count": 12
        }
      ]
    },
    {
      "cell_type": "code",
      "source": [
        "# Name\n",
        "re.sub('^<a.*\">|<.*>', '', str(arr[0].find('a', {\"role\":\"tooltip\"})))"
      ],
      "metadata": {
        "colab": {
          "base_uri": "https://localhost:8080/",
          "height": 35
        },
        "id": "Z2gdBHuylqIZ",
        "outputId": "1c09cc4b-f27d-4036-d805-c6356bdab9cb"
      },
      "execution_count": null,
      "outputs": [
        {
          "output_type": "execute_result",
          "data": {
            "text/plain": [
              "'X. Simons'"
            ],
            "application/vnd.google.colaboratory.intrinsic+json": {
              "type": "string"
            }
          },
          "metadata": {},
          "execution_count": 13
        }
      ]
    },
    {
      "cell_type": "code",
      "source": [
        "# Age\n",
        "re.sub('^<td.*\">|<.*>', '', str(arr[0].find('td', {\"class\":\"col\"})))"
      ],
      "metadata": {
        "id": "k2wRxmoLlqQe",
        "colab": {
          "base_uri": "https://localhost:8080/",
          "height": 35
        },
        "outputId": "eee47e78-857a-4134-bccf-c01567ba3601"
      },
      "execution_count": null,
      "outputs": [
        {
          "output_type": "execute_result",
          "data": {
            "text/plain": [
              "'19'"
            ],
            "application/vnd.google.colaboratory.intrinsic+json": {
              "type": "string"
            }
          },
          "metadata": {},
          "execution_count": 14
        }
      ]
    },
    {
      "cell_type": "code",
      "source": [
        "# OVA\n",
        "re.sub('^<td.*\">|<.*>', '', str(arr[0].find('td', {\"class\":\"col col-oa\"})))"
      ],
      "metadata": {
        "id": "-KCAcFeSlqTm",
        "colab": {
          "base_uri": "https://localhost:8080/",
          "height": 35
        },
        "outputId": "96012d8b-2846-4201-eb5d-26ef986d770d"
      },
      "execution_count": null,
      "outputs": [
        {
          "output_type": "execute_result",
          "data": {
            "text/plain": [
              "'62'"
            ],
            "application/vnd.google.colaboratory.intrinsic+json": {
              "type": "string"
            }
          },
          "metadata": {},
          "execution_count": 15
        }
      ]
    },
    {
      "cell_type": "code",
      "source": [
        "\n",
        "# POT\n",
        "re.sub('^<td.*\">|<.*>', '', str(arr[0].find('td', {\"class\":\"col col-pt\"})))"
      ],
      "metadata": {
        "id": "oaHroE5ilqZW",
        "colab": {
          "base_uri": "https://localhost:8080/",
          "height": 35
        },
        "outputId": "13e809e9-4f0b-4f74-9333-07b5fda7df98"
      },
      "execution_count": null,
      "outputs": [
        {
          "output_type": "execute_result",
          "data": {
            "text/plain": [
              "'78'"
            ],
            "application/vnd.google.colaboratory.intrinsic+json": {
              "type": "string"
            }
          },
          "metadata": {},
          "execution_count": 16
        }
      ]
    },
    {
      "cell_type": "code",
      "source": [
        "# Team\n",
        "re.sub('<a.*\">|<.*>', '', str(arr[0].findAll('a')[-1]))"
      ],
      "metadata": {
        "id": "cfT7MPC6lqe1",
        "colab": {
          "base_uri": "https://localhost:8080/",
          "height": 35
        },
        "outputId": "b4e5dfd8-b728-4f0c-d5a7-fed682ac584b"
      },
      "execution_count": null,
      "outputs": [
        {
          "output_type": "execute_result",
          "data": {
            "text/plain": [
              "'Hull City'"
            ],
            "application/vnd.google.colaboratory.intrinsic+json": {
              "type": "string"
            }
          },
          "metadata": {},
          "execution_count": 17
        }
      ]
    },
    {
      "cell_type": "code",
      "source": [
        "# Duration\n",
        "re.sub('<div.*\\n|<.*>', '', str(arr[0].find('div', {\"class\": \"sub\"})))"
      ],
      "metadata": {
        "id": "wiJTd7XQlqhc",
        "colab": {
          "base_uri": "https://localhost:8080/",
          "height": 35
        },
        "outputId": "5b982f4f-ec10-4a5f-da1d-cd529600b292"
      },
      "execution_count": null,
      "outputs": [
        {
          "output_type": "execute_result",
          "data": {
            "text/plain": [
              "'2021 ~ 2023'"
            ],
            "application/vnd.google.colaboratory.intrinsic+json": {
              "type": "string"
            }
          },
          "metadata": {},
          "execution_count": 18
        }
      ]
    },
    {
      "cell_type": "code",
      "source": [
        "\n",
        "# Value\n",
        "re.sub('^<td.*\">€|<.*>', '', str(arr[0].find('td', {\"class\": \"col col-vl\"})))"
      ],
      "metadata": {
        "id": "8hTr9-5AlqkF",
        "colab": {
          "base_uri": "https://localhost:8080/",
          "height": 35
        },
        "outputId": "b18bd3e3-6911-47da-9dff-3f9f6cb91f0e"
      },
      "execution_count": null,
      "outputs": [
        {
          "output_type": "execute_result",
          "data": {
            "text/plain": [
              "'975K'"
            ],
            "application/vnd.google.colaboratory.intrinsic+json": {
              "type": "string"
            }
          },
          "metadata": {},
          "execution_count": 19
        }
      ]
    },
    {
      "cell_type": "code",
      "source": [
        "# Wage\n",
        "re.sub('^<td.*\">€|<.*>', '', str(arr[0].find('td', {\"class\": \"col col-wg\"})))"
      ],
      "metadata": {
        "id": "6bbryXBRlqnM",
        "colab": {
          "base_uri": "https://localhost:8080/",
          "height": 35
        },
        "outputId": "b10e4b98-0726-455f-90e0-4222a44d59e2"
      },
      "execution_count": null,
      "outputs": [
        {
          "output_type": "execute_result",
          "data": {
            "text/plain": [
              "'2K'"
            ],
            "application/vnd.google.colaboratory.intrinsic+json": {
              "type": "string"
            }
          },
          "metadata": {},
          "execution_count": 20
        }
      ]
    },
    {
      "cell_type": "code",
      "source": [
        "# Total Stats\n",
        "re.sub('^<td.*\">|<.*>', '', str(arr[0].find('td', {\"class\": \"col col-tt\"})))"
      ],
      "metadata": {
        "id": "dPpSWKEilqrn",
        "colab": {
          "base_uri": "https://localhost:8080/",
          "height": 35
        },
        "outputId": "be2b9b8a-9c95-4aaf-92c8-db2969670a6a"
      },
      "execution_count": null,
      "outputs": [
        {
          "output_type": "execute_result",
          "data": {
            "text/plain": [
              "'1680'"
            ],
            "application/vnd.google.colaboratory.intrinsic+json": {
              "type": "string"
            }
          },
          "metadata": {},
          "execution_count": 21
        }
      ]
    },
    {
      "cell_type": "code",
      "source": [
        "columns = ['IMAGE_LINK', 'NAME', 'AGE', 'OVA', 'POT', 'TEAM',\n",
        "           'DURATION', 'VALUE', 'WAGE', 'TOTAL_STATS']"
      ],
      "metadata": {
        "id": "FVlqW8Cr_20e"
      },
      "execution_count": null,
      "outputs": []
    },
    {
      "cell_type": "code",
      "source": [],
      "metadata": {
        "id": "_DSlN6ucsNyX"
      },
      "execution_count": null,
      "outputs": []
    },
    {
      "cell_type": "code",
      "source": [
        "fifa_final = pd.DataFrame()\n",
        "\n",
        "for i in range(0,541,60):\n",
        "  url = f'https://sofifa.com/players?offset={i}'\n",
        "  headers = {\"User-Agent\": \"Mozilla/5.0 (Windows NT 10.0; Win64; x64; rv:109.0) Gecko/20100101 Firefox/109.0\"}\n",
        "  req = requests.get(url,headers=headers)\n",
        "  if req.status_code == 200:\n",
        "    soup = BeautifulSoup(req.content)\n",
        "    lists = [[] for _ in range(10)]\n",
        "\n",
        "    for i in soup.findAll('tr'):\n",
        "      Image_Link = re.sub('^<img.*data-srcset=\"| .*/>', '' , str(i.find('img',{\"class\": \"player-check\"})))\n",
        "      Name = re.sub('^<a.*\">|<.*>', '', str(i.find('a', {\"role\":\"tooltip\"})))\n",
        "      Age = re.sub('^<td.*\">|<.*>', '', str(i.find('td', {\"class\":\"col\"})))\n",
        "      OVA = re.sub('^<td.*\">|<.*>', '', str(i.find('td', {\"class\":\"col col-oa\"})))\n",
        "      POT = re.sub('^<td.*\">|<.*>', '', str(i.find('td', {\"class\":\"col col-pt\"})))\n",
        "      Team = re.sub('<a.*\">|<.*>', '', str(i.findAll('a')[-1]))\n",
        "      Duration = re.sub('<div.*\\n|<.*>', '', str(i.find('div', {\"class\": \"sub\"})))\n",
        "      Value = re.sub('^<td.*\">€|<.*>', '', str(i.find('td', {\"class\": \"col col-vl\"})))\n",
        "      Wage = re.sub('^<td.*\">€|<.*>', '', str(i.find('td', {\"class\": \"col col-wg\"})))\n",
        "      Total_stats = re.sub('^<td.*\">|<.*>', '', str(i.find('td', {\"class\": \"col col-tt\"})))\n",
        "\n",
        "\n",
        "      lists[0].append(Image_Link)\n",
        "      lists[1].append(Name)\n",
        "      lists[2].append(Age)\n",
        "      lists[3].append(OVA)\n",
        "      lists[4].append(POT)\n",
        "      lists[5].append(Team)\n",
        "      lists[6].append(Duration)\n",
        "      lists[7].append(Value)\n",
        "      lists[8].append(Wage)\n",
        "      lists[9].append(Total_stats)\n",
        "\n",
        "\n",
        "  fifa = pd.DataFrame({\"Image_link\":lists[0],\n",
        "                      \"Name\": lists[1],\n",
        "                      \"Age\": lists[2],\n",
        "                      \"OVA\": lists[3],\n",
        "                      \"POT\": lists[4],\n",
        "                      \"Team\": lists[5],\n",
        "                      \"Duration\": lists[6],\n",
        "                      \"Value\": lists[7],\n",
        "                      \"Wage\": lists[8],\n",
        "                      \"Total_stats\": lists[9]})\n",
        "\n",
        "  fifa.drop(0, inplace=True)    # inplace = true -> permenent deletion\n",
        "\n",
        "  fifa['Age'] = pd.to_numeric(fifa['Age'])   # changing to numeric using numeric function\n",
        "  fifa['OVA'] = pd.to_numeric(fifa['OVA'])\n",
        "  fifa['POT'] = pd.to_numeric(fifa['POT'])\n",
        "  fifa['Total_stats'] = pd.to_numeric(fifa['Total_stats'])\n",
        "\n",
        "\n",
        "\n",
        "  fifa_final = fifa_final.append(fifa, ignore_index=True)"
      ],
      "metadata": {
        "id": "E4nEwlmHlquK"
      },
      "execution_count": null,
      "outputs": []
    },
    {
      "cell_type": "code",
      "source": [
        "fifa_final.head()"
      ],
      "metadata": {
        "id": "uNvWf8cylqzY",
        "colab": {
          "base_uri": "https://localhost:8080/",
          "height": 206
        },
        "outputId": "13ca0aad-82ba-41fb-9ce3-5bf51c529a6e"
      },
      "execution_count": null,
      "outputs": [
        {
          "output_type": "execute_result",
          "data": {
            "text/plain": [
              "                                          Image_link              Name  Age  \\\n",
              "0  https://cdn.sofifa.net/players/271/668/23_120.png         X. Simons   19   \n",
              "1  https://cdn.sofifa.net/players/273/990/23_120.png          Jeffinho   22   \n",
              "2  https://cdn.sofifa.net/players/233/795/23_120.png  B. Brereton Díaz   23   \n",
              "3  https://cdn.sofifa.net/players/261/417/23_120.png           K. Mier   22   \n",
              "4  https://cdn.sofifa.net/players/246/791/23_120.png        M. Solomon   22   \n",
              "\n",
              "   OVA  POT                Team       Duration  Value Wage  Total_stats  \n",
              "0   62   78           Hull City    2021 ~ 2023   975K   2K         1680  \n",
              "1   73   82  Olympique Lyonnais    2023 ~ 2027     7M  41K         1687  \n",
              "2   75   82    Blackburn Rovers    2019 ~ 2023  11.5M  38K         1894  \n",
              "3   73   84   Atlético Nacional    2019 ~ 2025     6M   3K         1101  \n",
              "4   76   83              Fulham  Jun 30, 2023     15M  900         1859  "
            ],
            "text/html": [
              "\n",
              "  <div id=\"df-e7a67311-ab08-4a05-b60a-f80fa78050d5\">\n",
              "    <div class=\"colab-df-container\">\n",
              "      <div>\n",
              "<style scoped>\n",
              "    .dataframe tbody tr th:only-of-type {\n",
              "        vertical-align: middle;\n",
              "    }\n",
              "\n",
              "    .dataframe tbody tr th {\n",
              "        vertical-align: top;\n",
              "    }\n",
              "\n",
              "    .dataframe thead th {\n",
              "        text-align: right;\n",
              "    }\n",
              "</style>\n",
              "<table border=\"1\" class=\"dataframe\">\n",
              "  <thead>\n",
              "    <tr style=\"text-align: right;\">\n",
              "      <th></th>\n",
              "      <th>Image_link</th>\n",
              "      <th>Name</th>\n",
              "      <th>Age</th>\n",
              "      <th>OVA</th>\n",
              "      <th>POT</th>\n",
              "      <th>Team</th>\n",
              "      <th>Duration</th>\n",
              "      <th>Value</th>\n",
              "      <th>Wage</th>\n",
              "      <th>Total_stats</th>\n",
              "    </tr>\n",
              "  </thead>\n",
              "  <tbody>\n",
              "    <tr>\n",
              "      <th>0</th>\n",
              "      <td>https://cdn.sofifa.net/players/271/668/23_120.png</td>\n",
              "      <td>X. Simons</td>\n",
              "      <td>19</td>\n",
              "      <td>62</td>\n",
              "      <td>78</td>\n",
              "      <td>Hull City</td>\n",
              "      <td>2021 ~ 2023</td>\n",
              "      <td>975K</td>\n",
              "      <td>2K</td>\n",
              "      <td>1680</td>\n",
              "    </tr>\n",
              "    <tr>\n",
              "      <th>1</th>\n",
              "      <td>https://cdn.sofifa.net/players/273/990/23_120.png</td>\n",
              "      <td>Jeffinho</td>\n",
              "      <td>22</td>\n",
              "      <td>73</td>\n",
              "      <td>82</td>\n",
              "      <td>Olympique Lyonnais</td>\n",
              "      <td>2023 ~ 2027</td>\n",
              "      <td>7M</td>\n",
              "      <td>41K</td>\n",
              "      <td>1687</td>\n",
              "    </tr>\n",
              "    <tr>\n",
              "      <th>2</th>\n",
              "      <td>https://cdn.sofifa.net/players/233/795/23_120.png</td>\n",
              "      <td>B. Brereton Díaz</td>\n",
              "      <td>23</td>\n",
              "      <td>75</td>\n",
              "      <td>82</td>\n",
              "      <td>Blackburn Rovers</td>\n",
              "      <td>2019 ~ 2023</td>\n",
              "      <td>11.5M</td>\n",
              "      <td>38K</td>\n",
              "      <td>1894</td>\n",
              "    </tr>\n",
              "    <tr>\n",
              "      <th>3</th>\n",
              "      <td>https://cdn.sofifa.net/players/261/417/23_120.png</td>\n",
              "      <td>K. Mier</td>\n",
              "      <td>22</td>\n",
              "      <td>73</td>\n",
              "      <td>84</td>\n",
              "      <td>Atlético Nacional</td>\n",
              "      <td>2019 ~ 2025</td>\n",
              "      <td>6M</td>\n",
              "      <td>3K</td>\n",
              "      <td>1101</td>\n",
              "    </tr>\n",
              "    <tr>\n",
              "      <th>4</th>\n",
              "      <td>https://cdn.sofifa.net/players/246/791/23_120.png</td>\n",
              "      <td>M. Solomon</td>\n",
              "      <td>22</td>\n",
              "      <td>76</td>\n",
              "      <td>83</td>\n",
              "      <td>Fulham</td>\n",
              "      <td>Jun 30, 2023</td>\n",
              "      <td>15M</td>\n",
              "      <td>900</td>\n",
              "      <td>1859</td>\n",
              "    </tr>\n",
              "  </tbody>\n",
              "</table>\n",
              "</div>\n",
              "      <button class=\"colab-df-convert\" onclick=\"convertToInteractive('df-e7a67311-ab08-4a05-b60a-f80fa78050d5')\"\n",
              "              title=\"Convert this dataframe to an interactive table.\"\n",
              "              style=\"display:none;\">\n",
              "        \n",
              "  <svg xmlns=\"http://www.w3.org/2000/svg\" height=\"24px\"viewBox=\"0 0 24 24\"\n",
              "       width=\"24px\">\n",
              "    <path d=\"M0 0h24v24H0V0z\" fill=\"none\"/>\n",
              "    <path d=\"M18.56 5.44l.94 2.06.94-2.06 2.06-.94-2.06-.94-.94-2.06-.94 2.06-2.06.94zm-11 1L8.5 8.5l.94-2.06 2.06-.94-2.06-.94L8.5 2.5l-.94 2.06-2.06.94zm10 10l.94 2.06.94-2.06 2.06-.94-2.06-.94-.94-2.06-.94 2.06-2.06.94z\"/><path d=\"M17.41 7.96l-1.37-1.37c-.4-.4-.92-.59-1.43-.59-.52 0-1.04.2-1.43.59L10.3 9.45l-7.72 7.72c-.78.78-.78 2.05 0 2.83L4 21.41c.39.39.9.59 1.41.59.51 0 1.02-.2 1.41-.59l7.78-7.78 2.81-2.81c.8-.78.8-2.07 0-2.86zM5.41 20L4 18.59l7.72-7.72 1.47 1.35L5.41 20z\"/>\n",
              "  </svg>\n",
              "      </button>\n",
              "      \n",
              "  <style>\n",
              "    .colab-df-container {\n",
              "      display:flex;\n",
              "      flex-wrap:wrap;\n",
              "      gap: 12px;\n",
              "    }\n",
              "\n",
              "    .colab-df-convert {\n",
              "      background-color: #E8F0FE;\n",
              "      border: none;\n",
              "      border-radius: 50%;\n",
              "      cursor: pointer;\n",
              "      display: none;\n",
              "      fill: #1967D2;\n",
              "      height: 32px;\n",
              "      padding: 0 0 0 0;\n",
              "      width: 32px;\n",
              "    }\n",
              "\n",
              "    .colab-df-convert:hover {\n",
              "      background-color: #E2EBFA;\n",
              "      box-shadow: 0px 1px 2px rgba(60, 64, 67, 0.3), 0px 1px 3px 1px rgba(60, 64, 67, 0.15);\n",
              "      fill: #174EA6;\n",
              "    }\n",
              "\n",
              "    [theme=dark] .colab-df-convert {\n",
              "      background-color: #3B4455;\n",
              "      fill: #D2E3FC;\n",
              "    }\n",
              "\n",
              "    [theme=dark] .colab-df-convert:hover {\n",
              "      background-color: #434B5C;\n",
              "      box-shadow: 0px 1px 3px 1px rgba(0, 0, 0, 0.15);\n",
              "      filter: drop-shadow(0px 1px 2px rgba(0, 0, 0, 0.3));\n",
              "      fill: #FFFFFF;\n",
              "    }\n",
              "  </style>\n",
              "\n",
              "      <script>\n",
              "        const buttonEl =\n",
              "          document.querySelector('#df-e7a67311-ab08-4a05-b60a-f80fa78050d5 button.colab-df-convert');\n",
              "        buttonEl.style.display =\n",
              "          google.colab.kernel.accessAllowed ? 'block' : 'none';\n",
              "\n",
              "        async function convertToInteractive(key) {\n",
              "          const element = document.querySelector('#df-e7a67311-ab08-4a05-b60a-f80fa78050d5');\n",
              "          const dataTable =\n",
              "            await google.colab.kernel.invokeFunction('convertToInteractive',\n",
              "                                                     [key], {});\n",
              "          if (!dataTable) return;\n",
              "\n",
              "          const docLinkHtml = 'Like what you see? Visit the ' +\n",
              "            '<a target=\"_blank\" href=https://colab.research.google.com/notebooks/data_table.ipynb>data table notebook</a>'\n",
              "            + ' to learn more about interactive tables.';\n",
              "          element.innerHTML = '';\n",
              "          dataTable['output_type'] = 'display_data';\n",
              "          await google.colab.output.renderOutput(dataTable, element);\n",
              "          const docLink = document.createElement('div');\n",
              "          docLink.innerHTML = docLinkHtml;\n",
              "          element.appendChild(docLink);\n",
              "        }\n",
              "      </script>\n",
              "    </div>\n",
              "  </div>\n",
              "  "
            ]
          },
          "metadata": {},
          "execution_count": 24
        }
      ]
    },
    {
      "cell_type": "code",
      "source": [
        "fifa_final.tail(10)"
      ],
      "metadata": {
        "id": "LNDzIY4ulq1t",
        "colab": {
          "base_uri": "https://localhost:8080/",
          "height": 363
        },
        "outputId": "c0512e46-5361-44b1-ae0b-464515caa296"
      },
      "execution_count": null,
      "outputs": [
        {
          "output_type": "execute_result",
          "data": {
            "text/plain": [
              "                                            Image_link             Name  Age  \\\n",
              "590  https://cdn.sofifa.net/players/266/815/23_120.png          B. Doak   16   \n",
              "591  https://cdn.sofifa.net/players/268/312/23_120.png       S. Kumbedi   17   \n",
              "592  https://cdn.sofifa.net/players/270/039/23_120.png    Diego Moreira   17   \n",
              "593  https://cdn.sofifa.net/players/270/390/23_120.png       Marquinhos   19   \n",
              "594  https://cdn.sofifa.net/players/270/579/23_120.png       W. Odobert   17   \n",
              "595  https://cdn.sofifa.net/players/272/379/23_120.png  S. Iling-Junior   18   \n",
              "596  https://cdn.sofifa.net/players/272/445/23_120.png           Álvaro   17   \n",
              "597  https://cdn.sofifa.net/players/272/449/23_120.png    Pablo Barrios   19   \n",
              "598  https://cdn.sofifa.net/players/272/781/23_120.png    E. Ben Seghir   17   \n",
              "599  https://cdn.sofifa.net/players/273/463/23_120.png       João Gomes   21   \n",
              "\n",
              "     OVA  POT                     Team       Duration Value Wage  Total_stats  \n",
              "590   62   84                Liverpool    2022 ~ 2026  1.2M   3K         1454  \n",
              "591   64   80       Olympique Lyonnais    2022 ~ 2025  1.4M  500         1617  \n",
              "592   67   85                  Benfica    2022 ~ 2024  2.5M  600         1668  \n",
              "593   73   84             Norwich City  Jun 30, 2023   6.5M  30K         1705  \n",
              "594   67   81                   Troyes    2022 ~ 2027  2.3M  850         1528  \n",
              "595   69   85                 Juventus    2022 ~ 2025  3.5M  13K         1697  \n",
              "596   62   81              Real Madrid    2021 ~ 2027    1M   4K         1498  \n",
              "597   66   84          Atlético Madrid    2022 ~ 2028  2.2M   7K         1789  \n",
              "598   69   84                   Monaco    2022 ~ 2025  3.2M   5K         1705  \n",
              "599   76   85  Wolverhampton Wanderers    2023 ~ 2028   16M  43K         2019  "
            ],
            "text/html": [
              "\n",
              "  <div id=\"df-33b5ec8a-52d5-4b60-8e7a-5fb7da5596d1\">\n",
              "    <div class=\"colab-df-container\">\n",
              "      <div>\n",
              "<style scoped>\n",
              "    .dataframe tbody tr th:only-of-type {\n",
              "        vertical-align: middle;\n",
              "    }\n",
              "\n",
              "    .dataframe tbody tr th {\n",
              "        vertical-align: top;\n",
              "    }\n",
              "\n",
              "    .dataframe thead th {\n",
              "        text-align: right;\n",
              "    }\n",
              "</style>\n",
              "<table border=\"1\" class=\"dataframe\">\n",
              "  <thead>\n",
              "    <tr style=\"text-align: right;\">\n",
              "      <th></th>\n",
              "      <th>Image_link</th>\n",
              "      <th>Name</th>\n",
              "      <th>Age</th>\n",
              "      <th>OVA</th>\n",
              "      <th>POT</th>\n",
              "      <th>Team</th>\n",
              "      <th>Duration</th>\n",
              "      <th>Value</th>\n",
              "      <th>Wage</th>\n",
              "      <th>Total_stats</th>\n",
              "    </tr>\n",
              "  </thead>\n",
              "  <tbody>\n",
              "    <tr>\n",
              "      <th>590</th>\n",
              "      <td>https://cdn.sofifa.net/players/266/815/23_120.png</td>\n",
              "      <td>B. Doak</td>\n",
              "      <td>16</td>\n",
              "      <td>62</td>\n",
              "      <td>84</td>\n",
              "      <td>Liverpool</td>\n",
              "      <td>2022 ~ 2026</td>\n",
              "      <td>1.2M</td>\n",
              "      <td>3K</td>\n",
              "      <td>1454</td>\n",
              "    </tr>\n",
              "    <tr>\n",
              "      <th>591</th>\n",
              "      <td>https://cdn.sofifa.net/players/268/312/23_120.png</td>\n",
              "      <td>S. Kumbedi</td>\n",
              "      <td>17</td>\n",
              "      <td>64</td>\n",
              "      <td>80</td>\n",
              "      <td>Olympique Lyonnais</td>\n",
              "      <td>2022 ~ 2025</td>\n",
              "      <td>1.4M</td>\n",
              "      <td>500</td>\n",
              "      <td>1617</td>\n",
              "    </tr>\n",
              "    <tr>\n",
              "      <th>592</th>\n",
              "      <td>https://cdn.sofifa.net/players/270/039/23_120.png</td>\n",
              "      <td>Diego Moreira</td>\n",
              "      <td>17</td>\n",
              "      <td>67</td>\n",
              "      <td>85</td>\n",
              "      <td>Benfica</td>\n",
              "      <td>2022 ~ 2024</td>\n",
              "      <td>2.5M</td>\n",
              "      <td>600</td>\n",
              "      <td>1668</td>\n",
              "    </tr>\n",
              "    <tr>\n",
              "      <th>593</th>\n",
              "      <td>https://cdn.sofifa.net/players/270/390/23_120.png</td>\n",
              "      <td>Marquinhos</td>\n",
              "      <td>19</td>\n",
              "      <td>73</td>\n",
              "      <td>84</td>\n",
              "      <td>Norwich City</td>\n",
              "      <td>Jun 30, 2023</td>\n",
              "      <td>6.5M</td>\n",
              "      <td>30K</td>\n",
              "      <td>1705</td>\n",
              "    </tr>\n",
              "    <tr>\n",
              "      <th>594</th>\n",
              "      <td>https://cdn.sofifa.net/players/270/579/23_120.png</td>\n",
              "      <td>W. Odobert</td>\n",
              "      <td>17</td>\n",
              "      <td>67</td>\n",
              "      <td>81</td>\n",
              "      <td>Troyes</td>\n",
              "      <td>2022 ~ 2027</td>\n",
              "      <td>2.3M</td>\n",
              "      <td>850</td>\n",
              "      <td>1528</td>\n",
              "    </tr>\n",
              "    <tr>\n",
              "      <th>595</th>\n",
              "      <td>https://cdn.sofifa.net/players/272/379/23_120.png</td>\n",
              "      <td>S. Iling-Junior</td>\n",
              "      <td>18</td>\n",
              "      <td>69</td>\n",
              "      <td>85</td>\n",
              "      <td>Juventus</td>\n",
              "      <td>2022 ~ 2025</td>\n",
              "      <td>3.5M</td>\n",
              "      <td>13K</td>\n",
              "      <td>1697</td>\n",
              "    </tr>\n",
              "    <tr>\n",
              "      <th>596</th>\n",
              "      <td>https://cdn.sofifa.net/players/272/445/23_120.png</td>\n",
              "      <td>Álvaro</td>\n",
              "      <td>17</td>\n",
              "      <td>62</td>\n",
              "      <td>81</td>\n",
              "      <td>Real Madrid</td>\n",
              "      <td>2021 ~ 2027</td>\n",
              "      <td>1M</td>\n",
              "      <td>4K</td>\n",
              "      <td>1498</td>\n",
              "    </tr>\n",
              "    <tr>\n",
              "      <th>597</th>\n",
              "      <td>https://cdn.sofifa.net/players/272/449/23_120.png</td>\n",
              "      <td>Pablo Barrios</td>\n",
              "      <td>19</td>\n",
              "      <td>66</td>\n",
              "      <td>84</td>\n",
              "      <td>Atlético Madrid</td>\n",
              "      <td>2022 ~ 2028</td>\n",
              "      <td>2.2M</td>\n",
              "      <td>7K</td>\n",
              "      <td>1789</td>\n",
              "    </tr>\n",
              "    <tr>\n",
              "      <th>598</th>\n",
              "      <td>https://cdn.sofifa.net/players/272/781/23_120.png</td>\n",
              "      <td>E. Ben Seghir</td>\n",
              "      <td>17</td>\n",
              "      <td>69</td>\n",
              "      <td>84</td>\n",
              "      <td>Monaco</td>\n",
              "      <td>2022 ~ 2025</td>\n",
              "      <td>3.2M</td>\n",
              "      <td>5K</td>\n",
              "      <td>1705</td>\n",
              "    </tr>\n",
              "    <tr>\n",
              "      <th>599</th>\n",
              "      <td>https://cdn.sofifa.net/players/273/463/23_120.png</td>\n",
              "      <td>João Gomes</td>\n",
              "      <td>21</td>\n",
              "      <td>76</td>\n",
              "      <td>85</td>\n",
              "      <td>Wolverhampton Wanderers</td>\n",
              "      <td>2023 ~ 2028</td>\n",
              "      <td>16M</td>\n",
              "      <td>43K</td>\n",
              "      <td>2019</td>\n",
              "    </tr>\n",
              "  </tbody>\n",
              "</table>\n",
              "</div>\n",
              "      <button class=\"colab-df-convert\" onclick=\"convertToInteractive('df-33b5ec8a-52d5-4b60-8e7a-5fb7da5596d1')\"\n",
              "              title=\"Convert this dataframe to an interactive table.\"\n",
              "              style=\"display:none;\">\n",
              "        \n",
              "  <svg xmlns=\"http://www.w3.org/2000/svg\" height=\"24px\"viewBox=\"0 0 24 24\"\n",
              "       width=\"24px\">\n",
              "    <path d=\"M0 0h24v24H0V0z\" fill=\"none\"/>\n",
              "    <path d=\"M18.56 5.44l.94 2.06.94-2.06 2.06-.94-2.06-.94-.94-2.06-.94 2.06-2.06.94zm-11 1L8.5 8.5l.94-2.06 2.06-.94-2.06-.94L8.5 2.5l-.94 2.06-2.06.94zm10 10l.94 2.06.94-2.06 2.06-.94-2.06-.94-.94-2.06-.94 2.06-2.06.94z\"/><path d=\"M17.41 7.96l-1.37-1.37c-.4-.4-.92-.59-1.43-.59-.52 0-1.04.2-1.43.59L10.3 9.45l-7.72 7.72c-.78.78-.78 2.05 0 2.83L4 21.41c.39.39.9.59 1.41.59.51 0 1.02-.2 1.41-.59l7.78-7.78 2.81-2.81c.8-.78.8-2.07 0-2.86zM5.41 20L4 18.59l7.72-7.72 1.47 1.35L5.41 20z\"/>\n",
              "  </svg>\n",
              "      </button>\n",
              "      \n",
              "  <style>\n",
              "    .colab-df-container {\n",
              "      display:flex;\n",
              "      flex-wrap:wrap;\n",
              "      gap: 12px;\n",
              "    }\n",
              "\n",
              "    .colab-df-convert {\n",
              "      background-color: #E8F0FE;\n",
              "      border: none;\n",
              "      border-radius: 50%;\n",
              "      cursor: pointer;\n",
              "      display: none;\n",
              "      fill: #1967D2;\n",
              "      height: 32px;\n",
              "      padding: 0 0 0 0;\n",
              "      width: 32px;\n",
              "    }\n",
              "\n",
              "    .colab-df-convert:hover {\n",
              "      background-color: #E2EBFA;\n",
              "      box-shadow: 0px 1px 2px rgba(60, 64, 67, 0.3), 0px 1px 3px 1px rgba(60, 64, 67, 0.15);\n",
              "      fill: #174EA6;\n",
              "    }\n",
              "\n",
              "    [theme=dark] .colab-df-convert {\n",
              "      background-color: #3B4455;\n",
              "      fill: #D2E3FC;\n",
              "    }\n",
              "\n",
              "    [theme=dark] .colab-df-convert:hover {\n",
              "      background-color: #434B5C;\n",
              "      box-shadow: 0px 1px 3px 1px rgba(0, 0, 0, 0.15);\n",
              "      filter: drop-shadow(0px 1px 2px rgba(0, 0, 0, 0.3));\n",
              "      fill: #FFFFFF;\n",
              "    }\n",
              "  </style>\n",
              "\n",
              "      <script>\n",
              "        const buttonEl =\n",
              "          document.querySelector('#df-33b5ec8a-52d5-4b60-8e7a-5fb7da5596d1 button.colab-df-convert');\n",
              "        buttonEl.style.display =\n",
              "          google.colab.kernel.accessAllowed ? 'block' : 'none';\n",
              "\n",
              "        async function convertToInteractive(key) {\n",
              "          const element = document.querySelector('#df-33b5ec8a-52d5-4b60-8e7a-5fb7da5596d1');\n",
              "          const dataTable =\n",
              "            await google.colab.kernel.invokeFunction('convertToInteractive',\n",
              "                                                     [key], {});\n",
              "          if (!dataTable) return;\n",
              "\n",
              "          const docLinkHtml = 'Like what you see? Visit the ' +\n",
              "            '<a target=\"_blank\" href=https://colab.research.google.com/notebooks/data_table.ipynb>data table notebook</a>'\n",
              "            + ' to learn more about interactive tables.';\n",
              "          element.innerHTML = '';\n",
              "          dataTable['output_type'] = 'display_data';\n",
              "          await google.colab.output.renderOutput(dataTable, element);\n",
              "          const docLink = document.createElement('div');\n",
              "          docLink.innerHTML = docLinkHtml;\n",
              "          element.appendChild(docLink);\n",
              "        }\n",
              "      </script>\n",
              "    </div>\n",
              "  </div>\n",
              "  "
            ]
          },
          "metadata": {},
          "execution_count": 25
        }
      ]
    },
    {
      "cell_type": "code",
      "source": [
        "fifa_final.columns"
      ],
      "metadata": {
        "id": "9N3L1Aqslq33",
        "colab": {
          "base_uri": "https://localhost:8080/"
        },
        "outputId": "a0b32fe0-e7b2-456f-991f-9b6b09708b5a"
      },
      "execution_count": null,
      "outputs": [
        {
          "output_type": "execute_result",
          "data": {
            "text/plain": [
              "Index(['Image_link', 'Name', 'Age', 'OVA', 'POT', 'Team', 'Duration', 'Value',\n",
              "       'Wage', 'Total_stats'],\n",
              "      dtype='object')"
            ]
          },
          "metadata": {},
          "execution_count": 26
        }
      ]
    },
    {
      "cell_type": "code",
      "source": [
        "len(fifa_final)"
      ],
      "metadata": {
        "id": "fC-2Jdyllq6c",
        "colab": {
          "base_uri": "https://localhost:8080/"
        },
        "outputId": "82fbb5bb-787f-4977-aeac-012d17d4ba71"
      },
      "execution_count": null,
      "outputs": [
        {
          "output_type": "execute_result",
          "data": {
            "text/plain": [
              "600"
            ]
          },
          "metadata": {},
          "execution_count": 27
        }
      ]
    },
    {
      "cell_type": "code",
      "source": [
        "len(fifa_final.columns)"
      ],
      "metadata": {
        "id": "SuWqeo0flq80",
        "colab": {
          "base_uri": "https://localhost:8080/"
        },
        "outputId": "bc155550-df15-434b-a762-b3a03069d2c9"
      },
      "execution_count": null,
      "outputs": [
        {
          "output_type": "execute_result",
          "data": {
            "text/plain": [
              "10"
            ]
          },
          "metadata": {},
          "execution_count": 28
        }
      ]
    },
    {
      "cell_type": "code",
      "source": [
        "fifa_final.shape[1]"
      ],
      "metadata": {
        "id": "J8gJxzZjlq_X",
        "colab": {
          "base_uri": "https://localhost:8080/"
        },
        "outputId": "f694fa96-fe5e-4de5-ef66-6740f08fd243"
      },
      "execution_count": null,
      "outputs": [
        {
          "output_type": "execute_result",
          "data": {
            "text/plain": [
              "10"
            ]
          },
          "metadata": {},
          "execution_count": 29
        }
      ]
    },
    {
      "cell_type": "code",
      "source": [
        "fifa_final.info()"
      ],
      "metadata": {
        "id": "RP1Jzdw5lrB-",
        "colab": {
          "base_uri": "https://localhost:8080/"
        },
        "outputId": "2172d89c-bd2d-4005-fb76-405295d24c6e"
      },
      "execution_count": null,
      "outputs": [
        {
          "output_type": "stream",
          "name": "stdout",
          "text": [
            "<class 'pandas.core.frame.DataFrame'>\n",
            "RangeIndex: 600 entries, 0 to 599\n",
            "Data columns (total 10 columns):\n",
            " #   Column       Non-Null Count  Dtype \n",
            "---  ------       --------------  ----- \n",
            " 0   Image_link   600 non-null    object\n",
            " 1   Name         600 non-null    object\n",
            " 2   Age          600 non-null    int64 \n",
            " 3   OVA          600 non-null    int64 \n",
            " 4   POT          600 non-null    int64 \n",
            " 5   Team         600 non-null    object\n",
            " 6   Duration     600 non-null    object\n",
            " 7   Value        600 non-null    object\n",
            " 8   Wage         600 non-null    object\n",
            " 9   Total_stats  600 non-null    int64 \n",
            "dtypes: int64(4), object(6)\n",
            "memory usage: 47.0+ KB\n"
          ]
        }
      ]
    },
    {
      "cell_type": "code",
      "source": [
        "fifa_final.describe()"
      ],
      "metadata": {
        "id": "71wGmZ9clrEY",
        "colab": {
          "base_uri": "https://localhost:8080/",
          "height": 300
        },
        "outputId": "b7f1f546-6fee-4070-b9ce-4f8be8e43d65"
      },
      "execution_count": null,
      "outputs": [
        {
          "output_type": "execute_result",
          "data": {
            "text/plain": [
              "              Age         OVA         POT  Total_stats\n",
              "count  600.000000  600.000000  600.000000   600.000000\n",
              "mean    22.790000   76.676667   83.830000  1884.313333\n",
              "std      4.176718    6.237813    3.710892   221.956880\n",
              "min     16.000000   61.000000   67.000000  1044.000000\n",
              "25%     20.000000   73.000000   82.000000  1753.000000\n",
              "50%     22.000000   77.000000   84.000000  1901.000000\n",
              "75%     25.000000   81.000000   86.000000  2044.750000\n",
              "max     40.000000   91.000000   95.000000  2312.000000"
            ],
            "text/html": [
              "\n",
              "  <div id=\"df-ab34d276-fee8-466b-bee5-be434fd85bb7\">\n",
              "    <div class=\"colab-df-container\">\n",
              "      <div>\n",
              "<style scoped>\n",
              "    .dataframe tbody tr th:only-of-type {\n",
              "        vertical-align: middle;\n",
              "    }\n",
              "\n",
              "    .dataframe tbody tr th {\n",
              "        vertical-align: top;\n",
              "    }\n",
              "\n",
              "    .dataframe thead th {\n",
              "        text-align: right;\n",
              "    }\n",
              "</style>\n",
              "<table border=\"1\" class=\"dataframe\">\n",
              "  <thead>\n",
              "    <tr style=\"text-align: right;\">\n",
              "      <th></th>\n",
              "      <th>Age</th>\n",
              "      <th>OVA</th>\n",
              "      <th>POT</th>\n",
              "      <th>Total_stats</th>\n",
              "    </tr>\n",
              "  </thead>\n",
              "  <tbody>\n",
              "    <tr>\n",
              "      <th>count</th>\n",
              "      <td>600.000000</td>\n",
              "      <td>600.000000</td>\n",
              "      <td>600.000000</td>\n",
              "      <td>600.000000</td>\n",
              "    </tr>\n",
              "    <tr>\n",
              "      <th>mean</th>\n",
              "      <td>22.790000</td>\n",
              "      <td>76.676667</td>\n",
              "      <td>83.830000</td>\n",
              "      <td>1884.313333</td>\n",
              "    </tr>\n",
              "    <tr>\n",
              "      <th>std</th>\n",
              "      <td>4.176718</td>\n",
              "      <td>6.237813</td>\n",
              "      <td>3.710892</td>\n",
              "      <td>221.956880</td>\n",
              "    </tr>\n",
              "    <tr>\n",
              "      <th>min</th>\n",
              "      <td>16.000000</td>\n",
              "      <td>61.000000</td>\n",
              "      <td>67.000000</td>\n",
              "      <td>1044.000000</td>\n",
              "    </tr>\n",
              "    <tr>\n",
              "      <th>25%</th>\n",
              "      <td>20.000000</td>\n",
              "      <td>73.000000</td>\n",
              "      <td>82.000000</td>\n",
              "      <td>1753.000000</td>\n",
              "    </tr>\n",
              "    <tr>\n",
              "      <th>50%</th>\n",
              "      <td>22.000000</td>\n",
              "      <td>77.000000</td>\n",
              "      <td>84.000000</td>\n",
              "      <td>1901.000000</td>\n",
              "    </tr>\n",
              "    <tr>\n",
              "      <th>75%</th>\n",
              "      <td>25.000000</td>\n",
              "      <td>81.000000</td>\n",
              "      <td>86.000000</td>\n",
              "      <td>2044.750000</td>\n",
              "    </tr>\n",
              "    <tr>\n",
              "      <th>max</th>\n",
              "      <td>40.000000</td>\n",
              "      <td>91.000000</td>\n",
              "      <td>95.000000</td>\n",
              "      <td>2312.000000</td>\n",
              "    </tr>\n",
              "  </tbody>\n",
              "</table>\n",
              "</div>\n",
              "      <button class=\"colab-df-convert\" onclick=\"convertToInteractive('df-ab34d276-fee8-466b-bee5-be434fd85bb7')\"\n",
              "              title=\"Convert this dataframe to an interactive table.\"\n",
              "              style=\"display:none;\">\n",
              "        \n",
              "  <svg xmlns=\"http://www.w3.org/2000/svg\" height=\"24px\"viewBox=\"0 0 24 24\"\n",
              "       width=\"24px\">\n",
              "    <path d=\"M0 0h24v24H0V0z\" fill=\"none\"/>\n",
              "    <path d=\"M18.56 5.44l.94 2.06.94-2.06 2.06-.94-2.06-.94-.94-2.06-.94 2.06-2.06.94zm-11 1L8.5 8.5l.94-2.06 2.06-.94-2.06-.94L8.5 2.5l-.94 2.06-2.06.94zm10 10l.94 2.06.94-2.06 2.06-.94-2.06-.94-.94-2.06-.94 2.06-2.06.94z\"/><path d=\"M17.41 7.96l-1.37-1.37c-.4-.4-.92-.59-1.43-.59-.52 0-1.04.2-1.43.59L10.3 9.45l-7.72 7.72c-.78.78-.78 2.05 0 2.83L4 21.41c.39.39.9.59 1.41.59.51 0 1.02-.2 1.41-.59l7.78-7.78 2.81-2.81c.8-.78.8-2.07 0-2.86zM5.41 20L4 18.59l7.72-7.72 1.47 1.35L5.41 20z\"/>\n",
              "  </svg>\n",
              "      </button>\n",
              "      \n",
              "  <style>\n",
              "    .colab-df-container {\n",
              "      display:flex;\n",
              "      flex-wrap:wrap;\n",
              "      gap: 12px;\n",
              "    }\n",
              "\n",
              "    .colab-df-convert {\n",
              "      background-color: #E8F0FE;\n",
              "      border: none;\n",
              "      border-radius: 50%;\n",
              "      cursor: pointer;\n",
              "      display: none;\n",
              "      fill: #1967D2;\n",
              "      height: 32px;\n",
              "      padding: 0 0 0 0;\n",
              "      width: 32px;\n",
              "    }\n",
              "\n",
              "    .colab-df-convert:hover {\n",
              "      background-color: #E2EBFA;\n",
              "      box-shadow: 0px 1px 2px rgba(60, 64, 67, 0.3), 0px 1px 3px 1px rgba(60, 64, 67, 0.15);\n",
              "      fill: #174EA6;\n",
              "    }\n",
              "\n",
              "    [theme=dark] .colab-df-convert {\n",
              "      background-color: #3B4455;\n",
              "      fill: #D2E3FC;\n",
              "    }\n",
              "\n",
              "    [theme=dark] .colab-df-convert:hover {\n",
              "      background-color: #434B5C;\n",
              "      box-shadow: 0px 1px 3px 1px rgba(0, 0, 0, 0.15);\n",
              "      filter: drop-shadow(0px 1px 2px rgba(0, 0, 0, 0.3));\n",
              "      fill: #FFFFFF;\n",
              "    }\n",
              "  </style>\n",
              "\n",
              "      <script>\n",
              "        const buttonEl =\n",
              "          document.querySelector('#df-ab34d276-fee8-466b-bee5-be434fd85bb7 button.colab-df-convert');\n",
              "        buttonEl.style.display =\n",
              "          google.colab.kernel.accessAllowed ? 'block' : 'none';\n",
              "\n",
              "        async function convertToInteractive(key) {\n",
              "          const element = document.querySelector('#df-ab34d276-fee8-466b-bee5-be434fd85bb7');\n",
              "          const dataTable =\n",
              "            await google.colab.kernel.invokeFunction('convertToInteractive',\n",
              "                                                     [key], {});\n",
              "          if (!dataTable) return;\n",
              "\n",
              "          const docLinkHtml = 'Like what you see? Visit the ' +\n",
              "            '<a target=\"_blank\" href=https://colab.research.google.com/notebooks/data_table.ipynb>data table notebook</a>'\n",
              "            + ' to learn more about interactive tables.';\n",
              "          element.innerHTML = '';\n",
              "          dataTable['output_type'] = 'display_data';\n",
              "          await google.colab.output.renderOutput(dataTable, element);\n",
              "          const docLink = document.createElement('div');\n",
              "          docLink.innerHTML = docLinkHtml;\n",
              "          element.appendChild(docLink);\n",
              "        }\n",
              "      </script>\n",
              "    </div>\n",
              "  </div>\n",
              "  "
            ]
          },
          "metadata": {},
          "execution_count": 31
        }
      ]
    },
    {
      "cell_type": "code",
      "source": [
        "# How many null values are there in each column?\n",
        "fifa_final.isna().sum()"
      ],
      "metadata": {
        "id": "NhGPcce_lrG7",
        "colab": {
          "base_uri": "https://localhost:8080/"
        },
        "outputId": "18efc77b-2beb-4778-c463-a290a75b10cc"
      },
      "execution_count": null,
      "outputs": [
        {
          "output_type": "execute_result",
          "data": {
            "text/plain": [
              "Image_link     0\n",
              "Name           0\n",
              "Age            0\n",
              "OVA            0\n",
              "POT            0\n",
              "Team           0\n",
              "Duration       0\n",
              "Value          0\n",
              "Wage           0\n",
              "Total_stats    0\n",
              "dtype: int64"
            ]
          },
          "metadata": {},
          "execution_count": 32
        }
      ]
    },
    {
      "cell_type": "code",
      "source": [
        "# How many null values are there in a dataset?\n",
        "fifa_final.isna().sum().sum()"
      ],
      "metadata": {
        "id": "AtVWpgaVlrMa",
        "colab": {
          "base_uri": "https://localhost:8080/"
        },
        "outputId": "04fab03a-675f-4036-f7e9-f63fc5f3fc62"
      },
      "execution_count": null,
      "outputs": [
        {
          "output_type": "execute_result",
          "data": {
            "text/plain": [
              "0"
            ]
          },
          "metadata": {},
          "execution_count": 33
        }
      ]
    },
    {
      "cell_type": "code",
      "source": [
        "# Check for the Duplicate values?\n",
        "fifa_final.duplicated().sum()"
      ],
      "metadata": {
        "id": "qG0_zNm0lrPA",
        "colab": {
          "base_uri": "https://localhost:8080/"
        },
        "outputId": "e7057518-d0e1-4b02-f76a-3303fae8e3cc"
      },
      "execution_count": null,
      "outputs": [
        {
          "output_type": "execute_result",
          "data": {
            "text/plain": [
              "9"
            ]
          },
          "metadata": {},
          "execution_count": 34
        }
      ]
    },
    {
      "cell_type": "code",
      "source": [
        "# Show all the duplicated values\n",
        "ff = fifa_final[fifa_final.duplicated()]\n",
        "ff"
      ],
      "metadata": {
        "id": "RbmacLajlrRp",
        "colab": {
          "base_uri": "https://localhost:8080/",
          "height": 331
        },
        "outputId": "6b8c4337-35d6-41a8-f031-99c2f7a86c38"
      },
      "execution_count": null,
      "outputs": [
        {
          "output_type": "execute_result",
          "data": {
            "text/plain": [
              "                                            Image_link              Name  Age  \\\n",
              "61   https://cdn.sofifa.net/players/222/665/23_120.png       M. Ødegaard   23   \n",
              "123  https://cdn.sofifa.net/players/232/756/23_120.png         F. Tomori   24   \n",
              "205  https://cdn.sofifa.net/players/259/163/23_120.png        M. Hilgers   21   \n",
              "248  https://cdn.sofifa.net/players/226/851/23_120.png         B. Pavard   26   \n",
              "358  https://cdn.sofifa.net/players/255/001/23_120.png        N. Rovella   20   \n",
              "419  https://cdn.sofifa.net/players/272/569/23_120.png      K. Rodríguez   22   \n",
              "433  https://cdn.sofifa.net/players/216/388/23_120.png  A. Saint-Maximin   25   \n",
              "489  https://cdn.sofifa.net/players/192/119/23_120.png       T. Courtois   30   \n",
              "540  https://cdn.sofifa.net/players/155/862/23_120.png      Sergio Ramos   36   \n",
              "\n",
              "     OVA  POT                     Team       Duration  Value  Wage  \\\n",
              "61    85   89                  Arsenal    2021 ~ 2026  77.5M  115K   \n",
              "123   84   90                    Milan    2021 ~ 2027  60.5M   75K   \n",
              "205   73   84                FC Twente    2020 ~ 2023   6.5M    8K   \n",
              "248   81   83        FC Bayern München    2019 ~ 2024  29.5M   63K   \n",
              "358   77   86                    Monza  Jun 30, 2023     23M   62K   \n",
              "419   66   75  Independiente del Valle    2023 ~ 2024   1.9M   500   \n",
              "433   81   83         Newcastle United    2019 ~ 2026  32.5M  105K   \n",
              "489   90   91              Real Madrid    2018 ~ 2026    90M  250K   \n",
              "540   84   84      Paris Saint Germain    2021 ~ 2023   7.5M   75K   \n",
              "\n",
              "     Total_stats  \n",
              "61          2125  \n",
              "123         1875  \n",
              "205         1710  \n",
              "248         2039  \n",
              "358         2086  \n",
              "419         1623  \n",
              "433         1915  \n",
              "489         1334  \n",
              "540         2136  "
            ],
            "text/html": [
              "\n",
              "  <div id=\"df-5f5c6ff1-8127-4727-b154-cdf0ce023933\">\n",
              "    <div class=\"colab-df-container\">\n",
              "      <div>\n",
              "<style scoped>\n",
              "    .dataframe tbody tr th:only-of-type {\n",
              "        vertical-align: middle;\n",
              "    }\n",
              "\n",
              "    .dataframe tbody tr th {\n",
              "        vertical-align: top;\n",
              "    }\n",
              "\n",
              "    .dataframe thead th {\n",
              "        text-align: right;\n",
              "    }\n",
              "</style>\n",
              "<table border=\"1\" class=\"dataframe\">\n",
              "  <thead>\n",
              "    <tr style=\"text-align: right;\">\n",
              "      <th></th>\n",
              "      <th>Image_link</th>\n",
              "      <th>Name</th>\n",
              "      <th>Age</th>\n",
              "      <th>OVA</th>\n",
              "      <th>POT</th>\n",
              "      <th>Team</th>\n",
              "      <th>Duration</th>\n",
              "      <th>Value</th>\n",
              "      <th>Wage</th>\n",
              "      <th>Total_stats</th>\n",
              "    </tr>\n",
              "  </thead>\n",
              "  <tbody>\n",
              "    <tr>\n",
              "      <th>61</th>\n",
              "      <td>https://cdn.sofifa.net/players/222/665/23_120.png</td>\n",
              "      <td>M. Ødegaard</td>\n",
              "      <td>23</td>\n",
              "      <td>85</td>\n",
              "      <td>89</td>\n",
              "      <td>Arsenal</td>\n",
              "      <td>2021 ~ 2026</td>\n",
              "      <td>77.5M</td>\n",
              "      <td>115K</td>\n",
              "      <td>2125</td>\n",
              "    </tr>\n",
              "    <tr>\n",
              "      <th>123</th>\n",
              "      <td>https://cdn.sofifa.net/players/232/756/23_120.png</td>\n",
              "      <td>F. Tomori</td>\n",
              "      <td>24</td>\n",
              "      <td>84</td>\n",
              "      <td>90</td>\n",
              "      <td>Milan</td>\n",
              "      <td>2021 ~ 2027</td>\n",
              "      <td>60.5M</td>\n",
              "      <td>75K</td>\n",
              "      <td>1875</td>\n",
              "    </tr>\n",
              "    <tr>\n",
              "      <th>205</th>\n",
              "      <td>https://cdn.sofifa.net/players/259/163/23_120.png</td>\n",
              "      <td>M. Hilgers</td>\n",
              "      <td>21</td>\n",
              "      <td>73</td>\n",
              "      <td>84</td>\n",
              "      <td>FC Twente</td>\n",
              "      <td>2020 ~ 2023</td>\n",
              "      <td>6.5M</td>\n",
              "      <td>8K</td>\n",
              "      <td>1710</td>\n",
              "    </tr>\n",
              "    <tr>\n",
              "      <th>248</th>\n",
              "      <td>https://cdn.sofifa.net/players/226/851/23_120.png</td>\n",
              "      <td>B. Pavard</td>\n",
              "      <td>26</td>\n",
              "      <td>81</td>\n",
              "      <td>83</td>\n",
              "      <td>FC Bayern München</td>\n",
              "      <td>2019 ~ 2024</td>\n",
              "      <td>29.5M</td>\n",
              "      <td>63K</td>\n",
              "      <td>2039</td>\n",
              "    </tr>\n",
              "    <tr>\n",
              "      <th>358</th>\n",
              "      <td>https://cdn.sofifa.net/players/255/001/23_120.png</td>\n",
              "      <td>N. Rovella</td>\n",
              "      <td>20</td>\n",
              "      <td>77</td>\n",
              "      <td>86</td>\n",
              "      <td>Monza</td>\n",
              "      <td>Jun 30, 2023</td>\n",
              "      <td>23M</td>\n",
              "      <td>62K</td>\n",
              "      <td>2086</td>\n",
              "    </tr>\n",
              "    <tr>\n",
              "      <th>419</th>\n",
              "      <td>https://cdn.sofifa.net/players/272/569/23_120.png</td>\n",
              "      <td>K. Rodríguez</td>\n",
              "      <td>22</td>\n",
              "      <td>66</td>\n",
              "      <td>75</td>\n",
              "      <td>Independiente del Valle</td>\n",
              "      <td>2023 ~ 2024</td>\n",
              "      <td>1.9M</td>\n",
              "      <td>500</td>\n",
              "      <td>1623</td>\n",
              "    </tr>\n",
              "    <tr>\n",
              "      <th>433</th>\n",
              "      <td>https://cdn.sofifa.net/players/216/388/23_120.png</td>\n",
              "      <td>A. Saint-Maximin</td>\n",
              "      <td>25</td>\n",
              "      <td>81</td>\n",
              "      <td>83</td>\n",
              "      <td>Newcastle United</td>\n",
              "      <td>2019 ~ 2026</td>\n",
              "      <td>32.5M</td>\n",
              "      <td>105K</td>\n",
              "      <td>1915</td>\n",
              "    </tr>\n",
              "    <tr>\n",
              "      <th>489</th>\n",
              "      <td>https://cdn.sofifa.net/players/192/119/23_120.png</td>\n",
              "      <td>T. Courtois</td>\n",
              "      <td>30</td>\n",
              "      <td>90</td>\n",
              "      <td>91</td>\n",
              "      <td>Real Madrid</td>\n",
              "      <td>2018 ~ 2026</td>\n",
              "      <td>90M</td>\n",
              "      <td>250K</td>\n",
              "      <td>1334</td>\n",
              "    </tr>\n",
              "    <tr>\n",
              "      <th>540</th>\n",
              "      <td>https://cdn.sofifa.net/players/155/862/23_120.png</td>\n",
              "      <td>Sergio Ramos</td>\n",
              "      <td>36</td>\n",
              "      <td>84</td>\n",
              "      <td>84</td>\n",
              "      <td>Paris Saint Germain</td>\n",
              "      <td>2021 ~ 2023</td>\n",
              "      <td>7.5M</td>\n",
              "      <td>75K</td>\n",
              "      <td>2136</td>\n",
              "    </tr>\n",
              "  </tbody>\n",
              "</table>\n",
              "</div>\n",
              "      <button class=\"colab-df-convert\" onclick=\"convertToInteractive('df-5f5c6ff1-8127-4727-b154-cdf0ce023933')\"\n",
              "              title=\"Convert this dataframe to an interactive table.\"\n",
              "              style=\"display:none;\">\n",
              "        \n",
              "  <svg xmlns=\"http://www.w3.org/2000/svg\" height=\"24px\"viewBox=\"0 0 24 24\"\n",
              "       width=\"24px\">\n",
              "    <path d=\"M0 0h24v24H0V0z\" fill=\"none\"/>\n",
              "    <path d=\"M18.56 5.44l.94 2.06.94-2.06 2.06-.94-2.06-.94-.94-2.06-.94 2.06-2.06.94zm-11 1L8.5 8.5l.94-2.06 2.06-.94-2.06-.94L8.5 2.5l-.94 2.06-2.06.94zm10 10l.94 2.06.94-2.06 2.06-.94-2.06-.94-.94-2.06-.94 2.06-2.06.94z\"/><path d=\"M17.41 7.96l-1.37-1.37c-.4-.4-.92-.59-1.43-.59-.52 0-1.04.2-1.43.59L10.3 9.45l-7.72 7.72c-.78.78-.78 2.05 0 2.83L4 21.41c.39.39.9.59 1.41.59.51 0 1.02-.2 1.41-.59l7.78-7.78 2.81-2.81c.8-.78.8-2.07 0-2.86zM5.41 20L4 18.59l7.72-7.72 1.47 1.35L5.41 20z\"/>\n",
              "  </svg>\n",
              "      </button>\n",
              "      \n",
              "  <style>\n",
              "    .colab-df-container {\n",
              "      display:flex;\n",
              "      flex-wrap:wrap;\n",
              "      gap: 12px;\n",
              "    }\n",
              "\n",
              "    .colab-df-convert {\n",
              "      background-color: #E8F0FE;\n",
              "      border: none;\n",
              "      border-radius: 50%;\n",
              "      cursor: pointer;\n",
              "      display: none;\n",
              "      fill: #1967D2;\n",
              "      height: 32px;\n",
              "      padding: 0 0 0 0;\n",
              "      width: 32px;\n",
              "    }\n",
              "\n",
              "    .colab-df-convert:hover {\n",
              "      background-color: #E2EBFA;\n",
              "      box-shadow: 0px 1px 2px rgba(60, 64, 67, 0.3), 0px 1px 3px 1px rgba(60, 64, 67, 0.15);\n",
              "      fill: #174EA6;\n",
              "    }\n",
              "\n",
              "    [theme=dark] .colab-df-convert {\n",
              "      background-color: #3B4455;\n",
              "      fill: #D2E3FC;\n",
              "    }\n",
              "\n",
              "    [theme=dark] .colab-df-convert:hover {\n",
              "      background-color: #434B5C;\n",
              "      box-shadow: 0px 1px 3px 1px rgba(0, 0, 0, 0.15);\n",
              "      filter: drop-shadow(0px 1px 2px rgba(0, 0, 0, 0.3));\n",
              "      fill: #FFFFFF;\n",
              "    }\n",
              "  </style>\n",
              "\n",
              "      <script>\n",
              "        const buttonEl =\n",
              "          document.querySelector('#df-5f5c6ff1-8127-4727-b154-cdf0ce023933 button.colab-df-convert');\n",
              "        buttonEl.style.display =\n",
              "          google.colab.kernel.accessAllowed ? 'block' : 'none';\n",
              "\n",
              "        async function convertToInteractive(key) {\n",
              "          const element = document.querySelector('#df-5f5c6ff1-8127-4727-b154-cdf0ce023933');\n",
              "          const dataTable =\n",
              "            await google.colab.kernel.invokeFunction('convertToInteractive',\n",
              "                                                     [key], {});\n",
              "          if (!dataTable) return;\n",
              "\n",
              "          const docLinkHtml = 'Like what you see? Visit the ' +\n",
              "            '<a target=\"_blank\" href=https://colab.research.google.com/notebooks/data_table.ipynb>data table notebook</a>'\n",
              "            + ' to learn more about interactive tables.';\n",
              "          element.innerHTML = '';\n",
              "          dataTable['output_type'] = 'display_data';\n",
              "          await google.colab.output.renderOutput(dataTable, element);\n",
              "          const docLink = document.createElement('div');\n",
              "          docLink.innerHTML = docLinkHtml;\n",
              "          element.appendChild(docLink);\n",
              "        }\n",
              "      </script>\n",
              "    </div>\n",
              "  </div>\n",
              "  "
            ]
          },
          "metadata": {},
          "execution_count": 35
        }
      ]
    },
    {
      "cell_type": "code",
      "source": [
        "ff1 = fifa_final[fifa_final.duplicated(keep = False)]\n",
        "ff1"
      ],
      "metadata": {
        "id": "1X_yRtPTGqXT",
        "colab": {
          "base_uri": "https://localhost:8080/",
          "height": 614
        },
        "outputId": "c770193b-f280-45a2-d70a-c23f9a9cdb9e"
      },
      "execution_count": null,
      "outputs": [
        {
          "output_type": "execute_result",
          "data": {
            "text/plain": [
              "                                            Image_link              Name  Age  \\\n",
              "53   https://cdn.sofifa.net/players/222/665/23_120.png       M. Ødegaard   23   \n",
              "61   https://cdn.sofifa.net/players/222/665/23_120.png       M. Ødegaard   23   \n",
              "100  https://cdn.sofifa.net/players/232/756/23_120.png         F. Tomori   24   \n",
              "123  https://cdn.sofifa.net/players/232/756/23_120.png         F. Tomori   24   \n",
              "174  https://cdn.sofifa.net/players/259/163/23_120.png        M. Hilgers   21   \n",
              "205  https://cdn.sofifa.net/players/259/163/23_120.png        M. Hilgers   21   \n",
              "206  https://cdn.sofifa.net/players/226/851/23_120.png         B. Pavard   26   \n",
              "248  https://cdn.sofifa.net/players/226/851/23_120.png         B. Pavard   26   \n",
              "291  https://cdn.sofifa.net/players/255/001/23_120.png        N. Rovella   20   \n",
              "358  https://cdn.sofifa.net/players/255/001/23_120.png        N. Rovella   20   \n",
              "359  https://cdn.sofifa.net/players/272/569/23_120.png      K. Rodríguez   22   \n",
              "360  https://cdn.sofifa.net/players/216/388/23_120.png  A. Saint-Maximin   25   \n",
              "419  https://cdn.sofifa.net/players/272/569/23_120.png      K. Rodríguez   22   \n",
              "420  https://cdn.sofifa.net/players/192/119/23_120.png       T. Courtois   30   \n",
              "433  https://cdn.sofifa.net/players/216/388/23_120.png  A. Saint-Maximin   25   \n",
              "480  https://cdn.sofifa.net/players/155/862/23_120.png      Sergio Ramos   36   \n",
              "489  https://cdn.sofifa.net/players/192/119/23_120.png       T. Courtois   30   \n",
              "540  https://cdn.sofifa.net/players/155/862/23_120.png      Sergio Ramos   36   \n",
              "\n",
              "     OVA  POT                     Team       Duration  Value  Wage  \\\n",
              "53    85   89                  Arsenal    2021 ~ 2026  77.5M  115K   \n",
              "61    85   89                  Arsenal    2021 ~ 2026  77.5M  115K   \n",
              "100   84   90                    Milan    2021 ~ 2027  60.5M   75K   \n",
              "123   84   90                    Milan    2021 ~ 2027  60.5M   75K   \n",
              "174   73   84                FC Twente    2020 ~ 2023   6.5M    8K   \n",
              "205   73   84                FC Twente    2020 ~ 2023   6.5M    8K   \n",
              "206   81   83        FC Bayern München    2019 ~ 2024  29.5M   63K   \n",
              "248   81   83        FC Bayern München    2019 ~ 2024  29.5M   63K   \n",
              "291   77   86                    Monza  Jun 30, 2023     23M   62K   \n",
              "358   77   86                    Monza  Jun 30, 2023     23M   62K   \n",
              "359   66   75  Independiente del Valle    2023 ~ 2024   1.9M   500   \n",
              "360   81   83         Newcastle United    2019 ~ 2026  32.5M  105K   \n",
              "419   66   75  Independiente del Valle    2023 ~ 2024   1.9M   500   \n",
              "420   90   91              Real Madrid    2018 ~ 2026    90M  250K   \n",
              "433   81   83         Newcastle United    2019 ~ 2026  32.5M  105K   \n",
              "480   84   84      Paris Saint Germain    2021 ~ 2023   7.5M   75K   \n",
              "489   90   91              Real Madrid    2018 ~ 2026    90M  250K   \n",
              "540   84   84      Paris Saint Germain    2021 ~ 2023   7.5M   75K   \n",
              "\n",
              "     Total_stats  \n",
              "53          2125  \n",
              "61          2125  \n",
              "100         1875  \n",
              "123         1875  \n",
              "174         1710  \n",
              "205         1710  \n",
              "206         2039  \n",
              "248         2039  \n",
              "291         2086  \n",
              "358         2086  \n",
              "359         1623  \n",
              "360         1915  \n",
              "419         1623  \n",
              "420         1334  \n",
              "433         1915  \n",
              "480         2136  \n",
              "489         1334  \n",
              "540         2136  "
            ],
            "text/html": [
              "\n",
              "  <div id=\"df-47d2109e-171b-4f81-9c88-27680e759026\">\n",
              "    <div class=\"colab-df-container\">\n",
              "      <div>\n",
              "<style scoped>\n",
              "    .dataframe tbody tr th:only-of-type {\n",
              "        vertical-align: middle;\n",
              "    }\n",
              "\n",
              "    .dataframe tbody tr th {\n",
              "        vertical-align: top;\n",
              "    }\n",
              "\n",
              "    .dataframe thead th {\n",
              "        text-align: right;\n",
              "    }\n",
              "</style>\n",
              "<table border=\"1\" class=\"dataframe\">\n",
              "  <thead>\n",
              "    <tr style=\"text-align: right;\">\n",
              "      <th></th>\n",
              "      <th>Image_link</th>\n",
              "      <th>Name</th>\n",
              "      <th>Age</th>\n",
              "      <th>OVA</th>\n",
              "      <th>POT</th>\n",
              "      <th>Team</th>\n",
              "      <th>Duration</th>\n",
              "      <th>Value</th>\n",
              "      <th>Wage</th>\n",
              "      <th>Total_stats</th>\n",
              "    </tr>\n",
              "  </thead>\n",
              "  <tbody>\n",
              "    <tr>\n",
              "      <th>53</th>\n",
              "      <td>https://cdn.sofifa.net/players/222/665/23_120.png</td>\n",
              "      <td>M. Ødegaard</td>\n",
              "      <td>23</td>\n",
              "      <td>85</td>\n",
              "      <td>89</td>\n",
              "      <td>Arsenal</td>\n",
              "      <td>2021 ~ 2026</td>\n",
              "      <td>77.5M</td>\n",
              "      <td>115K</td>\n",
              "      <td>2125</td>\n",
              "    </tr>\n",
              "    <tr>\n",
              "      <th>61</th>\n",
              "      <td>https://cdn.sofifa.net/players/222/665/23_120.png</td>\n",
              "      <td>M. Ødegaard</td>\n",
              "      <td>23</td>\n",
              "      <td>85</td>\n",
              "      <td>89</td>\n",
              "      <td>Arsenal</td>\n",
              "      <td>2021 ~ 2026</td>\n",
              "      <td>77.5M</td>\n",
              "      <td>115K</td>\n",
              "      <td>2125</td>\n",
              "    </tr>\n",
              "    <tr>\n",
              "      <th>100</th>\n",
              "      <td>https://cdn.sofifa.net/players/232/756/23_120.png</td>\n",
              "      <td>F. Tomori</td>\n",
              "      <td>24</td>\n",
              "      <td>84</td>\n",
              "      <td>90</td>\n",
              "      <td>Milan</td>\n",
              "      <td>2021 ~ 2027</td>\n",
              "      <td>60.5M</td>\n",
              "      <td>75K</td>\n",
              "      <td>1875</td>\n",
              "    </tr>\n",
              "    <tr>\n",
              "      <th>123</th>\n",
              "      <td>https://cdn.sofifa.net/players/232/756/23_120.png</td>\n",
              "      <td>F. Tomori</td>\n",
              "      <td>24</td>\n",
              "      <td>84</td>\n",
              "      <td>90</td>\n",
              "      <td>Milan</td>\n",
              "      <td>2021 ~ 2027</td>\n",
              "      <td>60.5M</td>\n",
              "      <td>75K</td>\n",
              "      <td>1875</td>\n",
              "    </tr>\n",
              "    <tr>\n",
              "      <th>174</th>\n",
              "      <td>https://cdn.sofifa.net/players/259/163/23_120.png</td>\n",
              "      <td>M. Hilgers</td>\n",
              "      <td>21</td>\n",
              "      <td>73</td>\n",
              "      <td>84</td>\n",
              "      <td>FC Twente</td>\n",
              "      <td>2020 ~ 2023</td>\n",
              "      <td>6.5M</td>\n",
              "      <td>8K</td>\n",
              "      <td>1710</td>\n",
              "    </tr>\n",
              "    <tr>\n",
              "      <th>205</th>\n",
              "      <td>https://cdn.sofifa.net/players/259/163/23_120.png</td>\n",
              "      <td>M. Hilgers</td>\n",
              "      <td>21</td>\n",
              "      <td>73</td>\n",
              "      <td>84</td>\n",
              "      <td>FC Twente</td>\n",
              "      <td>2020 ~ 2023</td>\n",
              "      <td>6.5M</td>\n",
              "      <td>8K</td>\n",
              "      <td>1710</td>\n",
              "    </tr>\n",
              "    <tr>\n",
              "      <th>206</th>\n",
              "      <td>https://cdn.sofifa.net/players/226/851/23_120.png</td>\n",
              "      <td>B. Pavard</td>\n",
              "      <td>26</td>\n",
              "      <td>81</td>\n",
              "      <td>83</td>\n",
              "      <td>FC Bayern München</td>\n",
              "      <td>2019 ~ 2024</td>\n",
              "      <td>29.5M</td>\n",
              "      <td>63K</td>\n",
              "      <td>2039</td>\n",
              "    </tr>\n",
              "    <tr>\n",
              "      <th>248</th>\n",
              "      <td>https://cdn.sofifa.net/players/226/851/23_120.png</td>\n",
              "      <td>B. Pavard</td>\n",
              "      <td>26</td>\n",
              "      <td>81</td>\n",
              "      <td>83</td>\n",
              "      <td>FC Bayern München</td>\n",
              "      <td>2019 ~ 2024</td>\n",
              "      <td>29.5M</td>\n",
              "      <td>63K</td>\n",
              "      <td>2039</td>\n",
              "    </tr>\n",
              "    <tr>\n",
              "      <th>291</th>\n",
              "      <td>https://cdn.sofifa.net/players/255/001/23_120.png</td>\n",
              "      <td>N. Rovella</td>\n",
              "      <td>20</td>\n",
              "      <td>77</td>\n",
              "      <td>86</td>\n",
              "      <td>Monza</td>\n",
              "      <td>Jun 30, 2023</td>\n",
              "      <td>23M</td>\n",
              "      <td>62K</td>\n",
              "      <td>2086</td>\n",
              "    </tr>\n",
              "    <tr>\n",
              "      <th>358</th>\n",
              "      <td>https://cdn.sofifa.net/players/255/001/23_120.png</td>\n",
              "      <td>N. Rovella</td>\n",
              "      <td>20</td>\n",
              "      <td>77</td>\n",
              "      <td>86</td>\n",
              "      <td>Monza</td>\n",
              "      <td>Jun 30, 2023</td>\n",
              "      <td>23M</td>\n",
              "      <td>62K</td>\n",
              "      <td>2086</td>\n",
              "    </tr>\n",
              "    <tr>\n",
              "      <th>359</th>\n",
              "      <td>https://cdn.sofifa.net/players/272/569/23_120.png</td>\n",
              "      <td>K. Rodríguez</td>\n",
              "      <td>22</td>\n",
              "      <td>66</td>\n",
              "      <td>75</td>\n",
              "      <td>Independiente del Valle</td>\n",
              "      <td>2023 ~ 2024</td>\n",
              "      <td>1.9M</td>\n",
              "      <td>500</td>\n",
              "      <td>1623</td>\n",
              "    </tr>\n",
              "    <tr>\n",
              "      <th>360</th>\n",
              "      <td>https://cdn.sofifa.net/players/216/388/23_120.png</td>\n",
              "      <td>A. Saint-Maximin</td>\n",
              "      <td>25</td>\n",
              "      <td>81</td>\n",
              "      <td>83</td>\n",
              "      <td>Newcastle United</td>\n",
              "      <td>2019 ~ 2026</td>\n",
              "      <td>32.5M</td>\n",
              "      <td>105K</td>\n",
              "      <td>1915</td>\n",
              "    </tr>\n",
              "    <tr>\n",
              "      <th>419</th>\n",
              "      <td>https://cdn.sofifa.net/players/272/569/23_120.png</td>\n",
              "      <td>K. Rodríguez</td>\n",
              "      <td>22</td>\n",
              "      <td>66</td>\n",
              "      <td>75</td>\n",
              "      <td>Independiente del Valle</td>\n",
              "      <td>2023 ~ 2024</td>\n",
              "      <td>1.9M</td>\n",
              "      <td>500</td>\n",
              "      <td>1623</td>\n",
              "    </tr>\n",
              "    <tr>\n",
              "      <th>420</th>\n",
              "      <td>https://cdn.sofifa.net/players/192/119/23_120.png</td>\n",
              "      <td>T. Courtois</td>\n",
              "      <td>30</td>\n",
              "      <td>90</td>\n",
              "      <td>91</td>\n",
              "      <td>Real Madrid</td>\n",
              "      <td>2018 ~ 2026</td>\n",
              "      <td>90M</td>\n",
              "      <td>250K</td>\n",
              "      <td>1334</td>\n",
              "    </tr>\n",
              "    <tr>\n",
              "      <th>433</th>\n",
              "      <td>https://cdn.sofifa.net/players/216/388/23_120.png</td>\n",
              "      <td>A. Saint-Maximin</td>\n",
              "      <td>25</td>\n",
              "      <td>81</td>\n",
              "      <td>83</td>\n",
              "      <td>Newcastle United</td>\n",
              "      <td>2019 ~ 2026</td>\n",
              "      <td>32.5M</td>\n",
              "      <td>105K</td>\n",
              "      <td>1915</td>\n",
              "    </tr>\n",
              "    <tr>\n",
              "      <th>480</th>\n",
              "      <td>https://cdn.sofifa.net/players/155/862/23_120.png</td>\n",
              "      <td>Sergio Ramos</td>\n",
              "      <td>36</td>\n",
              "      <td>84</td>\n",
              "      <td>84</td>\n",
              "      <td>Paris Saint Germain</td>\n",
              "      <td>2021 ~ 2023</td>\n",
              "      <td>7.5M</td>\n",
              "      <td>75K</td>\n",
              "      <td>2136</td>\n",
              "    </tr>\n",
              "    <tr>\n",
              "      <th>489</th>\n",
              "      <td>https://cdn.sofifa.net/players/192/119/23_120.png</td>\n",
              "      <td>T. Courtois</td>\n",
              "      <td>30</td>\n",
              "      <td>90</td>\n",
              "      <td>91</td>\n",
              "      <td>Real Madrid</td>\n",
              "      <td>2018 ~ 2026</td>\n",
              "      <td>90M</td>\n",
              "      <td>250K</td>\n",
              "      <td>1334</td>\n",
              "    </tr>\n",
              "    <tr>\n",
              "      <th>540</th>\n",
              "      <td>https://cdn.sofifa.net/players/155/862/23_120.png</td>\n",
              "      <td>Sergio Ramos</td>\n",
              "      <td>36</td>\n",
              "      <td>84</td>\n",
              "      <td>84</td>\n",
              "      <td>Paris Saint Germain</td>\n",
              "      <td>2021 ~ 2023</td>\n",
              "      <td>7.5M</td>\n",
              "      <td>75K</td>\n",
              "      <td>2136</td>\n",
              "    </tr>\n",
              "  </tbody>\n",
              "</table>\n",
              "</div>\n",
              "      <button class=\"colab-df-convert\" onclick=\"convertToInteractive('df-47d2109e-171b-4f81-9c88-27680e759026')\"\n",
              "              title=\"Convert this dataframe to an interactive table.\"\n",
              "              style=\"display:none;\">\n",
              "        \n",
              "  <svg xmlns=\"http://www.w3.org/2000/svg\" height=\"24px\"viewBox=\"0 0 24 24\"\n",
              "       width=\"24px\">\n",
              "    <path d=\"M0 0h24v24H0V0z\" fill=\"none\"/>\n",
              "    <path d=\"M18.56 5.44l.94 2.06.94-2.06 2.06-.94-2.06-.94-.94-2.06-.94 2.06-2.06.94zm-11 1L8.5 8.5l.94-2.06 2.06-.94-2.06-.94L8.5 2.5l-.94 2.06-2.06.94zm10 10l.94 2.06.94-2.06 2.06-.94-2.06-.94-.94-2.06-.94 2.06-2.06.94z\"/><path d=\"M17.41 7.96l-1.37-1.37c-.4-.4-.92-.59-1.43-.59-.52 0-1.04.2-1.43.59L10.3 9.45l-7.72 7.72c-.78.78-.78 2.05 0 2.83L4 21.41c.39.39.9.59 1.41.59.51 0 1.02-.2 1.41-.59l7.78-7.78 2.81-2.81c.8-.78.8-2.07 0-2.86zM5.41 20L4 18.59l7.72-7.72 1.47 1.35L5.41 20z\"/>\n",
              "  </svg>\n",
              "      </button>\n",
              "      \n",
              "  <style>\n",
              "    .colab-df-container {\n",
              "      display:flex;\n",
              "      flex-wrap:wrap;\n",
              "      gap: 12px;\n",
              "    }\n",
              "\n",
              "    .colab-df-convert {\n",
              "      background-color: #E8F0FE;\n",
              "      border: none;\n",
              "      border-radius: 50%;\n",
              "      cursor: pointer;\n",
              "      display: none;\n",
              "      fill: #1967D2;\n",
              "      height: 32px;\n",
              "      padding: 0 0 0 0;\n",
              "      width: 32px;\n",
              "    }\n",
              "\n",
              "    .colab-df-convert:hover {\n",
              "      background-color: #E2EBFA;\n",
              "      box-shadow: 0px 1px 2px rgba(60, 64, 67, 0.3), 0px 1px 3px 1px rgba(60, 64, 67, 0.15);\n",
              "      fill: #174EA6;\n",
              "    }\n",
              "\n",
              "    [theme=dark] .colab-df-convert {\n",
              "      background-color: #3B4455;\n",
              "      fill: #D2E3FC;\n",
              "    }\n",
              "\n",
              "    [theme=dark] .colab-df-convert:hover {\n",
              "      background-color: #434B5C;\n",
              "      box-shadow: 0px 1px 3px 1px rgba(0, 0, 0, 0.15);\n",
              "      filter: drop-shadow(0px 1px 2px rgba(0, 0, 0, 0.3));\n",
              "      fill: #FFFFFF;\n",
              "    }\n",
              "  </style>\n",
              "\n",
              "      <script>\n",
              "        const buttonEl =\n",
              "          document.querySelector('#df-47d2109e-171b-4f81-9c88-27680e759026 button.colab-df-convert');\n",
              "        buttonEl.style.display =\n",
              "          google.colab.kernel.accessAllowed ? 'block' : 'none';\n",
              "\n",
              "        async function convertToInteractive(key) {\n",
              "          const element = document.querySelector('#df-47d2109e-171b-4f81-9c88-27680e759026');\n",
              "          const dataTable =\n",
              "            await google.colab.kernel.invokeFunction('convertToInteractive',\n",
              "                                                     [key], {});\n",
              "          if (!dataTable) return;\n",
              "\n",
              "          const docLinkHtml = 'Like what you see? Visit the ' +\n",
              "            '<a target=\"_blank\" href=https://colab.research.google.com/notebooks/data_table.ipynb>data table notebook</a>'\n",
              "            + ' to learn more about interactive tables.';\n",
              "          element.innerHTML = '';\n",
              "          dataTable['output_type'] = 'display_data';\n",
              "          await google.colab.output.renderOutput(dataTable, element);\n",
              "          const docLink = document.createElement('div');\n",
              "          docLink.innerHTML = docLinkHtml;\n",
              "          element.appendChild(docLink);\n",
              "        }\n",
              "      </script>\n",
              "    </div>\n",
              "  </div>\n",
              "  "
            ]
          },
          "metadata": {},
          "execution_count": 36
        }
      ]
    },
    {
      "cell_type": "code",
      "source": [
        "# delete all duplicates values\n",
        "fifa_final.drop_duplicates(inplace= True)"
      ],
      "metadata": {
        "id": "NP-bmjwvGqT5"
      },
      "execution_count": null,
      "outputs": []
    },
    {
      "cell_type": "code",
      "source": [
        "fifa_final.shape"
      ],
      "metadata": {
        "id": "AdF0ashqGqQv",
        "colab": {
          "base_uri": "https://localhost:8080/"
        },
        "outputId": "640f05e7-5fa2-45a4-9645-94389f84ad9c"
      },
      "execution_count": null,
      "outputs": [
        {
          "output_type": "execute_result",
          "data": {
            "text/plain": [
              "(591, 10)"
            ]
          },
          "metadata": {},
          "execution_count": 38
        }
      ]
    },
    {
      "cell_type": "code",
      "source": [
        "fifa_final.tail()"
      ],
      "metadata": {
        "id": "fszGuG-rGqNs",
        "colab": {
          "base_uri": "https://localhost:8080/",
          "height": 206
        },
        "outputId": "32dc6f76-02fb-48d3-badf-52f1b99dc02b"
      },
      "execution_count": null,
      "outputs": [
        {
          "output_type": "execute_result",
          "data": {
            "text/plain": [
              "                                            Image_link             Name  Age  \\\n",
              "595  https://cdn.sofifa.net/players/272/379/23_120.png  S. Iling-Junior   18   \n",
              "596  https://cdn.sofifa.net/players/272/445/23_120.png           Álvaro   17   \n",
              "597  https://cdn.sofifa.net/players/272/449/23_120.png    Pablo Barrios   19   \n",
              "598  https://cdn.sofifa.net/players/272/781/23_120.png    E. Ben Seghir   17   \n",
              "599  https://cdn.sofifa.net/players/273/463/23_120.png       João Gomes   21   \n",
              "\n",
              "     OVA  POT                     Team     Duration Value Wage  Total_stats  \n",
              "595   69   85                 Juventus  2022 ~ 2025  3.5M  13K         1697  \n",
              "596   62   81              Real Madrid  2021 ~ 2027    1M   4K         1498  \n",
              "597   66   84          Atlético Madrid  2022 ~ 2028  2.2M   7K         1789  \n",
              "598   69   84                   Monaco  2022 ~ 2025  3.2M   5K         1705  \n",
              "599   76   85  Wolverhampton Wanderers  2023 ~ 2028   16M  43K         2019  "
            ],
            "text/html": [
              "\n",
              "  <div id=\"df-a0bf5a31-b827-49b1-9614-36cae9e22b60\">\n",
              "    <div class=\"colab-df-container\">\n",
              "      <div>\n",
              "<style scoped>\n",
              "    .dataframe tbody tr th:only-of-type {\n",
              "        vertical-align: middle;\n",
              "    }\n",
              "\n",
              "    .dataframe tbody tr th {\n",
              "        vertical-align: top;\n",
              "    }\n",
              "\n",
              "    .dataframe thead th {\n",
              "        text-align: right;\n",
              "    }\n",
              "</style>\n",
              "<table border=\"1\" class=\"dataframe\">\n",
              "  <thead>\n",
              "    <tr style=\"text-align: right;\">\n",
              "      <th></th>\n",
              "      <th>Image_link</th>\n",
              "      <th>Name</th>\n",
              "      <th>Age</th>\n",
              "      <th>OVA</th>\n",
              "      <th>POT</th>\n",
              "      <th>Team</th>\n",
              "      <th>Duration</th>\n",
              "      <th>Value</th>\n",
              "      <th>Wage</th>\n",
              "      <th>Total_stats</th>\n",
              "    </tr>\n",
              "  </thead>\n",
              "  <tbody>\n",
              "    <tr>\n",
              "      <th>595</th>\n",
              "      <td>https://cdn.sofifa.net/players/272/379/23_120.png</td>\n",
              "      <td>S. Iling-Junior</td>\n",
              "      <td>18</td>\n",
              "      <td>69</td>\n",
              "      <td>85</td>\n",
              "      <td>Juventus</td>\n",
              "      <td>2022 ~ 2025</td>\n",
              "      <td>3.5M</td>\n",
              "      <td>13K</td>\n",
              "      <td>1697</td>\n",
              "    </tr>\n",
              "    <tr>\n",
              "      <th>596</th>\n",
              "      <td>https://cdn.sofifa.net/players/272/445/23_120.png</td>\n",
              "      <td>Álvaro</td>\n",
              "      <td>17</td>\n",
              "      <td>62</td>\n",
              "      <td>81</td>\n",
              "      <td>Real Madrid</td>\n",
              "      <td>2021 ~ 2027</td>\n",
              "      <td>1M</td>\n",
              "      <td>4K</td>\n",
              "      <td>1498</td>\n",
              "    </tr>\n",
              "    <tr>\n",
              "      <th>597</th>\n",
              "      <td>https://cdn.sofifa.net/players/272/449/23_120.png</td>\n",
              "      <td>Pablo Barrios</td>\n",
              "      <td>19</td>\n",
              "      <td>66</td>\n",
              "      <td>84</td>\n",
              "      <td>Atlético Madrid</td>\n",
              "      <td>2022 ~ 2028</td>\n",
              "      <td>2.2M</td>\n",
              "      <td>7K</td>\n",
              "      <td>1789</td>\n",
              "    </tr>\n",
              "    <tr>\n",
              "      <th>598</th>\n",
              "      <td>https://cdn.sofifa.net/players/272/781/23_120.png</td>\n",
              "      <td>E. Ben Seghir</td>\n",
              "      <td>17</td>\n",
              "      <td>69</td>\n",
              "      <td>84</td>\n",
              "      <td>Monaco</td>\n",
              "      <td>2022 ~ 2025</td>\n",
              "      <td>3.2M</td>\n",
              "      <td>5K</td>\n",
              "      <td>1705</td>\n",
              "    </tr>\n",
              "    <tr>\n",
              "      <th>599</th>\n",
              "      <td>https://cdn.sofifa.net/players/273/463/23_120.png</td>\n",
              "      <td>João Gomes</td>\n",
              "      <td>21</td>\n",
              "      <td>76</td>\n",
              "      <td>85</td>\n",
              "      <td>Wolverhampton Wanderers</td>\n",
              "      <td>2023 ~ 2028</td>\n",
              "      <td>16M</td>\n",
              "      <td>43K</td>\n",
              "      <td>2019</td>\n",
              "    </tr>\n",
              "  </tbody>\n",
              "</table>\n",
              "</div>\n",
              "      <button class=\"colab-df-convert\" onclick=\"convertToInteractive('df-a0bf5a31-b827-49b1-9614-36cae9e22b60')\"\n",
              "              title=\"Convert this dataframe to an interactive table.\"\n",
              "              style=\"display:none;\">\n",
              "        \n",
              "  <svg xmlns=\"http://www.w3.org/2000/svg\" height=\"24px\"viewBox=\"0 0 24 24\"\n",
              "       width=\"24px\">\n",
              "    <path d=\"M0 0h24v24H0V0z\" fill=\"none\"/>\n",
              "    <path d=\"M18.56 5.44l.94 2.06.94-2.06 2.06-.94-2.06-.94-.94-2.06-.94 2.06-2.06.94zm-11 1L8.5 8.5l.94-2.06 2.06-.94-2.06-.94L8.5 2.5l-.94 2.06-2.06.94zm10 10l.94 2.06.94-2.06 2.06-.94-2.06-.94-.94-2.06-.94 2.06-2.06.94z\"/><path d=\"M17.41 7.96l-1.37-1.37c-.4-.4-.92-.59-1.43-.59-.52 0-1.04.2-1.43.59L10.3 9.45l-7.72 7.72c-.78.78-.78 2.05 0 2.83L4 21.41c.39.39.9.59 1.41.59.51 0 1.02-.2 1.41-.59l7.78-7.78 2.81-2.81c.8-.78.8-2.07 0-2.86zM5.41 20L4 18.59l7.72-7.72 1.47 1.35L5.41 20z\"/>\n",
              "  </svg>\n",
              "      </button>\n",
              "      \n",
              "  <style>\n",
              "    .colab-df-container {\n",
              "      display:flex;\n",
              "      flex-wrap:wrap;\n",
              "      gap: 12px;\n",
              "    }\n",
              "\n",
              "    .colab-df-convert {\n",
              "      background-color: #E8F0FE;\n",
              "      border: none;\n",
              "      border-radius: 50%;\n",
              "      cursor: pointer;\n",
              "      display: none;\n",
              "      fill: #1967D2;\n",
              "      height: 32px;\n",
              "      padding: 0 0 0 0;\n",
              "      width: 32px;\n",
              "    }\n",
              "\n",
              "    .colab-df-convert:hover {\n",
              "      background-color: #E2EBFA;\n",
              "      box-shadow: 0px 1px 2px rgba(60, 64, 67, 0.3), 0px 1px 3px 1px rgba(60, 64, 67, 0.15);\n",
              "      fill: #174EA6;\n",
              "    }\n",
              "\n",
              "    [theme=dark] .colab-df-convert {\n",
              "      background-color: #3B4455;\n",
              "      fill: #D2E3FC;\n",
              "    }\n",
              "\n",
              "    [theme=dark] .colab-df-convert:hover {\n",
              "      background-color: #434B5C;\n",
              "      box-shadow: 0px 1px 3px 1px rgba(0, 0, 0, 0.15);\n",
              "      filter: drop-shadow(0px 1px 2px rgba(0, 0, 0, 0.3));\n",
              "      fill: #FFFFFF;\n",
              "    }\n",
              "  </style>\n",
              "\n",
              "      <script>\n",
              "        const buttonEl =\n",
              "          document.querySelector('#df-a0bf5a31-b827-49b1-9614-36cae9e22b60 button.colab-df-convert');\n",
              "        buttonEl.style.display =\n",
              "          google.colab.kernel.accessAllowed ? 'block' : 'none';\n",
              "\n",
              "        async function convertToInteractive(key) {\n",
              "          const element = document.querySelector('#df-a0bf5a31-b827-49b1-9614-36cae9e22b60');\n",
              "          const dataTable =\n",
              "            await google.colab.kernel.invokeFunction('convertToInteractive',\n",
              "                                                     [key], {});\n",
              "          if (!dataTable) return;\n",
              "\n",
              "          const docLinkHtml = 'Like what you see? Visit the ' +\n",
              "            '<a target=\"_blank\" href=https://colab.research.google.com/notebooks/data_table.ipynb>data table notebook</a>'\n",
              "            + ' to learn more about interactive tables.';\n",
              "          element.innerHTML = '';\n",
              "          dataTable['output_type'] = 'display_data';\n",
              "          await google.colab.output.renderOutput(dataTable, element);\n",
              "          const docLink = document.createElement('div');\n",
              "          docLink.innerHTML = docLinkHtml;\n",
              "          element.appendChild(docLink);\n",
              "        }\n",
              "      </script>\n",
              "    </div>\n",
              "  </div>\n",
              "  "
            ]
          },
          "metadata": {},
          "execution_count": 39
        }
      ]
    },
    {
      "cell_type": "code",
      "source": [
        "fifa_final.reset_index(inplace = True)"
      ],
      "metadata": {
        "id": "NTdHtRbmGqKi"
      },
      "execution_count": null,
      "outputs": []
    },
    {
      "cell_type": "code",
      "source": [
        "fifa_final.tail()"
      ],
      "metadata": {
        "id": "NGVCpSYrGqHq",
        "colab": {
          "base_uri": "https://localhost:8080/",
          "height": 206
        },
        "outputId": "8a2aca3e-e64c-4432-9b1d-01cd932f1c58"
      },
      "execution_count": null,
      "outputs": [
        {
          "output_type": "execute_result",
          "data": {
            "text/plain": [
              "     index                                         Image_link  \\\n",
              "586    595  https://cdn.sofifa.net/players/272/379/23_120.png   \n",
              "587    596  https://cdn.sofifa.net/players/272/445/23_120.png   \n",
              "588    597  https://cdn.sofifa.net/players/272/449/23_120.png   \n",
              "589    598  https://cdn.sofifa.net/players/272/781/23_120.png   \n",
              "590    599  https://cdn.sofifa.net/players/273/463/23_120.png   \n",
              "\n",
              "                Name  Age  OVA  POT                     Team     Duration  \\\n",
              "586  S. Iling-Junior   18   69   85                 Juventus  2022 ~ 2025   \n",
              "587           Álvaro   17   62   81              Real Madrid  2021 ~ 2027   \n",
              "588    Pablo Barrios   19   66   84          Atlético Madrid  2022 ~ 2028   \n",
              "589    E. Ben Seghir   17   69   84                   Monaco  2022 ~ 2025   \n",
              "590       João Gomes   21   76   85  Wolverhampton Wanderers  2023 ~ 2028   \n",
              "\n",
              "    Value Wage  Total_stats  \n",
              "586  3.5M  13K         1697  \n",
              "587    1M   4K         1498  \n",
              "588  2.2M   7K         1789  \n",
              "589  3.2M   5K         1705  \n",
              "590   16M  43K         2019  "
            ],
            "text/html": [
              "\n",
              "  <div id=\"df-ef8de061-03ca-4867-95b3-0a272b338449\">\n",
              "    <div class=\"colab-df-container\">\n",
              "      <div>\n",
              "<style scoped>\n",
              "    .dataframe tbody tr th:only-of-type {\n",
              "        vertical-align: middle;\n",
              "    }\n",
              "\n",
              "    .dataframe tbody tr th {\n",
              "        vertical-align: top;\n",
              "    }\n",
              "\n",
              "    .dataframe thead th {\n",
              "        text-align: right;\n",
              "    }\n",
              "</style>\n",
              "<table border=\"1\" class=\"dataframe\">\n",
              "  <thead>\n",
              "    <tr style=\"text-align: right;\">\n",
              "      <th></th>\n",
              "      <th>index</th>\n",
              "      <th>Image_link</th>\n",
              "      <th>Name</th>\n",
              "      <th>Age</th>\n",
              "      <th>OVA</th>\n",
              "      <th>POT</th>\n",
              "      <th>Team</th>\n",
              "      <th>Duration</th>\n",
              "      <th>Value</th>\n",
              "      <th>Wage</th>\n",
              "      <th>Total_stats</th>\n",
              "    </tr>\n",
              "  </thead>\n",
              "  <tbody>\n",
              "    <tr>\n",
              "      <th>586</th>\n",
              "      <td>595</td>\n",
              "      <td>https://cdn.sofifa.net/players/272/379/23_120.png</td>\n",
              "      <td>S. Iling-Junior</td>\n",
              "      <td>18</td>\n",
              "      <td>69</td>\n",
              "      <td>85</td>\n",
              "      <td>Juventus</td>\n",
              "      <td>2022 ~ 2025</td>\n",
              "      <td>3.5M</td>\n",
              "      <td>13K</td>\n",
              "      <td>1697</td>\n",
              "    </tr>\n",
              "    <tr>\n",
              "      <th>587</th>\n",
              "      <td>596</td>\n",
              "      <td>https://cdn.sofifa.net/players/272/445/23_120.png</td>\n",
              "      <td>Álvaro</td>\n",
              "      <td>17</td>\n",
              "      <td>62</td>\n",
              "      <td>81</td>\n",
              "      <td>Real Madrid</td>\n",
              "      <td>2021 ~ 2027</td>\n",
              "      <td>1M</td>\n",
              "      <td>4K</td>\n",
              "      <td>1498</td>\n",
              "    </tr>\n",
              "    <tr>\n",
              "      <th>588</th>\n",
              "      <td>597</td>\n",
              "      <td>https://cdn.sofifa.net/players/272/449/23_120.png</td>\n",
              "      <td>Pablo Barrios</td>\n",
              "      <td>19</td>\n",
              "      <td>66</td>\n",
              "      <td>84</td>\n",
              "      <td>Atlético Madrid</td>\n",
              "      <td>2022 ~ 2028</td>\n",
              "      <td>2.2M</td>\n",
              "      <td>7K</td>\n",
              "      <td>1789</td>\n",
              "    </tr>\n",
              "    <tr>\n",
              "      <th>589</th>\n",
              "      <td>598</td>\n",
              "      <td>https://cdn.sofifa.net/players/272/781/23_120.png</td>\n",
              "      <td>E. Ben Seghir</td>\n",
              "      <td>17</td>\n",
              "      <td>69</td>\n",
              "      <td>84</td>\n",
              "      <td>Monaco</td>\n",
              "      <td>2022 ~ 2025</td>\n",
              "      <td>3.2M</td>\n",
              "      <td>5K</td>\n",
              "      <td>1705</td>\n",
              "    </tr>\n",
              "    <tr>\n",
              "      <th>590</th>\n",
              "      <td>599</td>\n",
              "      <td>https://cdn.sofifa.net/players/273/463/23_120.png</td>\n",
              "      <td>João Gomes</td>\n",
              "      <td>21</td>\n",
              "      <td>76</td>\n",
              "      <td>85</td>\n",
              "      <td>Wolverhampton Wanderers</td>\n",
              "      <td>2023 ~ 2028</td>\n",
              "      <td>16M</td>\n",
              "      <td>43K</td>\n",
              "      <td>2019</td>\n",
              "    </tr>\n",
              "  </tbody>\n",
              "</table>\n",
              "</div>\n",
              "      <button class=\"colab-df-convert\" onclick=\"convertToInteractive('df-ef8de061-03ca-4867-95b3-0a272b338449')\"\n",
              "              title=\"Convert this dataframe to an interactive table.\"\n",
              "              style=\"display:none;\">\n",
              "        \n",
              "  <svg xmlns=\"http://www.w3.org/2000/svg\" height=\"24px\"viewBox=\"0 0 24 24\"\n",
              "       width=\"24px\">\n",
              "    <path d=\"M0 0h24v24H0V0z\" fill=\"none\"/>\n",
              "    <path d=\"M18.56 5.44l.94 2.06.94-2.06 2.06-.94-2.06-.94-.94-2.06-.94 2.06-2.06.94zm-11 1L8.5 8.5l.94-2.06 2.06-.94-2.06-.94L8.5 2.5l-.94 2.06-2.06.94zm10 10l.94 2.06.94-2.06 2.06-.94-2.06-.94-.94-2.06-.94 2.06-2.06.94z\"/><path d=\"M17.41 7.96l-1.37-1.37c-.4-.4-.92-.59-1.43-.59-.52 0-1.04.2-1.43.59L10.3 9.45l-7.72 7.72c-.78.78-.78 2.05 0 2.83L4 21.41c.39.39.9.59 1.41.59.51 0 1.02-.2 1.41-.59l7.78-7.78 2.81-2.81c.8-.78.8-2.07 0-2.86zM5.41 20L4 18.59l7.72-7.72 1.47 1.35L5.41 20z\"/>\n",
              "  </svg>\n",
              "      </button>\n",
              "      \n",
              "  <style>\n",
              "    .colab-df-container {\n",
              "      display:flex;\n",
              "      flex-wrap:wrap;\n",
              "      gap: 12px;\n",
              "    }\n",
              "\n",
              "    .colab-df-convert {\n",
              "      background-color: #E8F0FE;\n",
              "      border: none;\n",
              "      border-radius: 50%;\n",
              "      cursor: pointer;\n",
              "      display: none;\n",
              "      fill: #1967D2;\n",
              "      height: 32px;\n",
              "      padding: 0 0 0 0;\n",
              "      width: 32px;\n",
              "    }\n",
              "\n",
              "    .colab-df-convert:hover {\n",
              "      background-color: #E2EBFA;\n",
              "      box-shadow: 0px 1px 2px rgba(60, 64, 67, 0.3), 0px 1px 3px 1px rgba(60, 64, 67, 0.15);\n",
              "      fill: #174EA6;\n",
              "    }\n",
              "\n",
              "    [theme=dark] .colab-df-convert {\n",
              "      background-color: #3B4455;\n",
              "      fill: #D2E3FC;\n",
              "    }\n",
              "\n",
              "    [theme=dark] .colab-df-convert:hover {\n",
              "      background-color: #434B5C;\n",
              "      box-shadow: 0px 1px 3px 1px rgba(0, 0, 0, 0.15);\n",
              "      filter: drop-shadow(0px 1px 2px rgba(0, 0, 0, 0.3));\n",
              "      fill: #FFFFFF;\n",
              "    }\n",
              "  </style>\n",
              "\n",
              "      <script>\n",
              "        const buttonEl =\n",
              "          document.querySelector('#df-ef8de061-03ca-4867-95b3-0a272b338449 button.colab-df-convert');\n",
              "        buttonEl.style.display =\n",
              "          google.colab.kernel.accessAllowed ? 'block' : 'none';\n",
              "\n",
              "        async function convertToInteractive(key) {\n",
              "          const element = document.querySelector('#df-ef8de061-03ca-4867-95b3-0a272b338449');\n",
              "          const dataTable =\n",
              "            await google.colab.kernel.invokeFunction('convertToInteractive',\n",
              "                                                     [key], {});\n",
              "          if (!dataTable) return;\n",
              "\n",
              "          const docLinkHtml = 'Like what you see? Visit the ' +\n",
              "            '<a target=\"_blank\" href=https://colab.research.google.com/notebooks/data_table.ipynb>data table notebook</a>'\n",
              "            + ' to learn more about interactive tables.';\n",
              "          element.innerHTML = '';\n",
              "          dataTable['output_type'] = 'display_data';\n",
              "          await google.colab.output.renderOutput(dataTable, element);\n",
              "          const docLink = document.createElement('div');\n",
              "          docLink.innerHTML = docLinkHtml;\n",
              "          element.appendChild(docLink);\n",
              "        }\n",
              "      </script>\n",
              "    </div>\n",
              "  </div>\n",
              "  "
            ]
          },
          "metadata": {},
          "execution_count": 41
        }
      ]
    },
    {
      "cell_type": "code",
      "source": [
        "fifa_final.duplicated().sum()"
      ],
      "metadata": {
        "id": "a46OlHx3GqEO",
        "colab": {
          "base_uri": "https://localhost:8080/"
        },
        "outputId": "5d73eeae-d8a9-4909-b29c-64641ce6d70b"
      },
      "execution_count": null,
      "outputs": [
        {
          "output_type": "execute_result",
          "data": {
            "text/plain": [
              "0"
            ]
          },
          "metadata": {},
          "execution_count": 42
        }
      ]
    },
    {
      "cell_type": "code",
      "source": [
        "# Delete the columns - index, Image_link, Duration\n",
        "fifa_final.drop(['index','Image_link','Duration'], axis = 1, inplace = True )"
      ],
      "metadata": {
        "id": "UuDV0K01GqAl"
      },
      "execution_count": null,
      "outputs": []
    },
    {
      "cell_type": "code",
      "source": [
        "fifa_final.drop('Team', axis = 'columns' )  # we can use 'columns' other than axis= 1"
      ],
      "metadata": {
        "id": "gPBwogGnGp9V",
        "colab": {
          "base_uri": "https://localhost:8080/",
          "height": 423
        },
        "outputId": "073386a4-d21e-4376-cf58-c756527a3b01"
      },
      "execution_count": null,
      "outputs": [
        {
          "output_type": "execute_result",
          "data": {
            "text/plain": [
              "                 Name  Age  OVA  POT  Value Wage  Total_stats\n",
              "0           X. Simons   19   62   78   975K   2K         1680\n",
              "1            Jeffinho   22   73   82     7M  41K         1687\n",
              "2    B. Brereton Díaz   23   75   82  11.5M  38K         1894\n",
              "3             K. Mier   22   73   84     6M   3K         1101\n",
              "4          M. Solomon   22   76   83    15M  900         1859\n",
              "..                ...  ...  ...  ...    ...  ...          ...\n",
              "586   S. Iling-Junior   18   69   85   3.5M  13K         1697\n",
              "587            Álvaro   17   62   81     1M   4K         1498\n",
              "588     Pablo Barrios   19   66   84   2.2M   7K         1789\n",
              "589     E. Ben Seghir   17   69   84   3.2M   5K         1705\n",
              "590        João Gomes   21   76   85    16M  43K         2019\n",
              "\n",
              "[591 rows x 7 columns]"
            ],
            "text/html": [
              "\n",
              "  <div id=\"df-ad478c0b-9c3c-44b2-afea-3eb5b2632f94\">\n",
              "    <div class=\"colab-df-container\">\n",
              "      <div>\n",
              "<style scoped>\n",
              "    .dataframe tbody tr th:only-of-type {\n",
              "        vertical-align: middle;\n",
              "    }\n",
              "\n",
              "    .dataframe tbody tr th {\n",
              "        vertical-align: top;\n",
              "    }\n",
              "\n",
              "    .dataframe thead th {\n",
              "        text-align: right;\n",
              "    }\n",
              "</style>\n",
              "<table border=\"1\" class=\"dataframe\">\n",
              "  <thead>\n",
              "    <tr style=\"text-align: right;\">\n",
              "      <th></th>\n",
              "      <th>Name</th>\n",
              "      <th>Age</th>\n",
              "      <th>OVA</th>\n",
              "      <th>POT</th>\n",
              "      <th>Value</th>\n",
              "      <th>Wage</th>\n",
              "      <th>Total_stats</th>\n",
              "    </tr>\n",
              "  </thead>\n",
              "  <tbody>\n",
              "    <tr>\n",
              "      <th>0</th>\n",
              "      <td>X. Simons</td>\n",
              "      <td>19</td>\n",
              "      <td>62</td>\n",
              "      <td>78</td>\n",
              "      <td>975K</td>\n",
              "      <td>2K</td>\n",
              "      <td>1680</td>\n",
              "    </tr>\n",
              "    <tr>\n",
              "      <th>1</th>\n",
              "      <td>Jeffinho</td>\n",
              "      <td>22</td>\n",
              "      <td>73</td>\n",
              "      <td>82</td>\n",
              "      <td>7M</td>\n",
              "      <td>41K</td>\n",
              "      <td>1687</td>\n",
              "    </tr>\n",
              "    <tr>\n",
              "      <th>2</th>\n",
              "      <td>B. Brereton Díaz</td>\n",
              "      <td>23</td>\n",
              "      <td>75</td>\n",
              "      <td>82</td>\n",
              "      <td>11.5M</td>\n",
              "      <td>38K</td>\n",
              "      <td>1894</td>\n",
              "    </tr>\n",
              "    <tr>\n",
              "      <th>3</th>\n",
              "      <td>K. Mier</td>\n",
              "      <td>22</td>\n",
              "      <td>73</td>\n",
              "      <td>84</td>\n",
              "      <td>6M</td>\n",
              "      <td>3K</td>\n",
              "      <td>1101</td>\n",
              "    </tr>\n",
              "    <tr>\n",
              "      <th>4</th>\n",
              "      <td>M. Solomon</td>\n",
              "      <td>22</td>\n",
              "      <td>76</td>\n",
              "      <td>83</td>\n",
              "      <td>15M</td>\n",
              "      <td>900</td>\n",
              "      <td>1859</td>\n",
              "    </tr>\n",
              "    <tr>\n",
              "      <th>...</th>\n",
              "      <td>...</td>\n",
              "      <td>...</td>\n",
              "      <td>...</td>\n",
              "      <td>...</td>\n",
              "      <td>...</td>\n",
              "      <td>...</td>\n",
              "      <td>...</td>\n",
              "    </tr>\n",
              "    <tr>\n",
              "      <th>586</th>\n",
              "      <td>S. Iling-Junior</td>\n",
              "      <td>18</td>\n",
              "      <td>69</td>\n",
              "      <td>85</td>\n",
              "      <td>3.5M</td>\n",
              "      <td>13K</td>\n",
              "      <td>1697</td>\n",
              "    </tr>\n",
              "    <tr>\n",
              "      <th>587</th>\n",
              "      <td>Álvaro</td>\n",
              "      <td>17</td>\n",
              "      <td>62</td>\n",
              "      <td>81</td>\n",
              "      <td>1M</td>\n",
              "      <td>4K</td>\n",
              "      <td>1498</td>\n",
              "    </tr>\n",
              "    <tr>\n",
              "      <th>588</th>\n",
              "      <td>Pablo Barrios</td>\n",
              "      <td>19</td>\n",
              "      <td>66</td>\n",
              "      <td>84</td>\n",
              "      <td>2.2M</td>\n",
              "      <td>7K</td>\n",
              "      <td>1789</td>\n",
              "    </tr>\n",
              "    <tr>\n",
              "      <th>589</th>\n",
              "      <td>E. Ben Seghir</td>\n",
              "      <td>17</td>\n",
              "      <td>69</td>\n",
              "      <td>84</td>\n",
              "      <td>3.2M</td>\n",
              "      <td>5K</td>\n",
              "      <td>1705</td>\n",
              "    </tr>\n",
              "    <tr>\n",
              "      <th>590</th>\n",
              "      <td>João Gomes</td>\n",
              "      <td>21</td>\n",
              "      <td>76</td>\n",
              "      <td>85</td>\n",
              "      <td>16M</td>\n",
              "      <td>43K</td>\n",
              "      <td>2019</td>\n",
              "    </tr>\n",
              "  </tbody>\n",
              "</table>\n",
              "<p>591 rows × 7 columns</p>\n",
              "</div>\n",
              "      <button class=\"colab-df-convert\" onclick=\"convertToInteractive('df-ad478c0b-9c3c-44b2-afea-3eb5b2632f94')\"\n",
              "              title=\"Convert this dataframe to an interactive table.\"\n",
              "              style=\"display:none;\">\n",
              "        \n",
              "  <svg xmlns=\"http://www.w3.org/2000/svg\" height=\"24px\"viewBox=\"0 0 24 24\"\n",
              "       width=\"24px\">\n",
              "    <path d=\"M0 0h24v24H0V0z\" fill=\"none\"/>\n",
              "    <path d=\"M18.56 5.44l.94 2.06.94-2.06 2.06-.94-2.06-.94-.94-2.06-.94 2.06-2.06.94zm-11 1L8.5 8.5l.94-2.06 2.06-.94-2.06-.94L8.5 2.5l-.94 2.06-2.06.94zm10 10l.94 2.06.94-2.06 2.06-.94-2.06-.94-.94-2.06-.94 2.06-2.06.94z\"/><path d=\"M17.41 7.96l-1.37-1.37c-.4-.4-.92-.59-1.43-.59-.52 0-1.04.2-1.43.59L10.3 9.45l-7.72 7.72c-.78.78-.78 2.05 0 2.83L4 21.41c.39.39.9.59 1.41.59.51 0 1.02-.2 1.41-.59l7.78-7.78 2.81-2.81c.8-.78.8-2.07 0-2.86zM5.41 20L4 18.59l7.72-7.72 1.47 1.35L5.41 20z\"/>\n",
              "  </svg>\n",
              "      </button>\n",
              "      \n",
              "  <style>\n",
              "    .colab-df-container {\n",
              "      display:flex;\n",
              "      flex-wrap:wrap;\n",
              "      gap: 12px;\n",
              "    }\n",
              "\n",
              "    .colab-df-convert {\n",
              "      background-color: #E8F0FE;\n",
              "      border: none;\n",
              "      border-radius: 50%;\n",
              "      cursor: pointer;\n",
              "      display: none;\n",
              "      fill: #1967D2;\n",
              "      height: 32px;\n",
              "      padding: 0 0 0 0;\n",
              "      width: 32px;\n",
              "    }\n",
              "\n",
              "    .colab-df-convert:hover {\n",
              "      background-color: #E2EBFA;\n",
              "      box-shadow: 0px 1px 2px rgba(60, 64, 67, 0.3), 0px 1px 3px 1px rgba(60, 64, 67, 0.15);\n",
              "      fill: #174EA6;\n",
              "    }\n",
              "\n",
              "    [theme=dark] .colab-df-convert {\n",
              "      background-color: #3B4455;\n",
              "      fill: #D2E3FC;\n",
              "    }\n",
              "\n",
              "    [theme=dark] .colab-df-convert:hover {\n",
              "      background-color: #434B5C;\n",
              "      box-shadow: 0px 1px 3px 1px rgba(0, 0, 0, 0.15);\n",
              "      filter: drop-shadow(0px 1px 2px rgba(0, 0, 0, 0.3));\n",
              "      fill: #FFFFFF;\n",
              "    }\n",
              "  </style>\n",
              "\n",
              "      <script>\n",
              "        const buttonEl =\n",
              "          document.querySelector('#df-ad478c0b-9c3c-44b2-afea-3eb5b2632f94 button.colab-df-convert');\n",
              "        buttonEl.style.display =\n",
              "          google.colab.kernel.accessAllowed ? 'block' : 'none';\n",
              "\n",
              "        async function convertToInteractive(key) {\n",
              "          const element = document.querySelector('#df-ad478c0b-9c3c-44b2-afea-3eb5b2632f94');\n",
              "          const dataTable =\n",
              "            await google.colab.kernel.invokeFunction('convertToInteractive',\n",
              "                                                     [key], {});\n",
              "          if (!dataTable) return;\n",
              "\n",
              "          const docLinkHtml = 'Like what you see? Visit the ' +\n",
              "            '<a target=\"_blank\" href=https://colab.research.google.com/notebooks/data_table.ipynb>data table notebook</a>'\n",
              "            + ' to learn more about interactive tables.';\n",
              "          element.innerHTML = '';\n",
              "          dataTable['output_type'] = 'display_data';\n",
              "          await google.colab.output.renderOutput(dataTable, element);\n",
              "          const docLink = document.createElement('div');\n",
              "          docLink.innerHTML = docLinkHtml;\n",
              "          element.appendChild(docLink);\n",
              "        }\n",
              "      </script>\n",
              "    </div>\n",
              "  </div>\n",
              "  "
            ]
          },
          "metadata": {},
          "execution_count": 44
        }
      ]
    },
    {
      "cell_type": "markdown",
      "source": [
        "1. Find all the (name) Player who is having the highest wage."
      ],
      "metadata": {
        "id": "7fZfMr2lL8gf"
      }
    },
    {
      "cell_type": "code",
      "source": [
        "# wrong  :fifa_final['Wage'].max()"
      ],
      "metadata": {
        "id": "fzdFnbM4Gp6K"
      },
      "execution_count": null,
      "outputs": []
    },
    {
      "cell_type": "markdown",
      "source": [
        "2. List out the Top 10 Players according to their POT"
      ],
      "metadata": {
        "id": "aZ_xK2B8N_sW"
      }
    },
    {
      "cell_type": "code",
      "source": [
        "p = fifa_final.nlargest(10, 'POT')[['Name','POT']]\n",
        "p"
      ],
      "metadata": {
        "id": "uEjmYEE2Gpwi",
        "colab": {
          "base_uri": "https://localhost:8080/",
          "height": 363
        },
        "outputId": "5ef71f58-827d-4395-916f-b9d5782c76d4"
      },
      "execution_count": null,
      "outputs": [
        {
          "output_type": "execute_result",
          "data": {
            "text/plain": [
              "              Name  POT\n",
              "54       K. Mbappé   95\n",
              "87      E. Haaland   94\n",
              "38      J. Musiala   92\n",
              "61    Vinícius Jr.   92\n",
              "133     F. de Jong   92\n",
              "197          Pedri   92\n",
              "32        F. Wirtz   91\n",
              "35        L. Messi   91\n",
              "39   J. Bellingham   91\n",
              "104    D. Vlahović   91"
            ],
            "text/html": [
              "\n",
              "  <div id=\"df-fc0ac061-5c44-4b5d-807f-f7f818d443e4\">\n",
              "    <div class=\"colab-df-container\">\n",
              "      <div>\n",
              "<style scoped>\n",
              "    .dataframe tbody tr th:only-of-type {\n",
              "        vertical-align: middle;\n",
              "    }\n",
              "\n",
              "    .dataframe tbody tr th {\n",
              "        vertical-align: top;\n",
              "    }\n",
              "\n",
              "    .dataframe thead th {\n",
              "        text-align: right;\n",
              "    }\n",
              "</style>\n",
              "<table border=\"1\" class=\"dataframe\">\n",
              "  <thead>\n",
              "    <tr style=\"text-align: right;\">\n",
              "      <th></th>\n",
              "      <th>Name</th>\n",
              "      <th>POT</th>\n",
              "    </tr>\n",
              "  </thead>\n",
              "  <tbody>\n",
              "    <tr>\n",
              "      <th>54</th>\n",
              "      <td>K. Mbappé</td>\n",
              "      <td>95</td>\n",
              "    </tr>\n",
              "    <tr>\n",
              "      <th>87</th>\n",
              "      <td>E. Haaland</td>\n",
              "      <td>94</td>\n",
              "    </tr>\n",
              "    <tr>\n",
              "      <th>38</th>\n",
              "      <td>J. Musiala</td>\n",
              "      <td>92</td>\n",
              "    </tr>\n",
              "    <tr>\n",
              "      <th>61</th>\n",
              "      <td>Vinícius Jr.</td>\n",
              "      <td>92</td>\n",
              "    </tr>\n",
              "    <tr>\n",
              "      <th>133</th>\n",
              "      <td>F. de Jong</td>\n",
              "      <td>92</td>\n",
              "    </tr>\n",
              "    <tr>\n",
              "      <th>197</th>\n",
              "      <td>Pedri</td>\n",
              "      <td>92</td>\n",
              "    </tr>\n",
              "    <tr>\n",
              "      <th>32</th>\n",
              "      <td>F. Wirtz</td>\n",
              "      <td>91</td>\n",
              "    </tr>\n",
              "    <tr>\n",
              "      <th>35</th>\n",
              "      <td>L. Messi</td>\n",
              "      <td>91</td>\n",
              "    </tr>\n",
              "    <tr>\n",
              "      <th>39</th>\n",
              "      <td>J. Bellingham</td>\n",
              "      <td>91</td>\n",
              "    </tr>\n",
              "    <tr>\n",
              "      <th>104</th>\n",
              "      <td>D. Vlahović</td>\n",
              "      <td>91</td>\n",
              "    </tr>\n",
              "  </tbody>\n",
              "</table>\n",
              "</div>\n",
              "      <button class=\"colab-df-convert\" onclick=\"convertToInteractive('df-fc0ac061-5c44-4b5d-807f-f7f818d443e4')\"\n",
              "              title=\"Convert this dataframe to an interactive table.\"\n",
              "              style=\"display:none;\">\n",
              "        \n",
              "  <svg xmlns=\"http://www.w3.org/2000/svg\" height=\"24px\"viewBox=\"0 0 24 24\"\n",
              "       width=\"24px\">\n",
              "    <path d=\"M0 0h24v24H0V0z\" fill=\"none\"/>\n",
              "    <path d=\"M18.56 5.44l.94 2.06.94-2.06 2.06-.94-2.06-.94-.94-2.06-.94 2.06-2.06.94zm-11 1L8.5 8.5l.94-2.06 2.06-.94-2.06-.94L8.5 2.5l-.94 2.06-2.06.94zm10 10l.94 2.06.94-2.06 2.06-.94-2.06-.94-.94-2.06-.94 2.06-2.06.94z\"/><path d=\"M17.41 7.96l-1.37-1.37c-.4-.4-.92-.59-1.43-.59-.52 0-1.04.2-1.43.59L10.3 9.45l-7.72 7.72c-.78.78-.78 2.05 0 2.83L4 21.41c.39.39.9.59 1.41.59.51 0 1.02-.2 1.41-.59l7.78-7.78 2.81-2.81c.8-.78.8-2.07 0-2.86zM5.41 20L4 18.59l7.72-7.72 1.47 1.35L5.41 20z\"/>\n",
              "  </svg>\n",
              "      </button>\n",
              "      \n",
              "  <style>\n",
              "    .colab-df-container {\n",
              "      display:flex;\n",
              "      flex-wrap:wrap;\n",
              "      gap: 12px;\n",
              "    }\n",
              "\n",
              "    .colab-df-convert {\n",
              "      background-color: #E8F0FE;\n",
              "      border: none;\n",
              "      border-radius: 50%;\n",
              "      cursor: pointer;\n",
              "      display: none;\n",
              "      fill: #1967D2;\n",
              "      height: 32px;\n",
              "      padding: 0 0 0 0;\n",
              "      width: 32px;\n",
              "    }\n",
              "\n",
              "    .colab-df-convert:hover {\n",
              "      background-color: #E2EBFA;\n",
              "      box-shadow: 0px 1px 2px rgba(60, 64, 67, 0.3), 0px 1px 3px 1px rgba(60, 64, 67, 0.15);\n",
              "      fill: #174EA6;\n",
              "    }\n",
              "\n",
              "    [theme=dark] .colab-df-convert {\n",
              "      background-color: #3B4455;\n",
              "      fill: #D2E3FC;\n",
              "    }\n",
              "\n",
              "    [theme=dark] .colab-df-convert:hover {\n",
              "      background-color: #434B5C;\n",
              "      box-shadow: 0px 1px 3px 1px rgba(0, 0, 0, 0.15);\n",
              "      filter: drop-shadow(0px 1px 2px rgba(0, 0, 0, 0.3));\n",
              "      fill: #FFFFFF;\n",
              "    }\n",
              "  </style>\n",
              "\n",
              "      <script>\n",
              "        const buttonEl =\n",
              "          document.querySelector('#df-fc0ac061-5c44-4b5d-807f-f7f818d443e4 button.colab-df-convert');\n",
              "        buttonEl.style.display =\n",
              "          google.colab.kernel.accessAllowed ? 'block' : 'none';\n",
              "\n",
              "        async function convertToInteractive(key) {\n",
              "          const element = document.querySelector('#df-fc0ac061-5c44-4b5d-807f-f7f818d443e4');\n",
              "          const dataTable =\n",
              "            await google.colab.kernel.invokeFunction('convertToInteractive',\n",
              "                                                     [key], {});\n",
              "          if (!dataTable) return;\n",
              "\n",
              "          const docLinkHtml = 'Like what you see? Visit the ' +\n",
              "            '<a target=\"_blank\" href=https://colab.research.google.com/notebooks/data_table.ipynb>data table notebook</a>'\n",
              "            + ' to learn more about interactive tables.';\n",
              "          element.innerHTML = '';\n",
              "          dataTable['output_type'] = 'display_data';\n",
              "          await google.colab.output.renderOutput(dataTable, element);\n",
              "          const docLink = document.createElement('div');\n",
              "          docLink.innerHTML = docLinkHtml;\n",
              "          element.appendChild(docLink);\n",
              "        }\n",
              "      </script>\n",
              "    </div>\n",
              "  </div>\n",
              "  "
            ]
          },
          "metadata": {},
          "execution_count": 121
        }
      ]
    },
    {
      "cell_type": "code",
      "source": [
        "print(p['Name'].values)"
      ],
      "metadata": {
        "colab": {
          "base_uri": "https://localhost:8080/"
        },
        "id": "AfT8_Ek4KyAh",
        "outputId": "fc8a7a83-a5da-4278-ac7b-d99686cecff8"
      },
      "execution_count": null,
      "outputs": [
        {
          "output_type": "stream",
          "name": "stdout",
          "text": [
            "['K. Mbappé' 'E. Haaland' 'J. Musiala' 'Vinícius Jr.' 'F. de Jong' 'Pedri'\n",
            " 'F. Wirtz' 'L. Messi' 'J. Bellingham' 'D. Vlahović']\n"
          ]
        }
      ]
    },
    {
      "cell_type": "code",
      "source": [
        "p1 = fifa_final.sort_values(by = 'POT', ascending = False)[['Name']].head(10)\n",
        "p1"
      ],
      "metadata": {
        "id": "a9PtqsloGpqS",
        "colab": {
          "base_uri": "https://localhost:8080/",
          "height": 363
        },
        "outputId": "0b67afe6-17fc-47f9-9a71-fed91abcca19"
      },
      "execution_count": null,
      "outputs": [
        {
          "output_type": "execute_result",
          "data": {
            "text/plain": [
              "              Name\n",
              "54       K. Mbappé\n",
              "87      E. Haaland\n",
              "197          Pedri\n",
              "38      J. Musiala\n",
              "61    Vinícius Jr.\n",
              "133     F. de Jong\n",
              "124    F. Valverde\n",
              "35        L. Messi\n",
              "39   J. Bellingham\n",
              "32        F. Wirtz"
            ],
            "text/html": [
              "\n",
              "  <div id=\"df-85dcd309-155a-4761-8880-b7ac44f868bf\">\n",
              "    <div class=\"colab-df-container\">\n",
              "      <div>\n",
              "<style scoped>\n",
              "    .dataframe tbody tr th:only-of-type {\n",
              "        vertical-align: middle;\n",
              "    }\n",
              "\n",
              "    .dataframe tbody tr th {\n",
              "        vertical-align: top;\n",
              "    }\n",
              "\n",
              "    .dataframe thead th {\n",
              "        text-align: right;\n",
              "    }\n",
              "</style>\n",
              "<table border=\"1\" class=\"dataframe\">\n",
              "  <thead>\n",
              "    <tr style=\"text-align: right;\">\n",
              "      <th></th>\n",
              "      <th>Name</th>\n",
              "    </tr>\n",
              "  </thead>\n",
              "  <tbody>\n",
              "    <tr>\n",
              "      <th>54</th>\n",
              "      <td>K. Mbappé</td>\n",
              "    </tr>\n",
              "    <tr>\n",
              "      <th>87</th>\n",
              "      <td>E. Haaland</td>\n",
              "    </tr>\n",
              "    <tr>\n",
              "      <th>197</th>\n",
              "      <td>Pedri</td>\n",
              "    </tr>\n",
              "    <tr>\n",
              "      <th>38</th>\n",
              "      <td>J. Musiala</td>\n",
              "    </tr>\n",
              "    <tr>\n",
              "      <th>61</th>\n",
              "      <td>Vinícius Jr.</td>\n",
              "    </tr>\n",
              "    <tr>\n",
              "      <th>133</th>\n",
              "      <td>F. de Jong</td>\n",
              "    </tr>\n",
              "    <tr>\n",
              "      <th>124</th>\n",
              "      <td>F. Valverde</td>\n",
              "    </tr>\n",
              "    <tr>\n",
              "      <th>35</th>\n",
              "      <td>L. Messi</td>\n",
              "    </tr>\n",
              "    <tr>\n",
              "      <th>39</th>\n",
              "      <td>J. Bellingham</td>\n",
              "    </tr>\n",
              "    <tr>\n",
              "      <th>32</th>\n",
              "      <td>F. Wirtz</td>\n",
              "    </tr>\n",
              "  </tbody>\n",
              "</table>\n",
              "</div>\n",
              "      <button class=\"colab-df-convert\" onclick=\"convertToInteractive('df-85dcd309-155a-4761-8880-b7ac44f868bf')\"\n",
              "              title=\"Convert this dataframe to an interactive table.\"\n",
              "              style=\"display:none;\">\n",
              "        \n",
              "  <svg xmlns=\"http://www.w3.org/2000/svg\" height=\"24px\"viewBox=\"0 0 24 24\"\n",
              "       width=\"24px\">\n",
              "    <path d=\"M0 0h24v24H0V0z\" fill=\"none\"/>\n",
              "    <path d=\"M18.56 5.44l.94 2.06.94-2.06 2.06-.94-2.06-.94-.94-2.06-.94 2.06-2.06.94zm-11 1L8.5 8.5l.94-2.06 2.06-.94-2.06-.94L8.5 2.5l-.94 2.06-2.06.94zm10 10l.94 2.06.94-2.06 2.06-.94-2.06-.94-.94-2.06-.94 2.06-2.06.94z\"/><path d=\"M17.41 7.96l-1.37-1.37c-.4-.4-.92-.59-1.43-.59-.52 0-1.04.2-1.43.59L10.3 9.45l-7.72 7.72c-.78.78-.78 2.05 0 2.83L4 21.41c.39.39.9.59 1.41.59.51 0 1.02-.2 1.41-.59l7.78-7.78 2.81-2.81c.8-.78.8-2.07 0-2.86zM5.41 20L4 18.59l7.72-7.72 1.47 1.35L5.41 20z\"/>\n",
              "  </svg>\n",
              "      </button>\n",
              "      \n",
              "  <style>\n",
              "    .colab-df-container {\n",
              "      display:flex;\n",
              "      flex-wrap:wrap;\n",
              "      gap: 12px;\n",
              "    }\n",
              "\n",
              "    .colab-df-convert {\n",
              "      background-color: #E8F0FE;\n",
              "      border: none;\n",
              "      border-radius: 50%;\n",
              "      cursor: pointer;\n",
              "      display: none;\n",
              "      fill: #1967D2;\n",
              "      height: 32px;\n",
              "      padding: 0 0 0 0;\n",
              "      width: 32px;\n",
              "    }\n",
              "\n",
              "    .colab-df-convert:hover {\n",
              "      background-color: #E2EBFA;\n",
              "      box-shadow: 0px 1px 2px rgba(60, 64, 67, 0.3), 0px 1px 3px 1px rgba(60, 64, 67, 0.15);\n",
              "      fill: #174EA6;\n",
              "    }\n",
              "\n",
              "    [theme=dark] .colab-df-convert {\n",
              "      background-color: #3B4455;\n",
              "      fill: #D2E3FC;\n",
              "    }\n",
              "\n",
              "    [theme=dark] .colab-df-convert:hover {\n",
              "      background-color: #434B5C;\n",
              "      box-shadow: 0px 1px 3px 1px rgba(0, 0, 0, 0.15);\n",
              "      filter: drop-shadow(0px 1px 2px rgba(0, 0, 0, 0.3));\n",
              "      fill: #FFFFFF;\n",
              "    }\n",
              "  </style>\n",
              "\n",
              "      <script>\n",
              "        const buttonEl =\n",
              "          document.querySelector('#df-85dcd309-155a-4761-8880-b7ac44f868bf button.colab-df-convert');\n",
              "        buttonEl.style.display =\n",
              "          google.colab.kernel.accessAllowed ? 'block' : 'none';\n",
              "\n",
              "        async function convertToInteractive(key) {\n",
              "          const element = document.querySelector('#df-85dcd309-155a-4761-8880-b7ac44f868bf');\n",
              "          const dataTable =\n",
              "            await google.colab.kernel.invokeFunction('convertToInteractive',\n",
              "                                                     [key], {});\n",
              "          if (!dataTable) return;\n",
              "\n",
              "          const docLinkHtml = 'Like what you see? Visit the ' +\n",
              "            '<a target=\"_blank\" href=https://colab.research.google.com/notebooks/data_table.ipynb>data table notebook</a>'\n",
              "            + ' to learn more about interactive tables.';\n",
              "          element.innerHTML = '';\n",
              "          dataTable['output_type'] = 'display_data';\n",
              "          await google.colab.output.renderOutput(dataTable, element);\n",
              "          const docLink = document.createElement('div');\n",
              "          docLink.innerHTML = docLinkHtml;\n",
              "          element.appendChild(docLink);\n",
              "        }\n",
              "      </script>\n",
              "    </div>\n",
              "  </div>\n",
              "  "
            ]
          },
          "metadata": {},
          "execution_count": 154
        }
      ]
    },
    {
      "cell_type": "code",
      "source": [
        "print(p1['Name'].values)"
      ],
      "metadata": {
        "colab": {
          "base_uri": "https://localhost:8080/"
        },
        "id": "_FHxR92kLNOS",
        "outputId": "523d61ae-a258-4ffb-c0a3-b791c5ae3a83"
      },
      "execution_count": null,
      "outputs": [
        {
          "output_type": "stream",
          "name": "stdout",
          "text": [
            "['K. Mbappé' 'E. Haaland' 'Pedri' 'J. Musiala' 'Vinícius Jr.' 'F. de Jong'\n",
            " 'F. Valverde' 'L. Messi' 'J. Bellingham' 'F. Wirtz']\n"
          ]
        }
      ]
    },
    {
      "cell_type": "markdown",
      "source": [
        "3. Find out all the Youngest Players"
      ],
      "metadata": {
        "id": "2wileyL9W3-F"
      }
    },
    {
      "cell_type": "code",
      "source": [
        "y = fifa_final[fifa_final['Age']==16].sort_values('Age',ascending= True)[['Name','Age']]\n",
        "y"
      ],
      "metadata": {
        "colab": {
          "base_uri": "https://localhost:8080/",
          "height": 175
        },
        "id": "eb_YFCA-cLoq",
        "outputId": "b73b3695-e1bf-4750-8058-e30f2752d418"
      },
      "execution_count": null,
      "outputs": [
        {
          "output_type": "execute_result",
          "data": {
            "text/plain": [
              "              Name  Age\n",
              "151    R. Bardghji   16\n",
              "471  G. Prestianni   16\n",
              "578      O. Vargas   16\n",
              "581        B. Doak   16"
            ],
            "text/html": [
              "\n",
              "  <div id=\"df-85b48083-82e1-498c-bf92-e3b7f95f1a33\">\n",
              "    <div class=\"colab-df-container\">\n",
              "      <div>\n",
              "<style scoped>\n",
              "    .dataframe tbody tr th:only-of-type {\n",
              "        vertical-align: middle;\n",
              "    }\n",
              "\n",
              "    .dataframe tbody tr th {\n",
              "        vertical-align: top;\n",
              "    }\n",
              "\n",
              "    .dataframe thead th {\n",
              "        text-align: right;\n",
              "    }\n",
              "</style>\n",
              "<table border=\"1\" class=\"dataframe\">\n",
              "  <thead>\n",
              "    <tr style=\"text-align: right;\">\n",
              "      <th></th>\n",
              "      <th>Name</th>\n",
              "      <th>Age</th>\n",
              "    </tr>\n",
              "  </thead>\n",
              "  <tbody>\n",
              "    <tr>\n",
              "      <th>151</th>\n",
              "      <td>R. Bardghji</td>\n",
              "      <td>16</td>\n",
              "    </tr>\n",
              "    <tr>\n",
              "      <th>471</th>\n",
              "      <td>G. Prestianni</td>\n",
              "      <td>16</td>\n",
              "    </tr>\n",
              "    <tr>\n",
              "      <th>578</th>\n",
              "      <td>O. Vargas</td>\n",
              "      <td>16</td>\n",
              "    </tr>\n",
              "    <tr>\n",
              "      <th>581</th>\n",
              "      <td>B. Doak</td>\n",
              "      <td>16</td>\n",
              "    </tr>\n",
              "  </tbody>\n",
              "</table>\n",
              "</div>\n",
              "      <button class=\"colab-df-convert\" onclick=\"convertToInteractive('df-85b48083-82e1-498c-bf92-e3b7f95f1a33')\"\n",
              "              title=\"Convert this dataframe to an interactive table.\"\n",
              "              style=\"display:none;\">\n",
              "        \n",
              "  <svg xmlns=\"http://www.w3.org/2000/svg\" height=\"24px\"viewBox=\"0 0 24 24\"\n",
              "       width=\"24px\">\n",
              "    <path d=\"M0 0h24v24H0V0z\" fill=\"none\"/>\n",
              "    <path d=\"M18.56 5.44l.94 2.06.94-2.06 2.06-.94-2.06-.94-.94-2.06-.94 2.06-2.06.94zm-11 1L8.5 8.5l.94-2.06 2.06-.94-2.06-.94L8.5 2.5l-.94 2.06-2.06.94zm10 10l.94 2.06.94-2.06 2.06-.94-2.06-.94-.94-2.06-.94 2.06-2.06.94z\"/><path d=\"M17.41 7.96l-1.37-1.37c-.4-.4-.92-.59-1.43-.59-.52 0-1.04.2-1.43.59L10.3 9.45l-7.72 7.72c-.78.78-.78 2.05 0 2.83L4 21.41c.39.39.9.59 1.41.59.51 0 1.02-.2 1.41-.59l7.78-7.78 2.81-2.81c.8-.78.8-2.07 0-2.86zM5.41 20L4 18.59l7.72-7.72 1.47 1.35L5.41 20z\"/>\n",
              "  </svg>\n",
              "      </button>\n",
              "      \n",
              "  <style>\n",
              "    .colab-df-container {\n",
              "      display:flex;\n",
              "      flex-wrap:wrap;\n",
              "      gap: 12px;\n",
              "    }\n",
              "\n",
              "    .colab-df-convert {\n",
              "      background-color: #E8F0FE;\n",
              "      border: none;\n",
              "      border-radius: 50%;\n",
              "      cursor: pointer;\n",
              "      display: none;\n",
              "      fill: #1967D2;\n",
              "      height: 32px;\n",
              "      padding: 0 0 0 0;\n",
              "      width: 32px;\n",
              "    }\n",
              "\n",
              "    .colab-df-convert:hover {\n",
              "      background-color: #E2EBFA;\n",
              "      box-shadow: 0px 1px 2px rgba(60, 64, 67, 0.3), 0px 1px 3px 1px rgba(60, 64, 67, 0.15);\n",
              "      fill: #174EA6;\n",
              "    }\n",
              "\n",
              "    [theme=dark] .colab-df-convert {\n",
              "      background-color: #3B4455;\n",
              "      fill: #D2E3FC;\n",
              "    }\n",
              "\n",
              "    [theme=dark] .colab-df-convert:hover {\n",
              "      background-color: #434B5C;\n",
              "      box-shadow: 0px 1px 3px 1px rgba(0, 0, 0, 0.15);\n",
              "      filter: drop-shadow(0px 1px 2px rgba(0, 0, 0, 0.3));\n",
              "      fill: #FFFFFF;\n",
              "    }\n",
              "  </style>\n",
              "\n",
              "      <script>\n",
              "        const buttonEl =\n",
              "          document.querySelector('#df-85b48083-82e1-498c-bf92-e3b7f95f1a33 button.colab-df-convert');\n",
              "        buttonEl.style.display =\n",
              "          google.colab.kernel.accessAllowed ? 'block' : 'none';\n",
              "\n",
              "        async function convertToInteractive(key) {\n",
              "          const element = document.querySelector('#df-85b48083-82e1-498c-bf92-e3b7f95f1a33');\n",
              "          const dataTable =\n",
              "            await google.colab.kernel.invokeFunction('convertToInteractive',\n",
              "                                                     [key], {});\n",
              "          if (!dataTable) return;\n",
              "\n",
              "          const docLinkHtml = 'Like what you see? Visit the ' +\n",
              "            '<a target=\"_blank\" href=https://colab.research.google.com/notebooks/data_table.ipynb>data table notebook</a>'\n",
              "            + ' to learn more about interactive tables.';\n",
              "          element.innerHTML = '';\n",
              "          dataTable['output_type'] = 'display_data';\n",
              "          await google.colab.output.renderOutput(dataTable, element);\n",
              "          const docLink = document.createElement('div');\n",
              "          docLink.innerHTML = docLinkHtml;\n",
              "          element.appendChild(docLink);\n",
              "        }\n",
              "      </script>\n",
              "    </div>\n",
              "  </div>\n",
              "  "
            ]
          },
          "metadata": {},
          "execution_count": 127
        }
      ]
    },
    {
      "cell_type": "code",
      "source": [
        "print(y['Name'].values)"
      ],
      "metadata": {
        "colab": {
          "base_uri": "https://localhost:8080/"
        },
        "id": "7ZzkakvoLfaV",
        "outputId": "98747b39-b1f2-4c15-efff-055ca135feb3"
      },
      "execution_count": null,
      "outputs": [
        {
          "output_type": "stream",
          "name": "stdout",
          "text": [
            "['R. Bardghji' 'G. Prestianni' 'O. Vargas' 'B. Doak']\n"
          ]
        }
      ]
    },
    {
      "cell_type": "code",
      "source": [
        "fifa_final.sort_values('Age',ascending=True)[['Name','Age']].head(10)"
      ],
      "metadata": {
        "id": "i2PKCaj5Gpkk",
        "colab": {
          "base_uri": "https://localhost:8080/",
          "height": 363
        },
        "outputId": "382683e0-0f0f-4eec-faed-27261d49bc36"
      },
      "execution_count": null,
      "outputs": [
        {
          "output_type": "execute_result",
          "data": {
            "text/plain": [
              "              Name  Age\n",
              "471  G. Prestianni   16\n",
              "151    R. Bardghji   16\n",
              "578      O. Vargas   16\n",
              "581        B. Doak   16\n",
              "85         G. Kuol   17\n",
              "49          M. Tel   17\n",
              "83        A. Güler   17\n",
              "236      K. Mainoo   17\n",
              "74       N. Mbamba   17\n",
              "472   A. Vermeeren   17"
            ],
            "text/html": [
              "\n",
              "  <div id=\"df-fdec25a7-f8f0-41a0-b6a2-01b40daac662\">\n",
              "    <div class=\"colab-df-container\">\n",
              "      <div>\n",
              "<style scoped>\n",
              "    .dataframe tbody tr th:only-of-type {\n",
              "        vertical-align: middle;\n",
              "    }\n",
              "\n",
              "    .dataframe tbody tr th {\n",
              "        vertical-align: top;\n",
              "    }\n",
              "\n",
              "    .dataframe thead th {\n",
              "        text-align: right;\n",
              "    }\n",
              "</style>\n",
              "<table border=\"1\" class=\"dataframe\">\n",
              "  <thead>\n",
              "    <tr style=\"text-align: right;\">\n",
              "      <th></th>\n",
              "      <th>Name</th>\n",
              "      <th>Age</th>\n",
              "    </tr>\n",
              "  </thead>\n",
              "  <tbody>\n",
              "    <tr>\n",
              "      <th>471</th>\n",
              "      <td>G. Prestianni</td>\n",
              "      <td>16</td>\n",
              "    </tr>\n",
              "    <tr>\n",
              "      <th>151</th>\n",
              "      <td>R. Bardghji</td>\n",
              "      <td>16</td>\n",
              "    </tr>\n",
              "    <tr>\n",
              "      <th>578</th>\n",
              "      <td>O. Vargas</td>\n",
              "      <td>16</td>\n",
              "    </tr>\n",
              "    <tr>\n",
              "      <th>581</th>\n",
              "      <td>B. Doak</td>\n",
              "      <td>16</td>\n",
              "    </tr>\n",
              "    <tr>\n",
              "      <th>85</th>\n",
              "      <td>G. Kuol</td>\n",
              "      <td>17</td>\n",
              "    </tr>\n",
              "    <tr>\n",
              "      <th>49</th>\n",
              "      <td>M. Tel</td>\n",
              "      <td>17</td>\n",
              "    </tr>\n",
              "    <tr>\n",
              "      <th>83</th>\n",
              "      <td>A. Güler</td>\n",
              "      <td>17</td>\n",
              "    </tr>\n",
              "    <tr>\n",
              "      <th>236</th>\n",
              "      <td>K. Mainoo</td>\n",
              "      <td>17</td>\n",
              "    </tr>\n",
              "    <tr>\n",
              "      <th>74</th>\n",
              "      <td>N. Mbamba</td>\n",
              "      <td>17</td>\n",
              "    </tr>\n",
              "    <tr>\n",
              "      <th>472</th>\n",
              "      <td>A. Vermeeren</td>\n",
              "      <td>17</td>\n",
              "    </tr>\n",
              "  </tbody>\n",
              "</table>\n",
              "</div>\n",
              "      <button class=\"colab-df-convert\" onclick=\"convertToInteractive('df-fdec25a7-f8f0-41a0-b6a2-01b40daac662')\"\n",
              "              title=\"Convert this dataframe to an interactive table.\"\n",
              "              style=\"display:none;\">\n",
              "        \n",
              "  <svg xmlns=\"http://www.w3.org/2000/svg\" height=\"24px\"viewBox=\"0 0 24 24\"\n",
              "       width=\"24px\">\n",
              "    <path d=\"M0 0h24v24H0V0z\" fill=\"none\"/>\n",
              "    <path d=\"M18.56 5.44l.94 2.06.94-2.06 2.06-.94-2.06-.94-.94-2.06-.94 2.06-2.06.94zm-11 1L8.5 8.5l.94-2.06 2.06-.94-2.06-.94L8.5 2.5l-.94 2.06-2.06.94zm10 10l.94 2.06.94-2.06 2.06-.94-2.06-.94-.94-2.06-.94 2.06-2.06.94z\"/><path d=\"M17.41 7.96l-1.37-1.37c-.4-.4-.92-.59-1.43-.59-.52 0-1.04.2-1.43.59L10.3 9.45l-7.72 7.72c-.78.78-.78 2.05 0 2.83L4 21.41c.39.39.9.59 1.41.59.51 0 1.02-.2 1.41-.59l7.78-7.78 2.81-2.81c.8-.78.8-2.07 0-2.86zM5.41 20L4 18.59l7.72-7.72 1.47 1.35L5.41 20z\"/>\n",
              "  </svg>\n",
              "      </button>\n",
              "      \n",
              "  <style>\n",
              "    .colab-df-container {\n",
              "      display:flex;\n",
              "      flex-wrap:wrap;\n",
              "      gap: 12px;\n",
              "    }\n",
              "\n",
              "    .colab-df-convert {\n",
              "      background-color: #E8F0FE;\n",
              "      border: none;\n",
              "      border-radius: 50%;\n",
              "      cursor: pointer;\n",
              "      display: none;\n",
              "      fill: #1967D2;\n",
              "      height: 32px;\n",
              "      padding: 0 0 0 0;\n",
              "      width: 32px;\n",
              "    }\n",
              "\n",
              "    .colab-df-convert:hover {\n",
              "      background-color: #E2EBFA;\n",
              "      box-shadow: 0px 1px 2px rgba(60, 64, 67, 0.3), 0px 1px 3px 1px rgba(60, 64, 67, 0.15);\n",
              "      fill: #174EA6;\n",
              "    }\n",
              "\n",
              "    [theme=dark] .colab-df-convert {\n",
              "      background-color: #3B4455;\n",
              "      fill: #D2E3FC;\n",
              "    }\n",
              "\n",
              "    [theme=dark] .colab-df-convert:hover {\n",
              "      background-color: #434B5C;\n",
              "      box-shadow: 0px 1px 3px 1px rgba(0, 0, 0, 0.15);\n",
              "      filter: drop-shadow(0px 1px 2px rgba(0, 0, 0, 0.3));\n",
              "      fill: #FFFFFF;\n",
              "    }\n",
              "  </style>\n",
              "\n",
              "      <script>\n",
              "        const buttonEl =\n",
              "          document.querySelector('#df-fdec25a7-f8f0-41a0-b6a2-01b40daac662 button.colab-df-convert');\n",
              "        buttonEl.style.display =\n",
              "          google.colab.kernel.accessAllowed ? 'block' : 'none';\n",
              "\n",
              "        async function convertToInteractive(key) {\n",
              "          const element = document.querySelector('#df-fdec25a7-f8f0-41a0-b6a2-01b40daac662');\n",
              "          const dataTable =\n",
              "            await google.colab.kernel.invokeFunction('convertToInteractive',\n",
              "                                                     [key], {});\n",
              "          if (!dataTable) return;\n",
              "\n",
              "          const docLinkHtml = 'Like what you see? Visit the ' +\n",
              "            '<a target=\"_blank\" href=https://colab.research.google.com/notebooks/data_table.ipynb>data table notebook</a>'\n",
              "            + ' to learn more about interactive tables.';\n",
              "          element.innerHTML = '';\n",
              "          dataTable['output_type'] = 'display_data';\n",
              "          await google.colab.output.renderOutput(dataTable, element);\n",
              "          const docLink = document.createElement('div');\n",
              "          docLink.innerHTML = docLinkHtml;\n",
              "          element.appendChild(docLink);\n",
              "        }\n",
              "      </script>\n",
              "    </div>\n",
              "  </div>\n",
              "  "
            ]
          },
          "metadata": {},
          "execution_count": 49
        }
      ]
    },
    {
      "cell_type": "markdown",
      "source": [
        "4. Find out all the Oldest Players"
      ],
      "metadata": {
        "id": "-0qSvAzcbBEe"
      }
    },
    {
      "cell_type": "code",
      "source": [
        "oldest = fifa_final[fifa_final['Age']>=35].sort_values('Age',ascending= False)[['Name']]\n",
        "print(oldest['Name'].values)"
      ],
      "metadata": {
        "id": "SV7pdJV0GpiF",
        "colab": {
          "base_uri": "https://localhost:8080/"
        },
        "outputId": "6a4beeee-69c2-4ffe-ded3-978422aac041"
      },
      "execution_count": null,
      "outputs": [
        {
          "output_type": "stream",
          "name": "stdout",
          "text": [
            "['Z. Ibrahimović' 'A. Talavera' 'Cristiano Ronaldo' 'Thiago Silva'\n",
            " 'G. Ochoa' 'L. Modrić' 'Sergio Ramos' 'L. Messi' 'J. Vardy' 'L. Suárez'\n",
            " 'O. Giroud' 'K. Navas']\n"
          ]
        }
      ]
    },
    {
      "cell_type": "code",
      "source": [
        "fifa_final.sort_values('Age',ascending= False)[['Name','Age']].head(10)"
      ],
      "metadata": {
        "id": "03xuI2brGpfC",
        "colab": {
          "base_uri": "https://localhost:8080/",
          "height": 363
        },
        "outputId": "fb8dfa68-c527-4038-8299-01afdba6e92b"
      },
      "execution_count": null,
      "outputs": [
        {
          "output_type": "execute_result",
          "data": {
            "text/plain": [
              "                  Name  Age\n",
              "296     Z. Ibrahimović   40\n",
              "297        A. Talavera   39\n",
              "298       Thiago Silva   37\n",
              "31   Cristiano Ronaldo   37\n",
              "178           G. Ochoa   36\n",
              "300          L. Modrić   36\n",
              "473       Sergio Ramos   36\n",
              "475          O. Giroud   35\n",
              "483           K. Navas   35\n",
              "35            L. Messi   35"
            ],
            "text/html": [
              "\n",
              "  <div id=\"df-c1efe958-c500-4cb3-9355-a94e366065f6\">\n",
              "    <div class=\"colab-df-container\">\n",
              "      <div>\n",
              "<style scoped>\n",
              "    .dataframe tbody tr th:only-of-type {\n",
              "        vertical-align: middle;\n",
              "    }\n",
              "\n",
              "    .dataframe tbody tr th {\n",
              "        vertical-align: top;\n",
              "    }\n",
              "\n",
              "    .dataframe thead th {\n",
              "        text-align: right;\n",
              "    }\n",
              "</style>\n",
              "<table border=\"1\" class=\"dataframe\">\n",
              "  <thead>\n",
              "    <tr style=\"text-align: right;\">\n",
              "      <th></th>\n",
              "      <th>Name</th>\n",
              "      <th>Age</th>\n",
              "    </tr>\n",
              "  </thead>\n",
              "  <tbody>\n",
              "    <tr>\n",
              "      <th>296</th>\n",
              "      <td>Z. Ibrahimović</td>\n",
              "      <td>40</td>\n",
              "    </tr>\n",
              "    <tr>\n",
              "      <th>297</th>\n",
              "      <td>A. Talavera</td>\n",
              "      <td>39</td>\n",
              "    </tr>\n",
              "    <tr>\n",
              "      <th>298</th>\n",
              "      <td>Thiago Silva</td>\n",
              "      <td>37</td>\n",
              "    </tr>\n",
              "    <tr>\n",
              "      <th>31</th>\n",
              "      <td>Cristiano Ronaldo</td>\n",
              "      <td>37</td>\n",
              "    </tr>\n",
              "    <tr>\n",
              "      <th>178</th>\n",
              "      <td>G. Ochoa</td>\n",
              "      <td>36</td>\n",
              "    </tr>\n",
              "    <tr>\n",
              "      <th>300</th>\n",
              "      <td>L. Modrić</td>\n",
              "      <td>36</td>\n",
              "    </tr>\n",
              "    <tr>\n",
              "      <th>473</th>\n",
              "      <td>Sergio Ramos</td>\n",
              "      <td>36</td>\n",
              "    </tr>\n",
              "    <tr>\n",
              "      <th>475</th>\n",
              "      <td>O. Giroud</td>\n",
              "      <td>35</td>\n",
              "    </tr>\n",
              "    <tr>\n",
              "      <th>483</th>\n",
              "      <td>K. Navas</td>\n",
              "      <td>35</td>\n",
              "    </tr>\n",
              "    <tr>\n",
              "      <th>35</th>\n",
              "      <td>L. Messi</td>\n",
              "      <td>35</td>\n",
              "    </tr>\n",
              "  </tbody>\n",
              "</table>\n",
              "</div>\n",
              "      <button class=\"colab-df-convert\" onclick=\"convertToInteractive('df-c1efe958-c500-4cb3-9355-a94e366065f6')\"\n",
              "              title=\"Convert this dataframe to an interactive table.\"\n",
              "              style=\"display:none;\">\n",
              "        \n",
              "  <svg xmlns=\"http://www.w3.org/2000/svg\" height=\"24px\"viewBox=\"0 0 24 24\"\n",
              "       width=\"24px\">\n",
              "    <path d=\"M0 0h24v24H0V0z\" fill=\"none\"/>\n",
              "    <path d=\"M18.56 5.44l.94 2.06.94-2.06 2.06-.94-2.06-.94-.94-2.06-.94 2.06-2.06.94zm-11 1L8.5 8.5l.94-2.06 2.06-.94-2.06-.94L8.5 2.5l-.94 2.06-2.06.94zm10 10l.94 2.06.94-2.06 2.06-.94-2.06-.94-.94-2.06-.94 2.06-2.06.94z\"/><path d=\"M17.41 7.96l-1.37-1.37c-.4-.4-.92-.59-1.43-.59-.52 0-1.04.2-1.43.59L10.3 9.45l-7.72 7.72c-.78.78-.78 2.05 0 2.83L4 21.41c.39.39.9.59 1.41.59.51 0 1.02-.2 1.41-.59l7.78-7.78 2.81-2.81c.8-.78.8-2.07 0-2.86zM5.41 20L4 18.59l7.72-7.72 1.47 1.35L5.41 20z\"/>\n",
              "  </svg>\n",
              "      </button>\n",
              "      \n",
              "  <style>\n",
              "    .colab-df-container {\n",
              "      display:flex;\n",
              "      flex-wrap:wrap;\n",
              "      gap: 12px;\n",
              "    }\n",
              "\n",
              "    .colab-df-convert {\n",
              "      background-color: #E8F0FE;\n",
              "      border: none;\n",
              "      border-radius: 50%;\n",
              "      cursor: pointer;\n",
              "      display: none;\n",
              "      fill: #1967D2;\n",
              "      height: 32px;\n",
              "      padding: 0 0 0 0;\n",
              "      width: 32px;\n",
              "    }\n",
              "\n",
              "    .colab-df-convert:hover {\n",
              "      background-color: #E2EBFA;\n",
              "      box-shadow: 0px 1px 2px rgba(60, 64, 67, 0.3), 0px 1px 3px 1px rgba(60, 64, 67, 0.15);\n",
              "      fill: #174EA6;\n",
              "    }\n",
              "\n",
              "    [theme=dark] .colab-df-convert {\n",
              "      background-color: #3B4455;\n",
              "      fill: #D2E3FC;\n",
              "    }\n",
              "\n",
              "    [theme=dark] .colab-df-convert:hover {\n",
              "      background-color: #434B5C;\n",
              "      box-shadow: 0px 1px 3px 1px rgba(0, 0, 0, 0.15);\n",
              "      filter: drop-shadow(0px 1px 2px rgba(0, 0, 0, 0.3));\n",
              "      fill: #FFFFFF;\n",
              "    }\n",
              "  </style>\n",
              "\n",
              "      <script>\n",
              "        const buttonEl =\n",
              "          document.querySelector('#df-c1efe958-c500-4cb3-9355-a94e366065f6 button.colab-df-convert');\n",
              "        buttonEl.style.display =\n",
              "          google.colab.kernel.accessAllowed ? 'block' : 'none';\n",
              "\n",
              "        async function convertToInteractive(key) {\n",
              "          const element = document.querySelector('#df-c1efe958-c500-4cb3-9355-a94e366065f6');\n",
              "          const dataTable =\n",
              "            await google.colab.kernel.invokeFunction('convertToInteractive',\n",
              "                                                     [key], {});\n",
              "          if (!dataTable) return;\n",
              "\n",
              "          const docLinkHtml = 'Like what you see? Visit the ' +\n",
              "            '<a target=\"_blank\" href=https://colab.research.google.com/notebooks/data_table.ipynb>data table notebook</a>'\n",
              "            + ' to learn more about interactive tables.';\n",
              "          element.innerHTML = '';\n",
              "          dataTable['output_type'] = 'display_data';\n",
              "          await google.colab.output.renderOutput(dataTable, element);\n",
              "          const docLink = document.createElement('div');\n",
              "          docLink.innerHTML = docLinkHtml;\n",
              "          element.appendChild(docLink);\n",
              "        }\n",
              "      </script>\n",
              "    </div>\n",
              "  </div>\n",
              "  "
            ]
          },
          "metadata": {},
          "execution_count": 52
        }
      ]
    },
    {
      "cell_type": "markdown",
      "source": [
        "5. Plot a graph - First 10 player's Name Vs Player's POT"
      ],
      "metadata": {
        "id": "M1pEI_Ur7cE3"
      }
    },
    {
      "cell_type": "code",
      "source": [
        "x = fifa_final['Name'].head(10)\n",
        "y = fifa_final['POT'].head(10)\n",
        "\n",
        "plt.rcParams[\"figure.figsize\"] = (15,5) # fig size increasing\n",
        "plt.rcParams[\"figure.autolayout\"] = True\n",
        "\n",
        "# Naming the axes\n",
        "plt.xlabel('Name of players', fontweight='bold', color = 'black', fontsize='10', horizontalalignment='center')\n",
        "plt.ylabel('Potential', fontweight='bold', color = 'black', fontsize='10', horizontalalignment='center')\n",
        "# naming title\n",
        "plt.title('Player vs POT')\n",
        "\n",
        "# plotting the graph\n",
        "plt.bar(x,y,color = 'red',width= 0.5)"
      ],
      "metadata": {
        "id": "CihrIPVIGpcs",
        "colab": {
          "base_uri": "https://localhost:8080/",
          "height": 368
        },
        "outputId": "1d3fbe1b-f24e-4f69-c5c9-5ee770ec3a20"
      },
      "execution_count": null,
      "outputs": [
        {
          "output_type": "execute_result",
          "data": {
            "text/plain": [
              "<BarContainer object of 10 artists>"
            ]
          },
          "metadata": {},
          "execution_count": 94
        },
        {
          "output_type": "display_data",
          "data": {
            "text/plain": [
              "<Figure size 1080x360 with 1 Axes>"
            ],
            "image/png": "[encoded data removed]"
          },
          "metadata": {
            "needs_background": "light"
          }
        }
      ]
    },
    {
      "cell_type": "markdown",
      "source": [
        "6. Plot a graph - First 10 player's Name Vs Player's Wage"
      ],
      "metadata": {
        "id": "SYitXb2MEC0c"
      }
    },
    {
      "cell_type": "code",
      "source": [
        "x = fifa_final['Name'].head(10)\n",
        "y = fifa_final['Wage'].head(10)\n",
        "\n",
        "plt.bar(x,y, color= 'green', width=0.5)\n",
        "\n",
        "plt.xlabel(\"Player's Name\",fontweight='bold', color = 'black', fontsize='10', horizontalalignment='center')\n",
        "plt.ylabel('Wage',fontweight='bold', color = 'black', fontsize='10', horizontalalignment='center')\n",
        "\n",
        "plt.title('Player vs Wage',fontweight='bold', color = 'black', fontsize='10', horizontalalignment='center')\n",
        "\n"
      ],
      "metadata": {
        "id": "YI7hv98yGpXc",
        "colab": {
          "base_uri": "https://localhost:8080/",
          "height": 366
        },
        "outputId": "7a4b70ee-8e30-43df-df41-52823cfaa012"
      },
      "execution_count": null,
      "outputs": [
        {
          "output_type": "execute_result",
          "data": {
            "text/plain": [
              "Text(0.5, 1.0, 'Player vs Wage')"
            ]
          },
          "metadata": {},
          "execution_count": 103
        },
        {
          "output_type": "display_data",
          "data": {
            "text/plain": [
              "<Figure size 1080x360 with 1 Axes>"
            ],
            "image/png": "[encoded data removed]"
          },
          "metadata": {
            "needs_background": "light"
          }
        }
      ]
    },
    {
      "cell_type": "markdown",
      "source": [
        "7. Find the Player(s) whose potential is more than 90"
      ],
      "metadata": {
        "id": "uEPWnCAtFsXa"
      }
    },
    {
      "cell_type": "code",
      "source": [
        "print(fifa_final[fifa_final['POT']>90]['Name'].values)\n"
      ],
      "metadata": {
        "id": "ozv08J26GpUm",
        "colab": {
          "base_uri": "https://localhost:8080/"
        },
        "outputId": "03b61f00-32d2-40f3-a887-85dd741ba768"
      },
      "execution_count": null,
      "outputs": [
        {
          "output_type": "stream",
          "name": "stdout",
          "text": [
            "['F. Wirtz' 'L. Messi' 'J. Musiala' 'J. Bellingham' 'K. Mbappé'\n",
            " 'Vinícius Jr.' 'E. Haaland' 'D. Vlahović' 'F. Valverde' 'F. de Jong'\n",
            " 'K. De Bruyne' 'Rúben Dias' 'Pedri' 'K. Benzema' 'T. Courtois']\n"
          ]
        }
      ]
    },
    {
      "cell_type": "code",
      "source": [],
      "metadata": {
        "id": "I1TEZJWmGpRq"
      },
      "execution_count": null,
      "outputs": []
    },
    {
      "cell_type": "markdown",
      "source": [
        "8. Find the Player(s) whose potential is more than 90 but the age < 20"
      ],
      "metadata": {
        "id": "VrT7QuUYMEF0"
      }
    },
    {
      "cell_type": "code",
      "source": [
        "df = fifa_final[fifa_final['POT']>90]\n",
        "\n",
        "print(df[df['Age']<20]['Name'].values)\n"
      ],
      "metadata": {
        "id": "2FKmFpehGpOr",
        "colab": {
          "base_uri": "https://localhost:8080/"
        },
        "outputId": "4c07bed4-9913-4dba-8b6d-ada8fdf18e3b"
      },
      "execution_count": null,
      "outputs": [
        {
          "output_type": "stream",
          "name": "stdout",
          "text": [
            "['F. Wirtz' 'J. Musiala' 'J. Bellingham' 'Pedri']\n"
          ]
        }
      ]
    },
    {
      "cell_type": "code",
      "source": [
        "\n"
      ],
      "metadata": {
        "id": "HJjhdpDLGpLO"
      },
      "execution_count": null,
      "outputs": []
    },
    {
      "cell_type": "code",
      "source": [
        "fifa_final.corr()"
      ],
      "metadata": {
        "id": "Tr9gIZrnGpHs",
        "colab": {
          "base_uri": "https://localhost:8080/",
          "height": 175
        },
        "outputId": "6e9e3461-9a46-4b11-830b-784ddbf65289"
      },
      "execution_count": null,
      "outputs": [
        {
          "output_type": "execute_result",
          "data": {
            "text/plain": [
              "                  Age       OVA       POT  Total_stats\n",
              "Age          1.000000  0.659420 -0.125244     0.366479\n",
              "OVA          0.659420  1.000000  0.511315     0.591972\n",
              "POT         -0.125244  0.511315  1.000000     0.271886\n",
              "Total_stats  0.366479  0.591972  0.271886     1.000000"
            ],
            "text/html": [
              "\n",
              "  <div id=\"df-c3ac5d29-5cfb-4c05-a962-d7d2e74ee784\">\n",
              "    <div class=\"colab-df-container\">\n",
              "      <div>\n",
              "<style scoped>\n",
              "    .dataframe tbody tr th:only-of-type {\n",
              "        vertical-align: middle;\n",
              "    }\n",
              "\n",
              "    .dataframe tbody tr th {\n",
              "        vertical-align: top;\n",
              "    }\n",
              "\n",
              "    .dataframe thead th {\n",
              "        text-align: right;\n",
              "    }\n",
              "</style>\n",
              "<table border=\"1\" class=\"dataframe\">\n",
              "  <thead>\n",
              "    <tr style=\"text-align: right;\">\n",
              "      <th></th>\n",
              "      <th>Age</th>\n",
              "      <th>OVA</th>\n",
              "      <th>POT</th>\n",
              "      <th>Total_stats</th>\n",
              "    </tr>\n",
              "  </thead>\n",
              "  <tbody>\n",
              "    <tr>\n",
              "      <th>Age</th>\n",
              "      <td>1.000000</td>\n",
              "      <td>0.659420</td>\n",
              "      <td>-0.125244</td>\n",
              "      <td>0.366479</td>\n",
              "    </tr>\n",
              "    <tr>\n",
              "      <th>OVA</th>\n",
              "      <td>0.659420</td>\n",
              "      <td>1.000000</td>\n",
              "      <td>0.511315</td>\n",
              "      <td>0.591972</td>\n",
              "    </tr>\n",
              "    <tr>\n",
              "      <th>POT</th>\n",
              "      <td>-0.125244</td>\n",
              "      <td>0.511315</td>\n",
              "      <td>1.000000</td>\n",
              "      <td>0.271886</td>\n",
              "    </tr>\n",
              "    <tr>\n",
              "      <th>Total_stats</th>\n",
              "      <td>0.366479</td>\n",
              "      <td>0.591972</td>\n",
              "      <td>0.271886</td>\n",
              "      <td>1.000000</td>\n",
              "    </tr>\n",
              "  </tbody>\n",
              "</table>\n",
              "</div>\n",
              "      <button class=\"colab-df-convert\" onclick=\"convertToInteractive('df-c3ac5d29-5cfb-4c05-a962-d7d2e74ee784')\"\n",
              "              title=\"Convert this dataframe to an interactive table.\"\n",
              "              style=\"display:none;\">\n",
              "        \n",
              "  <svg xmlns=\"http://www.w3.org/2000/svg\" height=\"24px\"viewBox=\"0 0 24 24\"\n",
              "       width=\"24px\">\n",
              "    <path d=\"M0 0h24v24H0V0z\" fill=\"none\"/>\n",
              "    <path d=\"M18.56 5.44l.94 2.06.94-2.06 2.06-.94-2.06-.94-.94-2.06-.94 2.06-2.06.94zm-11 1L8.5 8.5l.94-2.06 2.06-.94-2.06-.94L8.5 2.5l-.94 2.06-2.06.94zm10 10l.94 2.06.94-2.06 2.06-.94-2.06-.94-.94-2.06-.94 2.06-2.06.94z\"/><path d=\"M17.41 7.96l-1.37-1.37c-.4-.4-.92-.59-1.43-.59-.52 0-1.04.2-1.43.59L10.3 9.45l-7.72 7.72c-.78.78-.78 2.05 0 2.83L4 21.41c.39.39.9.59 1.41.59.51 0 1.02-.2 1.41-.59l7.78-7.78 2.81-2.81c.8-.78.8-2.07 0-2.86zM5.41 20L4 18.59l7.72-7.72 1.47 1.35L5.41 20z\"/>\n",
              "  </svg>\n",
              "      </button>\n",
              "      \n",
              "  <style>\n",
              "    .colab-df-container {\n",
              "      display:flex;\n",
              "      flex-wrap:wrap;\n",
              "      gap: 12px;\n",
              "    }\n",
              "\n",
              "    .colab-df-convert {\n",
              "      background-color: #E8F0FE;\n",
              "      border: none;\n",
              "      border-radius: 50%;\n",
              "      cursor: pointer;\n",
              "      display: none;\n",
              "      fill: #1967D2;\n",
              "      height: 32px;\n",
              "      padding: 0 0 0 0;\n",
              "      width: 32px;\n",
              "    }\n",
              "\n",
              "    .colab-df-convert:hover {\n",
              "      background-color: #E2EBFA;\n",
              "      box-shadow: 0px 1px 2px rgba(60, 64, 67, 0.3), 0px 1px 3px 1px rgba(60, 64, 67, 0.15);\n",
              "      fill: #174EA6;\n",
              "    }\n",
              "\n",
              "    [theme=dark] .colab-df-convert {\n",
              "      background-color: #3B4455;\n",
              "      fill: #D2E3FC;\n",
              "    }\n",
              "\n",
              "    [theme=dark] .colab-df-convert:hover {\n",
              "      background-color: #434B5C;\n",
              "      box-shadow: 0px 1px 3px 1px rgba(0, 0, 0, 0.15);\n",
              "      filter: drop-shadow(0px 1px 2px rgba(0, 0, 0, 0.3));\n",
              "      fill: #FFFFFF;\n",
              "    }\n",
              "  </style>\n",
              "\n",
              "      <script>\n",
              "        const buttonEl =\n",
              "          document.querySelector('#df-c3ac5d29-5cfb-4c05-a962-d7d2e74ee784 button.colab-df-convert');\n",
              "        buttonEl.style.display =\n",
              "          google.colab.kernel.accessAllowed ? 'block' : 'none';\n",
              "\n",
              "        async function convertToInteractive(key) {\n",
              "          const element = document.querySelector('#df-c3ac5d29-5cfb-4c05-a962-d7d2e74ee784');\n",
              "          const dataTable =\n",
              "            await google.colab.kernel.invokeFunction('convertToInteractive',\n",
              "                                                     [key], {});\n",
              "          if (!dataTable) return;\n",
              "\n",
              "          const docLinkHtml = 'Like what you see? Visit the ' +\n",
              "            '<a target=\"_blank\" href=https://colab.research.google.com/notebooks/data_table.ipynb>data table notebook</a>'\n",
              "            + ' to learn more about interactive tables.';\n",
              "          element.innerHTML = '';\n",
              "          dataTable['output_type'] = 'display_data';\n",
              "          await google.colab.output.renderOutput(dataTable, element);\n",
              "          const docLink = document.createElement('div');\n",
              "          docLink.innerHTML = docLinkHtml;\n",
              "          element.appendChild(docLink);\n",
              "        }\n",
              "      </script>\n",
              "    </div>\n",
              "  </div>\n",
              "  "
            ]
          },
          "metadata": {},
          "execution_count": 156
        }
      ]
    },
    {
      "cell_type": "code",
      "source": [
        "sns.heatmap(fifa_final.corr(), annot=True, cmap='Blues')"
      ],
      "metadata": {
        "colab": {
          "base_uri": "https://localhost:8080/",
          "height": 343
        },
        "id": "Rq5IL_DYQVos",
        "outputId": "c1217be4-d01b-4976-ee07-42dcdff3d049"
      },
      "execution_count": null,
      "outputs": [
        {
          "output_type": "execute_result",
          "data": {
            "text/plain": [
              "<AxesSubplot:>"
            ]
          },
          "metadata": {},
          "execution_count": 162
        },
        {
          "output_type": "display_data",
          "data": {
            "text/plain": [
              "<Figure size 1080x360 with 2 Axes>"
            ],
            "image/png": "[encoded data removed]"
          },
          "metadata": {
            "needs_background": "light"
          }
        }
      ]
    },
    {
      "cell_type": "code",
      "source": [],
      "metadata": {
        "id": "hvafSULLQfWg"
      },
      "execution_count": null,
      "outputs": []
    }
  ]
}